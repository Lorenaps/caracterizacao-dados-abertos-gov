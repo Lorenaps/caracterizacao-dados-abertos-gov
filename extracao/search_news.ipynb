{
 "cells": [
  {
   "cell_type": "markdown",
   "metadata": {},
   "source": [
    "# Pesquisando por notícias que divulguem iniciativas com Dados Abertos Governamentais"
   ]
  },
  {
   "cell_type": "markdown",
   "metadata": {},
   "source": [
    "## Palavras de busca"
   ]
  },
  {
   "cell_type": "code",
   "execution_count": 14,
   "metadata": {},
   "outputs": [],
   "source": [
    "search_words = [\n",
    "    'dados abertos governamentais',\n",
    "    'dados governamentais',\n",
    "    'dados públicos abertos',\n",
    "    'dados do governo',\n",
    "    'análise de dados do governo',\n",
    "    'portal de dados do governo',\n",
    "    'portal de dados governamentais',\n",
    "    'portal público do governo',\n",
    "    'portal de dados abertos do governo',\n",
    "    'publicação de dados abertos do governo',\n",
    "    'publicação de dados governamentais',\n",
    "    'consumir dados abertos do governo',\n",
    "    'consumir dados abertos governamentais',\n",
    "]"
   ]
  },
  {
   "cell_type": "code",
   "execution_count": 15,
   "metadata": {},
   "outputs": [],
   "source": [
    "import newsapi as na\n",
    "import requests"
   ]
  },
  {
   "cell_type": "code",
   "execution_count": 16,
   "metadata": {},
   "outputs": [],
   "source": [
    "def get_status(search):\n",
    "    print(\"Status: {0}\\nTotal results: {1}\".format(all_articles.get('status'), \n",
    "                                                   all_articles.get('totalResults')))\n"
   ]
  },
  {
   "cell_type": "code",
   "execution_count": 17,
   "metadata": {},
   "outputs": [],
   "source": [
    "def print_news(results):\n",
    "    \n",
    "    for result in results.get('articles'):\n",
    "        print('- ' + result.get('title'))"
   ]
  },
  {
   "cell_type": "code",
   "execution_count": 18,
   "metadata": {},
   "outputs": [
    {
     "data": {
      "text/plain": [
       "{'ar',\n",
       " 'cn',\n",
       " 'de',\n",
       " 'en',\n",
       " 'es',\n",
       " 'fr',\n",
       " 'he',\n",
       " 'it',\n",
       " 'nl',\n",
       " 'no',\n",
       " 'pt',\n",
       " 'ru',\n",
       " 'sv',\n",
       " 'ud'}"
      ]
     },
     "execution_count": 18,
     "metadata": {},
     "output_type": "execute_result"
    }
   ],
   "source": [
    "na.const.languages"
   ]
  },
  {
   "cell_type": "code",
   "execution_count": 19,
   "metadata": {},
   "outputs": [],
   "source": [
    "newsapi = na.NewsApiClient(api_key='61d1b78efa4b406e9284489458e29910')"
   ]
  },
  {
   "cell_type": "code",
   "execution_count": null,
   "metadata": {},
   "outputs": [],
   "source": [
    "top_headlines = newsapi.get_top_headlines(q='Brasil')\n",
    "top_headlines"
   ]
  },
  {
   "cell_type": "code",
   "execution_count": 20,
   "metadata": {},
   "outputs": [
    {
     "data": {
      "text/plain": [
       "'dados abertos governamentais'"
      ]
     },
     "execution_count": 20,
     "metadata": {},
     "output_type": "execute_result"
    }
   ],
   "source": [
    "search_words[0]"
   ]
  },
  {
   "cell_type": "code",
   "execution_count": 21,
   "metadata": {},
   "outputs": [
    {
     "name": "stdout",
     "output_type": "stream",
     "text": [
      "Status: ok\n",
      "Total results: 2\n"
     ]
    }
   ],
   "source": [
    "all_articles = newsapi.get_everything(q=search_words[0],\n",
    "                                    language='pt')\n",
    "\n",
    "get_status(all_articles)"
   ]
  },
  {
   "cell_type": "code",
   "execution_count": 22,
   "metadata": {},
   "outputs": [
    {
     "name": "stdout",
     "output_type": "stream",
     "text": [
      "- Especialista fala sobre pontos polêmicos do projeto de lei do streaming no Brasi\n",
      "- [Akitando] #47 - Entendendo \"Devops\" para Iniciantes em Programação (Parte 1) | Série \"Começando aos 40\"\n"
     ]
    }
   ],
   "source": [
    "print_news(all_articles)"
   ]
  },
  {
   "cell_type": "markdown",
   "metadata": {},
   "source": [
    "### Extração API(RSS) do Google News"
   ]
  },
  {
   "cell_type": "code",
   "execution_count": 34,
   "metadata": {},
   "outputs": [],
   "source": [
    "from xml.etree import ElementTree"
   ]
  },
  {
   "cell_type": "code",
   "execution_count": 25,
   "metadata": {},
   "outputs": [],
   "source": [
    "def print_news_rss(results):\n",
    "    \n",
    "    for result in results:\n",
    "        print('    ')\n",
    "        print(\"Titulo: \" + result.findtext('title'))\n",
    "        print(\"Data da Publicação: \" + result.findtext('pubDate'))\n",
    "        print(\"Link: \" + result.findtext('link'))\n",
    "        print(\"Canal: \" + result.findtext('source'))"
   ]
  },
  {
   "cell_type": "code",
   "execution_count": 26,
   "metadata": {},
   "outputs": [],
   "source": [
    "url = 'https://news.google.com/rss/search?q='"
   ]
  },
  {
   "cell_type": "code",
   "execution_count": 27,
   "metadata": {},
   "outputs": [],
   "source": [
    "chave_busca = search_words[0]"
   ]
  },
  {
   "cell_type": "code",
   "execution_count": 28,
   "metadata": {},
   "outputs": [],
   "source": [
    "aux = '&hl=pt-BR&gl=BR&ceid=BR:pt-419'"
   ]
  },
  {
   "cell_type": "code",
   "execution_count": 30,
   "metadata": {},
   "outputs": [
    {
     "data": {
      "text/plain": [
       "'https://news.google.com/rss/search?q=dados abertos governamentais&hl=pt-BR&gl=BR&ceid=BR:pt-419'"
      ]
     },
     "execution_count": 30,
     "metadata": {},
     "output_type": "execute_result"
    }
   ],
   "source": [
    "url_final = url + chave_busca + aux\n",
    "url_final"
   ]
  },
  {
   "cell_type": "code",
   "execution_count": 31,
   "metadata": {},
   "outputs": [],
   "source": [
    "response = requests.get(url_final)"
   ]
  },
  {
   "cell_type": "code",
   "execution_count": 32,
   "metadata": {},
   "outputs": [
    {
     "data": {
      "text/plain": [
       "200"
      ]
     },
     "execution_count": 32,
     "metadata": {},
     "output_type": "execute_result"
    }
   ],
   "source": [
    "response.status_code"
   ]
  },
  {
   "cell_type": "code",
   "execution_count": 36,
   "metadata": {},
   "outputs": [],
   "source": [
    "tree = ElementTree.fromstring(response.content)"
   ]
  },
  {
   "cell_type": "code",
   "execution_count": 37,
   "metadata": {},
   "outputs": [
    {
     "data": {
      "text/plain": [
       "'\"dados abertos governamentais\" - Google Notícias'"
      ]
     },
     "execution_count": 37,
     "metadata": {},
     "output_type": "execute_result"
    }
   ],
   "source": [
    "title = tree.find('channel').findtext('title')\n",
    "title"
   ]
  },
  {
   "cell_type": "code",
   "execution_count": 38,
   "metadata": {},
   "outputs": [],
   "source": [
    "tree = tree.find('channel')"
   ]
  },
  {
   "cell_type": "code",
   "execution_count": 39,
   "metadata": {},
   "outputs": [
    {
     "data": {
      "text/plain": [
       "108"
      ]
     },
     "execution_count": 39,
     "metadata": {},
     "output_type": "execute_result"
    }
   ],
   "source": [
    "noticias = tree.getchildren()\n",
    "len(noticias)"
   ]
  },
  {
   "cell_type": "code",
   "execution_count": 40,
   "metadata": {},
   "outputs": [
    {
     "data": {
      "text/plain": [
       "100"
      ]
     },
     "execution_count": 40,
     "metadata": {},
     "output_type": "execute_result"
    }
   ],
   "source": [
    "noticias = noticias[8:]\n",
    "len(noticias)"
   ]
  },
  {
   "cell_type": "code",
   "execution_count": 41,
   "metadata": {},
   "outputs": [
    {
     "name": "stdout",
     "output_type": "stream",
     "text": [
      "    \n",
      "Titulo: EMTU/SP recebe prêmio como uma das vencedoras do 23º Concurso Inovação no Setor Público - ABCdoABC\n",
      "Data da Publicação: Sat, 02 Nov 2019 13:06:00 GMT\n",
      "Link: https://www.abcdoabc.com.br/abc/noticia/emtu-sp-recebe-premio-como-vencedoras-23-concurso-inovacao-setor-publico-91771\n",
      "Canal: ABCdoABC\n",
      "    \n",
      "Titulo: Vazamento do Detran reacende debate sobre proteção de dados pessoais - Jornal Correio do Povo (Assinatura)\n",
      "Data da Publicação: Tue, 15 Oct 2019 07:00:00 GMT\n",
      "Link: https://www.correiodopovo.com.br/not%C3%ADcias/pol%C3%ADtica/vazamento-do-detran-reacende-debate-sobre-prote%C3%A7%C3%A3o-de-dados-pessoais-1.372948\n",
      "Canal: Jornal Correio do Povo (Assinatura)\n",
      "    \n",
      "Titulo: Por que a privacidade é tão importante na internet? - Entrelivros\n",
      "Data da Publicação: Mon, 21 Oct 2019 07:00:00 GMT\n",
      "Link: https://tab.uol.com.br/edicao/privacidade\n",
      "Canal: Entrelivros\n",
      "    \n",
      "Titulo: Privacidade: Bolsonaro determina criação, sem blockchain, de big data que registrará até a maneira de andar do brasileiro - Cointelegraph Brasil\n",
      "Data da Publicação: Tue, 22 Oct 2019 07:00:00 GMT\n",
      "Link: https://br.cointelegraph.com/news/governo-brasileiro-criara-sem-blockchain-big-data-que-registrara-ate-a-maneira-de-andar-do-brasileiro\n",
      "Canal: Cointelegraph Brasil\n",
      "    \n",
      "Titulo: Comissão do Senado quer que empresas tecnológicas forneçam dados de agressores - Canaltech\n",
      "Data da Publicação: Thu, 17 Oct 2019 07:00:00 GMT\n",
      "Link: https://canaltech.com.br/governo/comissao-do-senado-quer-que-empresas-tecnologicas-fornecam-dados-de-agressores-152781/\n",
      "Canal: Canaltech\n",
      "    \n",
      "Titulo: Dados abertos: a nova fronteira da eficiência governamental - Revista Portos e Navios\n",
      "Data da Publicação: Mon, 26 Aug 2019 07:00:00 GMT\n",
      "Link: https://www.portosenavios.com.br/artigos/artigos-de-opiniao/dados-abertos-a-nova-fronteira-da-eficiencia-governamental\n",
      "Canal: Revista Portos e Navios\n",
      "    \n",
      "Titulo: Menos de 1% dos sites brasileiros passam em testes de acessibilidade, diz estudo - Mundo Positivo\n",
      "Data da Publicação: Wed, 30 Oct 2019 10:30:00 GMT\n",
      "Link: https://www.mundopositivo.com.br/tecnologia/mundo-tech/menos-de-1-dos-sites-brasileiros-passam-em-testes-de-acessibilidade-diz-estudo/\n",
      "Canal: Mundo Positivo\n",
      "    \n",
      "Titulo: LGPD: o que mudou na redação final da lei? - Canaltech\n",
      "Data da Publicação: Mon, 14 Oct 2019 07:00:00 GMT\n",
      "Link: https://canaltech.com.br/legislacao/lgpd-o-que-mudou-na-redacao-final-da-lei-152367/\n",
      "Canal: Canaltech\n",
      "    \n",
      "Titulo: Anatel abre consulta sobre informações divulgadas no Portal Brasileiro de Dados Abertos - ti inside\n",
      "Data da Publicação: Wed, 31 Jul 2019 07:00:00 GMT\n",
      "Link: https://tiinside.com.br/tiinside/31/07/2019/anatel-abre-consulta-sobre-informacoes-divulgadas-no-portal-brasileiro-de-dados-abertos/\n",
      "Canal: ti inside\n",
      "    \n",
      "Titulo: Nas trilhas do golpe: notas sobre a devastação como tecnologia de governo, por Renata de Oliveira Cardoso e Felipe Brito - Jornal GGN\n",
      "Data da Publicação: Sat, 02 Nov 2019 08:31:00 GMT\n",
      "Link: https://jornalggn.com.br/artigos/nas-trilhas-do-golpe-notas-sobre-a-devastacao-como-tecnologia-de-governo-por-renata-de-oliveira-cardoso-e-felipe-brito/\n",
      "Canal: Jornal GGN\n",
      "    \n",
      "Titulo: PSOL pede anulação do Cadastro Base do Cidadão por \"violar LGPD\" - Canaltech\n",
      "Data da Publicação: Fri, 25 Oct 2019 07:00:00 GMT\n",
      "Link: https://canaltech.com.br/governo/psol-pede-anulacao-do-cadastro-base-do-cidadao-por-violar-lgpd-153497/\n",
      "Canal: Canaltech\n",
      "    \n",
      "Titulo: Primeiro semestre do governo Bolsonaro preocupa especialistas em transparência - Revista Época\n",
      "Data da Publicação: Sun, 11 Aug 2019 07:00:00 GMT\n",
      "Link: https://epoca.globo.com/brasil/primeiro-semestre-do-governo-bolsonaro-preocupa-especialistas-em-transparencia-23868627\n",
      "Canal: Revista Época\n",
      "    \n",
      "Titulo: Red Room: o que é verdade ou ficção no maior mito da dark web? - Mundo Positivo\n",
      "Data da Publicação: Thu, 31 Oct 2019 14:53:00 GMT\n",
      "Link: https://www.mundopositivo.com.br/tecnologia/mundo-tech/red-room-o-que-e-verdade-ou-ficcao-no-maior-mito-da-dark-web/\n",
      "Canal: Mundo Positivo\n",
      "    \n",
      "Titulo: Portais de Dados Abertos do DF e da União estão integrados - Agência Brasília\n",
      "Data da Publicação: Sat, 03 Nov 2018 07:00:00 GMT\n",
      "Link: https://www.agenciabrasilia.df.gov.br/2018/11/03/portais-de-dados-abertos-do-df-e-da-uniao-estao-integrados/\n",
      "Canal: Agência Brasília\n",
      "    \n",
      "Titulo: HOMENAGEM Prefeito de Corumbá recebe medalha Tríplice Aliança - Diário Corumbaense\n",
      "Data da Publicação: Wed, 23 Oct 2019 07:00:00 GMT\n",
      "Link: https://diarionline.com.br/?s=noticia&id=113123\n",
      "Canal: Diário Corumbaense\n",
      "    \n",
      "Titulo: 2 dias Internet CPI das Fake News debate formas de tornar a internet mais segura - Canaltech\n",
      "Data da Publicação: Fri, 01 Nov 2019 13:48:00 GMT\n",
      "Link: https://canaltech.com.br/internet/cpi-das-fake-news-debate-formas-de-tornar-a-internet-mais-segura-154113/\n",
      "Canal: Canaltech\n",
      "    \n",
      "Titulo: Bug no YouTube altera layout e remove recomendações em formato carrossel - Canaltech\n",
      "Data da Publicação: Thu, 31 Oct 2019 18:16:54 GMT\n",
      "Link: https://canaltech.com.br/internet/bug-no-youtube-altera-layout-e-remove-recomendacoes-em-formato-carrossel-154059/\n",
      "Canal: Canaltech\n",
      "    \n",
      "Titulo: 08.10.19 Legislação Especialista fala sobre pontos polêmicos do projeto de lei do streaming no BR - Mundo Positivo\n",
      "Data da Publicação: Tue, 08 Oct 2019 07:00:00 GMT\n",
      "Link: https://www.mundopositivo.com.br/tecnologia/mundo-tech/especialista-fala-sobre-pontos-polemicos-do-projeto-de-lei-do-streaming-no-brasi/\n",
      "Canal: Mundo Positivo\n",
      "    \n",
      "Titulo: Metrópoles investe em jornalismo de dados e lança nova editoria - Metrópoles\n",
      "Data da Publicação: Wed, 11 Sep 2019 07:00:00 GMT\n",
      "Link: https://www.metropoles.com/brasil/imprensa/metropoles-investe-em-jornalismo-de-dados-e-lanca-nova-editoria\n",
      "Canal: Metrópoles\n",
      "    \n",
      "Titulo: 5 ferramentas online para fiscalizar o Poder Público - Gazeta do Povo - Colunistas\n",
      "Data da Publicação: Mon, 26 Aug 2019 07:00:00 GMT\n",
      "Link: https://www.gazetadopovo.com.br/vozes/giro-sustentavel/5-ferramentas-online-para-fiscalizar-o-poder-publico/\n",
      "Canal: Gazeta do Povo - Colunistas\n",
      "    \n",
      "Titulo: SIMET: Descubra a velocidade da sua internet - Canaltech\n",
      "Data da Publicação: Thu, 24 Oct 2019 02:21:52 GMT\n",
      "Link: https://canaltech.com.br/internet/simet-o-que-e-como-usar/\n",
      "Canal: Canaltech\n",
      "    \n",
      "Titulo: Netflix | Confira os lançamentos da semana (26/10 a 01/11) - Canaltech\n",
      "Data da Publicação: Fri, 01 Nov 2019 16:43:00 GMT\n",
      "Link: https://canaltech.com.br/entretenimento/netflix-confira-os-lancamentos-da-semana-2610-a-0111-154127/\n",
      "Canal: Canaltech\n",
      "    \n",
      "Titulo: Novos casos de HIV crescem 21% no Brasil entre 2010 e 2018 - Dourados Agora - Notícias de Dourados e Região\n",
      "Data da Publicação: Sun, 20 Oct 2019 07:00:00 GMT\n",
      "Link: https://www.douradosagora.com.br/noticias/ciencia-saude/novos-casos-de-hiv-crescem-21-no-brasil-entre-2010-e-2018\n",
      "Canal: Dourados Agora - Notícias de Dourados e Região\n",
      "    \n",
      "Titulo: 1 dia Entretenimento Netflix investirá R$ 350 milhões em conteúdo brasileiro - Canaltech\n",
      "Data da Publicação: Thu, 31 Oct 2019 15:35:00 GMT\n",
      "Link: https://canaltech.com.br/entretenimento/netflix-investira-r-350-milhoes-em-conteudo-brasileiro-154041/\n",
      "Canal: Canaltech\n",
      "    \n",
      "Titulo: Aproveita que é de graça! Dicas gratuitas de outubro [2019] - Canaltech\n",
      "Data da Publicação: Tue, 08 Oct 2019 07:00:00 GMT\n",
      "Link: https://canaltech.com.br/internet/aproveita-que-e-de-graca-dicas-gratuitas-de-outubro-2019/\n",
      "Canal: Canaltech\n",
      "    \n",
      "Titulo: Chegou o Apple TV+! Veja preços e saiba como assistir - Canaltech\n",
      "Data da Publicação: Fri, 01 Nov 2019 10:18:04 GMT\n",
      "Link: https://canaltech.com.br/entretenimento/apple-tv-plus-como-assistir/\n",
      "Canal: Canaltech\n",
      "    \n",
      "Titulo: Governo adere à política nacional de transparência para facilitar acesso a dados - Jornal Midiamax\n",
      "Data da Publicação: Wed, 08 May 2019 07:00:00 GMT\n",
      "Link: https://www.midiamax.com.br/politica/transparencia/2019/governo-adere-a-politica-nacional-de-transparencia-para-facilitar-acesso-a-dados\n",
      "Canal: Jornal Midiamax\n",
      "    \n",
      "Titulo: Pelo 5G: Câmara debate PL para acelerar instalação de antenas digitais - Canaltech\n",
      "Data da Publicação: Thu, 31 Oct 2019 18:40:00 GMT\n",
      "Link: https://canaltech.com.br/governo/pelo-5g-camara-debate-pl-para-acelerar-instalacao-de-antenas-digitais-154049/\n",
      "Canal: Canaltech\n",
      "    \n",
      "Titulo: Novo projeto de lei nos EUA colocaria Mark Zuckerberg na cadeia - Canaltech\n",
      "Data da Publicação: Thu, 17 Oct 2019 07:00:00 GMT\n",
      "Link: https://canaltech.com.br/legislacao/novo-projeto-de-lei-nos-eua-colocaria-mark-zuckerberg-na-cadeia-152793/\n",
      "Canal: Canaltech\n",
      "    \n",
      "Titulo: Hospedagem de site: testamos a performance do novo plano Turbo da HostGator - Canaltech\n",
      "Data da Publicação: Tue, 15 Oct 2019 07:00:00 GMT\n",
      "Link: https://canaltech.com.br/internet/hospedagem-de-site-testamos-a-performance-do-novo-plano-turbo-da-hostgator-152485/\n",
      "Canal: Canaltech\n",
      "    \n",
      "Titulo: Nos EUA, estudantes que assinam Apple Music levam Apple TV+ de brinde; e no BR? - Canaltech\n",
      "Data da Publicação: Wed, 30 Oct 2019 19:05:30 GMT\n",
      "Link: https://canaltech.com.br/entretenimento/nos-eua-estudantes-que-assinam-apple-music-levam-apple-tv-de-brinde-e-no-br-153941/\n",
      "Canal: Canaltech\n",
      "    \n",
      "Titulo: Primeiro nos EUA HBO Max chega em 2020 e terá nova série dos Lanternas Verdes - Canaltech\n",
      "Data da Publicação: Wed, 30 Oct 2019 00:30:00 GMT\n",
      "Link: https://canaltech.com.br/entretenimento/hbo-max-chega-em-2020-e-tera-nova-serie-dos-lanternas-verdes-153877/\n",
      "Canal: Canaltech\n",
      "    \n",
      "Titulo: OCDE: Coreia do Sul e França são os mais comprometidos com transparência de dados - Poder360\n",
      "Data da Publicação: Tue, 12 Mar 2019 07:00:00 GMT\n",
      "Link: https://www.poder360.com.br/internacional/ocde-coreia-do-sul-e-franca-sao-os-mais-comprometidos-com-transparencia-de-dados/\n",
      "Canal: Poder360\n",
      "    \n",
      "Titulo: HBO Max: saiba todas as atrações do catálogo do serviço de streaming da HBO - Mundo Positivo\n",
      "Data da Publicação: Wed, 30 Oct 2019 17:45:00 GMT\n",
      "Link: https://www.mundopositivo.com.br/tecnologia/mundo-tech/hbo-max-saiba-todas-as-atracoes-do-catalogo-do-servico-de-streaming-da-hbo/\n",
      "Canal: Mundo Positivo\n",
      "    \n",
      "Titulo: Donos de produtora pornô são presos por tráfico sexual e abuso de mulheres - Canaltech\n",
      "Data da Publicação: Sat, 26 Oct 2019 07:00:00 GMT\n",
      "Link: https://canaltech.com.br/internet/donos-de-produtora-porno-sao-presos-por-trafico-sexual-e-abuso-de-mulheres-153575/\n",
      "Canal: Canaltech\n",
      "    \n",
      "Titulo: Dado o pontapé inicial na privatização dos correios; o que muda? - Canaltech\n",
      "Data da Publicação: Thu, 17 Oct 2019 07:00:00 GMT\n",
      "Link: https://canaltech.com.br/governo/inicio-privatizacao-correios-152815/\n",
      "Canal: Canaltech\n",
      "    \n",
      "Titulo: Portal de Dados Abertos do DF amplia acesso à informação - Agência Brasília\n",
      "Data da Publicação: Tue, 05 Dec 2017 08:00:00 GMT\n",
      "Link: https://www.agenciabrasilia.df.gov.br/2017/12/05/portal-de-dados-abertos-do-df-amplia-acesso-a-informacao/\n",
      "Canal: Agência Brasília\n",
      "    \n",
      "Titulo: ENEM 2019: confira seu local de prova - Canaltech\n",
      "Data da Publicação: Tue, 08 Oct 2019 07:00:00 GMT\n",
      "Link: https://canaltech.com.br/internet/saiba-como-conferir-seu-local-de-prova-no-cartao-de-confirmacao-do-enem-2019/\n",
      "Canal: Canaltech\n",
      "    \n",
      "Titulo: The Pirate Bay fica fora do ar por problemas técnicos - Canaltech\n",
      "Data da Publicação: Fri, 25 Oct 2019 07:00:00 GMT\n",
      "Link: https://canaltech.com.br/internet/the-pirate-bay-fica-fora-do-ar-por-problemas-tecnicos-153557/\n",
      "Canal: Canaltech\n",
      "    \n",
      "Titulo: Suicídios de jovens entre 15 e 29 anos aumentam 44% em Mato Grosso - CenárioMT\n",
      "Data da Publicação: Wed, 23 Oct 2019 07:00:00 GMT\n",
      "Link: https://www.cenariomt.com.br/2019/10/23/suicidios-de-jovens-entre-15-e-29-anos-aumentam-44-em-mato-grosso/\n",
      "Canal: CenárioMT\n",
      "    \n",
      "Titulo: Qual tem sido a estratégia de uso de dados abertos no Reino Unido? - Computerworld\n",
      "Data da Publicação: Wed, 12 Sep 2018 07:00:00 GMT\n",
      "Link: https://computerworld.com.br/2018/09/12/qual-tem-sido-a-estrategia-de-uso-de-dados-abertos-no-reino-unido/\n",
      "Canal: Computerworld\n",
      "    \n",
      "Titulo: Fim da taxa de homologação para smartphones importados já está valendo. Entenda - Canaltech\n",
      "Data da Publicação: Sat, 26 Oct 2019 07:00:00 GMT\n",
      "Link: https://canaltech.com.br/governo/decisao-da-anatel-isenta-produtos-de-telecomunicacoes-da-taxa-de-homologacao-153643/\n",
      "Canal: Canaltech\n",
      "    \n",
      "Titulo: Fenalaw 2019: lawtechs explodem em evento jurídico - Jornal Contábil\n",
      "Data da Publicação: Mon, 21 Oct 2019 07:00:00 GMT\n",
      "Link: https://www.jornalcontabil.com.br/fenalaw-2019-lawtechs-explodem-em-evento-juridico/\n",
      "Canal: Jornal Contábil\n",
      "    \n",
      "Titulo: EMTU/SP é finalista em premiação nacional de práticas inovadoras no setor público - Portal do Governo do Estado de São Paulo\n",
      "Data da Publicação: Wed, 07 Aug 2019 07:00:00 GMT\n",
      "Link: http://www.saopaulo.sp.gov.br/ultimas-noticias/emtu-sp-e-finalista-em-premiacao-nacional-de-praticas-inovadoras-no-setor-publico/\n",
      "Canal: Portal do Governo do Estado de São Paulo\n",
      "    \n",
      "Titulo: ONLINE Governo estuda criar comitê de integridade para discutir decreto de apostas - Games Magazine Brasil\n",
      "Data da Publicação: Mon, 07 Oct 2019 07:00:00 GMT\n",
      "Link: https://www.gamesbras.com/apostas-online/2019/10/7/governo-estuda-criar-comit-de-integridade-para-discutir-decreto-de-apostas-14606.html\n",
      "Canal: Games Magazine Brasil\n",
      "    \n",
      "Titulo: Câmara lança canal no WhatsApp para checar e evitar a disseminação de fake news - Canaltech\n",
      "Data da Publicação: Tue, 22 Oct 2019 07:00:00 GMT\n",
      "Link: https://canaltech.com.br/governo/camara-lanca-canal-no-whatsapp-para-checar-e-evitar-a-disseminacao-de-fake-news-153125/\n",
      "Canal: Canaltech\n",
      "    \n",
      "Titulo: 18.10.19 Governo Governo garante pagamento de bolsas do CNPq para este ano - Canaltech\n",
      "Data da Publicação: Fri, 18 Oct 2019 07:00:00 GMT\n",
      "Link: https://canaltech.com.br/governo/governo-garante-pagamento-de-bolsas-do-cnpq-para-este-ano-152887/\n",
      "Canal: Canaltech\n",
      "    \n",
      "Titulo: Bolsonaro sugere que dados do desmatamento passem por ele antes de serem divulgados - O Eco\n",
      "Data da Publicação: Mon, 22 Jul 2019 07:00:00 GMT\n",
      "Link: https://www.oeco.org.br/reportagens/bolsonaro-sugere-que-dados-do-desmatamento-passem-por-ele-antes-de-serem-divulgados/\n",
      "Canal: O Eco\n",
      "    \n",
      "Titulo: Medida provisória compromete a proteção de dados pessoais, dizem especialistas - Portal de Notícias do Senado Federal\n",
      "Data da Publicação: Wed, 10 Apr 2019 07:00:00 GMT\n",
      "Link: https://www12.senado.leg.br/noticias/materias/2019/04/12/medida-provisoria-compromete-a-protecao-de-dados-pessoais-dizem-especialistas\n",
      "Canal: Portal de Notícias do Senado Federal\n",
      "    \n",
      "Titulo: Microsoft quer levar internet a mais de 40 milhões de pessoas em 2022 - Canaltech\n",
      "Data da Publicação: Sat, 12 Oct 2019 07:00:00 GMT\n",
      "Link: https://canaltech.com.br/internet/microsoft-quer-levar-internet-a-mais-de-40-milhoes-de-pessoas-em-2022-152297/\n",
      "Canal: Canaltech\n",
      "    \n",
      "Titulo: ZAP Imóveis: compre ou alugue seu imóvel dos sonhos através do site - Canaltech\n",
      "Data da Publicação: Tue, 08 Oct 2019 07:00:00 GMT\n",
      "Link: https://canaltech.com.br/internet/zap-imoveis-compre-ou-alugue-seu-imovel-dos-sonhos-atraves-do-site/\n",
      "Canal: Canaltech\n",
      "    \n",
      "Titulo: Disney+ mostra catálogo disponível na estreia em vídeo de mais de três horas - Canaltech\n",
      "Data da Publicação: Fri, 18 Oct 2019 23:51:17 GMT\n",
      "Link: https://canaltech.com.br/entretenimento/disney-mostra-catalogo-disponivel-na-estreia-em-video-de-mais-de-tres-horas-152969/\n",
      "Canal: Canaltech\n",
      "    \n",
      "Titulo: Quem é o ser mais poderoso do Universo Cinematográfico da DC? - Canaltech\n",
      "Data da Publicação: Sat, 19 Oct 2019 07:00:00 GMT\n",
      "Link: https://canaltech.com.br/entretenimento/quem-e-o-ser-mais-poderoso-do-universo-cinematografico-da-dc-152701/\n",
      "Canal: Canaltech\n",
      "    \n",
      "Titulo: Twitch pede desculpas por live de atentado antissemita na Alemanha - Canaltech\n",
      "Data da Publicação: Wed, 09 Oct 2019 07:00:00 GMT\n",
      "Link: https://canaltech.com.br/governo/twitch-pede-desculpas-por-live-de-atentado-antissemita-na-alemanha-152049/\n",
      "Canal: Canaltech\n",
      "    \n",
      "Titulo: Site está recrutando fãs da Disney para ganhar dinheiro assistindo a 30 filmes - Canaltech\n",
      "Data da Publicação: Fri, 18 Oct 2019 07:00:00 GMT\n",
      "Link: https://canaltech.com.br/entretenimento/site-esta-recrutando-fas-da-disney-para-ganhar-dinheiro-assistindo-a-30-filmes-152945/\n",
      "Canal: Canaltech\n",
      "    \n",
      "Titulo: 10 produções assustadoras da Netflix baseadas em casos reais - Canaltech\n",
      "Data da Publicação: Sat, 12 Oct 2019 07:00:00 GMT\n",
      "Link: https://canaltech.com.br/entretenimento/10-filmes-series-assustadores-baseados-fatos-reais-netflix-151961/\n",
      "Canal: Canaltech\n",
      "    \n",
      "Titulo: Donald Trump está na Twitch (e \"100% nem aí\" para Jeff Bezos) - Canaltech\n",
      "Data da Publicação: Thu, 10 Oct 2019 07:00:00 GMT\n",
      "Link: https://canaltech.com.br/governo/donald-trump-esta-na-twitch-e-100-nem-ai-para-jeff-bezos-152189/\n",
      "Canal: Canaltech\n",
      "    \n",
      "Titulo: Com mudança na Lei de Acesso à Informação, aumenta prazo para 'segredos' do governo - Rede Brasil Atual\n",
      "Data da Publicação: Thu, 24 Jan 2019 08:00:00 GMT\n",
      "Link: https://www.redebrasilatual.com.br/politica/2019/01/com-mudanca-na-lei-de-acesso-bolsonaro-permite-que-comissionados-decretem-sigilo-de-dados/\n",
      "Canal: Rede Brasil Atual\n",
      "    \n",
      "Titulo: Tagueando as cidades inteligentes do Brasil - Select Game\n",
      "Data da Publicação: Thu, 04 Apr 2019 07:00:00 GMT\n",
      "Link: https://yaso.blogosfera.uol.com.br/2019/04/04/tagueando-as-cidades-inteligentes-do-brasil/\n",
      "Canal: Select Game\n",
      "    \n",
      "Titulo: PROJETOS TRAMITANDO 2019 - Câmara Municipal de Guaramirim\n",
      "Data da Publicação: Tue, 15 Oct 2019 07:00:00 GMT\n",
      "Link: https://www.cmg.sc.gov.br/projetos-tramitando-2019/\n",
      "Canal: Câmara Municipal de Guaramirim\n",
      "    \n",
      "Titulo: Paraná quer mudar compras governamentais pelas startups - ConvergênciaDigital\n",
      "Data da Publicação: Wed, 21 Aug 2019 07:00:00 GMT\n",
      "Link: https://sis-publique.convergenciadigital.com.br/cgi/cgilua.exe/sys/start.htm?infoid=51495&sid=3\n",
      "Canal: ConvergênciaDigital\n",
      "    \n",
      "Titulo: Dados abertos é proposta anti-corrupção mais defendida por presidenciáveis - Jornal O Globo\n",
      "Data da Publicação: Wed, 19 Sep 2018 07:00:00 GMT\n",
      "Link: https://oglobo.globo.com/brasil/dados-abertos-proposta-anti-corrupcao-mais-defendida-por-presidenciaveis-23082265\n",
      "Canal: Jornal O Globo\n",
      "    \n",
      "Titulo: Brasil é 18º em ranking global sobre dados abertos - ConvergênciaDigital\n",
      "Data da Publicação: Tue, 23 May 2017 07:00:00 GMT\n",
      "Link: http://www.convergenciadigital.com.br/cgi/cgilua.exe/sys/start.htm?UserActiveTemplate=site&infoid=45234&sid=16\n",
      "Canal: ConvergênciaDigital\n",
      "    \n",
      "Titulo: Copa do Mundo e dados abertos: o desafio dos países fora de campo - Blogs Estadão\n",
      "Data da Publicação: Thu, 21 Jun 2018 07:00:00 GMT\n",
      "Link: https://politica.estadao.com.br/blogs/blog-do-mlg/copa-do-mundo-e-dados-abertos-o-desafio-dos-paises-fora-de-campo/\n",
      "Canal: Blogs Estadão\n",
      "    \n",
      "Titulo: GovTech em Manaus: inovação e tecnologia são temas do VH Summit - BrazilLAB\n",
      "Data da Publicação: Tue, 23 Jul 2019 07:00:00 GMT\n",
      "Link: https://brazillab.org.br/noticias/inovacao-e-tecnologia-sao-temas-do-vh-summit-em-manaus\n",
      "Canal: BrazilLAB\n",
      "    \n",
      "Titulo: Amazon: Brasil passa por transformação digital e o governo deve agir rápido - Diário de Pernambuco\n",
      "Data da Publicação: Mon, 23 Sep 2019 07:00:00 GMT\n",
      "Link: https://www.diariodepernambuco.com.br/noticia/economia/2019/09/amazon-brasil-passa-por-transformacao-digital-e-o-governo-deve-agir-r.html\n",
      "Canal: Diário de Pernambuco\n",
      "    \n",
      "Titulo: Decreto regulamenta plataforma única para repasses federais - ConvergênciaDigital\n",
      "Data da Publicação: Wed, 02 Oct 2019 07:00:00 GMT\n",
      "Link: https://www.convergenciadigital.com.br/cgi/cgilua.exe/sys/start.htm?UserActiveTemplate=site&infoid=51886&sid=16\n",
      "Canal: ConvergênciaDigital\n",
      "    \n",
      "Titulo: Seplag realiza workshop de Gestão da Informação - 24Horas News\n",
      "Data da Publicação: Thu, 13 Jun 2019 07:00:00 GMT\n",
      "Link: https://www.24horasnews.com.br/noticia/seplag-realiza-workshop-de-gestao-da-informacao.html\n",
      "Canal: 24Horas News\n",
      "    \n",
      "Titulo: Dataprev é notificada por licitação para comprar reconhecimento facial - ConvergênciaDigital\n",
      "Data da Publicação: Tue, 03 Sep 2019 07:00:00 GMT\n",
      "Link: https://www.convergenciadigital.com.br/cgi/cgilua.exe/sys/start.htm?UserActiveTemplate=site&infoid=51597&sid=10\n",
      "Canal: ConvergênciaDigital\n",
      "    \n",
      "Titulo: Valéria Reani: Impactos da LGPD nos negócios e nas pessoas - Consultor Jurídico\n",
      "Data da Publicação: Thu, 25 Oct 2018 07:00:00 GMT\n",
      "Link: https://www.conjur.com.br/2018-out-25/valeria-reani-impactos-lei-protecao-dados-negocios\n",
      "Canal: Consultor Jurídico\n",
      "    \n",
      "Titulo: HTTP/3 promete web mais rápida e já tem suporte do Chrome, Firefox e Cloudflare - Canaltech\n",
      "Data da Publicação: Fri, 27 Sep 2019 22:20:36 GMT\n",
      "Link: https://canaltech.com.br/internet/http3-promete-web-mais-rapida-e-ja-tem-suporte-do-chrome-firefox-e-cloudflare-150987/\n",
      "Canal: Canaltech\n",
      "    \n",
      "Titulo: Dados oficiais comprovam que produtores protegem o meio ambiente, diz Aprosoja - Canal Rural\n",
      "Data da Publicação: Tue, 16 Jul 2019 07:00:00 GMT\n",
      "Link: https://canalrural.uol.com.br/sites-e-especiais/projeto-soja-brasil/dados-oficiais-comprovam-que-produtores-protegem-o-meio-ambiente-diz-aprosoja/\n",
      "Canal: Canal Rural\n",
      "    \n",
      "Titulo: Os desafios para publicar dados abertos - iMasters\n",
      "Data da Publicação: Wed, 23 Dec 2015 08:00:00 GMT\n",
      "Link: https://imasters.com.br/desenvolvimento/os-desafios-para-publicar-dados-abertos\n",
      "Canal: iMasters\n",
      "    \n",
      "Titulo: ONU-HABITAT e Prefeitura do Rio promovem oficinas para implementação dos objetivos globais - ONU\n",
      "Data da Publicação: Mon, 22 Jul 2019 07:00:00 GMT\n",
      "Link: https://nacoesunidas.org/onu-habitat-e-prefeitura-do-rio-promovem-oficinas-para-implementacao-dos-objetivos-globais/\n",
      "Canal: ONU\n",
      "    \n",
      "Titulo: Projeto de Jandira susta decreto de Bolsonaro que extingue conselhos - Vermelho\n",
      "Data da Publicação: Mon, 15 Apr 2019 07:00:00 GMT\n",
      "Link: http://www.vermelho.org.br/noticia/319791-1\n",
      "Canal: Vermelho\n",
      "    \n",
      "Titulo: Governo digital tenta avançar no país: BrazilLAB é destaque em matéria do Valor Econômico - BrazilLAB\n",
      "Data da Publicação: Tue, 01 Oct 2019 07:00:00 GMT\n",
      "Link: https://brazillab.org.br/noticias/governo-digital-tenta-avancar-no-pais-brazillab-e-destaque-em-materia-do-valor-economico\n",
      "Canal: BrazilLAB\n",
      "    \n",
      "Titulo: Decreto torna pregão eletrônico obrigatório para União, Estados e Municípios - ConvergênciaDigital\n",
      "Data da Publicação: Mon, 23 Sep 2019 07:00:00 GMT\n",
      "Link: https://www.convergenciadigital.com.br/cgi/cgilua.exe/sys/start.htm?UserActiveTemplate=site&infoid=51784&sid=10\n",
      "Canal: ConvergênciaDigital\n",
      "    \n",
      "Titulo: Brasileiro tem pé atrás com as inovações da Inteligência Artificial - ConvergênciaDigital\n",
      "Data da Publicação: Thu, 01 Aug 2019 07:00:00 GMT\n",
      "Link: https://www.convergenciadigital.com.br/cgi/cgilua.exe/sys/start.htm?UserActiveTemplate=site&infoid=51332&sid=3\n",
      "Canal: ConvergênciaDigital\n",
      "    \n",
      "Titulo: Maioria das empresas já usa algoritmos para fazer receita e vender mais - ConvergênciaDigital\n",
      "Data da Publicação: Mon, 09 Sep 2019 07:00:00 GMT\n",
      "Link: https://sis-publique.convergenciadigital.com.br/cgi/cgilua.exe/sys/start.htm?infoid=51647&sid=3\n",
      "Canal: ConvergênciaDigital\n",
      "    \n",
      "Titulo: Especialistas discutem o uso de dados pessoais de menores de idade pelo poder público - Estadão\n",
      "Data da Publicação: Sat, 16 Jun 2018 07:00:00 GMT\n",
      "Link: https://emais.estadao.com.br/noticias/comportamento,especialistas-discutem-o-uso-de-dados-pessoais-de-menores-de-idade-pelo-poder-publico,70002351983\n",
      "Canal: Estadão\n",
      "    \n",
      "Titulo: Equifax paga R$ 1,1 bilhão e fecha o maior acordo para ressarcir vazamento de dados do mundo - ConvergênciaDigital\n",
      "Data da Publicação: Mon, 22 Jul 2019 07:00:00 GMT\n",
      "Link: https://m.convergenciadigital.com.br/cgi/cgilua.exe/sys/start.htm?UserActiveTemplate=mobile%2Csite&infoid=51255&sid=4\n",
      "Canal: ConvergênciaDigital\n",
      "    \n",
      "Titulo: Construir pontes e mobilizar: a grande contribuição do 3º Setor para uma agenda duradoura de GovTech - BrazilLAB\n",
      "Data da Publicação: Fri, 09 Aug 2019 07:00:00 GMT\n",
      "Link: https://brazillab.org.br/noticias/construir-pontes-e-mobilizar-a-grande-contribuicao-do-terceiro-setor-para-uma-agenda-duradoura-de-govtech\n",
      "Canal: BrazilLAB\n",
      "    \n",
      "Titulo: Ministérios da Infraestrutura e Agricultura são maiores alvos de lobby - Estado de Minas\n",
      "Data da Publicação: Sun, 10 Feb 2019 08:00:00 GMT\n",
      "Link: https://www.em.com.br/app/noticia/politica/2019/02/10/interna_politica,1029379/infraestrutura-e-agricultura-sao-maiores-alvos-de-lobby.shtml\n",
      "Canal: Estado de Minas\n",
      "    \n",
      "Titulo: Salvador às 23:16 Salvador aparece no último lugar em divulgação de dados Aina Soledad l - A Tarde On Line\n",
      "Data da Publicação: Thu, 10 May 2018 07:00:00 GMT\n",
      "Link: https://atarde.uol.com.br/bahia/salvador/noticias/1958999-salvador-aparece-no-ultimo-lugar-em-divulgacao-de-dados\n",
      "Canal: A Tarde On Line\n",
      "    \n",
      "Titulo: Frente Digital defende blockchain no Congresso Nacional - CriptoFacil\n",
      "Data da Publicação: Tue, 09 Jul 2019 07:00:00 GMT\n",
      "Link: https://www.criptofacil.com/frente-digital-defende-blockchain-no-congresso-nacional/\n",
      "Canal: CriptoFacil\n",
      "    \n",
      "Titulo: De 10 startups, apenas uma sobrevive no jogo da inovação - ConvergênciaDigital\n",
      "Data da Publicação: Sun, 01 Sep 2019 07:00:00 GMT\n",
      "Link: https://www.convergenciadigital.com.br/cgi/cgilua.exe/sys/start.htm?UserActiveTemplate=site&infoid=51599&sid=3\n",
      "Canal: ConvergênciaDigital\n",
      "    \n",
      "Titulo: Eu sou a Glória e fui criada para combater a violência contra as mulheres - ConvergênciaDigital\n",
      "Data da Publicação: Thu, 25 Apr 2019 07:00:00 GMT\n",
      "Link: https://www.convergenciadigital.com.br/cgi/cgilua.exe/sys/start.htm?UserActiveTemplate=site&infoid=50542&sid=3\n",
      "Canal: ConvergênciaDigital\n",
      "    \n",
      "Titulo: Bahia.Ba - Bahia.ba\n",
      "Data da Publicação: Thu, 10 May 2018 07:00:00 GMT\n",
      "Link: https://bahia.ba/salvador/estudo-aponta-dificuldade-de-acesso-a-dados-publicos-sobre-a-capital/\n",
      "Canal: Bahia.ba\n",
      "    \n",
      "Titulo: O que as organizações exponenciais nos ensinam sobre cultura digital? - IT Forum 365\n",
      "Data da Publicação: Wed, 24 Apr 2019 07:00:00 GMT\n",
      "Link: https://www.itforum365.com.br/o-que-as-organizacoes-exponenciais-nos-ensinam-sobre-cultura-digital/\n",
      "Canal: IT Forum 365\n",
      "    \n",
      "Titulo: Reinaldo Azambuja aperfeiçoa mecanismos de transparência e combate à corrupção em MS - Portal do Jornal A Crítica de Campo Grande/MS\n",
      "Data da Publicação: Tue, 07 May 2019 07:00:00 GMT\n",
      "Link: http://www.acritica.net/editorias/geral/reinaldo-azambuja-aperfeicoa-mecanismos-de-transp-5401/377156/\n",
      "Canal: Portal do Jornal A Crítica de Campo Grande/MS\n",
      "    \n",
      "Titulo: Apenas 47% dos órgãos federais cumprem decreto que exige transparência de dados | eissomesmo - Jornal O Globo\n",
      "Data da Publicação: Thu, 22 Feb 2018 08:00:00 GMT\n",
      "Link: https://blogs.oglobo.globo.com/eissomesmo/post/apenas-47-dos-orgaos-federais-cumprem-decreto-que-exige-transparencia-de-dados.html\n",
      "Canal: Jornal O Globo\n",
      "    \n",
      "Titulo: A deforma da Previdência e o fim da soberania nacional - Carta Maior\n",
      "Data da Publicação: Sun, 31 Mar 2019 07:00:00 GMT\n",
      "Link: https://www.cartamaior.com.br/includes/controller.cfm?cm_conteudo_id=43740\n",
      "Canal: Carta Maior\n",
      "    \n",
      "Titulo: Receita Federal testa blockchain baseada em linux desenvolvido pelo Serpro - ConvergênciaDigital\n",
      "Data da Publicação: Thu, 09 May 2019 07:00:00 GMT\n",
      "Link: https://www.convergenciadigital.com.br/cgi/cgilua.exe/sys/start.htm?UserActiveTemplate=site&infoid=50657&sid=3\n",
      "Canal: ConvergênciaDigital\n",
      "    \n",
      "Titulo: Invasão de privacidade e fake news: a inteligência artificial pode vencer essa guerra - Revista Planeta\n",
      "Data da Publicação: Thu, 19 Sep 2019 07:00:00 GMT\n",
      "Link: https://www.revistaplaneta.com.br/invasao-de-privacidade-e-fake-news-a-inteligencia-artificial-pode-vencer-essa-guerra/\n",
      "Canal: Revista Planeta\n",
      "    \n",
      "Titulo: Marinês Dotti: Publicidade e transparência das contratações públicas - Consultor Jurídico\n",
      "Data da Publicação: Sat, 03 Mar 2018 08:00:00 GMT\n",
      "Link: https://www.conjur.com.br/2018-mar-03/marines-dotti-publicidade-transparencia-contratacoes-publicas\n",
      "Canal: Consultor Jurídico\n",
      "    \n",
      "Titulo: Hacker caça e acha golpista do grupo Bitcoin Brasil - Cointimes\n",
      "Data da Publicação: Mon, 01 Apr 2019 07:00:00 GMT\n",
      "Link: https://cointimes.com.br/hacker-caca-e-acha-golpista-do-grupo-bitcoin-brasil/\n",
      "Canal: Cointimes\n",
      "    \n",
      "Titulo: Banco Original já adota open banking com parceiros - ConvergênciaDigital\n",
      "Data da Publicação: Wed, 12 Jun 2019 07:00:00 GMT\n",
      "Link: https://m.convergenciadigital.com.br/cgi/cgilua.exe/sys/start.htm?UserActiveTemplate=mobile%2Csite&infoid=50950&sid=3\n",
      "Canal: ConvergênciaDigital\n",
      "    \n",
      "Titulo: Brasília terá o primeiro Datathon do Brasil - ConvergênciaDigital\n",
      "Data da Publicação: Mon, 11 Jun 2018 07:00:00 GMT\n",
      "Link: http://m.convergenciadigital.com.br/cgi/cgilua.exe/sys/start.htm?UserActiveTemplate=mobile&infoid=48193&sid=97\n",
      "Canal: ConvergênciaDigital\n",
      "    \n",
      "Titulo: Como estudar Análise de Informações para o TCE-RS - Estratégia Concursos\n",
      "Data da Publicação: Tue, 29 May 2018 07:00:00 GMT\n",
      "Link: https://www.estrategiaconcursos.com.br/blog/como-estudar-analise-de-informacoes-para-o-tce-rs/\n",
      "Canal: Estratégia Concursos\n",
      "    \n",
      "Titulo: BNDES libera primeiro aporte em projeto para internet das coisas - ConvergênciaDigital\n",
      "Data da Publicação: Wed, 17 Jul 2019 07:00:00 GMT\n",
      "Link: https://www.convergenciadigital.com.br/cgi/cgilua.exe/sys/start.htm?UserActiveTemplate=site&infoid=51219&sid=3\n",
      "Canal: ConvergênciaDigital\n"
     ]
    }
   ],
   "source": [
    "print_news_rss(noticias)"
   ]
  }
 ],
 "metadata": {
  "kernelspec": {
   "display_name": "Python 3",
   "language": "python",
   "name": "python3"
  },
  "language_info": {
   "codemirror_mode": {
    "name": "ipython",
    "version": 3
   },
   "file_extension": ".py",
   "mimetype": "text/x-python",
   "name": "python",
   "nbconvert_exporter": "python",
   "pygments_lexer": "ipython3",
   "version": "3.6.8"
  }
 },
 "nbformat": 4,
 "nbformat_minor": 2
}
