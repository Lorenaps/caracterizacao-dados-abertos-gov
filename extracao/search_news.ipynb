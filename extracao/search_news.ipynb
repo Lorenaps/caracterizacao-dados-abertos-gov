{
 "cells": [
  {
   "cell_type": "markdown",
   "metadata": {},
   "source": [
    "# Pesquisando por notícias que divulguem iniciativas com Dados Abertos Governamentais"
   ]
  },
  {
   "cell_type": "code",
   "execution_count": 2,
   "metadata": {},
   "outputs": [],
   "source": [
    "import newsapi as na\n",
    "import requests"
   ]
  },
  {
   "cell_type": "code",
   "execution_count": null,
   "metadata": {},
   "outputs": [],
   "source": [
    "def get_status(search):\n",
    "    print(\"Status: {0}\\nTotal results: {1}\".format(all_articles.get('status'), \n",
    "                                                   all_articles.get('totalResults')))\n"
   ]
  },
  {
   "cell_type": "code",
   "execution_count": null,
   "metadata": {},
   "outputs": [],
   "source": [
    "na.const.languages\n",
    "\n",
    "newsapi = na.NewsApiClient(api_key='')\n",
    "\n",
    "top_headlines = newsapi.get_top_headlines(q='Brasil')\n",
    "top_headlines\n",
    "\n",
    "all_articles = newsapi.get_everything(q='salvador empoderamento',\n",
    "                                    language='pt')\n",
    "\n",
    "get_status(all_articles)\n",
    "\n",
    "\n",
    "for article in all_articles.get('articles'):\n",
    "    print('- ' + article.get('title'))"
   ]
  },
  {
   "cell_type": "code",
   "execution_count": 1,
   "metadata": {},
   "outputs": [
    {
     "ename": "NameError",
     "evalue": "name 'ElementTree' is not defined",
     "output_type": "error",
     "traceback": [
      "\u001b[0;31m---------------------------------------------------------------------------\u001b[0m",
      "\u001b[0;31mNameError\u001b[0m                                 Traceback (most recent call last)",
      "\u001b[0;32m<ipython-input-1-ea3e9d1853b6>\u001b[0m in \u001b[0;36m<module>\u001b[0;34m()\u001b[0m\n\u001b[0;32m----> 1\u001b[0;31m \u001b[0mtree\u001b[0m \u001b[0;34m=\u001b[0m \u001b[0mElementTree\u001b[0m\u001b[0;34m.\u001b[0m\u001b[0mfromstring\u001b[0m\u001b[0;34m(\u001b[0m\u001b[0mr\u001b[0m\u001b[0;34m.\u001b[0m\u001b[0mcontent\u001b[0m\u001b[0;34m)\u001b[0m\u001b[0;34m\u001b[0m\u001b[0m\n\u001b[0m\u001b[1;32m      2\u001b[0m \u001b[0;34m\u001b[0m\u001b[0m\n\u001b[1;32m      3\u001b[0m \u001b[0mtree\u001b[0m\u001b[0;34m.\u001b[0m\u001b[0mtag\u001b[0m\u001b[0;34m\u001b[0m\u001b[0m\n\u001b[1;32m      4\u001b[0m \u001b[0;34m\u001b[0m\u001b[0m\n\u001b[1;32m      5\u001b[0m \u001b[0;34m'rss'\u001b[0m\u001b[0;34m\u001b[0m\u001b[0m\n",
      "\u001b[0;31mNameError\u001b[0m: name 'ElementTree' is not defined"
     ]
    }
   ],
   "source": [
    "tree = ElementTree.fromstring(r.content)\n",
    "\n",
    "tree.tag\n",
    "\n",
    "'rss'\n",
    "\n",
    "tree.attrib\n",
    "\n",
    "{'version': '2.0'}\n",
    "\n",
    "title = tree.find('channel').findtext('title')\n",
    "\n",
    "title\n",
    "\n",
    "'\"marcha empoderamento salvador\" - Google Notícias'\n",
    "\n",
    "tree = tree.find('channel')\n",
    "\n",
    "noticias = tree.getchildren()\n",
    "\n",
    "len(noticias)\n",
    "\n",
    "108\n",
    "\n",
    "noticias = noticias[8:]\n",
    "\n",
    "len(noticias)\n",
    "\n",
    "100\n",
    "\n"
   ]
  },
  {
   "cell_type": "code",
   "execution_count": null,
   "metadata": {},
   "outputs": [],
   "source": [
    "for noticia in noticias:\n",
    "    print('    ')\n",
    "    print(\"Titulo: \" + noticia.findtext('title'))\n",
    "    print(\"Data da Publicação: \" + noticia.findtext('pubDate'))\n",
    "    print(\"Link: \" + noticia.findtext('link'))\n",
    "    print(\"Canal: \" + noticia.findtext('source'))"
   ]
  }
 ],
 "metadata": {
  "kernelspec": {
   "display_name": "Python 3",
   "language": "python",
   "name": "python3"
  },
  "language_info": {
   "codemirror_mode": {
    "name": "ipython",
    "version": 3
   },
   "file_extension": ".py",
   "mimetype": "text/x-python",
   "name": "python",
   "nbconvert_exporter": "python",
   "pygments_lexer": "ipython3",
   "version": "3.5.6"
  }
 },
 "nbformat": 4,
 "nbformat_minor": 2
}
