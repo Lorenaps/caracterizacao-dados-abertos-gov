{
 "cells": [
  {
   "cell_type": "markdown",
   "metadata": {},
   "source": [
    "# Pesquisando por notícias que divulguem iniciativas/projetos com Dados Abertos Governamentais"
   ]
  },
  {
   "cell_type": "markdown",
   "metadata": {},
   "source": [
    "## Palavras de busca"
   ]
  },
  {
   "cell_type": "code",
   "execution_count": 1,
   "metadata": {},
   "outputs": [],
   "source": [
    "first_search_strings = [\n",
    "    'dados abertos governamentais',\n",
    "    'dados governamentais',\n",
    "    'dados públicos abertos',\n",
    "    'dados do governo',\n",
    "    'análise de dados do governo',\n",
    "    'portal de dados do governo',\n",
    "    'portal de dados governamentais',\n",
    "    'portal público do governo',\n",
    "    'portal de dados abertos do governo',\n",
    "    'publicação de dados abertos do governo',\n",
    "    'publicação de dados governamentais',\n",
    "    'consumir dados abertos do governo',\n",
    "    'consumir dados abertos governamentais',\n",
    "]"
   ]
  },
  {
   "cell_type": "markdown",
   "metadata": {},
   "source": [
    "Após algumas interações com essas strings, percebeu-se que elas traziam muitos resultados que abordavam atividades e acontecimentos que envolviam dados e o governo porém não falava de projetos em si. A paritr disso novas strings foram testadas e trouxeram resultados melhores."
   ]
  },
  {
   "cell_type": "code",
   "execution_count": 2,
   "metadata": {},
   "outputs": [],
   "source": [
    "search_strings = [\n",
    "    '\"projeto\" and \"dados governo\"',\n",
    "    '\"projeto\" and \"dados governamentais\"',\n",
    "    '\"projeto\" and \"monitora\" and \"dados\" and \"governo\"'\n",
    "]"
   ]
  },
  {
   "cell_type": "markdown",
   "metadata": {},
   "source": [
    "### Via NEWSAPI"
   ]
  },
  {
   "cell_type": "code",
   "execution_count": 3,
   "metadata": {},
   "outputs": [],
   "source": [
    "import newsapi as na\n",
    "import requests"
   ]
  },
  {
   "cell_type": "code",
   "execution_count": 4,
   "metadata": {},
   "outputs": [],
   "source": [
    "def get_status(search):\n",
    "    print(\"Status: {0}\\nTotal results: {1}\".format(all_articles.get('status'), \n",
    "                                                   all_articles.get('totalResults')))\n"
   ]
  },
  {
   "cell_type": "code",
   "execution_count": 5,
   "metadata": {},
   "outputs": [],
   "source": [
    "def print_news(results):\n",
    "    \n",
    "    for result in results.get('articles'):\n",
    "        print('- ' + result.get('title'))"
   ]
  },
  {
   "cell_type": "code",
   "execution_count": 6,
   "metadata": {
    "scrolled": true
   },
   "outputs": [
    {
     "data": {
      "text/plain": [
       "{'ar',\n",
       " 'cn',\n",
       " 'de',\n",
       " 'en',\n",
       " 'es',\n",
       " 'fr',\n",
       " 'he',\n",
       " 'it',\n",
       " 'nl',\n",
       " 'no',\n",
       " 'pt',\n",
       " 'ru',\n",
       " 'sv',\n",
       " 'ud'}"
      ]
     },
     "execution_count": 6,
     "metadata": {},
     "output_type": "execute_result"
    }
   ],
   "source": [
    "na.const.languages"
   ]
  },
  {
   "cell_type": "code",
   "execution_count": 7,
   "metadata": {},
   "outputs": [],
   "source": [
    "newsapi = na.NewsApiClient(api_key='S')"
   ]
  },
  {
   "cell_type": "code",
   "execution_count": 46,
   "metadata": {},
   "outputs": [
    {
     "data": {
      "text/plain": [
       "{'status': 'ok', 'totalResults': 0, 'articles': []}"
      ]
     },
     "execution_count": 46,
     "metadata": {},
     "output_type": "execute_result"
    }
   ],
   "source": [
    "top_headlines = newsapi.get_top_headlines(q='dados')\n",
    "top_headlines"
   ]
  },
  {
   "cell_type": "code",
   "execution_count": 102,
   "metadata": {},
   "outputs": [
    {
     "name": "stdout",
     "output_type": "stream",
     "text": [
      "Status: ok\n",
      "Total results: 3\n"
     ]
    }
   ],
   "source": [
    "all_articles = newsapi.get_everything(q=first_search_strings[0],\n",
    "                                    language='pt')\n",
    "\n",
    "get_status(all_articles)"
   ]
  },
  {
   "cell_type": "code",
   "execution_count": 103,
   "metadata": {},
   "outputs": [
    {
     "name": "stdout",
     "output_type": "stream",
     "text": [
      "- Especialista fala sobre pontos polêmicos do projeto de lei do streaming no Brasi\n",
      "- O que mudou, ou sobrou, na Funai após 100 dias de gestão ruralista? Por Oswaldo Braga de Souza\n",
      "- [Akitando] #47 - Entendendo \"Devops\" para Iniciantes em Programação (Parte 1) | Série \"Começando aos 40\"\n"
     ]
    }
   ],
   "source": [
    "print_news(all_articles)"
   ]
  },
  {
   "cell_type": "markdown",
   "metadata": {},
   "source": [
    "### Extração API(RSS) do Google News"
   ]
  },
  {
   "cell_type": "code",
   "execution_count": 104,
   "metadata": {},
   "outputs": [],
   "source": [
    "from xml.etree import ElementTree\n",
    "import pandas as pd\n",
    "import time"
   ]
  },
  {
   "cell_type": "code",
   "execution_count": 105,
   "metadata": {},
   "outputs": [],
   "source": [
    "def print_news_rss(results):\n",
    "    \n",
    "    for result in results:\n",
    "        print('    ')\n",
    "        print(\"Titulo: \" + result.findtext('title'))\n",
    "        print(\"Data da Publicação: \" + result.findtext('pubDate'))\n",
    "        print(\"Link: \" + result.findtext('link'))\n",
    "        print(\"Canal: \" + result.findtext('source'))"
   ]
  },
  {
   "cell_type": "code",
   "execution_count": 106,
   "metadata": {},
   "outputs": [],
   "source": [
    "def add_result(result):\n",
    "    df = pd.DataFrame([[\n",
    "                        result.findtext('title'),\n",
    "                        result.findtext('pubDate'),\n",
    "                        result.findtext('link'),\n",
    "                        result.findtext('source'),\n",
    "                        str(time.time()).split('.')[0]]], columns=columns)\n",
    "\n",
    "    return df"
   ]
  },
  {
   "cell_type": "code",
   "execution_count": 107,
   "metadata": {},
   "outputs": [],
   "source": [
    "def extract_results(results, results_df):\n",
    "    \n",
    "    for result in results:\n",
    "        results_df = pd.concat([results_df, add_result(result)], ignore_index=True, sort=False)\n",
    "        \n",
    "    return results_df"
   ]
  },
  {
   "cell_type": "code",
   "execution_count": 108,
   "metadata": {},
   "outputs": [],
   "source": [
    "columns=['title',\n",
    "         'pubDate',\n",
    "         'link',\n",
    "         'source', \n",
    "         'timestamp_extract']"
   ]
  },
  {
   "cell_type": "code",
   "execution_count": 120,
   "metadata": {},
   "outputs": [],
   "source": [
    "results_df = pd.DataFrame(columns=['title',\n",
    "                                        'pubDate',\n",
    "                                        'link',\n",
    "                                        'source',\n",
    "                                        'timestamp_extract',\n",
    "                                  ])"
   ]
  },
  {
   "cell_type": "code",
   "execution_count": 110,
   "metadata": {},
   "outputs": [],
   "source": [
    "url = 'https://news.google.com/rss/search?q='"
   ]
  },
  {
   "cell_type": "code",
   "execution_count": 114,
   "metadata": {},
   "outputs": [],
   "source": [
    "aux = '&hl=pt-BR&gl=BR&ceid=BR:pt-419'"
   ]
  },
  {
   "cell_type": "code",
   "execution_count": 128,
   "metadata": {},
   "outputs": [],
   "source": [
    "def search_rss(string, results_df):\n",
    "    \n",
    "    print('Extraindo notícias para a string {0}'.format(string))\n",
    "    url_final = url + string + aux\n",
    "    response = requests.get(url_final)\n",
    "    \n",
    "    if response.status_code == 200:\n",
    "        \n",
    "        tree = ElementTree.fromstring(response.content)\n",
    "        tree = tree.find('channel')\n",
    "        news = tree.getchildren()\n",
    "        news = news[8:] # As 8 primeiras posições são metadados\n",
    "        \n",
    "        print('Foram encontrados {0} resultados'.format(len(news)))\n",
    "        \n",
    "        results_df = extract_results(noticias, results_df)\n",
    "    \n",
    "    print('--')\n",
    "    \n",
    "    return results_df"
   ]
  },
  {
   "cell_type": "code",
   "execution_count": 129,
   "metadata": {},
   "outputs": [
    {
     "name": "stdout",
     "output_type": "stream",
     "text": [
      "Extraindo notícias para a string \"projeto\" and \"dados governo\"\n",
      "Foram encontrados 10 resultados\n",
      "--\n",
      "Extraindo notícias para a string \"projeto\" and \"dados governamentais\"\n",
      "Foram encontrados 69 resultados\n",
      "--\n",
      "Extraindo notícias para a string \"projeto\" and \"monitora\" and \"dados\" and \"governo\"\n",
      "Foram encontrados 100 resultados\n",
      "--\n"
     ]
    }
   ],
   "source": [
    "for string in search_strings:\n",
    "    \n",
    "    results_df = search_rss(string, results_df)"
   ]
  },
  {
   "cell_type": "code",
   "execution_count": 134,
   "metadata": {},
   "outputs": [
    {
     "data": {
      "text/html": [
       "<div>\n",
       "<style scoped>\n",
       "    .dataframe tbody tr th:only-of-type {\n",
       "        vertical-align: middle;\n",
       "    }\n",
       "\n",
       "    .dataframe tbody tr th {\n",
       "        vertical-align: top;\n",
       "    }\n",
       "\n",
       "    .dataframe thead th {\n",
       "        text-align: right;\n",
       "    }\n",
       "</style>\n",
       "<table border=\"1\" class=\"dataframe\">\n",
       "  <thead>\n",
       "    <tr style=\"text-align: right;\">\n",
       "      <th></th>\n",
       "      <th>title</th>\n",
       "      <th>pubDate</th>\n",
       "      <th>link</th>\n",
       "      <th>source</th>\n",
       "      <th>timestamp_extract</th>\n",
       "    </tr>\n",
       "  </thead>\n",
       "  <tbody>\n",
       "    <tr>\n",
       "      <th>0</th>\n",
       "      <td>Governo cria base de dados com informações sob...</td>\n",
       "      <td>Thu, 10 Oct 2019 07:00:00 GMT</td>\n",
       "      <td>https://www.gazetadopovo.com.br/republica/brev...</td>\n",
       "      <td>Gazeta do Povo</td>\n",
       "      <td>1572983744</td>\n",
       "    </tr>\n",
       "    <tr>\n",
       "      <th>1</th>\n",
       "      <td>Projeto recupera decreto sobre comunicação de ...</td>\n",
       "      <td>Fri, 14 Jun 2019 07:00:00 GMT</td>\n",
       "      <td>https://portal.comunique-se.com.br/projeto-rec...</td>\n",
       "      <td>Portal Comunique-se</td>\n",
       "      <td>1572983744</td>\n",
       "    </tr>\n",
       "    <tr>\n",
       "      <th>2</th>\n",
       "      <td>Cinturão Digital do Ceará viabiliza qualidade ...</td>\n",
       "      <td>Tue, 20 Aug 2019 07:00:00 GMT</td>\n",
       "      <td>https://www.ceara.gov.br/2019/08/20/cinturao-d...</td>\n",
       "      <td>Ceará</td>\n",
       "      <td>1572983744</td>\n",
       "    </tr>\n",
       "    <tr>\n",
       "      <th>3</th>\n",
       "      <td>Bolsonaro sanciona lei do cadastro positivo pa...</td>\n",
       "      <td>Mon, 08 Apr 2019 07:00:00 GMT</td>\n",
       "      <td>https://economia.estadao.com.br/noticias/geral...</td>\n",
       "      <td>Estadão</td>\n",
       "      <td>1572983744</td>\n",
       "    </tr>\n",
       "    <tr>\n",
       "      <th>4</th>\n",
       "      <td>Governo veta ABDI no Ministério da Ciência, Te...</td>\n",
       "      <td>Wed, 19 Jun 2019 07:00:00 GMT</td>\n",
       "      <td>http://www.telesintese.com.br/governo-veta-abd...</td>\n",
       "      <td>Telesintese.</td>\n",
       "      <td>1572983744</td>\n",
       "    </tr>\n",
       "  </tbody>\n",
       "</table>\n",
       "</div>"
      ],
      "text/plain": [
       "                                               title  \\\n",
       "0  Governo cria base de dados com informações sob...   \n",
       "1  Projeto recupera decreto sobre comunicação de ...   \n",
       "2  Cinturão Digital do Ceará viabiliza qualidade ...   \n",
       "3  Bolsonaro sanciona lei do cadastro positivo pa...   \n",
       "4  Governo veta ABDI no Ministério da Ciência, Te...   \n",
       "\n",
       "                         pubDate  \\\n",
       "0  Thu, 10 Oct 2019 07:00:00 GMT   \n",
       "1  Fri, 14 Jun 2019 07:00:00 GMT   \n",
       "2  Tue, 20 Aug 2019 07:00:00 GMT   \n",
       "3  Mon, 08 Apr 2019 07:00:00 GMT   \n",
       "4  Wed, 19 Jun 2019 07:00:00 GMT   \n",
       "\n",
       "                                                link               source  \\\n",
       "0  https://www.gazetadopovo.com.br/republica/brev...       Gazeta do Povo   \n",
       "1  https://portal.comunique-se.com.br/projeto-rec...  Portal Comunique-se   \n",
       "2  https://www.ceara.gov.br/2019/08/20/cinturao-d...                Ceará   \n",
       "3  https://economia.estadao.com.br/noticias/geral...              Estadão   \n",
       "4  http://www.telesintese.com.br/governo-veta-abd...         Telesintese.   \n",
       "\n",
       "  timestamp_extract  \n",
       "0        1572983744  \n",
       "1        1572983744  \n",
       "2        1572983744  \n",
       "3        1572983744  \n",
       "4        1572983744  "
      ]
     },
     "execution_count": 134,
     "metadata": {},
     "output_type": "execute_result"
    }
   ],
   "source": [
    "results_df.head()"
   ]
  },
  {
   "cell_type": "code",
   "execution_count": 135,
   "metadata": {},
   "outputs": [
    {
     "data": {
      "text/html": [
       "<div>\n",
       "<style scoped>\n",
       "    .dataframe tbody tr th:only-of-type {\n",
       "        vertical-align: middle;\n",
       "    }\n",
       "\n",
       "    .dataframe tbody tr th {\n",
       "        vertical-align: top;\n",
       "    }\n",
       "\n",
       "    .dataframe thead th {\n",
       "        text-align: right;\n",
       "    }\n",
       "</style>\n",
       "<table border=\"1\" class=\"dataframe\">\n",
       "  <thead>\n",
       "    <tr style=\"text-align: right;\">\n",
       "      <th></th>\n",
       "      <th>title</th>\n",
       "      <th>pubDate</th>\n",
       "      <th>link</th>\n",
       "      <th>source</th>\n",
       "      <th>timestamp_extract</th>\n",
       "    </tr>\n",
       "  </thead>\n",
       "  <tbody>\n",
       "    <tr>\n",
       "      <th>count</th>\n",
       "      <td>30</td>\n",
       "      <td>30</td>\n",
       "      <td>30</td>\n",
       "      <td>30</td>\n",
       "      <td>30</td>\n",
       "    </tr>\n",
       "    <tr>\n",
       "      <th>unique</th>\n",
       "      <td>10</td>\n",
       "      <td>10</td>\n",
       "      <td>10</td>\n",
       "      <td>9</td>\n",
       "      <td>3</td>\n",
       "    </tr>\n",
       "    <tr>\n",
       "      <th>top</th>\n",
       "      <td>Cinturão Digital do Ceará viabiliza qualidade ...</td>\n",
       "      <td>Wed, 30 May 2018 07:00:00 GMT</td>\n",
       "      <td>https://www.ceara.gov.br/2018/04/04/secretaria...</td>\n",
       "      <td>Ceará</td>\n",
       "      <td>1572983745</td>\n",
       "    </tr>\n",
       "    <tr>\n",
       "      <th>freq</th>\n",
       "      <td>3</td>\n",
       "      <td>3</td>\n",
       "      <td>3</td>\n",
       "      <td>6</td>\n",
       "      <td>10</td>\n",
       "    </tr>\n",
       "  </tbody>\n",
       "</table>\n",
       "</div>"
      ],
      "text/plain": [
       "                                                    title  \\\n",
       "count                                                  30   \n",
       "unique                                                 10   \n",
       "top     Cinturão Digital do Ceará viabiliza qualidade ...   \n",
       "freq                                                    3   \n",
       "\n",
       "                              pubDate  \\\n",
       "count                              30   \n",
       "unique                             10   \n",
       "top     Wed, 30 May 2018 07:00:00 GMT   \n",
       "freq                                3   \n",
       "\n",
       "                                                     link source  \\\n",
       "count                                                  30     30   \n",
       "unique                                                 10      9   \n",
       "top     https://www.ceara.gov.br/2018/04/04/secretaria...  Ceará   \n",
       "freq                                                    3      6   \n",
       "\n",
       "       timestamp_extract  \n",
       "count                 30  \n",
       "unique                 3  \n",
       "top           1572983745  \n",
       "freq                  10  "
      ]
     },
     "execution_count": 135,
     "metadata": {},
     "output_type": "execute_result"
    }
   ],
   "source": [
    "results_df.describe()"
   ]
  }
 ],
 "metadata": {
  "kernelspec": {
   "display_name": "Python 3",
   "language": "python",
   "name": "python3"
  },
  "language_info": {
   "codemirror_mode": {
    "name": "ipython",
    "version": 3
   },
   "file_extension": ".py",
   "mimetype": "text/x-python",
   "name": "python",
   "nbconvert_exporter": "python",
   "pygments_lexer": "ipython3",
   "version": "3.5.6"
  }
 },
 "nbformat": 4,
 "nbformat_minor": 2
}
