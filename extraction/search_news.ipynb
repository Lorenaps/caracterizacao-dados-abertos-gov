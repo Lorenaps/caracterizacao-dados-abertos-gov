{
 "cells": [
  {
   "cell_type": "markdown",
   "metadata": {},
   "source": [
    "# Pesquisando por notícias que divulguem iniciativas/projetos com Dados Abertos Governamentais"
   ]
  },
  {
   "cell_type": "markdown",
   "metadata": {},
   "source": [
    "## Palavras de busca"
   ]
  },
  {
   "cell_type": "code",
   "execution_count": 1,
   "metadata": {},
   "outputs": [],
   "source": [
    "first_search_strings = [\n",
    "    'dados abertos governamentais',\n",
    "    'dados governamentais',\n",
    "    'dados públicos abertos',\n",
    "    'dados do governo',\n",
    "    'análise de dados do governo',\n",
    "    'portal de dados do governo',\n",
    "    'portal de dados governamentais',\n",
    "    'portal público do governo',\n",
    "    'portal de dados abertos do governo',\n",
    "    'publicação de dados abertos do governo',\n",
    "    'publicação de dados governamentais',\n",
    "    'consumir dados abertos do governo',\n",
    "    'consumir dados abertos governamentais',\n",
    "]"
   ]
  },
  {
   "cell_type": "markdown",
   "metadata": {},
   "source": [
    "Após algumas interações com essas strings, percebeu-se que elas traziam muitos resultados que abordavam atividades e acontecimentos que envolviam dados e o governo porém não falava de projetos em si. A paritr disso novas strings foram testadas e trouxeram resultados melhores."
   ]
  },
  {
   "cell_type": "code",
   "execution_count": 2,
   "metadata": {},
   "outputs": [],
   "source": [
    "search_strings = [\n",
    "    '\"projeto\" and \"dados governo\"',\n",
    "    '\"projeto\" and \"dados governamentais\"',\n",
    "    '\"projeto\" and \"monitora\" and \"dados\" and \"governo\"'\n",
    "]"
   ]
  },
  {
   "cell_type": "markdown",
   "metadata": {},
   "source": [
    "### Via NEWSAPI"
   ]
  },
  {
   "cell_type": "code",
   "execution_count": 3,
   "metadata": {},
   "outputs": [],
   "source": [
    "import newsapi as na\n",
    "import requests"
   ]
  },
  {
   "cell_type": "code",
   "execution_count": 4,
   "metadata": {},
   "outputs": [],
   "source": [
    "def get_status(search):\n",
    "    print(\"Status: {0}\\nTotal results: {1}\".format(all_articles.get('status'), \n",
    "                                                   all_articles.get('totalResults')))\n"
   ]
  },
  {
   "cell_type": "code",
   "execution_count": 5,
   "metadata": {},
   "outputs": [],
   "source": [
    "def print_news(results):\n",
    "    \n",
    "    for result in results.get('articles'):\n",
    "        print('- ' + result.get('title'))"
   ]
  },
  {
   "cell_type": "code",
   "execution_count": 6,
   "metadata": {
    "scrolled": true
   },
   "outputs": [
    {
     "data": {
      "text/plain": [
       "{'ar',\n",
       " 'cn',\n",
       " 'de',\n",
       " 'en',\n",
       " 'es',\n",
       " 'fr',\n",
       " 'he',\n",
       " 'it',\n",
       " 'nl',\n",
       " 'no',\n",
       " 'pt',\n",
       " 'ru',\n",
       " 'sv',\n",
       " 'ud'}"
      ]
     },
     "execution_count": 6,
     "metadata": {},
     "output_type": "execute_result"
    }
   ],
   "source": [
    "na.const.languages"
   ]
  },
  {
   "cell_type": "code",
   "execution_count": 8,
   "metadata": {},
   "outputs": [],
   "source": [
    "newsapi = na.NewsApiClient(api_key='')"
   ]
  },
  {
   "cell_type": "code",
   "execution_count": 9,
   "metadata": {},
   "outputs": [
    {
     "data": {
      "text/plain": [
       "{'articles': [], 'status': 'ok', 'totalResults': 0}"
      ]
     },
     "execution_count": 9,
     "metadata": {},
     "output_type": "execute_result"
    }
   ],
   "source": [
    "top_headlines = newsapi.get_top_headlines(q='dados')\n",
    "top_headlines"
   ]
  },
  {
   "cell_type": "code",
   "execution_count": 10,
   "metadata": {},
   "outputs": [
    {
     "name": "stdout",
     "output_type": "stream",
     "text": [
      "Status: ok\n",
      "Total results: 3\n"
     ]
    }
   ],
   "source": [
    "all_articles = newsapi.get_everything(q=first_search_strings[0],\n",
    "                                    language='pt')\n",
    "\n",
    "get_status(all_articles)"
   ]
  },
  {
   "cell_type": "code",
   "execution_count": 11,
   "metadata": {},
   "outputs": [
    {
     "name": "stdout",
     "output_type": "stream",
     "text": [
      "- Especialista fala sobre pontos polêmicos do projeto de lei do streaming no Brasi\n",
      "- O que mudou, ou sobrou, na Funai após 100 dias de gestão ruralista? Por Oswaldo Braga de Souza\n",
      "- [Akitando] #47 - Entendendo \"Devops\" para Iniciantes em Programação (Parte 1) | Série \"Começando aos 40\"\n"
     ]
    }
   ],
   "source": [
    "print_news(all_articles)"
   ]
  },
  {
   "cell_type": "markdown",
   "metadata": {},
   "source": [
    "### Extração API(RSS) do Google News"
   ]
  },
  {
   "cell_type": "code",
   "execution_count": 12,
   "metadata": {},
   "outputs": [],
   "source": [
    "from xml.etree import ElementTree\n",
    "import pandas as pd\n",
    "import time"
   ]
  },
  {
   "cell_type": "code",
   "execution_count": 13,
   "metadata": {},
   "outputs": [],
   "source": [
    "def print_news_rss(results):\n",
    "    \n",
    "    for result in results:\n",
    "        print('    ')\n",
    "        print(\"Titulo: \" + result.findtext('title'))\n",
    "        print(\"Data da Publicação: \" + result.findtext('pubDate'))\n",
    "        print(\"Link: \" + result.findtext('link'))\n",
    "        print(\"Canal: \" + result.findtext('source'))"
   ]
  },
  {
   "cell_type": "code",
   "execution_count": 14,
   "metadata": {},
   "outputs": [],
   "source": [
    "def add_result(result):\n",
    "    df = pd.DataFrame([[\n",
    "                        result.findtext('title'),\n",
    "                        result.findtext('pubDate'),\n",
    "                        result.findtext('link'),\n",
    "                        result.findtext('source'),\n",
    "                        str(time.time()).split('.')[0]]], columns=columns)\n",
    "\n",
    "    return df"
   ]
  },
  {
   "cell_type": "code",
   "execution_count": 15,
   "metadata": {},
   "outputs": [],
   "source": [
    "def extract_results(results, results_df):\n",
    "    \n",
    "    for result in results:\n",
    "        results_df = pd.concat([results_df, add_result(result)], ignore_index=True, sort=False)\n",
    "        \n",
    "    return results_df"
   ]
  },
  {
   "cell_type": "code",
   "execution_count": 33,
   "metadata": {},
   "outputs": [],
   "source": [
    "def search_rss(string):\n",
    "    \n",
    "    print(\"\\nExtraindo notícias para a string: '{0}'\".format(string))\n",
    "    url_final = url + string + aux\n",
    "    response = requests.get(url_final)\n",
    "    news = None\n",
    "    \n",
    "    if response.status_code == 200:\n",
    "        \n",
    "        tree = ElementTree.fromstring(response.content)\n",
    "        tree = tree.find('channel')\n",
    "        news = tree.getchildren()\n",
    "        news = news[8:] # As 8 primeiras posições são metadados\n",
    "        \n",
    "    print('Foram encontrados {0} resultados'.format(len(news)))    \n",
    "    return news"
   ]
  },
  {
   "cell_type": "code",
   "execution_count": 22,
   "metadata": {},
   "outputs": [],
   "source": [
    "columns=['title',\n",
    "         'pubDate',\n",
    "         'link',\n",
    "         'source', \n",
    "         'timestamp_extract']"
   ]
  },
  {
   "cell_type": "code",
   "execution_count": 23,
   "metadata": {},
   "outputs": [],
   "source": [
    "results_df = pd.DataFrame(columns=['title',\n",
    "                                        'pubDate',\n",
    "                                        'link',\n",
    "                                        'source',\n",
    "                                        'timestamp_extract',\n",
    "                                  ])"
   ]
  },
  {
   "cell_type": "code",
   "execution_count": 24,
   "metadata": {},
   "outputs": [],
   "source": [
    "url = 'https://news.google.com/rss/search?q='"
   ]
  },
  {
   "cell_type": "code",
   "execution_count": 25,
   "metadata": {},
   "outputs": [],
   "source": [
    "aux = '&hl=pt-BR&gl=BR&ceid=BR:pt-419'"
   ]
  },
  {
   "cell_type": "code",
   "execution_count": 35,
   "metadata": {
    "scrolled": true
   },
   "outputs": [
    {
     "name": "stdout",
     "output_type": "stream",
     "text": [
      "\n",
      "Extraindo notícias para a string: '\"projeto\" and \"dados governo\"'\n",
      "Foram encontrados 9 resultados\n",
      "\n",
      "Extraindo notícias para a string: '\"projeto\" and \"dados governamentais\"'\n",
      "Foram encontrados 69 resultados\n",
      "\n",
      "Extraindo notícias para a string: '\"projeto\" and \"monitora\" and \"dados\" and \"governo\"'\n",
      "Foram encontrados 100 resultados\n"
     ]
    }
   ],
   "source": [
    "for string in search_strings:\n",
    "    \n",
    "    results = search_rss(string)\n",
    "    results_df = extract_results(results, results_df)"
   ]
  },
  {
   "cell_type": "code",
   "execution_count": 36,
   "metadata": {},
   "outputs": [
    {
     "data": {
      "text/html": [
       "<div>\n",
       "<style scoped>\n",
       "    .dataframe tbody tr th:only-of-type {\n",
       "        vertical-align: middle;\n",
       "    }\n",
       "\n",
       "    .dataframe tbody tr th {\n",
       "        vertical-align: top;\n",
       "    }\n",
       "\n",
       "    .dataframe thead th {\n",
       "        text-align: right;\n",
       "    }\n",
       "</style>\n",
       "<table border=\"1\" class=\"dataframe\">\n",
       "  <thead>\n",
       "    <tr style=\"text-align: right;\">\n",
       "      <th></th>\n",
       "      <th>title</th>\n",
       "      <th>pubDate</th>\n",
       "      <th>link</th>\n",
       "      <th>source</th>\n",
       "      <th>timestamp_extract</th>\n",
       "    </tr>\n",
       "  </thead>\n",
       "  <tbody>\n",
       "    <tr>\n",
       "      <th>count</th>\n",
       "      <td>178</td>\n",
       "      <td>178</td>\n",
       "      <td>178</td>\n",
       "      <td>178</td>\n",
       "      <td>178</td>\n",
       "    </tr>\n",
       "    <tr>\n",
       "      <th>unique</th>\n",
       "      <td>178</td>\n",
       "      <td>151</td>\n",
       "      <td>178</td>\n",
       "      <td>96</td>\n",
       "      <td>3</td>\n",
       "    </tr>\n",
       "    <tr>\n",
       "      <th>top</th>\n",
       "      <td>Prêmio Mario Covas inova em homenagem para exc...</td>\n",
       "      <td>Mon, 08 Apr 2019 07:00:00 GMT</td>\n",
       "      <td>https://www1.folha.uol.com.br/ambiente/2019/10...</td>\n",
       "      <td>Folha de S.Paulo</td>\n",
       "      <td>1573072613</td>\n",
       "    </tr>\n",
       "    <tr>\n",
       "      <th>freq</th>\n",
       "      <td>1</td>\n",
       "      <td>3</td>\n",
       "      <td>1</td>\n",
       "      <td>22</td>\n",
       "      <td>100</td>\n",
       "    </tr>\n",
       "  </tbody>\n",
       "</table>\n",
       "</div>"
      ],
      "text/plain": [
       "                                                    title  \\\n",
       "count                                                 178   \n",
       "unique                                                178   \n",
       "top     Prêmio Mario Covas inova em homenagem para exc...   \n",
       "freq                                                    1   \n",
       "\n",
       "                              pubDate  \\\n",
       "count                             178   \n",
       "unique                            151   \n",
       "top     Mon, 08 Apr 2019 07:00:00 GMT   \n",
       "freq                                3   \n",
       "\n",
       "                                                     link            source  \\\n",
       "count                                                 178               178   \n",
       "unique                                                178                96   \n",
       "top     https://www1.folha.uol.com.br/ambiente/2019/10...  Folha de S.Paulo   \n",
       "freq                                                    1                22   \n",
       "\n",
       "       timestamp_extract  \n",
       "count                178  \n",
       "unique                 3  \n",
       "top           1573072613  \n",
       "freq                 100  "
      ]
     },
     "execution_count": 36,
     "metadata": {},
     "output_type": "execute_result"
    }
   ],
   "source": [
    "results_df.describe()"
   ]
  },
  {
   "cell_type": "code",
   "execution_count": 43,
   "metadata": {},
   "outputs": [
    {
     "data": {
      "text/plain": [
       "title                object\n",
       "pubDate              object\n",
       "link                 object\n",
       "source               object\n",
       "timestamp_extract    object\n",
       "dtype: object"
      ]
     },
     "execution_count": 43,
     "metadata": {},
     "output_type": "execute_result"
    }
   ],
   "source": [
    "results_df.dtypes"
   ]
  },
  {
   "cell_type": "code",
   "execution_count": 37,
   "metadata": {
    "scrolled": true
   },
   "outputs": [
    {
     "data": {
      "text/html": [
       "<div>\n",
       "<style scoped>\n",
       "    .dataframe tbody tr th:only-of-type {\n",
       "        vertical-align: middle;\n",
       "    }\n",
       "\n",
       "    .dataframe tbody tr th {\n",
       "        vertical-align: top;\n",
       "    }\n",
       "\n",
       "    .dataframe thead th {\n",
       "        text-align: right;\n",
       "    }\n",
       "</style>\n",
       "<table border=\"1\" class=\"dataframe\">\n",
       "  <thead>\n",
       "    <tr style=\"text-align: right;\">\n",
       "      <th></th>\n",
       "      <th>title</th>\n",
       "      <th>pubDate</th>\n",
       "      <th>link</th>\n",
       "      <th>source</th>\n",
       "      <th>timestamp_extract</th>\n",
       "    </tr>\n",
       "  </thead>\n",
       "  <tbody>\n",
       "    <tr>\n",
       "      <th>0</th>\n",
       "      <td>Projeto recupera decreto sobre comunicação de ...</td>\n",
       "      <td>Fri, 14 Jun 2019 07:00:00 GMT</td>\n",
       "      <td>https://portal.comunique-se.com.br/projeto-rec...</td>\n",
       "      <td>Portal Comunique-se</td>\n",
       "      <td>1573072611</td>\n",
       "    </tr>\n",
       "    <tr>\n",
       "      <th>1</th>\n",
       "      <td>Cinturão Digital do Ceará viabiliza qualidade ...</td>\n",
       "      <td>Tue, 20 Aug 2019 07:00:00 GMT</td>\n",
       "      <td>https://www.ceara.gov.br/2019/08/20/cinturao-d...</td>\n",
       "      <td>Ceará</td>\n",
       "      <td>1573072611</td>\n",
       "    </tr>\n",
       "    <tr>\n",
       "      <th>2</th>\n",
       "      <td>Bolsonaro sanciona lei do cadastro positivo pa...</td>\n",
       "      <td>Mon, 08 Apr 2019 07:00:00 GMT</td>\n",
       "      <td>https://economia.estadao.com.br/noticias/geral...</td>\n",
       "      <td>Estadão</td>\n",
       "      <td>1573072611</td>\n",
       "    </tr>\n",
       "    <tr>\n",
       "      <th>3</th>\n",
       "      <td>Governo veta ABDI no Ministério da Ciência, Te...</td>\n",
       "      <td>Wed, 19 Jun 2019 07:00:00 GMT</td>\n",
       "      <td>http://www.telesintese.com.br/governo-veta-abd...</td>\n",
       "      <td>Telesintese.</td>\n",
       "      <td>1573072611</td>\n",
       "    </tr>\n",
       "    <tr>\n",
       "      <th>4</th>\n",
       "      <td>Câmara aprova projeto da “GDPR brasileira”, so...</td>\n",
       "      <td>Wed, 30 May 2018 07:00:00 GMT</td>\n",
       "      <td>https://www.tecmundo.com.br/seguranca/130778-c...</td>\n",
       "      <td>TecMundo</td>\n",
       "      <td>1573072611</td>\n",
       "    </tr>\n",
       "  </tbody>\n",
       "</table>\n",
       "</div>"
      ],
      "text/plain": [
       "                                               title  \\\n",
       "0  Projeto recupera decreto sobre comunicação de ...   \n",
       "1  Cinturão Digital do Ceará viabiliza qualidade ...   \n",
       "2  Bolsonaro sanciona lei do cadastro positivo pa...   \n",
       "3  Governo veta ABDI no Ministério da Ciência, Te...   \n",
       "4  Câmara aprova projeto da “GDPR brasileira”, so...   \n",
       "\n",
       "                         pubDate  \\\n",
       "0  Fri, 14 Jun 2019 07:00:00 GMT   \n",
       "1  Tue, 20 Aug 2019 07:00:00 GMT   \n",
       "2  Mon, 08 Apr 2019 07:00:00 GMT   \n",
       "3  Wed, 19 Jun 2019 07:00:00 GMT   \n",
       "4  Wed, 30 May 2018 07:00:00 GMT   \n",
       "\n",
       "                                                link               source  \\\n",
       "0  https://portal.comunique-se.com.br/projeto-rec...  Portal Comunique-se   \n",
       "1  https://www.ceara.gov.br/2019/08/20/cinturao-d...                Ceará   \n",
       "2  https://economia.estadao.com.br/noticias/geral...              Estadão   \n",
       "3  http://www.telesintese.com.br/governo-veta-abd...         Telesintese.   \n",
       "4  https://www.tecmundo.com.br/seguranca/130778-c...             TecMundo   \n",
       "\n",
       "  timestamp_extract  \n",
       "0        1573072611  \n",
       "1        1573072611  \n",
       "2        1573072611  \n",
       "3        1573072611  \n",
       "4        1573072611  "
      ]
     },
     "execution_count": 37,
     "metadata": {},
     "output_type": "execute_result"
    }
   ],
   "source": [
    "results_df.head()"
   ]
  },
  {
   "cell_type": "code",
   "execution_count": 40,
   "metadata": {},
   "outputs": [
    {
     "data": {
      "text/plain": [
       "'../data/extract_news_1573072904.csv'"
      ]
     },
     "execution_count": 40,
     "metadata": {},
     "output_type": "execute_result"
    }
   ],
   "source": [
    "file_path = '../data/extract_news_' + str(time.time()).split('.')[0] + '.csv'\n",
    "file_path"
   ]
  },
  {
   "cell_type": "code",
   "execution_count": 42,
   "metadata": {},
   "outputs": [],
   "source": [
    "results_df.to_csv(file_path, index=False)"
   ]
  }
 ],
 "metadata": {
  "kernelspec": {
   "display_name": "Python 3",
   "language": "python",
   "name": "python3"
  },
  "language_info": {
   "codemirror_mode": {
    "name": "ipython",
    "version": 3
   },
   "file_extension": ".py",
   "mimetype": "text/x-python",
   "name": "python",
   "nbconvert_exporter": "python",
   "pygments_lexer": "ipython3",
   "version": "3.5.6"
  }
 },
 "nbformat": 4,
 "nbformat_minor": 2
}
