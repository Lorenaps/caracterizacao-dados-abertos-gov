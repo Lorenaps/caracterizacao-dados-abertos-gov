{
 "cells": [
  {
   "cell_type": "markdown",
   "metadata": {},
   "source": [
    "# Extração de dados do Github\n",
    "\n",
    "Pesquisaremos por iniciativas/projetos que utilizam Dados Abertos Governamentais através da [API do Github](https://developer.github.com/v3/)\n",
    "\n",
    "A partir das apontamentos feitos na qualificação desse projeto de pesquisa, entendemos que caracterizar toda a comunidade que utiliza dados abertos governamentais é um escopo muito abrangente e de difícil validação.\n",
    "A ideia é reduzir esse escopo para assim poder avaliar melhor os seus resultados, por exemplo verificar se os projetos referências nessas áreas aparecem nos repositórios extraídos no Github.\n",
    "\n",
    "Vamos testar a extração de repositórios para os contextos de educação."
   ]
  },
  {
   "cell_type": "code",
   "execution_count": 1,
   "metadata": {},
   "outputs": [],
   "source": [
    "import requests\n",
    "import pandas as pd\n",
    "import time\n",
    "import logging"
   ]
  },
  {
   "cell_type": "markdown",
   "metadata": {},
   "source": [
    "As principais palavras chaves usadas por [Attard et al. (2015)](https://www.researchgate.net/publication/281349915_A_Systematic_Review_of_Open_Government_Data_Initiatives) são análise, portal, publicação, consumir juntamente a dados abertos governamentais ou do governo. Porém nos testes com a API do Github *consumir* não se mostra crucial para retornar resultados relevantes."
   ]
  },
  {
   "cell_type": "code",
   "execution_count": 50,
   "metadata": {},
   "outputs": [],
   "source": [
    "first_search_strings = [\n",
    "            'dados abertos',\n",
    "            'dados abertos brasil',\n",
    "            'dados abertos governo',\n",
    "            'dados abertos governamentais',\n",
    "            'dados governamentais',\n",
    "            'dados publicos abertos',\n",
    "            'dados do governo',\n",
    "            'analise de dados do governo',\n",
    "            'analise de dados governamentais',\n",
    "            'portal de dados do governo',\n",
    "            'portal de dados governamentais',\n",
    "            'portal publico do governo',\n",
    "            'portal de dados abertos do governo',\n",
    "        ]"
   ]
  },
  {
   "cell_type": "code",
   "execution_count": 66,
   "metadata": {},
   "outputs": [],
   "source": [
    "strings_edu = [\n",
    "    'dados educacao',\n",
    "    'dados educacao basica',\n",
    "    'dados educacionais',\n",
    "    'analise educacao',\n",
    "    'analise educacao basica',\n",
    "    'analise educacional',\n",
    "    'censo educacao superior',\n",
    "    'dados educacao superior',\n",
    "    'analise educacao superior',\n",
    "    'censo profissionais magistério',\n",
    "    'dados profissionais magistério',\n",
    "    'analise profissionais magistério',\n",
    "    'censo escolar',\n",
    "    'dados escola inep',\n",
    "    'dados enade',\n",
    "    'analise enade',\n",
    "    'dados encceja',\n",
    "    'analise encceja',\n",
    "    'dados enem',\n",
    "    'analise enem',\n",
    "    'enem por escola',\n",
    "    'dados prova brasil',\n",
    "    'analise prova brasil',    \n",
    "    'dados ideb',\n",
    "    'indicadores educacionais',\n",
    "    'dados ies',\n",
    "    'analise ies',    \n",
    "    'dados inep',\n",
    "    'analise inep',\n",
    "    'microdados inep'\n",
    "]"
   ]
  },
  {
   "cell_type": "code",
   "execution_count": 67,
   "metadata": {},
   "outputs": [
    {
     "data": {
      "text/plain": [
       "30"
      ]
     },
     "execution_count": 67,
     "metadata": {},
     "output_type": "execute_result"
    }
   ],
   "source": [
    "len(strings_edu)"
   ]
  },
  {
   "cell_type": "markdown",
   "metadata": {},
   "source": [
    "Configuração para gerar arquivo de log"
   ]
  },
  {
   "cell_type": "code",
   "execution_count": 4,
   "metadata": {},
   "outputs": [],
   "source": [
    "logging.basicConfig(level=logging.DEBUG, \n",
    "                    filename=\"log_file.txt\", \n",
    "                    filemode=\"a+\",\n",
    "                    format=\"%(asctime)s - %(levelname)s - %(funcName)s - %(message)s\")\n",
    "\n",
    "logging.info(\"Extração de dados do Github\")"
   ]
  },
  {
   "cell_type": "markdown",
   "metadata": {},
   "source": [
    "Para a acesso a alguns recursos da API do github é preciso se autenticar, como aumentar o limite de requisições. Informações sobre autenticação podem ser encontradas [aqui](https://developer.github.com/v3/#authentication)."
   ]
  },
  {
   "cell_type": "code",
   "execution_count": 6,
   "metadata": {},
   "outputs": [],
   "source": [
    "credentials = ('<user_name>','<token>')"
   ]
  },
  {
   "cell_type": "markdown",
   "metadata": {},
   "source": [
    "Limite de requisições sem autenticação"
   ]
  },
  {
   "cell_type": "code",
   "execution_count": 32,
   "metadata": {
    "scrolled": true
   },
   "outputs": [
    {
     "data": {
      "text/plain": [
       "{'resources': {'core': {'limit': 60, 'remaining': 60, 'reset': 1587005094},\n",
       "  'graphql': {'limit': 0, 'remaining': 0, 'reset': 1587005094},\n",
       "  'integration_manifest': {'limit': 5000,\n",
       "   'remaining': 5000,\n",
       "   'reset': 1587005094},\n",
       "  'search': {'limit': 10, 'remaining': 10, 'reset': 1587001554}},\n",
       " 'rate': {'limit': 60, 'remaining': 60, 'reset': 1587005094}}"
      ]
     },
     "execution_count": 32,
     "metadata": {},
     "output_type": "execute_result"
    }
   ],
   "source": [
    "t = requests.get('https://api.github.com/rate_limit')\n",
    "t.json()"
   ]
  },
  {
   "cell_type": "markdown",
   "metadata": {},
   "source": [
    "Limite de requisições com autenticação"
   ]
  },
  {
   "cell_type": "code",
   "execution_count": 59,
   "metadata": {},
   "outputs": [
    {
     "data": {
      "text/plain": [
       "{'resources': {'core': {'limit': 5000, 'remaining': 5000, 'reset': 1587006241},\n",
       "  'search': {'limit': 30, 'remaining': 30, 'reset': 1587002701},\n",
       "  'graphql': {'limit': 5000, 'remaining': 5000, 'reset': 1587006241},\n",
       "  'integration_manifest': {'limit': 5000,\n",
       "   'remaining': 5000,\n",
       "   'reset': 1587006241},\n",
       "  'source_import': {'limit': 100, 'remaining': 100, 'reset': 1587002701}},\n",
       " 'rate': {'limit': 5000, 'remaining': 5000, 'reset': 1587006241}}"
      ]
     },
     "execution_count": 59,
     "metadata": {},
     "output_type": "execute_result"
    }
   ],
   "source": [
    "t = requests.get('https://api.github.com/rate_limit', auth=credentials)\n",
    "t.json()"
   ]
  },
  {
   "cell_type": "markdown",
   "metadata": {},
   "source": [
    "Verificando limitação de extração de dados da API"
   ]
  },
  {
   "cell_type": "code",
   "execution_count": 9,
   "metadata": {},
   "outputs": [
    {
     "data": {
      "text/plain": [
       "{'message': 'Only the first 1000 search results are available',\n",
       " 'documentation_url': 'https://developer.github.com/v3/search/'}"
      ]
     },
     "execution_count": 9,
     "metadata": {},
     "output_type": "execute_result"
    }
   ],
   "source": [
    "page_35 = 'https://api.github.com/search/repositories?q=stars%3A%3E1&sort=stars&order=desc&page=35'\n",
    "t = requests.get(page_35, auth=credentials)\n",
    "t.json()"
   ]
  },
  {
   "cell_type": "markdown",
   "metadata": {},
   "source": [
    "Informações sobre a ferramenta de pesquisa da API podem ser encontradas [aqui](https://developer.github.com/v3/search/)"
   ]
  },
  {
   "cell_type": "code",
   "execution_count": 10,
   "metadata": {},
   "outputs": [],
   "source": [
    "url_base = 'https://api.github.com/search/repositories?q='"
   ]
  },
  {
   "cell_type": "markdown",
   "metadata": {},
   "source": [
    "Podemos adicionar uma ordenação nos resultados, como quantidade de _stars_ de forma descrescente."
   ]
  },
  {
   "cell_type": "code",
   "execution_count": 11,
   "metadata": {},
   "outputs": [],
   "source": [
    "sort = '&sort=stars&order=desc'"
   ]
  },
  {
   "cell_type": "markdown",
   "metadata": {},
   "source": [
    "## Extraindo informações gerais"
   ]
  },
  {
   "cell_type": "code",
   "execution_count": 63,
   "metadata": {},
   "outputs": [],
   "source": [
    "def extract_results(data):\n",
    "    \n",
    "    items_list = []\n",
    "    \n",
    "    logging.info(\"Debug data keys: {0}\".format(data.keys()))\n",
    "    \n",
    "    if data.get('message', False):\n",
    "        logging.info(\"Debug data message: {0}\".format(data.get('message', None)))\n",
    "        logging.info(\"Debug data documentation_url: {0}\".format(data.get('documentation_url', None)))\n",
    "\n",
    "    for item in data.get('items', None):\n",
    "        \n",
    "        item_dict = {\n",
    "                'id': item.get('id'),\n",
    "                'full_name': item.get('full_name', None),\n",
    "                'description': item.get('description', None),      \n",
    "                'owner_type': item.get('owner').get('type', None),\n",
    "                'owner_api_url': item.get('owner').get('url', None),\n",
    "                'owner_url': item.get('owner').get('html_url', None),\n",
    "                'api_url': item.get('url', None),\n",
    "                'url': item.get('html_url', None),\n",
    "                'fork': item.get('fork', None),\n",
    "                'created_at': item.get('created_at', None),\n",
    "                'updated_at': item.get('updated_at', None),\n",
    "                'pushed_at': item.get('pushed_at', None),\n",
    "                'size': item.get('size', None),\n",
    "                'stargazers_count': item.get('stargazers_count', None),\n",
    "                'language': item.get('language', None),\n",
    "                'has_issues': item.get('has_issues', None),\n",
    "                'has_wiki': item.get('has_wiki', None),\n",
    "                'forks_count': item.get('forks_count', None),\n",
    "                'forks': item.get('forks', None),\n",
    "                'open_issues': item.get('open_issues', None),\n",
    "                'license': item.get('license').get('name', None) if item.get('license', None) else None,\n",
    "                'timestamp_extract': str(time.time()).split('.')[0]\n",
    "        }\n",
    "\n",
    "        items_list.append(item_dict)\n",
    "            \n",
    "    return items_list"
   ]
  },
  {
   "cell_type": "code",
   "execution_count": 64,
   "metadata": {},
   "outputs": [],
   "source": [
    "results_by_page = 30\n",
    "\n",
    "def scroll_pages(url):\n",
    "        \n",
    "    results = requests.get(url, auth=credentials)    \n",
    "    data = results.json()\n",
    "    total = data.get('total_count', None)\n",
    "    \n",
    "    logging.info(\"Foram encontrados {0} resultados. Extraindo...\".format(total))\n",
    "        \n",
    "    items_list = []\n",
    "    items_list = extract_results(data)\n",
    "        \n",
    "    iterations = total // results_by_page \n",
    "    \n",
    "    for iteracao in range(0, iterations):        \n",
    "        header = results.links\n",
    "        \n",
    "        if header.get('next', False):\n",
    "            next_url = header.get('next').get('url')\n",
    "                        \n",
    "            results = requests.get(next_url, auth=credentials)\n",
    "            data = results.json()\n",
    "            \n",
    "            items_list = items_list + extract_results(data)\n",
    "    \n",
    "    return items_list"
   ]
  },
  {
   "cell_type": "code",
   "execution_count": 68,
   "metadata": {
    "scrolled": false
   },
   "outputs": [
    {
     "name": "stdout",
     "output_type": "stream",
     "text": [
      "Palavra chave:  dados educacao\n",
      "Resultados encontrados:  61 \n",
      "\n",
      "Palavra chave:  dados educacao basica\n",
      "Resultados encontrados:  5 \n",
      "\n",
      "Palavra chave:  dados educacionais\n",
      "Resultados encontrados:  28 \n",
      "\n",
      "Palavra chave:  analise educacao\n",
      "Resultados encontrados:  52 \n",
      "\n",
      "Palavra chave:  analise educacao basica\n",
      "Resultados encontrados:  5 \n",
      "\n",
      "Palavra chave:  analise educacional\n",
      "Resultados encontrados:  11 \n",
      "\n",
      "Palavra chave:  censo educacao superior\n",
      "Resultados encontrados:  5 \n",
      "\n",
      "Palavra chave:  dados educacao superior\n",
      "Resultados encontrados:  5 \n",
      "\n",
      "Palavra chave:  analise educacao superior\n",
      "Resultados encontrados:  9 \n",
      "\n",
      "Palavra chave:  censo profissionais magistério\n",
      "Resultados encontrados:  0 \n",
      "\n",
      "Palavra chave:  dados profissionais magistério\n",
      "Resultados encontrados:  0 \n",
      "\n",
      "Palavra chave:  analise profissionais magistério\n",
      "Resultados encontrados:  0 \n",
      "\n",
      "Palavra chave:  censo escolar\n",
      "Resultados encontrados:  20 \n",
      "\n",
      "Palavra chave:  dados escola inep\n",
      "Resultados encontrados:  9 \n",
      "\n",
      "Palavra chave:  dados enade\n",
      "Resultados encontrados:  17 \n",
      "\n",
      "Palavra chave:  analise enade\n",
      "Resultados encontrados:  41 \n",
      "\n",
      "Palavra chave:  dados encceja\n",
      "Resultados encontrados:  2 \n",
      "\n",
      "Palavra chave:  analise encceja\n",
      "Resultados encontrados:  2 \n",
      "\n",
      "Palavra chave:  dados enem\n",
      "Resultados encontrados:  50 \n",
      "\n",
      "Palavra chave:  analise enem\n",
      "Resultados encontrados:  45 \n",
      "\n",
      "Palavra chave:  enem por escola\n",
      "Resultados encontrados:  8 \n",
      "\n",
      "Palavra chave:  dados prova brasil\n",
      "Resultados encontrados:  3 \n",
      "\n",
      "Palavra chave:  analise prova brasil\n",
      "Resultados encontrados:  0 \n",
      "\n",
      "Palavra chave:  dados ideb\n",
      "Resultados encontrados:  5 \n",
      "\n",
      "Palavra chave:  indicadores educacionais\n",
      "Resultados encontrados:  4 \n",
      "\n",
      "Palavra chave:  dados ies\n",
      "Resultados encontrados:  20 \n",
      "\n",
      "Palavra chave:  analise ies\n",
      "Resultados encontrados:  2 \n",
      "\n",
      "Palavra chave:  dados inep\n",
      "Resultados encontrados:  43 \n",
      "\n",
      "Palavra chave:  analise inep\n",
      "Resultados encontrados:  31 \n",
      "\n",
      "Palavra chave:  microdados inep\n",
      "Resultados encontrados:  21 \n",
      "\n",
      "CPU times: user 1.17 s, sys: 119 ms, total: 1.29 s\n",
      "Wall time: 3min 6s\n"
     ]
    }
   ],
   "source": [
    "%%time\n",
    "\n",
    "items_list = []\n",
    "repositories_df = None\n",
    "\n",
    "for index, string in  enumerate(strings_edu):\n",
    "    url = url_base + string + sort\n",
    "    \n",
    "    logging.info(\"Pesquisando repositórios para a string: '{0}'\".format(string))\n",
    "    print('Palavra chave: ', string)\n",
    "\n",
    "    results = scroll_pages(url)\n",
    "    items_list = items_list + results\n",
    "    \n",
    "    print('Resultados encontrados: ', len(results), '\\n')\n",
    "    \n",
    "    if index == 15:       # A API só permite 30 requisições por minuto e considerado a paginação\n",
    "        time.sleep(120)   # adicionei esse sleep para evitar que a requisição quebre\n",
    "        \n",
    "repositories_df = pd.DataFrame(items_list)"
   ]
  },
  {
   "cell_type": "code",
   "execution_count": 69,
   "metadata": {},
   "outputs": [
    {
     "data": {
      "text/html": [
       "<div>\n",
       "<style scoped>\n",
       "    .dataframe tbody tr th:only-of-type {\n",
       "        vertical-align: middle;\n",
       "    }\n",
       "\n",
       "    .dataframe tbody tr th {\n",
       "        vertical-align: top;\n",
       "    }\n",
       "\n",
       "    .dataframe thead th {\n",
       "        text-align: right;\n",
       "    }\n",
       "</style>\n",
       "<table border=\"1\" class=\"dataframe\">\n",
       "  <thead>\n",
       "    <tr style=\"text-align: right;\">\n",
       "      <th></th>\n",
       "      <th>id</th>\n",
       "      <th>full_name</th>\n",
       "      <th>description</th>\n",
       "      <th>owner_type</th>\n",
       "      <th>owner_api_url</th>\n",
       "      <th>owner_url</th>\n",
       "      <th>api_url</th>\n",
       "      <th>url</th>\n",
       "      <th>fork</th>\n",
       "      <th>created_at</th>\n",
       "      <th>...</th>\n",
       "      <th>size</th>\n",
       "      <th>stargazers_count</th>\n",
       "      <th>language</th>\n",
       "      <th>has_issues</th>\n",
       "      <th>has_wiki</th>\n",
       "      <th>forks_count</th>\n",
       "      <th>forks</th>\n",
       "      <th>open_issues</th>\n",
       "      <th>license</th>\n",
       "      <th>timestamp_extract</th>\n",
       "    </tr>\n",
       "  </thead>\n",
       "  <tbody>\n",
       "    <tr>\n",
       "      <th>0</th>\n",
       "      <td>73385196</td>\n",
       "      <td>prefeiturasp/dados-educacao</td>\n",
       "      <td>Análises e tutoriais das bases de dados aberto...</td>\n",
       "      <td>Organization</td>\n",
       "      <td>https://api.github.com/users/prefeiturasp</td>\n",
       "      <td>https://github.com/prefeiturasp</td>\n",
       "      <td>https://api.github.com/repos/prefeiturasp/dado...</td>\n",
       "      <td>https://github.com/prefeiturasp/dados-educacao</td>\n",
       "      <td>False</td>\n",
       "      <td>2016-11-10T13:35:40Z</td>\n",
       "      <td>...</td>\n",
       "      <td>2737</td>\n",
       "      <td>47</td>\n",
       "      <td>Jupyter Notebook</td>\n",
       "      <td>True</td>\n",
       "      <td>True</td>\n",
       "      <td>17</td>\n",
       "      <td>17</td>\n",
       "      <td>2</td>\n",
       "      <td>None</td>\n",
       "      <td>1587003092</td>\n",
       "    </tr>\n",
       "    <tr>\n",
       "      <th>1</th>\n",
       "      <td>99947502</td>\n",
       "      <td>fga-eps-mds/2017.2-MerendaMais</td>\n",
       "      <td>Aplicação mobile para auxiliar conselheiros na...</td>\n",
       "      <td>Organization</td>\n",
       "      <td>https://api.github.com/users/fga-eps-mds</td>\n",
       "      <td>https://github.com/fga-eps-mds</td>\n",
       "      <td>https://api.github.com/repos/fga-eps-mds/2017....</td>\n",
       "      <td>https://github.com/fga-eps-mds/2017.2-MerendaMais</td>\n",
       "      <td>False</td>\n",
       "      <td>2017-08-10T17:14:10Z</td>\n",
       "      <td>...</td>\n",
       "      <td>47278</td>\n",
       "      <td>8</td>\n",
       "      <td>JavaScript</td>\n",
       "      <td>True</td>\n",
       "      <td>False</td>\n",
       "      <td>6</td>\n",
       "      <td>6</td>\n",
       "      <td>35</td>\n",
       "      <td>GNU General Public License v3.0</td>\n",
       "      <td>1587003092</td>\n",
       "    </tr>\n",
       "    <tr>\n",
       "      <th>2</th>\n",
       "      <td>215114032</td>\n",
       "      <td>Explicador/MozAPI</td>\n",
       "      <td>API com diversos dados de Moz, incluindo dados...</td>\n",
       "      <td>Organization</td>\n",
       "      <td>https://api.github.com/users/Explicador</td>\n",
       "      <td>https://github.com/Explicador</td>\n",
       "      <td>https://api.github.com/repos/Explicador/MozAPI</td>\n",
       "      <td>https://github.com/Explicador/MozAPI</td>\n",
       "      <td>False</td>\n",
       "      <td>2019-10-14T18:12:48Z</td>\n",
       "      <td>...</td>\n",
       "      <td>65</td>\n",
       "      <td>8</td>\n",
       "      <td>PHP</td>\n",
       "      <td>True</td>\n",
       "      <td>True</td>\n",
       "      <td>0</td>\n",
       "      <td>0</td>\n",
       "      <td>2</td>\n",
       "      <td>MIT License</td>\n",
       "      <td>1587003092</td>\n",
       "    </tr>\n",
       "  </tbody>\n",
       "</table>\n",
       "<p>3 rows × 22 columns</p>\n",
       "</div>"
      ],
      "text/plain": [
       "          id                       full_name  \\\n",
       "0   73385196     prefeiturasp/dados-educacao   \n",
       "1   99947502  fga-eps-mds/2017.2-MerendaMais   \n",
       "2  215114032               Explicador/MozAPI   \n",
       "\n",
       "                                         description    owner_type  \\\n",
       "0  Análises e tutoriais das bases de dados aberto...  Organization   \n",
       "1  Aplicação mobile para auxiliar conselheiros na...  Organization   \n",
       "2  API com diversos dados de Moz, incluindo dados...  Organization   \n",
       "\n",
       "                               owner_api_url                        owner_url  \\\n",
       "0  https://api.github.com/users/prefeiturasp  https://github.com/prefeiturasp   \n",
       "1   https://api.github.com/users/fga-eps-mds   https://github.com/fga-eps-mds   \n",
       "2    https://api.github.com/users/Explicador    https://github.com/Explicador   \n",
       "\n",
       "                                             api_url  \\\n",
       "0  https://api.github.com/repos/prefeiturasp/dado...   \n",
       "1  https://api.github.com/repos/fga-eps-mds/2017....   \n",
       "2     https://api.github.com/repos/Explicador/MozAPI   \n",
       "\n",
       "                                                 url   fork  \\\n",
       "0     https://github.com/prefeiturasp/dados-educacao  False   \n",
       "1  https://github.com/fga-eps-mds/2017.2-MerendaMais  False   \n",
       "2               https://github.com/Explicador/MozAPI  False   \n",
       "\n",
       "             created_at  ...   size stargazers_count          language  \\\n",
       "0  2016-11-10T13:35:40Z  ...   2737               47  Jupyter Notebook   \n",
       "1  2017-08-10T17:14:10Z  ...  47278                8        JavaScript   \n",
       "2  2019-10-14T18:12:48Z  ...     65                8               PHP   \n",
       "\n",
       "   has_issues has_wiki  forks_count  forks  open_issues  \\\n",
       "0        True     True           17     17            2   \n",
       "1        True    False            6      6           35   \n",
       "2        True     True            0      0            2   \n",
       "\n",
       "                           license  timestamp_extract  \n",
       "0                             None         1587003092  \n",
       "1  GNU General Public License v3.0         1587003092  \n",
       "2                      MIT License         1587003092  \n",
       "\n",
       "[3 rows x 22 columns]"
      ]
     },
     "execution_count": 69,
     "metadata": {},
     "output_type": "execute_result"
    }
   ],
   "source": [
    "repositories_df.head(3)"
   ]
  },
  {
   "cell_type": "markdown",
   "metadata": {},
   "source": [
    "Quantidade de resultados:"
   ]
  },
  {
   "cell_type": "code",
   "execution_count": 70,
   "metadata": {},
   "outputs": [
    {
     "data": {
      "text/plain": [
       "504"
      ]
     },
     "execution_count": 70,
     "metadata": {},
     "output_type": "execute_result"
    }
   ],
   "source": [
    "len(repositories_df)"
   ]
  },
  {
   "cell_type": "markdown",
   "metadata": {},
   "source": [
    "Retirando registros duplicados visto que palavras de busca diferentes podem levar a um mesmo repositório."
   ]
  },
  {
   "cell_type": "code",
   "execution_count": 71,
   "metadata": {},
   "outputs": [],
   "source": [
    "repositories_df = repositories_df.drop_duplicates(['id', 'api_url'])"
   ]
  },
  {
   "cell_type": "code",
   "execution_count": 72,
   "metadata": {},
   "outputs": [
    {
     "data": {
      "text/plain": [
       "346"
      ]
     },
     "execution_count": 72,
     "metadata": {},
     "output_type": "execute_result"
    }
   ],
   "source": [
    "len(repositories_df)"
   ]
  },
  {
   "cell_type": "markdown",
   "metadata": {},
   "source": [
    "Quantidade de colunas:"
   ]
  },
  {
   "cell_type": "code",
   "execution_count": 74,
   "metadata": {},
   "outputs": [
    {
     "data": {
      "text/plain": [
       "22"
      ]
     },
     "execution_count": 74,
     "metadata": {},
     "output_type": "execute_result"
    }
   ],
   "source": [
    "len(repositories_df.columns)"
   ]
  },
  {
   "cell_type": "code",
   "execution_count": 75,
   "metadata": {
    "scrolled": true
   },
   "outputs": [],
   "source": [
    "repositories_df = repositories_df.sort_values('stargazers_count', ascending=False)"
   ]
  },
  {
   "cell_type": "code",
   "execution_count": 76,
   "metadata": {},
   "outputs": [
    {
     "data": {
      "text/html": [
       "<div>\n",
       "<style scoped>\n",
       "    .dataframe tbody tr th:only-of-type {\n",
       "        vertical-align: middle;\n",
       "    }\n",
       "\n",
       "    .dataframe tbody tr th {\n",
       "        vertical-align: top;\n",
       "    }\n",
       "\n",
       "    .dataframe thead th {\n",
       "        text-align: right;\n",
       "    }\n",
       "</style>\n",
       "<table border=\"1\" class=\"dataframe\">\n",
       "  <thead>\n",
       "    <tr style=\"text-align: right;\">\n",
       "      <th></th>\n",
       "      <th>id</th>\n",
       "      <th>full_name</th>\n",
       "      <th>description</th>\n",
       "      <th>owner_type</th>\n",
       "      <th>owner_api_url</th>\n",
       "      <th>owner_url</th>\n",
       "      <th>api_url</th>\n",
       "      <th>url</th>\n",
       "      <th>fork</th>\n",
       "      <th>created_at</th>\n",
       "      <th>...</th>\n",
       "      <th>size</th>\n",
       "      <th>stargazers_count</th>\n",
       "      <th>language</th>\n",
       "      <th>has_issues</th>\n",
       "      <th>has_wiki</th>\n",
       "      <th>forks_count</th>\n",
       "      <th>forks</th>\n",
       "      <th>open_issues</th>\n",
       "      <th>license</th>\n",
       "      <th>timestamp_extract</th>\n",
       "    </tr>\n",
       "  </thead>\n",
       "  <tbody>\n",
       "    <tr>\n",
       "      <th>0</th>\n",
       "      <td>73385196</td>\n",
       "      <td>prefeiturasp/dados-educacao</td>\n",
       "      <td>Análises e tutoriais das bases de dados aberto...</td>\n",
       "      <td>Organization</td>\n",
       "      <td>https://api.github.com/users/prefeiturasp</td>\n",
       "      <td>https://github.com/prefeiturasp</td>\n",
       "      <td>https://api.github.com/repos/prefeiturasp/dado...</td>\n",
       "      <td>https://github.com/prefeiturasp/dados-educacao</td>\n",
       "      <td>False</td>\n",
       "      <td>2016-11-10T13:35:40Z</td>\n",
       "      <td>...</td>\n",
       "      <td>2737</td>\n",
       "      <td>47</td>\n",
       "      <td>Jupyter Notebook</td>\n",
       "      <td>True</td>\n",
       "      <td>True</td>\n",
       "      <td>17</td>\n",
       "      <td>17</td>\n",
       "      <td>2</td>\n",
       "      <td>None</td>\n",
       "      <td>1587003092</td>\n",
       "    </tr>\n",
       "  </tbody>\n",
       "</table>\n",
       "<p>1 rows × 22 columns</p>\n",
       "</div>"
      ],
      "text/plain": [
       "         id                    full_name  \\\n",
       "0  73385196  prefeiturasp/dados-educacao   \n",
       "\n",
       "                                         description    owner_type  \\\n",
       "0  Análises e tutoriais das bases de dados aberto...  Organization   \n",
       "\n",
       "                               owner_api_url                        owner_url  \\\n",
       "0  https://api.github.com/users/prefeiturasp  https://github.com/prefeiturasp   \n",
       "\n",
       "                                             api_url  \\\n",
       "0  https://api.github.com/repos/prefeiturasp/dado...   \n",
       "\n",
       "                                              url   fork  \\\n",
       "0  https://github.com/prefeiturasp/dados-educacao  False   \n",
       "\n",
       "             created_at  ...  size stargazers_count          language  \\\n",
       "0  2016-11-10T13:35:40Z  ...  2737               47  Jupyter Notebook   \n",
       "\n",
       "   has_issues has_wiki  forks_count  forks  open_issues  license  \\\n",
       "0        True     True           17     17            2     None   \n",
       "\n",
       "   timestamp_extract  \n",
       "0         1587003092  \n",
       "\n",
       "[1 rows x 22 columns]"
      ]
     },
     "execution_count": 76,
     "metadata": {},
     "output_type": "execute_result"
    }
   ],
   "source": [
    "repositories_df.head(1)"
   ]
  },
  {
   "cell_type": "markdown",
   "metadata": {},
   "source": [
    "## Extraindo _Commits_, _Contributors_ e dados do _Owner_"
   ]
  },
  {
   "cell_type": "code",
   "execution_count": 78,
   "metadata": {},
   "outputs": [],
   "source": [
    "copy_repo = repositories_df"
   ]
  },
  {
   "cell_type": "code",
   "execution_count": 79,
   "metadata": {},
   "outputs": [],
   "source": [
    "def extract_commits(url_repo):\n",
    "    \n",
    "    commits_url = url_repo + '/commits'  \n",
    "    results = requests.get(commits_url, auth=credentials)\n",
    "    \n",
    "    if results.status_code == 409:\n",
    "        return None\n",
    "    \n",
    "    commits = len(results.json())\n",
    "\n",
    "    header = results.links\n",
    "    \n",
    "    while header.get('next', False):\n",
    "        next_url = header.get('next').get('url')        \n",
    "        results = requests.get(next_url, auth=credentials)\n",
    "        commits = commits + len(results.json())    \n",
    "        header = results.links\n",
    "\n",
    "\n",
    "    return commits"
   ]
  },
  {
   "cell_type": "code",
   "execution_count": 80,
   "metadata": {},
   "outputs": [],
   "source": [
    "def extract_contributors(url_repo):\n",
    "    \n",
    "    contributors_url = url_repo + '/contributors'\n",
    "    results = requests.get(contributors_url, auth=credentials)\n",
    "    \n",
    "    if results.status_code == 204:\n",
    "        return None\n",
    "    \n",
    "    contributors = len(results.json())\n",
    "\n",
    "    header = results.links\n",
    "    \n",
    "    while header.get('next', False):\n",
    "        next_url = header.get('next').get('url')\n",
    "        results = requests.get(next_url, auth=credentials)\n",
    "        contributors = contributors + len(results.json())\n",
    "        header = results.links\n",
    "    \n",
    "    return contributors"
   ]
  },
  {
   "cell_type": "code",
   "execution_count": 81,
   "metadata": {},
   "outputs": [],
   "source": [
    "def extract_owner_data(owner_api_url):\n",
    "    \n",
    "    results = requests.get(owner_api_url, auth=credentials)\n",
    "    data = results.json()\n",
    "\n",
    "    owner_data = {\n",
    "        'owner_location': data.get('location', None),\n",
    "        'owner_email': data.get('email', None),\n",
    "        'owner_blog': data.get('blog', None),\n",
    "        'owner_name': data.get('name', None)\n",
    "    }\n",
    "    \n",
    "    return owner_data"
   ]
  },
  {
   "cell_type": "code",
   "execution_count": 82,
   "metadata": {
    "scrolled": false
   },
   "outputs": [
    {
     "ename": "KeyboardInterrupt",
     "evalue": "",
     "output_type": "error",
     "traceback": [
      "\u001b[0;31m---------------------------------------------------------------------------\u001b[0m",
      "\u001b[0;31mKeyboardInterrupt\u001b[0m                         Traceback (most recent call last)",
      "\u001b[0;32m<timed exec>\u001b[0m in \u001b[0;36m<module>\u001b[0;34m\u001b[0m\n",
      "\u001b[0;32m<ipython-input-79-1f7da8c9d349>\u001b[0m in \u001b[0;36mextract_commits\u001b[0;34m(url_repo)\u001b[0m\n\u001b[1;32m      2\u001b[0m \u001b[0;34m\u001b[0m\u001b[0m\n\u001b[1;32m      3\u001b[0m     \u001b[0mcommits_url\u001b[0m \u001b[0;34m=\u001b[0m \u001b[0murl_repo\u001b[0m \u001b[0;34m+\u001b[0m \u001b[0;34m'/commits'\u001b[0m\u001b[0;34m\u001b[0m\u001b[0;34m\u001b[0m\u001b[0m\n\u001b[0;32m----> 4\u001b[0;31m     \u001b[0mresults\u001b[0m \u001b[0;34m=\u001b[0m \u001b[0mrequests\u001b[0m\u001b[0;34m.\u001b[0m\u001b[0mget\u001b[0m\u001b[0;34m(\u001b[0m\u001b[0mcommits_url\u001b[0m\u001b[0;34m,\u001b[0m \u001b[0mauth\u001b[0m\u001b[0;34m=\u001b[0m\u001b[0mcredentials\u001b[0m\u001b[0;34m)\u001b[0m\u001b[0;34m\u001b[0m\u001b[0;34m\u001b[0m\u001b[0m\n\u001b[0m\u001b[1;32m      5\u001b[0m \u001b[0;34m\u001b[0m\u001b[0m\n\u001b[1;32m      6\u001b[0m     \u001b[0;32mif\u001b[0m \u001b[0mresults\u001b[0m\u001b[0;34m.\u001b[0m\u001b[0mstatus_code\u001b[0m \u001b[0;34m==\u001b[0m \u001b[0;36m409\u001b[0m\u001b[0;34m:\u001b[0m\u001b[0;34m\u001b[0m\u001b[0;34m\u001b[0m\u001b[0m\n",
      "\u001b[0;32m~/anaconda3/envs/etl3.6/lib/python3.6/site-packages/requests/api.py\u001b[0m in \u001b[0;36mget\u001b[0;34m(url, params, **kwargs)\u001b[0m\n\u001b[1;32m     74\u001b[0m \u001b[0;34m\u001b[0m\u001b[0m\n\u001b[1;32m     75\u001b[0m     \u001b[0mkwargs\u001b[0m\u001b[0;34m.\u001b[0m\u001b[0msetdefault\u001b[0m\u001b[0;34m(\u001b[0m\u001b[0;34m'allow_redirects'\u001b[0m\u001b[0;34m,\u001b[0m \u001b[0;32mTrue\u001b[0m\u001b[0;34m)\u001b[0m\u001b[0;34m\u001b[0m\u001b[0;34m\u001b[0m\u001b[0m\n\u001b[0;32m---> 76\u001b[0;31m     \u001b[0;32mreturn\u001b[0m \u001b[0mrequest\u001b[0m\u001b[0;34m(\u001b[0m\u001b[0;34m'get'\u001b[0m\u001b[0;34m,\u001b[0m \u001b[0murl\u001b[0m\u001b[0;34m,\u001b[0m \u001b[0mparams\u001b[0m\u001b[0;34m=\u001b[0m\u001b[0mparams\u001b[0m\u001b[0;34m,\u001b[0m \u001b[0;34m**\u001b[0m\u001b[0mkwargs\u001b[0m\u001b[0;34m)\u001b[0m\u001b[0;34m\u001b[0m\u001b[0;34m\u001b[0m\u001b[0m\n\u001b[0m\u001b[1;32m     77\u001b[0m \u001b[0;34m\u001b[0m\u001b[0m\n\u001b[1;32m     78\u001b[0m \u001b[0;34m\u001b[0m\u001b[0m\n",
      "\u001b[0;32m~/anaconda3/envs/etl3.6/lib/python3.6/site-packages/requests/api.py\u001b[0m in \u001b[0;36mrequest\u001b[0;34m(method, url, **kwargs)\u001b[0m\n\u001b[1;32m     59\u001b[0m     \u001b[0;31m# cases, and look like a memory leak in others.\u001b[0m\u001b[0;34m\u001b[0m\u001b[0;34m\u001b[0m\u001b[0;34m\u001b[0m\u001b[0m\n\u001b[1;32m     60\u001b[0m     \u001b[0;32mwith\u001b[0m \u001b[0msessions\u001b[0m\u001b[0;34m.\u001b[0m\u001b[0mSession\u001b[0m\u001b[0;34m(\u001b[0m\u001b[0;34m)\u001b[0m \u001b[0;32mas\u001b[0m \u001b[0msession\u001b[0m\u001b[0;34m:\u001b[0m\u001b[0;34m\u001b[0m\u001b[0;34m\u001b[0m\u001b[0m\n\u001b[0;32m---> 61\u001b[0;31m         \u001b[0;32mreturn\u001b[0m \u001b[0msession\u001b[0m\u001b[0;34m.\u001b[0m\u001b[0mrequest\u001b[0m\u001b[0;34m(\u001b[0m\u001b[0mmethod\u001b[0m\u001b[0;34m=\u001b[0m\u001b[0mmethod\u001b[0m\u001b[0;34m,\u001b[0m \u001b[0murl\u001b[0m\u001b[0;34m=\u001b[0m\u001b[0murl\u001b[0m\u001b[0;34m,\u001b[0m \u001b[0;34m**\u001b[0m\u001b[0mkwargs\u001b[0m\u001b[0;34m)\u001b[0m\u001b[0;34m\u001b[0m\u001b[0;34m\u001b[0m\u001b[0m\n\u001b[0m\u001b[1;32m     62\u001b[0m \u001b[0;34m\u001b[0m\u001b[0m\n\u001b[1;32m     63\u001b[0m \u001b[0;34m\u001b[0m\u001b[0m\n",
      "\u001b[0;32m~/anaconda3/envs/etl3.6/lib/python3.6/site-packages/requests/sessions.py\u001b[0m in \u001b[0;36mrequest\u001b[0;34m(self, method, url, params, data, headers, cookies, files, auth, timeout, allow_redirects, proxies, hooks, stream, verify, cert, json)\u001b[0m\n\u001b[1;32m    528\u001b[0m         }\n\u001b[1;32m    529\u001b[0m         \u001b[0msend_kwargs\u001b[0m\u001b[0;34m.\u001b[0m\u001b[0mupdate\u001b[0m\u001b[0;34m(\u001b[0m\u001b[0msettings\u001b[0m\u001b[0;34m)\u001b[0m\u001b[0;34m\u001b[0m\u001b[0;34m\u001b[0m\u001b[0m\n\u001b[0;32m--> 530\u001b[0;31m         \u001b[0mresp\u001b[0m \u001b[0;34m=\u001b[0m \u001b[0mself\u001b[0m\u001b[0;34m.\u001b[0m\u001b[0msend\u001b[0m\u001b[0;34m(\u001b[0m\u001b[0mprep\u001b[0m\u001b[0;34m,\u001b[0m \u001b[0;34m**\u001b[0m\u001b[0msend_kwargs\u001b[0m\u001b[0;34m)\u001b[0m\u001b[0;34m\u001b[0m\u001b[0;34m\u001b[0m\u001b[0m\n\u001b[0m\u001b[1;32m    531\u001b[0m \u001b[0;34m\u001b[0m\u001b[0m\n\u001b[1;32m    532\u001b[0m         \u001b[0;32mreturn\u001b[0m \u001b[0mresp\u001b[0m\u001b[0;34m\u001b[0m\u001b[0;34m\u001b[0m\u001b[0m\n",
      "\u001b[0;32m~/anaconda3/envs/etl3.6/lib/python3.6/site-packages/requests/sessions.py\u001b[0m in \u001b[0;36msend\u001b[0;34m(self, request, **kwargs)\u001b[0m\n\u001b[1;32m    641\u001b[0m \u001b[0;34m\u001b[0m\u001b[0m\n\u001b[1;32m    642\u001b[0m         \u001b[0;31m# Send the request\u001b[0m\u001b[0;34m\u001b[0m\u001b[0;34m\u001b[0m\u001b[0;34m\u001b[0m\u001b[0m\n\u001b[0;32m--> 643\u001b[0;31m         \u001b[0mr\u001b[0m \u001b[0;34m=\u001b[0m \u001b[0madapter\u001b[0m\u001b[0;34m.\u001b[0m\u001b[0msend\u001b[0m\u001b[0;34m(\u001b[0m\u001b[0mrequest\u001b[0m\u001b[0;34m,\u001b[0m \u001b[0;34m**\u001b[0m\u001b[0mkwargs\u001b[0m\u001b[0;34m)\u001b[0m\u001b[0;34m\u001b[0m\u001b[0;34m\u001b[0m\u001b[0m\n\u001b[0m\u001b[1;32m    644\u001b[0m \u001b[0;34m\u001b[0m\u001b[0m\n\u001b[1;32m    645\u001b[0m         \u001b[0;31m# Total elapsed time of the request (approximately)\u001b[0m\u001b[0;34m\u001b[0m\u001b[0;34m\u001b[0m\u001b[0;34m\u001b[0m\u001b[0m\n",
      "\u001b[0;32m~/anaconda3/envs/etl3.6/lib/python3.6/site-packages/requests/adapters.py\u001b[0m in \u001b[0;36msend\u001b[0;34m(self, request, stream, timeout, verify, cert, proxies)\u001b[0m\n\u001b[1;32m    447\u001b[0m                     \u001b[0mdecode_content\u001b[0m\u001b[0;34m=\u001b[0m\u001b[0;32mFalse\u001b[0m\u001b[0;34m,\u001b[0m\u001b[0;34m\u001b[0m\u001b[0;34m\u001b[0m\u001b[0m\n\u001b[1;32m    448\u001b[0m                     \u001b[0mretries\u001b[0m\u001b[0;34m=\u001b[0m\u001b[0mself\u001b[0m\u001b[0;34m.\u001b[0m\u001b[0mmax_retries\u001b[0m\u001b[0;34m,\u001b[0m\u001b[0;34m\u001b[0m\u001b[0;34m\u001b[0m\u001b[0m\n\u001b[0;32m--> 449\u001b[0;31m                     \u001b[0mtimeout\u001b[0m\u001b[0;34m=\u001b[0m\u001b[0mtimeout\u001b[0m\u001b[0;34m\u001b[0m\u001b[0;34m\u001b[0m\u001b[0m\n\u001b[0m\u001b[1;32m    450\u001b[0m                 )\n\u001b[1;32m    451\u001b[0m \u001b[0;34m\u001b[0m\u001b[0m\n",
      "\u001b[0;32m~/anaconda3/envs/etl3.6/lib/python3.6/site-packages/urllib3/connectionpool.py\u001b[0m in \u001b[0;36murlopen\u001b[0;34m(self, method, url, body, headers, retries, redirect, assert_same_host, timeout, pool_timeout, release_conn, chunked, body_pos, **response_kw)\u001b[0m\n\u001b[1;32m    670\u001b[0m                 \u001b[0mbody\u001b[0m\u001b[0;34m=\u001b[0m\u001b[0mbody\u001b[0m\u001b[0;34m,\u001b[0m\u001b[0;34m\u001b[0m\u001b[0;34m\u001b[0m\u001b[0m\n\u001b[1;32m    671\u001b[0m                 \u001b[0mheaders\u001b[0m\u001b[0;34m=\u001b[0m\u001b[0mheaders\u001b[0m\u001b[0;34m,\u001b[0m\u001b[0;34m\u001b[0m\u001b[0;34m\u001b[0m\u001b[0m\n\u001b[0;32m--> 672\u001b[0;31m                 \u001b[0mchunked\u001b[0m\u001b[0;34m=\u001b[0m\u001b[0mchunked\u001b[0m\u001b[0;34m,\u001b[0m\u001b[0;34m\u001b[0m\u001b[0;34m\u001b[0m\u001b[0m\n\u001b[0m\u001b[1;32m    673\u001b[0m             )\n\u001b[1;32m    674\u001b[0m \u001b[0;34m\u001b[0m\u001b[0m\n",
      "\u001b[0;32m~/anaconda3/envs/etl3.6/lib/python3.6/site-packages/urllib3/connectionpool.py\u001b[0m in \u001b[0;36m_make_request\u001b[0;34m(self, conn, method, url, timeout, chunked, **httplib_request_kw)\u001b[0m\n\u001b[1;32m    374\u001b[0m         \u001b[0;31m# Trigger any extra validation we need to do.\u001b[0m\u001b[0;34m\u001b[0m\u001b[0;34m\u001b[0m\u001b[0;34m\u001b[0m\u001b[0m\n\u001b[1;32m    375\u001b[0m         \u001b[0;32mtry\u001b[0m\u001b[0;34m:\u001b[0m\u001b[0;34m\u001b[0m\u001b[0;34m\u001b[0m\u001b[0m\n\u001b[0;32m--> 376\u001b[0;31m             \u001b[0mself\u001b[0m\u001b[0;34m.\u001b[0m\u001b[0m_validate_conn\u001b[0m\u001b[0;34m(\u001b[0m\u001b[0mconn\u001b[0m\u001b[0;34m)\u001b[0m\u001b[0;34m\u001b[0m\u001b[0;34m\u001b[0m\u001b[0m\n\u001b[0m\u001b[1;32m    377\u001b[0m         \u001b[0;32mexcept\u001b[0m \u001b[0;34m(\u001b[0m\u001b[0mSocketTimeout\u001b[0m\u001b[0;34m,\u001b[0m \u001b[0mBaseSSLError\u001b[0m\u001b[0;34m)\u001b[0m \u001b[0;32mas\u001b[0m \u001b[0me\u001b[0m\u001b[0;34m:\u001b[0m\u001b[0;34m\u001b[0m\u001b[0;34m\u001b[0m\u001b[0m\n\u001b[1;32m    378\u001b[0m             \u001b[0;31m# Py2 raises this as a BaseSSLError, Py3 raises it as socket timeout.\u001b[0m\u001b[0;34m\u001b[0m\u001b[0;34m\u001b[0m\u001b[0;34m\u001b[0m\u001b[0m\n",
      "\u001b[0;32m~/anaconda3/envs/etl3.6/lib/python3.6/site-packages/urllib3/connectionpool.py\u001b[0m in \u001b[0;36m_validate_conn\u001b[0;34m(self, conn)\u001b[0m\n\u001b[1;32m    992\u001b[0m         \u001b[0;31m# Force connect early to allow us to validate the connection.\u001b[0m\u001b[0;34m\u001b[0m\u001b[0;34m\u001b[0m\u001b[0;34m\u001b[0m\u001b[0m\n\u001b[1;32m    993\u001b[0m         \u001b[0;32mif\u001b[0m \u001b[0;32mnot\u001b[0m \u001b[0mgetattr\u001b[0m\u001b[0;34m(\u001b[0m\u001b[0mconn\u001b[0m\u001b[0;34m,\u001b[0m \u001b[0;34m\"sock\"\u001b[0m\u001b[0;34m,\u001b[0m \u001b[0;32mNone\u001b[0m\u001b[0;34m)\u001b[0m\u001b[0;34m:\u001b[0m  \u001b[0;31m# AppEngine might not have  `.sock`\u001b[0m\u001b[0;34m\u001b[0m\u001b[0;34m\u001b[0m\u001b[0m\n\u001b[0;32m--> 994\u001b[0;31m             \u001b[0mconn\u001b[0m\u001b[0;34m.\u001b[0m\u001b[0mconnect\u001b[0m\u001b[0;34m(\u001b[0m\u001b[0;34m)\u001b[0m\u001b[0;34m\u001b[0m\u001b[0;34m\u001b[0m\u001b[0m\n\u001b[0m\u001b[1;32m    995\u001b[0m \u001b[0;34m\u001b[0m\u001b[0m\n\u001b[1;32m    996\u001b[0m         \u001b[0;32mif\u001b[0m \u001b[0;32mnot\u001b[0m \u001b[0mconn\u001b[0m\u001b[0;34m.\u001b[0m\u001b[0mis_verified\u001b[0m\u001b[0;34m:\u001b[0m\u001b[0;34m\u001b[0m\u001b[0;34m\u001b[0m\u001b[0m\n",
      "\u001b[0;32m~/anaconda3/envs/etl3.6/lib/python3.6/site-packages/urllib3/connection.py\u001b[0m in \u001b[0;36mconnect\u001b[0;34m(self)\u001b[0m\n\u001b[1;32m    298\u001b[0m     \u001b[0;32mdef\u001b[0m \u001b[0mconnect\u001b[0m\u001b[0;34m(\u001b[0m\u001b[0mself\u001b[0m\u001b[0;34m)\u001b[0m\u001b[0;34m:\u001b[0m\u001b[0;34m\u001b[0m\u001b[0;34m\u001b[0m\u001b[0m\n\u001b[1;32m    299\u001b[0m         \u001b[0;31m# Add certificate verification\u001b[0m\u001b[0;34m\u001b[0m\u001b[0;34m\u001b[0m\u001b[0;34m\u001b[0m\u001b[0m\n\u001b[0;32m--> 300\u001b[0;31m         \u001b[0mconn\u001b[0m \u001b[0;34m=\u001b[0m \u001b[0mself\u001b[0m\u001b[0;34m.\u001b[0m\u001b[0m_new_conn\u001b[0m\u001b[0;34m(\u001b[0m\u001b[0;34m)\u001b[0m\u001b[0;34m\u001b[0m\u001b[0;34m\u001b[0m\u001b[0m\n\u001b[0m\u001b[1;32m    301\u001b[0m         \u001b[0mhostname\u001b[0m \u001b[0;34m=\u001b[0m \u001b[0mself\u001b[0m\u001b[0;34m.\u001b[0m\u001b[0mhost\u001b[0m\u001b[0;34m\u001b[0m\u001b[0;34m\u001b[0m\u001b[0m\n\u001b[1;32m    302\u001b[0m \u001b[0;34m\u001b[0m\u001b[0m\n",
      "\u001b[0;32m~/anaconda3/envs/etl3.6/lib/python3.6/site-packages/urllib3/connection.py\u001b[0m in \u001b[0;36m_new_conn\u001b[0;34m(self)\u001b[0m\n\u001b[1;32m    155\u001b[0m         \u001b[0;32mtry\u001b[0m\u001b[0;34m:\u001b[0m\u001b[0;34m\u001b[0m\u001b[0;34m\u001b[0m\u001b[0m\n\u001b[1;32m    156\u001b[0m             conn = connection.create_connection(\n\u001b[0;32m--> 157\u001b[0;31m                 \u001b[0;34m(\u001b[0m\u001b[0mself\u001b[0m\u001b[0;34m.\u001b[0m\u001b[0m_dns_host\u001b[0m\u001b[0;34m,\u001b[0m \u001b[0mself\u001b[0m\u001b[0;34m.\u001b[0m\u001b[0mport\u001b[0m\u001b[0;34m)\u001b[0m\u001b[0;34m,\u001b[0m \u001b[0mself\u001b[0m\u001b[0;34m.\u001b[0m\u001b[0mtimeout\u001b[0m\u001b[0;34m,\u001b[0m \u001b[0;34m**\u001b[0m\u001b[0mextra_kw\u001b[0m\u001b[0;34m\u001b[0m\u001b[0;34m\u001b[0m\u001b[0m\n\u001b[0m\u001b[1;32m    158\u001b[0m             )\n\u001b[1;32m    159\u001b[0m \u001b[0;34m\u001b[0m\u001b[0m\n",
      "\u001b[0;32m~/anaconda3/envs/etl3.6/lib/python3.6/site-packages/urllib3/util/connection.py\u001b[0m in \u001b[0;36mcreate_connection\u001b[0;34m(address, timeout, source_address, socket_options)\u001b[0m\n\u001b[1;32m     72\u001b[0m             \u001b[0;32mif\u001b[0m \u001b[0msource_address\u001b[0m\u001b[0;34m:\u001b[0m\u001b[0;34m\u001b[0m\u001b[0;34m\u001b[0m\u001b[0m\n\u001b[1;32m     73\u001b[0m                 \u001b[0msock\u001b[0m\u001b[0;34m.\u001b[0m\u001b[0mbind\u001b[0m\u001b[0;34m(\u001b[0m\u001b[0msource_address\u001b[0m\u001b[0;34m)\u001b[0m\u001b[0;34m\u001b[0m\u001b[0;34m\u001b[0m\u001b[0m\n\u001b[0;32m---> 74\u001b[0;31m             \u001b[0msock\u001b[0m\u001b[0;34m.\u001b[0m\u001b[0mconnect\u001b[0m\u001b[0;34m(\u001b[0m\u001b[0msa\u001b[0m\u001b[0;34m)\u001b[0m\u001b[0;34m\u001b[0m\u001b[0;34m\u001b[0m\u001b[0m\n\u001b[0m\u001b[1;32m     75\u001b[0m             \u001b[0;32mreturn\u001b[0m \u001b[0msock\u001b[0m\u001b[0;34m\u001b[0m\u001b[0;34m\u001b[0m\u001b[0m\n\u001b[1;32m     76\u001b[0m \u001b[0;34m\u001b[0m\u001b[0m\n",
      "\u001b[0;31mKeyboardInterrupt\u001b[0m: "
     ]
    }
   ],
   "source": [
    "%%time\n",
    "urls = repositories_df['api_url']\n",
    "\n",
    "for url in urls:\n",
    "\n",
    "    owner_api_url = repositories_df.loc[repositories_df[\"api_url\"] == url]['owner_api_url'].item()\n",
    "    owner_data = extract_owner_data(owner_api_url)\n",
    "    commits = extract_commits(url)\n",
    "    contributors = extract_contributors(url)\n",
    "    \n",
    "    logging.info(\"Repositório: {0}\".format(url))\n",
    "    logging.info(\"Tem {0} Commits - {1} Contributors\".format(commits,contributors))\n",
    "    logging.info(\"Owner location: {0}\".format(owner_data.get('owner_location')))\n",
    "\n",
    "    repositories_df.loc[repositories_df[\"api_url\"] == url, 'commits'] = commits\n",
    "    repositories_df.loc[repositories_df[\"api_url\"] == url, 'contributors'] = contributors\n",
    "    repositories_df.loc[repositories_df[\"api_url\"] == url, 'owner_location'] = owner_data.get('owner_location')\n",
    "    repositories_df.loc[repositories_df[\"api_url\"] == url, 'owner_email'] = owner_data.get('owner_email')\n",
    "    repositories_df.loc[repositories_df[\"api_url\"] == url, 'owner_blog'] = owner_data.get('owner_blog')\n",
    "    repositories_df.loc[repositories_df[\"api_url\"] == url, 'owner_name'] = owner_data.get('owner_name')"
   ]
  },
  {
   "cell_type": "markdown",
   "metadata": {},
   "source": [
    "Agora devemos ter mais 6 colunas"
   ]
  },
  {
   "cell_type": "code",
   "execution_count": null,
   "metadata": {},
   "outputs": [],
   "source": [
    "len(repositories_df.columns)"
   ]
  },
  {
   "cell_type": "code",
   "execution_count": null,
   "metadata": {},
   "outputs": [],
   "source": [
    "repositories_df.head(3)"
   ]
  },
  {
   "cell_type": "markdown",
   "metadata": {},
   "source": [
    "Conferindo valores nulos"
   ]
  },
  {
   "cell_type": "code",
   "execution_count": null,
   "metadata": {},
   "outputs": [],
   "source": [
    "len(repositories_df.loc[repositories_df['commits'].isnull()][['api_url', 'commits', 'contributors']])"
   ]
  },
  {
   "cell_type": "markdown",
   "metadata": {},
   "source": [
    "Alguns repositórios realmente não tem nenhum commit como o [ccdpoa/ocida](https://github.com/ccdpoa/ocida)."
   ]
  },
  {
   "cell_type": "code",
   "execution_count": null,
   "metadata": {},
   "outputs": [],
   "source": [
    "repositories_df.loc[repositories_df['contributors'].isnull()][['id', 'url', 'api_url', 'commits', 'contributors']]"
   ]
  },
  {
   "cell_type": "code",
   "execution_count": null,
   "metadata": {},
   "outputs": [],
   "source": [
    "repositories_df = repositories_df.loc[repositories_df['contributors'].notnull()]\n",
    "len(repositories_df)"
   ]
  },
  {
   "cell_type": "markdown",
   "metadata": {},
   "source": [
    "Salvando os repositórios"
   ]
  },
  {
   "cell_type": "code",
   "execution_count": null,
   "metadata": {},
   "outputs": [],
   "source": [
    "repositories_df.to_csv('../data/repositories_edu.csv', index=False)"
   ]
  },
  {
   "cell_type": "markdown",
   "metadata": {},
   "source": [
    "## Extraindo contribuidores dos repositórios"
   ]
  },
  {
   "cell_type": "code",
   "execution_count": null,
   "metadata": {},
   "outputs": [],
   "source": [
    "def get_contributors(data, repo_data):\n",
    "\n",
    "    list_contributors = []\n",
    "\n",
    "    for item in data:        \n",
    "        contributor = {\n",
    "            'repo_id': repo_data.get('repo_id', None),\n",
    "            'repo_name': repo_data.get('repo_name', None),\n",
    "            'repo_url': repo_data.get('repo_url', None),\n",
    "            'repo_api_url': repo_data.get('repo_api_url', None),\n",
    "            'contributor_id': item.get('id', None),\n",
    "            'contributor_login': item.get('login', None),\n",
    "            'contributor_type': item.get('type', None),\n",
    "            'contributor_url': item.get('html_url', None),\n",
    "            'contributor_api_url': item.get('url', None),\n",
    "            'timestamp_extract': str(time.time()).split('.')[0]\n",
    "        }\n",
    "\n",
    "        list_contributors.append(contributor)\n",
    "\n",
    "    return list_contributors"
   ]
  },
  {
   "cell_type": "code",
   "execution_count": null,
   "metadata": {},
   "outputs": [],
   "source": [
    "def scroll_contributors(url, repo_data):\n",
    "\n",
    "    list_contributors = []\n",
    "    results = requests.get(url, auth=credentials)\n",
    "    \n",
    "    if results.status_code is 204:\n",
    "        return None\n",
    "    \n",
    "    data = results.json()\n",
    "    list_contributors = get_contributors(data, repo_data)\n",
    "    header = results.links\n",
    "    \n",
    "    while header.get('next', False):\n",
    "        \n",
    "        next_url = header.get('next').get('url')            \n",
    "        results = requests.get(next_url, auth=credentials)\n",
    "        data = results.json()\n",
    "        list_contributors = list_contributors + get_contributors(data, repo_data)  \n",
    "        header = results.links\n",
    "        \n",
    "    return list_contributors"
   ]
  },
  {
   "cell_type": "code",
   "execution_count": null,
   "metadata": {},
   "outputs": [],
   "source": [
    "def search_contributors(repositories_df):\n",
    "    \n",
    "    urls = repositories_df['api_url']\n",
    "    list_contributors_all_repo = []\n",
    "    \n",
    "    for url in urls:\n",
    "        logging.info('Extraindo contribuidores de: {0}'.format(url))\n",
    "        \n",
    "        repo_data = {\n",
    "                'repo_id': repositories_df.loc[repositories_df[\"api_url\"] == url, 'id'].values[0],\n",
    "                'repo_name': repositories_df.loc[repositories_df[\"api_url\"] == url, 'full_name'].values[0],\n",
    "                'repo_url': repositories_df.loc[repositories_df[\"api_url\"] == url, 'url'].values[0],\n",
    "                'repo_api_url': url,\n",
    "            }\n",
    "        \n",
    "        url_contributors = url + '/contributors'        \n",
    "        contributors = scroll_contributors(url_contributors, repo_data)\n",
    "        \n",
    "        if contributors:\n",
    "            list_contributors_all_repo = list_contributors_all_repo + contributors\n",
    "    \n",
    "    contributors_df = pd.DataFrame(list_contributors_all_repo)     \n",
    "        \n",
    "    return contributors_df"
   ]
  },
  {
   "cell_type": "code",
   "execution_count": null,
   "metadata": {},
   "outputs": [],
   "source": [
    "%%time\n",
    "contributors_df = search_contributors(repositories_df)"
   ]
  },
  {
   "cell_type": "code",
   "execution_count": null,
   "metadata": {},
   "outputs": [],
   "source": [
    "contributors_df.head(3)"
   ]
  },
  {
   "cell_type": "markdown",
   "metadata": {},
   "source": [
    "Verificando se há contribuidores repetidos para um mesmo repositório."
   ]
  },
  {
   "cell_type": "code",
   "execution_count": null,
   "metadata": {},
   "outputs": [],
   "source": [
    "contributors_df[contributors_df.duplicated(['contributor_id', 'repo_id'])]"
   ]
  },
  {
   "cell_type": "markdown",
   "metadata": {},
   "source": [
    "Salvando dataframe com mapeamento de repositórios e contribuidores."
   ]
  },
  {
   "cell_type": "code",
   "execution_count": null,
   "metadata": {},
   "outputs": [],
   "source": [
    "contributors_df.to_csv('../data/contributors_edu.csv', index=False)"
   ]
  }
 ],
 "metadata": {
  "kernelspec": {
   "display_name": "Python 3",
   "language": "python",
   "name": "python3"
  },
  "language_info": {
   "codemirror_mode": {
    "name": "ipython",
    "version": 3
   },
   "file_extension": ".py",
   "mimetype": "text/x-python",
   "name": "python",
   "nbconvert_exporter": "python",
   "pygments_lexer": "ipython3",
   "version": "3.6.10"
  }
 },
 "nbformat": 4,
 "nbformat_minor": 2
}
