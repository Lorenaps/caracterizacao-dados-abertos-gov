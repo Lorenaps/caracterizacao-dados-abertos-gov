{
 "cells": [
  {
   "cell_type": "markdown",
   "metadata": {},
   "source": [
    "# Extração de dados do Github\n",
    "\n",
    "Pesquisaremos por iniciativas/projetos que utilizam Dados Abertos Governamentais através da [API do Github](https://developer.github.com/v3/)\n",
    "\n",
    "A partir das apontamentos feitos na qualificação desse projeto de pesquisa, entendemos que caracterizar toda a comunidade que utiliza dados abertos governamentais é um escopo muito abrangente e de difícil validação.\n",
    "A ideia é reduzir esse escopo para assim poder avaliar melhor os seus resultados, por exemplo verificar se os projetos referências nessas áreas aparecem nos repositórios extraídos no Github.\n",
    "\n",
    "Vamos testar a extração de repositórios para os contextos de educação e saúde."
   ]
  },
  {
   "cell_type": "code",
   "execution_count": 1,
   "metadata": {},
   "outputs": [],
   "source": [
    "import requests\n",
    "import pandas as pd\n",
    "import time\n",
    "import logging"
   ]
  },
  {
   "cell_type": "markdown",
   "metadata": {},
   "source": [
    "As principais palavras chaves usadas por [met]() são análise, portal, publicação, consumir juntamente a dados abertos governamentais ou do governo."
   ]
  },
  {
   "cell_type": "code",
   "execution_count": 20,
   "metadata": {},
   "outputs": [],
   "source": [
    "strings_edu = [\n",
    "    'dados educacao',\n",
    "    'dados educacao basica',\n",
    "    'dados educacionais',\n",
    "    'analise educacao',\n",
    "    'analise educacao basica',\n",
    "    'analise educacional',\n",
    "    'censo educacao superior',\n",
    "    'dados educacao superior',\n",
    "    'analise educacao superior',\n",
    "    'censo profissionais magistério',\n",
    "    'dados profissionais magistério',\n",
    "    'analise profissionais magistério',\n",
    "    'censo escolar',\n",
    "    'dados escola inep',\n",
    "    'dados enade',\n",
    "    'analise enade',\n",
    "    'dados encceja',\n",
    "    'analise encceja',\n",
    "    'dados enem',\n",
    "    'analise enem',\n",
    "    'enem por escola',\n",
    "    'dados prova brasil',\n",
    "    'analise prova brasil',    \n",
    "    'dados ideb',\n",
    "    'indicadores educacionais',\n",
    "    'dados ies',\n",
    "    'analise ies',    \n",
    "    'dados inep',\n",
    "    'analise inep',\n",
    "    'microdados inep'\n",
    "]"
   ]
  },
  {
   "cell_type": "code",
   "execution_count": 3,
   "metadata": {},
   "outputs": [],
   "source": [
    "strings_saude = [\n",
    "    'dados sus',\n",
    "    'dados saúde',\n",
    "    'dados saude da mulher',\n",
    "]"
   ]
  },
  {
   "cell_type": "markdown",
   "metadata": {},
   "source": [
    "Configuração para gerar arquivo de log"
   ]
  },
  {
   "cell_type": "code",
   "execution_count": 4,
   "metadata": {},
   "outputs": [],
   "source": [
    "logging.basicConfig(level=logging.DEBUG, \n",
    "                    filename=\"log_file.txt\", \n",
    "                    filemode=\"a+\",\n",
    "                    format=\"%(asctime)s - %(levelname)s - %(funcName)s - %(message)s\")\n",
    "\n",
    "logging.info(\"Extração de dados do Github\")"
   ]
  },
  {
   "cell_type": "code",
   "execution_count": 5,
   "metadata": {},
   "outputs": [],
   "source": [
    "first_search_strings = [\n",
    "            'dados abertos',\n",
    "            'dados abertos brasil',\n",
    "            'dados abertos governo',\n",
    "            'dados abertos governamentais',\n",
    "            'dados governamentais',\n",
    "            'dados publicos abertos',\n",
    "            'dados do governo',\n",
    "            'analise de dados do governo',\n",
    "            'analise de dados governamentais',\n",
    "            'portal de dados do governo',\n",
    "            'portal de dados governamentais',\n",
    "            'portal publico do governo',\n",
    "            'portal de dados abertos do governo',\n",
    "        ]"
   ]
  },
  {
   "cell_type": "markdown",
   "metadata": {},
   "source": [
    "Para a acesso a alguns recursos da API do github é preciso se autenticar, como aumentar o limite de requisições. Informações sobre autenticação podem ser encontradas [aqui](https://developer.github.com/v3/#authentication)."
   ]
  },
  {
   "cell_type": "code",
   "execution_count": 8,
   "metadata": {},
   "outputs": [],
   "source": [
    "credentials = ('<user_name>','<token>')"
   ]
  },
  {
   "cell_type": "markdown",
   "metadata": {},
   "source": [
    "Limite de requisições sem autenticação"
   ]
  },
  {
   "cell_type": "code",
   "execution_count": 9,
   "metadata": {
    "scrolled": true
   },
   "outputs": [
    {
     "data": {
      "text/plain": [
       "{'resources': {'core': {'limit': 60, 'remaining': 60, 'reset': 1587002412},\n",
       "  'graphql': {'limit': 0, 'remaining': 0, 'reset': 1587002412},\n",
       "  'integration_manifest': {'limit': 5000,\n",
       "   'remaining': 5000,\n",
       "   'reset': 1587002412},\n",
       "  'search': {'limit': 10, 'remaining': 10, 'reset': 1586998872}},\n",
       " 'rate': {'limit': 60, 'remaining': 60, 'reset': 1587002412}}"
      ]
     },
     "execution_count": 9,
     "metadata": {},
     "output_type": "execute_result"
    }
   ],
   "source": [
    "t = requests.get('https://api.github.com/rate_limit')\n",
    "t.json()"
   ]
  },
  {
   "cell_type": "markdown",
   "metadata": {},
   "source": [
    "Limite de requisições com autenticação"
   ]
  },
  {
   "cell_type": "code",
   "execution_count": 10,
   "metadata": {},
   "outputs": [
    {
     "data": {
      "text/plain": [
       "{'resources': {'core': {'limit': 5000, 'remaining': 5000, 'reset': 1587002418},\n",
       "  'search': {'limit': 30, 'remaining': 30, 'reset': 1586998878},\n",
       "  'graphql': {'limit': 5000, 'remaining': 5000, 'reset': 1587002418},\n",
       "  'integration_manifest': {'limit': 5000,\n",
       "   'remaining': 5000,\n",
       "   'reset': 1587002418},\n",
       "  'source_import': {'limit': 100, 'remaining': 100, 'reset': 1586998878}},\n",
       " 'rate': {'limit': 5000, 'remaining': 5000, 'reset': 1587002418}}"
      ]
     },
     "execution_count": 10,
     "metadata": {},
     "output_type": "execute_result"
    }
   ],
   "source": [
    "t = requests.get('https://api.github.com/rate_limit', auth=credentials)\n",
    "t.json()"
   ]
  },
  {
   "cell_type": "markdown",
   "metadata": {},
   "source": [
    "Verificando limitação de extração de dados da API"
   ]
  },
  {
   "cell_type": "code",
   "execution_count": 11,
   "metadata": {},
   "outputs": [
    {
     "data": {
      "text/plain": [
       "{'message': 'Only the first 1000 search results are available',\n",
       " 'documentation_url': 'https://developer.github.com/v3/search/'}"
      ]
     },
     "execution_count": 11,
     "metadata": {},
     "output_type": "execute_result"
    }
   ],
   "source": [
    "page_35 = 'https://api.github.com/search/repositories?q=stars%3A%3E1&sort=stars&order=desc&page=35'\n",
    "t = requests.get(page_35, auth=credentials)\n",
    "t.json()"
   ]
  },
  {
   "cell_type": "markdown",
   "metadata": {},
   "source": [
    "Informações sobre a ferramenta de pesquisa da API podem ser encontradas [aqui](https://developer.github.com/v3/search/)"
   ]
  },
  {
   "cell_type": "code",
   "execution_count": 12,
   "metadata": {},
   "outputs": [],
   "source": [
    "url_base = 'https://api.github.com/search/repositories?q='"
   ]
  },
  {
   "cell_type": "markdown",
   "metadata": {},
   "source": [
    "Podemos adicionar uma ordenação nos resultados, como quantidade de _stars_ de forma descrescente."
   ]
  },
  {
   "cell_type": "code",
   "execution_count": 13,
   "metadata": {},
   "outputs": [],
   "source": [
    "sort = '&sort=stars&order=desc'"
   ]
  },
  {
   "cell_type": "markdown",
   "metadata": {},
   "source": [
    "## Extraindo informações gerais"
   ]
  },
  {
   "cell_type": "code",
   "execution_count": 14,
   "metadata": {},
   "outputs": [],
   "source": [
    "def extract_results(data):\n",
    "    \n",
    "    items_list = []\n",
    "    \n",
    "    for item in data.get('items', None):\n",
    "        \n",
    "        \n",
    "        item_dict = {\n",
    "                'id': item.get('id'),\n",
    "                'full_name': item.get('full_name', None),\n",
    "                'description': item.get('description', None),      \n",
    "                'owner_type': item.get('owner').get('type', None),\n",
    "                'owner_api_url': item.get('owner').get('url', None),\n",
    "                'owner_url': item.get('owner').get('html_url', None),\n",
    "                'api_url': item.get('url', None),\n",
    "                'url': item.get('html_url', None),\n",
    "                'fork': item.get('fork', None),\n",
    "                'created_at': item.get('created_at', None),\n",
    "                'updated_at': item.get('updated_at', None),\n",
    "                'pushed_at': item.get('pushed_at', None),\n",
    "                'size': item.get('size', None),\n",
    "                'stargazers_count': item.get('stargazers_count', None),\n",
    "                'language': item.get('language', None),\n",
    "                'has_issues': item.get('has_issues', None),\n",
    "                'has_wiki': item.get('has_wiki', None),\n",
    "                'forks_count': item.get('forks_count', None),\n",
    "                'forks': item.get('forks', None),\n",
    "                'open_issues': item.get('open_issues', None),\n",
    "                'license': item.get('license').get('name', None) if item.get('license', None) else None,\n",
    "                'timestamp_extract': str(time.time()).split('.')[0]\n",
    "        }\n",
    "\n",
    "        items_list.append(item_dict)\n",
    "            \n",
    "    return items_list"
   ]
  },
  {
   "cell_type": "code",
   "execution_count": 15,
   "metadata": {},
   "outputs": [],
   "source": [
    "def scroll_pages(url):\n",
    "        \n",
    "    results = requests.get(url, auth=credentials)    \n",
    "    data = results.json()\n",
    "    total = data.get('total_count', None)\n",
    "        \n",
    "    logging.info(\"Foram encontrados {0} resultados. Extraindo...\".format(total))\n",
    "        \n",
    "    items_list = []\n",
    "    items_list = extract_results(data)\n",
    "        \n",
    "    iterations = total // 30 \n",
    "    \n",
    "    for iteracao in range(0, iterations):        \n",
    "        header = results.links\n",
    "        \n",
    "        if header.get('next', False):\n",
    "            next_url = header.get('next').get('url')\n",
    "                        \n",
    "            results = requests.get(next_url, auth=credentials)\n",
    "            data = results.json()\n",
    "            \n",
    "            items_list = items_list + extract_results(data)\n",
    "    \n",
    "    return items_list"
   ]
  },
  {
   "cell_type": "code",
   "execution_count": 23,
   "metadata": {
    "scrolled": false
   },
   "outputs": [
    {
     "name": "stdout",
     "output_type": "stream",
     "text": [
      "Palavra chave:  dados educacao  - Resultados encontrados:  61\n",
      "Palavra chave:  dados educacao basica  - Resultados encontrados:  5\n",
      "Palavra chave:  dados educacionais  - Resultados encontrados:  28\n",
      "Palavra chave:  analise educacao  - Resultados encontrados:  52\n",
      "Palavra chave:  analise educacao basica  - Resultados encontrados:  5\n",
      "Palavra chave:  analise educacional  - Resultados encontrados:  11\n",
      "Palavra chave:  censo educacao superior  - Resultados encontrados:  5\n",
      "Palavra chave:  dados educacao superior  - Resultados encontrados:  5\n",
      "Palavra chave:  analise educacao superior  - Resultados encontrados:  9\n",
      "Palavra chave:  censo profissionais magistério  - Resultados encontrados:  0\n",
      "Palavra chave:  dados profissionais magistério  - Resultados encontrados:  0\n",
      "Palavra chave:  analise profissionais magistério  - Resultados encontrados:  0\n",
      "Palavra chave:  censo escolar  - Resultados encontrados:  20\n",
      "Palavra chave:  dados escola inep  - Resultados encontrados:  9\n",
      "Palavra chave:  dados enade  - Resultados encontrados:  17\n"
     ]
    },
    {
     "ename": "TypeError",
     "evalue": "'NoneType' object is not iterable",
     "output_type": "error",
     "traceback": [
      "\u001b[0;31m---------------------------------------------------------------------------\u001b[0m",
      "\u001b[0;31mTypeError\u001b[0m                                 Traceback (most recent call last)",
      "\u001b[0;32m<timed exec>\u001b[0m in \u001b[0;36m<module>\u001b[0;34m\u001b[0m\n",
      "\u001b[0;32m<ipython-input-15-dc32c44f4cd6>\u001b[0m in \u001b[0;36mscroll_pages\u001b[0;34m(url)\u001b[0m\n\u001b[1;32m      8\u001b[0m \u001b[0;34m\u001b[0m\u001b[0m\n\u001b[1;32m      9\u001b[0m     \u001b[0mitems_list\u001b[0m \u001b[0;34m=\u001b[0m \u001b[0;34m[\u001b[0m\u001b[0;34m]\u001b[0m\u001b[0;34m\u001b[0m\u001b[0;34m\u001b[0m\u001b[0m\n\u001b[0;32m---> 10\u001b[0;31m     \u001b[0mitems_list\u001b[0m \u001b[0;34m=\u001b[0m \u001b[0mextract_results\u001b[0m\u001b[0;34m(\u001b[0m\u001b[0mdata\u001b[0m\u001b[0;34m)\u001b[0m\u001b[0;34m\u001b[0m\u001b[0;34m\u001b[0m\u001b[0m\n\u001b[0m\u001b[1;32m     11\u001b[0m \u001b[0;34m\u001b[0m\u001b[0m\n\u001b[1;32m     12\u001b[0m     \u001b[0miterations\u001b[0m \u001b[0;34m=\u001b[0m \u001b[0mtotal\u001b[0m \u001b[0;34m//\u001b[0m \u001b[0;36m30\u001b[0m\u001b[0;34m\u001b[0m\u001b[0;34m\u001b[0m\u001b[0m\n",
      "\u001b[0;32m<ipython-input-14-a8df502e5cff>\u001b[0m in \u001b[0;36mextract_results\u001b[0;34m(data)\u001b[0m\n\u001b[1;32m      3\u001b[0m     \u001b[0mitems_list\u001b[0m \u001b[0;34m=\u001b[0m \u001b[0;34m[\u001b[0m\u001b[0;34m]\u001b[0m\u001b[0;34m\u001b[0m\u001b[0;34m\u001b[0m\u001b[0m\n\u001b[1;32m      4\u001b[0m \u001b[0;34m\u001b[0m\u001b[0m\n\u001b[0;32m----> 5\u001b[0;31m     \u001b[0;32mfor\u001b[0m \u001b[0mitem\u001b[0m \u001b[0;32min\u001b[0m \u001b[0mdata\u001b[0m\u001b[0;34m.\u001b[0m\u001b[0mget\u001b[0m\u001b[0;34m(\u001b[0m\u001b[0;34m'items'\u001b[0m\u001b[0;34m,\u001b[0m \u001b[0;32mNone\u001b[0m\u001b[0;34m)\u001b[0m\u001b[0;34m:\u001b[0m\u001b[0;34m\u001b[0m\u001b[0;34m\u001b[0m\u001b[0m\n\u001b[0m\u001b[1;32m      6\u001b[0m \u001b[0;34m\u001b[0m\u001b[0m\n\u001b[1;32m      7\u001b[0m \u001b[0;34m\u001b[0m\u001b[0m\n",
      "\u001b[0;31mTypeError\u001b[0m: 'NoneType' object is not iterable"
     ]
    }
   ],
   "source": [
    "%%time\n",
    "\n",
    "items_list = []\n",
    "repositories_df = None\n",
    "\n",
    "for string in strings_edu:\n",
    "    url = url_base + string + sort\n",
    "    \n",
    "    logging.info(\"Pesquisando repositórios para a string: '{0}'\".format(string))\n",
    "    \n",
    "    results = scroll_pages(url)\n",
    "    items_list = items_list + results\n",
    "    print('Palavra chave: ', string, ' - Resultados encontrados: ', len(results))\n",
    "        \n",
    "repositories_df = pd.DataFrame(items_list)"
   ]
  },
  {
   "cell_type": "code",
   "execution_count": 17,
   "metadata": {},
   "outputs": [
    {
     "ename": "AttributeError",
     "evalue": "'NoneType' object has no attribute 'head'",
     "output_type": "error",
     "traceback": [
      "\u001b[0;31m---------------------------------------------------------------------------\u001b[0m",
      "\u001b[0;31mAttributeError\u001b[0m                            Traceback (most recent call last)",
      "\u001b[0;32m<ipython-input-17-678692ad1078>\u001b[0m in \u001b[0;36m<module>\u001b[0;34m\u001b[0m\n\u001b[0;32m----> 1\u001b[0;31m \u001b[0mrepositories_df\u001b[0m\u001b[0;34m.\u001b[0m\u001b[0mhead\u001b[0m\u001b[0;34m(\u001b[0m\u001b[0;36m3\u001b[0m\u001b[0;34m)\u001b[0m\u001b[0;34m\u001b[0m\u001b[0;34m\u001b[0m\u001b[0m\n\u001b[0m",
      "\u001b[0;31mAttributeError\u001b[0m: 'NoneType' object has no attribute 'head'"
     ]
    }
   ],
   "source": [
    "repositories_df.head(3)"
   ]
  },
  {
   "cell_type": "markdown",
   "metadata": {},
   "source": [
    "Quantidade de resultados:"
   ]
  },
  {
   "cell_type": "code",
   "execution_count": null,
   "metadata": {},
   "outputs": [],
   "source": [
    "len(repositories_df)"
   ]
  },
  {
   "cell_type": "markdown",
   "metadata": {},
   "source": [
    "Retirando registros duplicados visto que palavras de busca diferentes podem levar a um mesmo repositório."
   ]
  },
  {
   "cell_type": "code",
   "execution_count": null,
   "metadata": {},
   "outputs": [],
   "source": [
    "repositories_df = repositories_df.drop_duplicates(['id', 'api_url'])"
   ]
  },
  {
   "cell_type": "code",
   "execution_count": null,
   "metadata": {},
   "outputs": [],
   "source": [
    "len(repositories_df)"
   ]
  },
  {
   "cell_type": "code",
   "execution_count": null,
   "metadata": {
    "scrolled": true
   },
   "outputs": [],
   "source": [
    "repositories_df.describe()"
   ]
  },
  {
   "cell_type": "markdown",
   "metadata": {},
   "source": [
    "Quantidade de colunas:"
   ]
  },
  {
   "cell_type": "code",
   "execution_count": null,
   "metadata": {},
   "outputs": [],
   "source": [
    "len(repositories_df.columns)"
   ]
  },
  {
   "cell_type": "code",
   "execution_count": null,
   "metadata": {
    "scrolled": true
   },
   "outputs": [],
   "source": [
    "repositories_df = repositories_df.sort_values('stargazers_count', ascending=False)"
   ]
  },
  {
   "cell_type": "code",
   "execution_count": null,
   "metadata": {},
   "outputs": [],
   "source": [
    "repositories_df.head(1)"
   ]
  },
  {
   "cell_type": "markdown",
   "metadata": {},
   "source": [
    "## Extraindo _Commits_, _Contributors_ e dados do _Owner_"
   ]
  },
  {
   "cell_type": "code",
   "execution_count": null,
   "metadata": {},
   "outputs": [],
   "source": [
    "repo_copia = repositories_df"
   ]
  },
  {
   "cell_type": "code",
   "execution_count": null,
   "metadata": {},
   "outputs": [],
   "source": [
    "def extract_commits(url_repo):\n",
    "    \n",
    "    commits_url = url_repo + '/commits'  \n",
    "    results = requests.get(commits_url, auth=credentials)\n",
    "    \n",
    "    if results.status_code == 409:\n",
    "        return None\n",
    "    \n",
    "    commits = len(results.json())\n",
    "\n",
    "    header = results.links\n",
    "    \n",
    "    while header.get('next', False):\n",
    "        next_url = header.get('next').get('url')        \n",
    "        results = requests.get(next_url, auth=credentials)\n",
    "        commits = commits + len(results.json())    \n",
    "        header = results.links\n",
    "\n",
    "\n",
    "    return commits"
   ]
  },
  {
   "cell_type": "code",
   "execution_count": null,
   "metadata": {},
   "outputs": [],
   "source": [
    "def extract_contributors(url_repo):\n",
    "    \n",
    "    contributors_url = url_repo + '/contributors'\n",
    "    results = requests.get(contributors_url, auth=credentials)\n",
    "    \n",
    "    if results.status_code == 204:\n",
    "        return None\n",
    "    \n",
    "    contributors = len(results.json())\n",
    "\n",
    "    header = results.links\n",
    "    \n",
    "    while header.get('next', False):\n",
    "        next_url = header.get('next').get('url')\n",
    "        results = requests.get(next_url, auth=credentials)\n",
    "        contributors = contributors + len(results.json())\n",
    "        header = results.links\n",
    "    \n",
    "    return contributors"
   ]
  },
  {
   "cell_type": "code",
   "execution_count": null,
   "metadata": {},
   "outputs": [],
   "source": [
    "def extract_owner_data(owner_api_url):\n",
    "    \n",
    "    results = requests.get(owner_api_url, auth=credentials)\n",
    "    data = results.json()\n",
    "\n",
    "    owner_data = {\n",
    "        'owner_location': data.get('location', None),\n",
    "        'owner_email': data.get('email', None),\n",
    "        'owner_blog': data.get('blog', None),\n",
    "        'owner_name': data.get('name', None)\n",
    "    }\n",
    "    \n",
    "    return owner_data"
   ]
  },
  {
   "cell_type": "code",
   "execution_count": null,
   "metadata": {
    "scrolled": false
   },
   "outputs": [],
   "source": [
    "%%time\n",
    "urls = repositories_df['api_url']\n",
    "\n",
    "for url in urls:\n",
    "\n",
    "    owner_api_url = repositories_df.loc[repositories_df[\"api_url\"] == url]['owner_api_url'].item()\n",
    "    owner_data = extract_owner_data(owner_api_url)\n",
    "    commits = extract_commits(url)\n",
    "    contributors = extract_contributors(url)\n",
    "    \n",
    "    logging.info(\"Repositório: {0}\".format(url))\n",
    "    logging.info(\"Tem {0} Commits - {1} Contributors\".format(commits,contributors))\n",
    "    logging.info(\"Owner location: {0}\".format(owner_data.get('owner_location')))\n",
    "\n",
    "    repositories_df.loc[repositories_df[\"api_url\"] == url, 'commits'] = commits\n",
    "    repositories_df.loc[repositories_df[\"api_url\"] == url, 'contributors'] = contributors\n",
    "    repositories_df.loc[repositories_df[\"api_url\"] == url, 'owner_location'] = owner_data.get('owner_location')\n",
    "    repositories_df.loc[repositories_df[\"api_url\"] == url, 'owner_email'] = owner_data.get('owner_email')\n",
    "    repositories_df.loc[repositories_df[\"api_url\"] == url, 'owner_blog'] = owner_data.get('owner_blog')\n",
    "    repositories_df.loc[repositories_df[\"api_url\"] == url, 'owner_name'] = owner_data.get('owner_name')"
   ]
  },
  {
   "cell_type": "markdown",
   "metadata": {},
   "source": [
    "Agora devemos ter mais 6 colunas"
   ]
  },
  {
   "cell_type": "code",
   "execution_count": null,
   "metadata": {},
   "outputs": [],
   "source": [
    "len(repositories_df.columns)"
   ]
  },
  {
   "cell_type": "code",
   "execution_count": null,
   "metadata": {},
   "outputs": [],
   "source": [
    "repositories_df.head(3)"
   ]
  },
  {
   "cell_type": "markdown",
   "metadata": {},
   "source": [
    "Conferindo valores nulos"
   ]
  },
  {
   "cell_type": "code",
   "execution_count": null,
   "metadata": {},
   "outputs": [],
   "source": [
    "len(repositories_df.loc[repositories_df['commits'].isnull()][['api_url', 'commits', 'contributors']])"
   ]
  },
  {
   "cell_type": "markdown",
   "metadata": {},
   "source": [
    "Alguns repositórios realmente não tem nenhum commit como o [ccdpoa/ocida](https://github.com/ccdpoa/ocida)."
   ]
  },
  {
   "cell_type": "code",
   "execution_count": null,
   "metadata": {},
   "outputs": [],
   "source": [
    "repositories_df.loc[repositories_df['contributors'].isnull()][['id', 'url', 'api_url', 'commits', 'contributors']]"
   ]
  },
  {
   "cell_type": "code",
   "execution_count": null,
   "metadata": {},
   "outputs": [],
   "source": [
    "repositories_df = repositories_df.loc[repositories_df['contributors'].notnull()]\n",
    "len(repositories_df)"
   ]
  },
  {
   "cell_type": "markdown",
   "metadata": {},
   "source": [
    "Salvando os repositórios"
   ]
  },
  {
   "cell_type": "code",
   "execution_count": null,
   "metadata": {},
   "outputs": [],
   "source": [
    "repositories_df.to_csv('../data/repositories_edu.csv', index=False)"
   ]
  },
  {
   "cell_type": "markdown",
   "metadata": {},
   "source": [
    "## Extraindo contribuidores dos repositórios"
   ]
  },
  {
   "cell_type": "code",
   "execution_count": null,
   "metadata": {},
   "outputs": [],
   "source": [
    "def get_contributors(data, repo_data):\n",
    "\n",
    "    list_contributors = []\n",
    "\n",
    "    for item in data:        \n",
    "        contributor = {\n",
    "            'repo_id': repo_data.get('repo_id', None),\n",
    "            'repo_name': repo_data.get('repo_name', None),\n",
    "            'repo_url': repo_data.get('repo_url', None),\n",
    "            'repo_api_url': repo_data.get('repo_api_url', None),\n",
    "            'contributor_id': item.get('id', None),\n",
    "            'contributor_login': item.get('login', None),\n",
    "            'contributor_type': item.get('type', None),\n",
    "            'contributor_url': item.get('html_url', None),\n",
    "            'contributor_api_url': item.get('url', None),\n",
    "            'timestamp_extract': str(time.time()).split('.')[0]\n",
    "        }\n",
    "\n",
    "        list_contributors.append(contributor)\n",
    "\n",
    "    return list_contributors"
   ]
  },
  {
   "cell_type": "code",
   "execution_count": null,
   "metadata": {},
   "outputs": [],
   "source": [
    "def scroll_contributors(url, repo_data):\n",
    "\n",
    "    list_contributors = []\n",
    "    results = requests.get(url, auth=credentials)\n",
    "    \n",
    "    if results.status_code is 204:\n",
    "        return None\n",
    "    \n",
    "    data = results.json()\n",
    "    list_contributors = get_contributors(data, repo_data)\n",
    "    header = results.links\n",
    "    \n",
    "    while header.get('next', False):\n",
    "        \n",
    "        next_url = header.get('next').get('url')            \n",
    "        results = requests.get(next_url, auth=credentials)\n",
    "        data = results.json()\n",
    "        list_contributors = list_contributors + get_contributors(data, repo_data)  \n",
    "        header = results.links\n",
    "        \n",
    "    return list_contributors"
   ]
  },
  {
   "cell_type": "code",
   "execution_count": null,
   "metadata": {},
   "outputs": [],
   "source": [
    "def search_contributors(repositories_df):\n",
    "    \n",
    "    urls = repositories_df['api_url']\n",
    "    list_contributors_all_repo = []\n",
    "    \n",
    "    for url in urls:\n",
    "        logging.info('Extraindo contribuidores de: {0}'.format(url))\n",
    "        \n",
    "        repo_data = {\n",
    "                'repo_id': repositories_df.loc[repositories_df[\"api_url\"] == url, 'id'].values[0],\n",
    "                'repo_name': repositories_df.loc[repositories_df[\"api_url\"] == url, 'full_name'].values[0],\n",
    "                'repo_url': repositories_df.loc[repositories_df[\"api_url\"] == url, 'url'].values[0],\n",
    "                'repo_api_url': url,\n",
    "            }\n",
    "        \n",
    "        url_contributors = url + '/contributors'        \n",
    "        contributors = scroll_contributors(url_contributors, repo_data)\n",
    "        \n",
    "        if contributors:\n",
    "            list_contributors_all_repo = list_contributors_all_repo + contributors\n",
    "    \n",
    "    contributors_df = pd.DataFrame(list_contributors_all_repo)     \n",
    "        \n",
    "    return contributors_df"
   ]
  },
  {
   "cell_type": "code",
   "execution_count": null,
   "metadata": {},
   "outputs": [],
   "source": [
    "%%time\n",
    "contributors_df = search_contributors(repositories_df)"
   ]
  },
  {
   "cell_type": "code",
   "execution_count": null,
   "metadata": {},
   "outputs": [],
   "source": [
    "contributors_df.head(3)"
   ]
  },
  {
   "cell_type": "markdown",
   "metadata": {},
   "source": [
    "Verificando se há contribuidores repetidos para um mesmo repositório."
   ]
  },
  {
   "cell_type": "code",
   "execution_count": null,
   "metadata": {},
   "outputs": [],
   "source": [
    "contributors_df[contributors_df.duplicated(['contributor_id', 'repo_id'])]"
   ]
  },
  {
   "cell_type": "markdown",
   "metadata": {},
   "source": [
    "Salvando dataframe com mapeamento de repositórios e contribuidores."
   ]
  },
  {
   "cell_type": "code",
   "execution_count": null,
   "metadata": {},
   "outputs": [],
   "source": [
    "contributors_df.to_csv('../data/contributors_edu.csv', index=False)"
   ]
  }
 ],
 "metadata": {
  "kernelspec": {
   "display_name": "Python 3",
   "language": "python",
   "name": "python3"
  },
  "language_info": {
   "codemirror_mode": {
    "name": "ipython",
    "version": 3
   },
   "file_extension": ".py",
   "mimetype": "text/x-python",
   "name": "python",
   "nbconvert_exporter": "python",
   "pygments_lexer": "ipython3",
   "version": "3.6.10"
  }
 },
 "nbformat": 4,
 "nbformat_minor": 2
}
