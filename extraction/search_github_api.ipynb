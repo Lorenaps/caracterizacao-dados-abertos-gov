{
 "cells": [
  {
   "cell_type": "markdown",
   "metadata": {},
   "source": [
    "# Extração de dados do Github\n",
    "\n",
    "Pesquisando por iniciativas/projetos que utilizam Dados Abertos Governamentais através da [API do Github](https://developer.github.com/v3/)"
   ]
  },
  {
   "cell_type": "code",
   "execution_count": 1,
   "metadata": {},
   "outputs": [],
   "source": [
    "import requests\n",
    "import pandas as pd\n",
    "import time\n",
    "import logging"
   ]
  },
  {
   "cell_type": "markdown",
   "metadata": {},
   "source": [
    "Configuração para gerar arquivo de log"
   ]
  },
  {
   "cell_type": "code",
   "execution_count": 2,
   "metadata": {},
   "outputs": [],
   "source": [
    "logging.basicConfig(level=logging.DEBUG, \n",
    "                    filename=\"log_file.txt\", \n",
    "                    filemode=\"a+\",\n",
    "                    format=\"%(asctime)s - %(levelname)s - %(funcName)s - %(message)s\")\n",
    "\n",
    "logging.info(\"Extração de dados do Github\")"
   ]
  },
  {
   "cell_type": "code",
   "execution_count": 3,
   "metadata": {},
   "outputs": [],
   "source": [
    "search_strings = [\n",
    "            'dados abertos',\n",
    "            'dados abertos brasil',\n",
    "            'dados abertos governo',\n",
    "            'dados abertos governamentais',\n",
    "            'dados governamentais',\n",
    "            'dados publicos abertos',\n",
    "            'dados do governo',\n",
    "            'analise de dados do governo',\n",
    "            'analise de dados governamentais',\n",
    "            'portal de dados do governo',\n",
    "            'portal de dados governamentais',\n",
    "            'portal publico do governo',\n",
    "            'portal de dados abertos do governo',\n",
    "        ]"
   ]
  },
  {
   "cell_type": "markdown",
   "metadata": {},
   "source": [
    "Para a acesso a alguns recursos da API do github é preciso se autenticar, como aumentar o limite de requisições. Informações sobre autenticação podem ser encontradas [aqui](https://developer.github.com/v3/#authentication)."
   ]
  },
  {
   "cell_type": "code",
   "execution_count": 5,
   "metadata": {},
   "outputs": [],
   "source": [
    "credentials = ('<user_name>','<token>')"
   ]
  },
  {
   "cell_type": "markdown",
   "metadata": {},
   "source": [
    "Limite de requisições sem autenticação"
   ]
  },
  {
   "cell_type": "code",
   "execution_count": 6,
   "metadata": {
    "scrolled": true
   },
   "outputs": [
    {
     "data": {
      "text/plain": [
       "{'rate': {'limit': 60, 'remaining': 58, 'reset': 1580332669},\n",
       " 'resources': {'core': {'limit': 60, 'remaining': 58, 'reset': 1580332669},\n",
       "  'graphql': {'limit': 0, 'remaining': 0, 'reset': 1580334748},\n",
       "  'integration_manifest': {'limit': 5000,\n",
       "   'remaining': 5000,\n",
       "   'reset': 1580334748},\n",
       "  'search': {'limit': 10, 'remaining': 10, 'reset': 1580331208},\n",
       "  'source_import': {'limit': 5, 'remaining': 5, 'reset': 1580331208}}}"
      ]
     },
     "execution_count": 6,
     "metadata": {},
     "output_type": "execute_result"
    }
   ],
   "source": [
    "t = requests.get('https://api.github.com/rate_limit')\n",
    "t.json()"
   ]
  },
  {
   "cell_type": "markdown",
   "metadata": {},
   "source": [
    "Limite de requisições com autenticação"
   ]
  },
  {
   "cell_type": "code",
   "execution_count": 7,
   "metadata": {},
   "outputs": [
    {
     "data": {
      "text/plain": [
       "{'rate': {'limit': 5000, 'remaining': 5000, 'reset': 1580334752},\n",
       " 'resources': {'core': {'limit': 5000, 'remaining': 5000, 'reset': 1580334752},\n",
       "  'graphql': {'limit': 5000, 'remaining': 5000, 'reset': 1580334752},\n",
       "  'integration_manifest': {'limit': 5000,\n",
       "   'remaining': 5000,\n",
       "   'reset': 1580334752},\n",
       "  'search': {'limit': 30, 'remaining': 30, 'reset': 1580331212},\n",
       "  'source_import': {'limit': 100, 'remaining': 100, 'reset': 1580331212}}}"
      ]
     },
     "execution_count": 7,
     "metadata": {},
     "output_type": "execute_result"
    }
   ],
   "source": [
    "t = requests.get('https://api.github.com/rate_limit', auth=credentials)\n",
    "t.json()"
   ]
  },
  {
   "cell_type": "markdown",
   "metadata": {},
   "source": [
    "Verificando limitação de extração de dados da API"
   ]
  },
  {
   "cell_type": "code",
   "execution_count": 8,
   "metadata": {},
   "outputs": [
    {
     "data": {
      "text/plain": [
       "{'documentation_url': 'https://developer.github.com/v3/search/',\n",
       " 'message': 'Only the first 1000 search results are available'}"
      ]
     },
     "execution_count": 8,
     "metadata": {},
     "output_type": "execute_result"
    }
   ],
   "source": [
    "page_35 = 'https://api.github.com/search/repositories?q=stars%3A%3E1&sort=stars&order=desc&page=35'\n",
    "t = requests.get(page_35, auth=credentials)\n",
    "t.json()"
   ]
  },
  {
   "cell_type": "markdown",
   "metadata": {},
   "source": [
    "Informações sobre a ferramenta de pesquisa da API podem ser encontradas [aqui](https://developer.github.com/v3/search/)"
   ]
  },
  {
   "cell_type": "code",
   "execution_count": 9,
   "metadata": {},
   "outputs": [],
   "source": [
    "url_base = 'https://api.github.com/search/repositories?q='"
   ]
  },
  {
   "cell_type": "markdown",
   "metadata": {},
   "source": [
    "Podemos adicionar uma ordenação nos resultados, como quantidade de _stars_ de forma descrescente."
   ]
  },
  {
   "cell_type": "code",
   "execution_count": 10,
   "metadata": {},
   "outputs": [],
   "source": [
    "sort = '&sort=stars&order=desc'"
   ]
  },
  {
   "cell_type": "markdown",
   "metadata": {},
   "source": [
    "## Extraindo informações gerais"
   ]
  },
  {
   "cell_type": "code",
   "execution_count": 11,
   "metadata": {},
   "outputs": [],
   "source": [
    "def extract_results(data):\n",
    "    \n",
    "    items_list = []\n",
    "    \n",
    "    for item in data.get('items', None):\n",
    "        \n",
    "        \n",
    "        item_dict = {\n",
    "                'id': item.get('id'),\n",
    "                'full_name': item.get('full_name', None),\n",
    "                'description': item.get('description', None),      \n",
    "                'owner_type': item.get('owner').get('type', None),\n",
    "                'owner_api_url': item.get('owner').get('url', None),\n",
    "                'owner_url': item.get('owner').get('html_url', None),\n",
    "                'api_url': item.get('url', None),\n",
    "                'url': item.get('html_url', None),\n",
    "                'fork': item.get('fork', None),\n",
    "                'created_at': item.get('created_at', None),\n",
    "                'updated_at': item.get('updated_at', None),\n",
    "                'pushed_at': item.get('pushed_at', None),\n",
    "                'size': item.get('size', None),\n",
    "                'stargazers_count': item.get('stargazers_count', None),\n",
    "                'language': item.get('language', None),\n",
    "                'has_issues': item.get('has_issues', None),\n",
    "                'has_wiki': item.get('has_wiki', None),\n",
    "                'forks_count': item.get('forks_count', None),\n",
    "                'forks': item.get('forks', None),\n",
    "                'open_issues': item.get('open_issues', None),\n",
    "                'license': item.get('license').get('name', None) if item.get('license', None) else None,\n",
    "                'timestamp_extract': str(time.time()).split('.')[0]\n",
    "        }\n",
    "\n",
    "        items_list.append(item_dict)\n",
    "            \n",
    "    return items_list"
   ]
  },
  {
   "cell_type": "code",
   "execution_count": 14,
   "metadata": {},
   "outputs": [],
   "source": [
    "def scroll_pages(url):\n",
    "        \n",
    "    results = requests.get(url, auth=credentials)    \n",
    "    data = results.json()\n",
    "    total = data.get('total_count', None)\n",
    "        \n",
    "    logging.info(\"Foram encontrados {0} resultados. Extraindo...\".format(total))\n",
    "        \n",
    "    items_list = []\n",
    "    items_list = extract_results(data)\n",
    "        \n",
    "    iterations = total // 30 \n",
    "    \n",
    "    for iteracao in range(0, iterations):        \n",
    "        header = results.links\n",
    "        \n",
    "        if header.get('next', False):\n",
    "            next_url = header.get('next').get('url')\n",
    "                        \n",
    "            results = requests.get(next_url, auth=credentials)\n",
    "            data = results.json()\n",
    "            \n",
    "            items_list = items_list + extract_results(data)\n",
    "    \n",
    "    return items_list"
   ]
  },
  {
   "cell_type": "code",
   "execution_count": 15,
   "metadata": {
    "scrolled": false
   },
   "outputs": [
    {
     "name": "stdout",
     "output_type": "stream",
     "text": [
      "CPU times: user 845 ms, sys: 52 ms, total: 897 ms\n",
      "Wall time: 42.5 s\n"
     ]
    }
   ],
   "source": [
    "%%time\n",
    "\n",
    "items_list = []\n",
    "repositories_df = None\n",
    "\n",
    "for string in search_strings:\n",
    "    url = url_base + string + sort\n",
    "    \n",
    "    logging.info(\"Pesquisando repositórios para a string: '{0}'\".format(string))\n",
    "    \n",
    "    items_list = items_list + scroll_pages(url)\n",
    "        \n",
    "repositories_df = pd.DataFrame(items_list)"
   ]
  },
  {
   "cell_type": "markdown",
   "metadata": {},
   "source": [
    "Quantidade de resultados:"
   ]
  },
  {
   "cell_type": "code",
   "execution_count": 17,
   "metadata": {},
   "outputs": [
    {
     "data": {
      "text/plain": [
       "608"
      ]
     },
     "execution_count": 17,
     "metadata": {},
     "output_type": "execute_result"
    }
   ],
   "source": [
    "len(repositories_df)"
   ]
  },
  {
   "cell_type": "markdown",
   "metadata": {},
   "source": [
    "Retirando registros duplicados visto que palavras de busca diferentes podem levar a um mesmo repositório."
   ]
  },
  {
   "cell_type": "code",
   "execution_count": 18,
   "metadata": {},
   "outputs": [],
   "source": [
    "repositories_df = repositories_df.drop_duplicates(['id', 'api_url'])"
   ]
  },
  {
   "cell_type": "code",
   "execution_count": 20,
   "metadata": {},
   "outputs": [
    {
     "data": {
      "text/plain": [
       "445"
      ]
     },
     "execution_count": 20,
     "metadata": {},
     "output_type": "execute_result"
    }
   ],
   "source": [
    "len(repositories_df)"
   ]
  },
  {
   "cell_type": "code",
   "execution_count": 21,
   "metadata": {
    "scrolled": true
   },
   "outputs": [
    {
     "data": {
      "text/html": [
       "<div>\n",
       "<style scoped>\n",
       "    .dataframe tbody tr th:only-of-type {\n",
       "        vertical-align: middle;\n",
       "    }\n",
       "\n",
       "    .dataframe tbody tr th {\n",
       "        vertical-align: top;\n",
       "    }\n",
       "\n",
       "    .dataframe thead th {\n",
       "        text-align: right;\n",
       "    }\n",
       "</style>\n",
       "<table border=\"1\" class=\"dataframe\">\n",
       "  <thead>\n",
       "    <tr style=\"text-align: right;\">\n",
       "      <th></th>\n",
       "      <th>forks</th>\n",
       "      <th>forks_count</th>\n",
       "      <th>id</th>\n",
       "      <th>open_issues</th>\n",
       "      <th>size</th>\n",
       "      <th>stargazers_count</th>\n",
       "    </tr>\n",
       "  </thead>\n",
       "  <tbody>\n",
       "    <tr>\n",
       "      <th>count</th>\n",
       "      <td>445.000000</td>\n",
       "      <td>445.000000</td>\n",
       "      <td>4.450000e+02</td>\n",
       "      <td>445.000000</td>\n",
       "      <td>445.000000</td>\n",
       "      <td>445.000000</td>\n",
       "    </tr>\n",
       "    <tr>\n",
       "      <th>mean</th>\n",
       "      <td>0.802247</td>\n",
       "      <td>0.802247</td>\n",
       "      <td>1.177623e+08</td>\n",
       "      <td>0.961798</td>\n",
       "      <td>9735.101124</td>\n",
       "      <td>2.752809</td>\n",
       "    </tr>\n",
       "    <tr>\n",
       "      <th>std</th>\n",
       "      <td>3.333760</td>\n",
       "      <td>3.333760</td>\n",
       "      <td>6.839166e+07</td>\n",
       "      <td>10.072524</td>\n",
       "      <td>42848.278656</td>\n",
       "      <td>12.182435</td>\n",
       "    </tr>\n",
       "    <tr>\n",
       "      <th>min</th>\n",
       "      <td>0.000000</td>\n",
       "      <td>0.000000</td>\n",
       "      <td>8.131150e+05</td>\n",
       "      <td>0.000000</td>\n",
       "      <td>0.000000</td>\n",
       "      <td>0.000000</td>\n",
       "    </tr>\n",
       "    <tr>\n",
       "      <th>25%</th>\n",
       "      <td>0.000000</td>\n",
       "      <td>0.000000</td>\n",
       "      <td>5.619471e+07</td>\n",
       "      <td>0.000000</td>\n",
       "      <td>23.000000</td>\n",
       "      <td>0.000000</td>\n",
       "    </tr>\n",
       "    <tr>\n",
       "      <th>50%</th>\n",
       "      <td>0.000000</td>\n",
       "      <td>0.000000</td>\n",
       "      <td>1.245913e+08</td>\n",
       "      <td>0.000000</td>\n",
       "      <td>350.000000</td>\n",
       "      <td>0.000000</td>\n",
       "    </tr>\n",
       "    <tr>\n",
       "      <th>75%</th>\n",
       "      <td>0.000000</td>\n",
       "      <td>0.000000</td>\n",
       "      <td>1.713274e+08</td>\n",
       "      <td>0.000000</td>\n",
       "      <td>3295.000000</td>\n",
       "      <td>1.000000</td>\n",
       "    </tr>\n",
       "    <tr>\n",
       "      <th>max</th>\n",
       "      <td>44.000000</td>\n",
       "      <td>44.000000</td>\n",
       "      <td>2.365434e+08</td>\n",
       "      <td>209.000000</td>\n",
       "      <td>555527.000000</td>\n",
       "      <td>141.000000</td>\n",
       "    </tr>\n",
       "  </tbody>\n",
       "</table>\n",
       "</div>"
      ],
      "text/plain": [
       "            forks  forks_count            id  open_issues           size  \\\n",
       "count  445.000000   445.000000  4.450000e+02   445.000000     445.000000   \n",
       "mean     0.802247     0.802247  1.177623e+08     0.961798    9735.101124   \n",
       "std      3.333760     3.333760  6.839166e+07    10.072524   42848.278656   \n",
       "min      0.000000     0.000000  8.131150e+05     0.000000       0.000000   \n",
       "25%      0.000000     0.000000  5.619471e+07     0.000000      23.000000   \n",
       "50%      0.000000     0.000000  1.245913e+08     0.000000     350.000000   \n",
       "75%      0.000000     0.000000  1.713274e+08     0.000000    3295.000000   \n",
       "max     44.000000    44.000000  2.365434e+08   209.000000  555527.000000   \n",
       "\n",
       "       stargazers_count  \n",
       "count        445.000000  \n",
       "mean           2.752809  \n",
       "std           12.182435  \n",
       "min            0.000000  \n",
       "25%            0.000000  \n",
       "50%            0.000000  \n",
       "75%            1.000000  \n",
       "max          141.000000  "
      ]
     },
     "execution_count": 21,
     "metadata": {},
     "output_type": "execute_result"
    }
   ],
   "source": [
    "repositories_df.describe()"
   ]
  },
  {
   "cell_type": "markdown",
   "metadata": {},
   "source": [
    "Quantidade de colunas:"
   ]
  },
  {
   "cell_type": "code",
   "execution_count": 22,
   "metadata": {},
   "outputs": [
    {
     "data": {
      "text/plain": [
       "22"
      ]
     },
     "execution_count": 22,
     "metadata": {},
     "output_type": "execute_result"
    }
   ],
   "source": [
    "len(repositories_df.columns)"
   ]
  },
  {
   "cell_type": "code",
   "execution_count": 25,
   "metadata": {
    "scrolled": true
   },
   "outputs": [
    {
     "data": {
      "text/html": [
       "<div>\n",
       "<style scoped>\n",
       "    .dataframe tbody tr th:only-of-type {\n",
       "        vertical-align: middle;\n",
       "    }\n",
       "\n",
       "    .dataframe tbody tr th {\n",
       "        vertical-align: top;\n",
       "    }\n",
       "\n",
       "    .dataframe thead th {\n",
       "        text-align: right;\n",
       "    }\n",
       "</style>\n",
       "<table border=\"1\" class=\"dataframe\">\n",
       "  <thead>\n",
       "    <tr style=\"text-align: right;\">\n",
       "      <th></th>\n",
       "      <th>api_url</th>\n",
       "      <th>created_at</th>\n",
       "      <th>description</th>\n",
       "      <th>fork</th>\n",
       "      <th>forks</th>\n",
       "      <th>forks_count</th>\n",
       "      <th>full_name</th>\n",
       "      <th>has_issues</th>\n",
       "      <th>has_wiki</th>\n",
       "      <th>id</th>\n",
       "      <th>...</th>\n",
       "      <th>open_issues</th>\n",
       "      <th>owner_api_url</th>\n",
       "      <th>owner_type</th>\n",
       "      <th>owner_url</th>\n",
       "      <th>pushed_at</th>\n",
       "      <th>size</th>\n",
       "      <th>stargazers_count</th>\n",
       "      <th>timestamp_extract</th>\n",
       "      <th>updated_at</th>\n",
       "      <th>url</th>\n",
       "    </tr>\n",
       "  </thead>\n",
       "  <tbody>\n",
       "    <tr>\n",
       "      <th>0</th>\n",
       "      <td>https://api.github.com/repos/CamaraDosDeputado...</td>\n",
       "      <td>2015-01-14T17:32:49Z</td>\n",
       "      <td>Repositório do serviço de Dados Abertos da Câm...</td>\n",
       "      <td>False</td>\n",
       "      <td>7</td>\n",
       "      <td>7</td>\n",
       "      <td>CamaraDosDeputados/dados-abertos</td>\n",
       "      <td>True</td>\n",
       "      <td>True</td>\n",
       "      <td>29256552</td>\n",
       "      <td>...</td>\n",
       "      <td>209</td>\n",
       "      <td>https://api.github.com/users/CamaraDosDeputados</td>\n",
       "      <td>Organization</td>\n",
       "      <td>https://github.com/CamaraDosDeputados</td>\n",
       "      <td>2019-12-13T15:13:19Z</td>\n",
       "      <td>34007</td>\n",
       "      <td>141</td>\n",
       "      <td>1580331534</td>\n",
       "      <td>2020-01-23T14:21:59Z</td>\n",
       "      <td>https://github.com/CamaraDosDeputados/dados-ab...</td>\n",
       "    </tr>\n",
       "    <tr>\n",
       "      <th>1</th>\n",
       "      <td>https://api.github.com/repos/dadosgovbr/catalo...</td>\n",
       "      <td>2015-07-17T14:02:34Z</td>\n",
       "      <td>Mapeamento de iniciativas (e catálogos) de dad...</td>\n",
       "      <td>False</td>\n",
       "      <td>40</td>\n",
       "      <td>40</td>\n",
       "      <td>dadosgovbr/catalogos-dados-brasil</td>\n",
       "      <td>True</td>\n",
       "      <td>True</td>\n",
       "      <td>39256926</td>\n",
       "      <td>...</td>\n",
       "      <td>1</td>\n",
       "      <td>https://api.github.com/users/dadosgovbr</td>\n",
       "      <td>Organization</td>\n",
       "      <td>https://github.com/dadosgovbr</td>\n",
       "      <td>2019-12-02T18:58:47Z</td>\n",
       "      <td>91</td>\n",
       "      <td>139</td>\n",
       "      <td>1580331534</td>\n",
       "      <td>2020-01-19T19:44:00Z</td>\n",
       "      <td>https://github.com/dadosgovbr/catalogos-dados-...</td>\n",
       "    </tr>\n",
       "    <tr>\n",
       "      <th>2</th>\n",
       "      <td>https://api.github.com/repos/prefeiturasp/dado...</td>\n",
       "      <td>2016-11-10T13:35:40Z</td>\n",
       "      <td>Análises e tutoriais das bases de dados aberto...</td>\n",
       "      <td>False</td>\n",
       "      <td>18</td>\n",
       "      <td>18</td>\n",
       "      <td>prefeiturasp/dados-educacao</td>\n",
       "      <td>True</td>\n",
       "      <td>True</td>\n",
       "      <td>73385196</td>\n",
       "      <td>...</td>\n",
       "      <td>1</td>\n",
       "      <td>https://api.github.com/users/prefeiturasp</td>\n",
       "      <td>Organization</td>\n",
       "      <td>https://github.com/prefeiturasp</td>\n",
       "      <td>2019-10-02T18:43:26Z</td>\n",
       "      <td>2737</td>\n",
       "      <td>48</td>\n",
       "      <td>1580331534</td>\n",
       "      <td>2019-08-17T00:49:49Z</td>\n",
       "      <td>https://github.com/prefeiturasp/dados-educacao</td>\n",
       "    </tr>\n",
       "    <tr>\n",
       "      <th>3</th>\n",
       "      <td>https://api.github.com/repos/dadosgovbr/aplica...</td>\n",
       "      <td>2016-01-15T13:29:14Z</td>\n",
       "      <td>Mapeamento de aplicativos e visualizações que ...</td>\n",
       "      <td>False</td>\n",
       "      <td>9</td>\n",
       "      <td>9</td>\n",
       "      <td>dadosgovbr/aplicativos-dados-brasil</td>\n",
       "      <td>True</td>\n",
       "      <td>True</td>\n",
       "      <td>49720381</td>\n",
       "      <td>...</td>\n",
       "      <td>1</td>\n",
       "      <td>https://api.github.com/users/dadosgovbr</td>\n",
       "      <td>Organization</td>\n",
       "      <td>https://github.com/dadosgovbr</td>\n",
       "      <td>2019-08-30T02:07:18Z</td>\n",
       "      <td>2357</td>\n",
       "      <td>48</td>\n",
       "      <td>1580331534</td>\n",
       "      <td>2019-06-16T17:26:35Z</td>\n",
       "      <td>https://github.com/dadosgovbr/aplicativos-dado...</td>\n",
       "    </tr>\n",
       "    <tr>\n",
       "      <th>4</th>\n",
       "      <td>https://api.github.com/repos/mapaslivres/local...</td>\n",
       "      <td>2015-04-24T19:50:16Z</td>\n",
       "      <td>Dados em formato aberto sobre municípios e uni...</td>\n",
       "      <td>False</td>\n",
       "      <td>13</td>\n",
       "      <td>13</td>\n",
       "      <td>mapaslivres/localidades</td>\n",
       "      <td>True</td>\n",
       "      <td>False</td>\n",
       "      <td>34538558</td>\n",
       "      <td>...</td>\n",
       "      <td>6</td>\n",
       "      <td>https://api.github.com/users/mapaslivres</td>\n",
       "      <td>Organization</td>\n",
       "      <td>https://github.com/mapaslivres</td>\n",
       "      <td>2018-12-25T11:09:43Z</td>\n",
       "      <td>6357</td>\n",
       "      <td>41</td>\n",
       "      <td>1580331534</td>\n",
       "      <td>2019-12-11T15:03:40Z</td>\n",
       "      <td>https://github.com/mapaslivres/localidades</td>\n",
       "    </tr>\n",
       "  </tbody>\n",
       "</table>\n",
       "<p>5 rows × 22 columns</p>\n",
       "</div>"
      ],
      "text/plain": [
       "                                             api_url            created_at  \\\n",
       "0  https://api.github.com/repos/CamaraDosDeputado...  2015-01-14T17:32:49Z   \n",
       "1  https://api.github.com/repos/dadosgovbr/catalo...  2015-07-17T14:02:34Z   \n",
       "2  https://api.github.com/repos/prefeiturasp/dado...  2016-11-10T13:35:40Z   \n",
       "3  https://api.github.com/repos/dadosgovbr/aplica...  2016-01-15T13:29:14Z   \n",
       "4  https://api.github.com/repos/mapaslivres/local...  2015-04-24T19:50:16Z   \n",
       "\n",
       "                                         description   fork  forks  \\\n",
       "0  Repositório do serviço de Dados Abertos da Câm...  False      7   \n",
       "1  Mapeamento de iniciativas (e catálogos) de dad...  False     40   \n",
       "2  Análises e tutoriais das bases de dados aberto...  False     18   \n",
       "3  Mapeamento de aplicativos e visualizações que ...  False      9   \n",
       "4  Dados em formato aberto sobre municípios e uni...  False     13   \n",
       "\n",
       "   forks_count                            full_name  has_issues  has_wiki  \\\n",
       "0            7     CamaraDosDeputados/dados-abertos        True      True   \n",
       "1           40    dadosgovbr/catalogos-dados-brasil        True      True   \n",
       "2           18          prefeiturasp/dados-educacao        True      True   \n",
       "3            9  dadosgovbr/aplicativos-dados-brasil        True      True   \n",
       "4           13              mapaslivres/localidades        True     False   \n",
       "\n",
       "         id                        ...                         open_issues  \\\n",
       "0  29256552                        ...                                 209   \n",
       "1  39256926                        ...                                   1   \n",
       "2  73385196                        ...                                   1   \n",
       "3  49720381                        ...                                   1   \n",
       "4  34538558                        ...                                   6   \n",
       "\n",
       "                                     owner_api_url    owner_type  \\\n",
       "0  https://api.github.com/users/CamaraDosDeputados  Organization   \n",
       "1          https://api.github.com/users/dadosgovbr  Organization   \n",
       "2        https://api.github.com/users/prefeiturasp  Organization   \n",
       "3          https://api.github.com/users/dadosgovbr  Organization   \n",
       "4         https://api.github.com/users/mapaslivres  Organization   \n",
       "\n",
       "                               owner_url             pushed_at   size  \\\n",
       "0  https://github.com/CamaraDosDeputados  2019-12-13T15:13:19Z  34007   \n",
       "1          https://github.com/dadosgovbr  2019-12-02T18:58:47Z     91   \n",
       "2        https://github.com/prefeiturasp  2019-10-02T18:43:26Z   2737   \n",
       "3          https://github.com/dadosgovbr  2019-08-30T02:07:18Z   2357   \n",
       "4         https://github.com/mapaslivres  2018-12-25T11:09:43Z   6357   \n",
       "\n",
       "  stargazers_count  timestamp_extract            updated_at  \\\n",
       "0              141         1580331534  2020-01-23T14:21:59Z   \n",
       "1              139         1580331534  2020-01-19T19:44:00Z   \n",
       "2               48         1580331534  2019-08-17T00:49:49Z   \n",
       "3               48         1580331534  2019-06-16T17:26:35Z   \n",
       "4               41         1580331534  2019-12-11T15:03:40Z   \n",
       "\n",
       "                                                 url  \n",
       "0  https://github.com/CamaraDosDeputados/dados-ab...  \n",
       "1  https://github.com/dadosgovbr/catalogos-dados-...  \n",
       "2     https://github.com/prefeiturasp/dados-educacao  \n",
       "3  https://github.com/dadosgovbr/aplicativos-dado...  \n",
       "4         https://github.com/mapaslivres/localidades  \n",
       "\n",
       "[5 rows x 22 columns]"
      ]
     },
     "execution_count": 25,
     "metadata": {},
     "output_type": "execute_result"
    }
   ],
   "source": [
    "repositories_df.head()"
   ]
  },
  {
   "cell_type": "markdown",
   "metadata": {},
   "source": [
    "## Extraindo _Commits_, _Contributors_ e dados do _Owner_"
   ]
  },
  {
   "cell_type": "code",
   "execution_count": 26,
   "metadata": {},
   "outputs": [],
   "source": [
    "repo_copia = repositories_df"
   ]
  },
  {
   "cell_type": "code",
   "execution_count": 27,
   "metadata": {},
   "outputs": [],
   "source": [
    "def extract_commits(url_repo):\n",
    "    \n",
    "    commits_url = url_repo + '/commits'  \n",
    "    results = requests.get(commits_url, auth=credentials)\n",
    "    \n",
    "    if results.status_code == 409:\n",
    "        return None\n",
    "    \n",
    "    commits = len(results.json())\n",
    "\n",
    "    header = results.links\n",
    "    \n",
    "    while header.get('next', False):\n",
    "        next_url = header.get('next').get('url')        \n",
    "        results = requests.get(next_url, auth=credentials)\n",
    "        commits = commits + len(results.json())    \n",
    "        header = results.links\n",
    "\n",
    "\n",
    "    return commits"
   ]
  },
  {
   "cell_type": "code",
   "execution_count": 28,
   "metadata": {},
   "outputs": [],
   "source": [
    "def extract_contributors(url_repo):\n",
    "    \n",
    "    contributors_url = url_repo + '/contributors'\n",
    "    results = requests.get(contributors_url, auth=credentials)\n",
    "    \n",
    "    if results.status_code == 204:\n",
    "        return None\n",
    "    \n",
    "    contributors = len(results.json())\n",
    "\n",
    "    header = results.links\n",
    "    \n",
    "    while header.get('next', False):\n",
    "        next_url = header.get('next').get('url')\n",
    "        results = requests.get(next_url, auth=credentials)\n",
    "        contributors = contributors + len(results.json())\n",
    "        header = results.links\n",
    "    \n",
    "    return contributors"
   ]
  },
  {
   "cell_type": "code",
   "execution_count": 29,
   "metadata": {},
   "outputs": [],
   "source": [
    "def extract_owner_data(owner_api_url):\n",
    "    \n",
    "    results = requests.get(owner_api_url, auth=credentials)\n",
    "    data = results.json()\n",
    "\n",
    "    owner_data = {\n",
    "        'owner_location': data.get('location', None),\n",
    "        'owner_email': data.get('email', None),\n",
    "        'owner_blog': data.get('blog', None),\n",
    "        'owner_name': data.get('name', None)\n",
    "    }\n",
    "    \n",
    "    return owner_data"
   ]
  },
  {
   "cell_type": "code",
   "execution_count": 32,
   "metadata": {
    "scrolled": false
   },
   "outputs": [
    {
     "name": "stdout",
     "output_type": "stream",
     "text": [
      "CPU times: user 1min 12s, sys: 2.84 s, total: 1min 15s\n",
      "Wall time: 20min 52s\n"
     ]
    }
   ],
   "source": [
    "%%time\n",
    "urls = repositories_df['api_url']\n",
    "\n",
    "for url in urls:\n",
    "\n",
    "    owner_api_url = repositories_df.loc[repositories_df[\"api_url\"] == url]['owner_api_url'].item()\n",
    "    owner_data = extract_owner_data(owner_api_url)\n",
    "    commits = extract_commits(url)\n",
    "    contributors = extract_contributors(url)\n",
    "    \n",
    "    logging.info(\"Repositório: {0}\".format(url))\n",
    "    logging.info(\"Tem {0} Commits - {1} Contributors\".format(commits,contributors))\n",
    "    logging.info(\"Owner location: {0}\".format(owner_data.get('owner_location')))\n",
    "\n",
    "    repositories_df.loc[repositories_df[\"api_url\"] == url, 'commits'] = commits\n",
    "    repositories_df.loc[repositories_df[\"api_url\"] == url, 'contributors'] = contributors\n",
    "    repositories_df.loc[repositories_df[\"api_url\"] == url, 'owner_location'] = owner_data.get('owner_location')\n",
    "    repositories_df.loc[repositories_df[\"api_url\"] == url, 'owner_email'] = owner_data.get('owner_email')\n",
    "    repositories_df.loc[repositories_df[\"api_url\"] == url, 'owner_blog'] = owner_data.get('owner_blog')\n",
    "    repositories_df.loc[repositories_df[\"api_url\"] == url, 'owner_name'] = owner_data.get('owner_name')"
   ]
  },
  {
   "cell_type": "markdown",
   "metadata": {},
   "source": [
    "Agora devemos ter mais 6 colunas"
   ]
  },
  {
   "cell_type": "code",
   "execution_count": 34,
   "metadata": {},
   "outputs": [
    {
     "data": {
      "text/plain": [
       "28"
      ]
     },
     "execution_count": 34,
     "metadata": {},
     "output_type": "execute_result"
    }
   ],
   "source": [
    "len(repositories_df.columns)"
   ]
  },
  {
   "cell_type": "code",
   "execution_count": 35,
   "metadata": {},
   "outputs": [
    {
     "data": {
      "text/html": [
       "<div>\n",
       "<style scoped>\n",
       "    .dataframe tbody tr th:only-of-type {\n",
       "        vertical-align: middle;\n",
       "    }\n",
       "\n",
       "    .dataframe tbody tr th {\n",
       "        vertical-align: top;\n",
       "    }\n",
       "\n",
       "    .dataframe thead th {\n",
       "        text-align: right;\n",
       "    }\n",
       "</style>\n",
       "<table border=\"1\" class=\"dataframe\">\n",
       "  <thead>\n",
       "    <tr style=\"text-align: right;\">\n",
       "      <th></th>\n",
       "      <th>api_url</th>\n",
       "      <th>created_at</th>\n",
       "      <th>description</th>\n",
       "      <th>fork</th>\n",
       "      <th>forks</th>\n",
       "      <th>forks_count</th>\n",
       "      <th>full_name</th>\n",
       "      <th>has_issues</th>\n",
       "      <th>has_wiki</th>\n",
       "      <th>id</th>\n",
       "      <th>...</th>\n",
       "      <th>stargazers_count</th>\n",
       "      <th>timestamp_extract</th>\n",
       "      <th>updated_at</th>\n",
       "      <th>url</th>\n",
       "      <th>commits</th>\n",
       "      <th>contributors</th>\n",
       "      <th>owner_location</th>\n",
       "      <th>owner_email</th>\n",
       "      <th>owner_blog</th>\n",
       "      <th>owner_name</th>\n",
       "    </tr>\n",
       "  </thead>\n",
       "  <tbody>\n",
       "    <tr>\n",
       "      <th>0</th>\n",
       "      <td>https://api.github.com/repos/CamaraDosDeputado...</td>\n",
       "      <td>2015-01-14T17:32:49Z</td>\n",
       "      <td>Repositório do serviço de Dados Abertos da Câm...</td>\n",
       "      <td>False</td>\n",
       "      <td>7</td>\n",
       "      <td>7</td>\n",
       "      <td>CamaraDosDeputados/dados-abertos</td>\n",
       "      <td>True</td>\n",
       "      <td>True</td>\n",
       "      <td>29256552</td>\n",
       "      <td>...</td>\n",
       "      <td>141</td>\n",
       "      <td>1580331534</td>\n",
       "      <td>2020-01-23T14:21:59Z</td>\n",
       "      <td>https://github.com/CamaraDosDeputados/dados-ab...</td>\n",
       "      <td>43.0</td>\n",
       "      <td>4.0</td>\n",
       "      <td>Brazil</td>\n",
       "      <td>None</td>\n",
       "      <td>http://www.camara.leg.br</td>\n",
       "      <td>Câmara dos Deputados do Brasil</td>\n",
       "    </tr>\n",
       "    <tr>\n",
       "      <th>1</th>\n",
       "      <td>https://api.github.com/repos/dadosgovbr/catalo...</td>\n",
       "      <td>2015-07-17T14:02:34Z</td>\n",
       "      <td>Mapeamento de iniciativas (e catálogos) de dad...</td>\n",
       "      <td>False</td>\n",
       "      <td>40</td>\n",
       "      <td>40</td>\n",
       "      <td>dadosgovbr/catalogos-dados-brasil</td>\n",
       "      <td>True</td>\n",
       "      <td>True</td>\n",
       "      <td>39256926</td>\n",
       "      <td>...</td>\n",
       "      <td>139</td>\n",
       "      <td>1580331534</td>\n",
       "      <td>2020-01-19T19:44:00Z</td>\n",
       "      <td>https://github.com/dadosgovbr/catalogos-dados-...</td>\n",
       "      <td>50.0</td>\n",
       "      <td>5.0</td>\n",
       "      <td>Brazil</td>\n",
       "      <td>None</td>\n",
       "      <td>dados.gov.br</td>\n",
       "      <td>dados.gov.br</td>\n",
       "    </tr>\n",
       "    <tr>\n",
       "      <th>2</th>\n",
       "      <td>https://api.github.com/repos/prefeiturasp/dado...</td>\n",
       "      <td>2016-11-10T13:35:40Z</td>\n",
       "      <td>Análises e tutoriais das bases de dados aberto...</td>\n",
       "      <td>False</td>\n",
       "      <td>18</td>\n",
       "      <td>18</td>\n",
       "      <td>prefeiturasp/dados-educacao</td>\n",
       "      <td>True</td>\n",
       "      <td>True</td>\n",
       "      <td>73385196</td>\n",
       "      <td>...</td>\n",
       "      <td>48</td>\n",
       "      <td>1580331534</td>\n",
       "      <td>2019-08-17T00:49:49Z</td>\n",
       "      <td>https://github.com/prefeiturasp/dados-educacao</td>\n",
       "      <td>18.0</td>\n",
       "      <td>2.0</td>\n",
       "      <td>São Paulo, SP</td>\n",
       "      <td>tecnologia@prefeitura.sp.gov.br</td>\n",
       "      <td>http://www.capital.sp.gov.br</td>\n",
       "      <td>Prefeitura Municipal de São Paulo</td>\n",
       "    </tr>\n",
       "    <tr>\n",
       "      <th>3</th>\n",
       "      <td>https://api.github.com/repos/dadosgovbr/aplica...</td>\n",
       "      <td>2016-01-15T13:29:14Z</td>\n",
       "      <td>Mapeamento de aplicativos e visualizações que ...</td>\n",
       "      <td>False</td>\n",
       "      <td>9</td>\n",
       "      <td>9</td>\n",
       "      <td>dadosgovbr/aplicativos-dados-brasil</td>\n",
       "      <td>True</td>\n",
       "      <td>True</td>\n",
       "      <td>49720381</td>\n",
       "      <td>...</td>\n",
       "      <td>48</td>\n",
       "      <td>1580331534</td>\n",
       "      <td>2019-06-16T17:26:35Z</td>\n",
       "      <td>https://github.com/dadosgovbr/aplicativos-dado...</td>\n",
       "      <td>40.0</td>\n",
       "      <td>5.0</td>\n",
       "      <td>Brazil</td>\n",
       "      <td>None</td>\n",
       "      <td>dados.gov.br</td>\n",
       "      <td>dados.gov.br</td>\n",
       "    </tr>\n",
       "    <tr>\n",
       "      <th>4</th>\n",
       "      <td>https://api.github.com/repos/mapaslivres/local...</td>\n",
       "      <td>2015-04-24T19:50:16Z</td>\n",
       "      <td>Dados em formato aberto sobre municípios e uni...</td>\n",
       "      <td>False</td>\n",
       "      <td>13</td>\n",
       "      <td>13</td>\n",
       "      <td>mapaslivres/localidades</td>\n",
       "      <td>True</td>\n",
       "      <td>False</td>\n",
       "      <td>34538558</td>\n",
       "      <td>...</td>\n",
       "      <td>41</td>\n",
       "      <td>1580331534</td>\n",
       "      <td>2019-12-11T15:03:40Z</td>\n",
       "      <td>https://github.com/mapaslivres/localidades</td>\n",
       "      <td>69.0</td>\n",
       "      <td>4.0</td>\n",
       "      <td>None</td>\n",
       "      <td>None</td>\n",
       "      <td></td>\n",
       "      <td>None</td>\n",
       "    </tr>\n",
       "  </tbody>\n",
       "</table>\n",
       "<p>5 rows × 28 columns</p>\n",
       "</div>"
      ],
      "text/plain": [
       "                                             api_url            created_at  \\\n",
       "0  https://api.github.com/repos/CamaraDosDeputado...  2015-01-14T17:32:49Z   \n",
       "1  https://api.github.com/repos/dadosgovbr/catalo...  2015-07-17T14:02:34Z   \n",
       "2  https://api.github.com/repos/prefeiturasp/dado...  2016-11-10T13:35:40Z   \n",
       "3  https://api.github.com/repos/dadosgovbr/aplica...  2016-01-15T13:29:14Z   \n",
       "4  https://api.github.com/repos/mapaslivres/local...  2015-04-24T19:50:16Z   \n",
       "\n",
       "                                         description   fork  forks  \\\n",
       "0  Repositório do serviço de Dados Abertos da Câm...  False      7   \n",
       "1  Mapeamento de iniciativas (e catálogos) de dad...  False     40   \n",
       "2  Análises e tutoriais das bases de dados aberto...  False     18   \n",
       "3  Mapeamento de aplicativos e visualizações que ...  False      9   \n",
       "4  Dados em formato aberto sobre municípios e uni...  False     13   \n",
       "\n",
       "   forks_count                            full_name  has_issues  has_wiki  \\\n",
       "0            7     CamaraDosDeputados/dados-abertos        True      True   \n",
       "1           40    dadosgovbr/catalogos-dados-brasil        True      True   \n",
       "2           18          prefeiturasp/dados-educacao        True      True   \n",
       "3            9  dadosgovbr/aplicativos-dados-brasil        True      True   \n",
       "4           13              mapaslivres/localidades        True     False   \n",
       "\n",
       "         id                ...                 stargazers_count  \\\n",
       "0  29256552                ...                              141   \n",
       "1  39256926                ...                              139   \n",
       "2  73385196                ...                               48   \n",
       "3  49720381                ...                               48   \n",
       "4  34538558                ...                               41   \n",
       "\n",
       "  timestamp_extract            updated_at  \\\n",
       "0        1580331534  2020-01-23T14:21:59Z   \n",
       "1        1580331534  2020-01-19T19:44:00Z   \n",
       "2        1580331534  2019-08-17T00:49:49Z   \n",
       "3        1580331534  2019-06-16T17:26:35Z   \n",
       "4        1580331534  2019-12-11T15:03:40Z   \n",
       "\n",
       "                                                 url commits contributors  \\\n",
       "0  https://github.com/CamaraDosDeputados/dados-ab...    43.0          4.0   \n",
       "1  https://github.com/dadosgovbr/catalogos-dados-...    50.0          5.0   \n",
       "2     https://github.com/prefeiturasp/dados-educacao    18.0          2.0   \n",
       "3  https://github.com/dadosgovbr/aplicativos-dado...    40.0          5.0   \n",
       "4         https://github.com/mapaslivres/localidades    69.0          4.0   \n",
       "\n",
       "  owner_location                      owner_email  \\\n",
       "0         Brazil                             None   \n",
       "1         Brazil                             None   \n",
       "2  São Paulo, SP  tecnologia@prefeitura.sp.gov.br   \n",
       "3         Brazil                             None   \n",
       "4           None                             None   \n",
       "\n",
       "                     owner_blog                         owner_name  \n",
       "0      http://www.camara.leg.br     Câmara dos Deputados do Brasil  \n",
       "1                  dados.gov.br                       dados.gov.br  \n",
       "2  http://www.capital.sp.gov.br  Prefeitura Municipal de São Paulo  \n",
       "3                  dados.gov.br                       dados.gov.br  \n",
       "4                                                             None  \n",
       "\n",
       "[5 rows x 28 columns]"
      ]
     },
     "execution_count": 35,
     "metadata": {},
     "output_type": "execute_result"
    }
   ],
   "source": [
    "repositories_df.head()"
   ]
  },
  {
   "cell_type": "markdown",
   "metadata": {},
   "source": [
    "Conferindo valores nulos"
   ]
  },
  {
   "cell_type": "code",
   "execution_count": 36,
   "metadata": {},
   "outputs": [
    {
     "data": {
      "text/plain": [
       "17"
      ]
     },
     "execution_count": 36,
     "metadata": {},
     "output_type": "execute_result"
    }
   ],
   "source": [
    "len(repositories_df.loc[repositories_df['commits'].isnull()][['api_url', 'commits', 'contributors']])"
   ]
  },
  {
   "cell_type": "markdown",
   "metadata": {},
   "source": [
    "Alguns repositórios realmente não tem nenhum commit como o [ccdpoa/ocida](https://github.com/ccdpoa/ocida)."
   ]
  },
  {
   "cell_type": "code",
   "execution_count": 42,
   "metadata": {},
   "outputs": [
    {
     "data": {
      "text/html": [
       "<div>\n",
       "<style scoped>\n",
       "    .dataframe tbody tr th:only-of-type {\n",
       "        vertical-align: middle;\n",
       "    }\n",
       "\n",
       "    .dataframe tbody tr th {\n",
       "        vertical-align: top;\n",
       "    }\n",
       "\n",
       "    .dataframe thead th {\n",
       "        text-align: right;\n",
       "    }\n",
       "</style>\n",
       "<table border=\"1\" class=\"dataframe\">\n",
       "  <thead>\n",
       "    <tr style=\"text-align: right;\">\n",
       "      <th></th>\n",
       "      <th>id</th>\n",
       "      <th>url</th>\n",
       "      <th>api_url</th>\n",
       "      <th>commits</th>\n",
       "      <th>contributors</th>\n",
       "    </tr>\n",
       "  </thead>\n",
       "  <tbody>\n",
       "    <tr>\n",
       "      <th>155</th>\n",
       "      <td>193599332</td>\n",
       "      <td>https://github.com/renatachagasc/Api-DadosAber...</td>\n",
       "      <td>https://api.github.com/repos/renatachagasc/Api...</td>\n",
       "      <td>NaN</td>\n",
       "      <td>NaN</td>\n",
       "    </tr>\n",
       "    <tr>\n",
       "      <th>162</th>\n",
       "      <td>13354150</td>\n",
       "      <td>https://github.com/ccdpoa/ocida</td>\n",
       "      <td>https://api.github.com/repos/ccdpoa/ocida</td>\n",
       "      <td>NaN</td>\n",
       "      <td>NaN</td>\n",
       "    </tr>\n",
       "    <tr>\n",
       "      <th>167</th>\n",
       "      <td>176943542</td>\n",
       "      <td>https://github.com/Kassio-Ferreira/perfil_raci...</td>\n",
       "      <td>https://api.github.com/repos/Kassio-Ferreira/p...</td>\n",
       "      <td>NaN</td>\n",
       "      <td>NaN</td>\n",
       "    </tr>\n",
       "    <tr>\n",
       "      <th>189</th>\n",
       "      <td>212679438</td>\n",
       "      <td>https://github.com/GabrielLimaSnT/ProjetoOpeDa...</td>\n",
       "      <td>https://api.github.com/repos/GabrielLimaSnT/Pr...</td>\n",
       "      <td>NaN</td>\n",
       "      <td>NaN</td>\n",
       "    </tr>\n",
       "    <tr>\n",
       "      <th>217</th>\n",
       "      <td>209605170</td>\n",
       "      <td>https://github.com/DINALVAGOMES/INSS_dados-abe...</td>\n",
       "      <td>https://api.github.com/repos/DINALVAGOMES/INSS...</td>\n",
       "      <td>NaN</td>\n",
       "      <td>NaN</td>\n",
       "    </tr>\n",
       "    <tr>\n",
       "      <th>225</th>\n",
       "      <td>144884415</td>\n",
       "      <td>https://github.com/eduponto21/dados_abertos_cu...</td>\n",
       "      <td>https://api.github.com/repos/eduponto21/dados_...</td>\n",
       "      <td>NaN</td>\n",
       "      <td>NaN</td>\n",
       "    </tr>\n",
       "    <tr>\n",
       "      <th>245</th>\n",
       "      <td>86007528</td>\n",
       "      <td>https://github.com/MarxSteel/MDIO-InteractBrasil</td>\n",
       "      <td>https://api.github.com/repos/MarxSteel/MDIO-In...</td>\n",
       "      <td>NaN</td>\n",
       "      <td>NaN</td>\n",
       "    </tr>\n",
       "    <tr>\n",
       "      <th>249</th>\n",
       "      <td>59862291</td>\n",
       "      <td>https://github.com/yelken/livecity</td>\n",
       "      <td>https://api.github.com/repos/yelken/livecity</td>\n",
       "      <td>NaN</td>\n",
       "      <td>NaN</td>\n",
       "    </tr>\n",
       "    <tr>\n",
       "      <th>291</th>\n",
       "      <td>128829155</td>\n",
       "      <td>https://github.com/danielmbicalho/Dados_reposi...</td>\n",
       "      <td>https://api.github.com/repos/danielmbicalho/Da...</td>\n",
       "      <td>NaN</td>\n",
       "      <td>NaN</td>\n",
       "    </tr>\n",
       "    <tr>\n",
       "      <th>326</th>\n",
       "      <td>69135911</td>\n",
       "      <td>https://github.com/klismark/vigieSeuDeputado</td>\n",
       "      <td>https://api.github.com/repos/klismark/vigieSeu...</td>\n",
       "      <td>NaN</td>\n",
       "      <td>NaN</td>\n",
       "    </tr>\n",
       "    <tr>\n",
       "      <th>327</th>\n",
       "      <td>7251863</td>\n",
       "      <td>https://github.com/turetos/appdadosabertos</td>\n",
       "      <td>https://api.github.com/repos/turetos/appdadosa...</td>\n",
       "      <td>NaN</td>\n",
       "      <td>NaN</td>\n",
       "    </tr>\n",
       "    <tr>\n",
       "      <th>348</th>\n",
       "      <td>97181457</td>\n",
       "      <td>https://github.com/tiagovizoto/OperacaoUniEsquina</td>\n",
       "      <td>https://api.github.com/repos/tiagovizoto/Opera...</td>\n",
       "      <td>NaN</td>\n",
       "      <td>NaN</td>\n",
       "    </tr>\n",
       "    <tr>\n",
       "      <th>350</th>\n",
       "      <td>21104192</td>\n",
       "      <td>https://github.com/luiscape/congresso_aberto_viz</td>\n",
       "      <td>https://api.github.com/repos/luiscape/congress...</td>\n",
       "      <td>NaN</td>\n",
       "      <td>NaN</td>\n",
       "    </tr>\n",
       "    <tr>\n",
       "      <th>367</th>\n",
       "      <td>142165595</td>\n",
       "      <td>https://github.com/wharborges/analiseES</td>\n",
       "      <td>https://api.github.com/repos/wharborges/analiseES</td>\n",
       "      <td>NaN</td>\n",
       "      <td>NaN</td>\n",
       "    </tr>\n",
       "    <tr>\n",
       "      <th>389</th>\n",
       "      <td>60303926</td>\n",
       "      <td>https://github.com/nathaliaSilva/PDFRelat-rios</td>\n",
       "      <td>https://api.github.com/repos/nathaliaSilva/PDF...</td>\n",
       "      <td>NaN</td>\n",
       "      <td>NaN</td>\n",
       "    </tr>\n",
       "    <tr>\n",
       "      <th>548</th>\n",
       "      <td>138407079</td>\n",
       "      <td>https://github.com/joaofresende/ClassifDesclassif</td>\n",
       "      <td>https://api.github.com/repos/joaofresende/Clas...</td>\n",
       "      <td>NaN</td>\n",
       "      <td>NaN</td>\n",
       "    </tr>\n",
       "    <tr>\n",
       "      <th>558</th>\n",
       "      <td>29023692</td>\n",
       "      <td>https://github.com/beluzo/ideo</td>\n",
       "      <td>https://api.github.com/repos/beluzo/ideo</td>\n",
       "      <td>NaN</td>\n",
       "      <td>NaN</td>\n",
       "    </tr>\n",
       "  </tbody>\n",
       "</table>\n",
       "</div>"
      ],
      "text/plain": [
       "            id                                                url  \\\n",
       "155  193599332  https://github.com/renatachagasc/Api-DadosAber...   \n",
       "162   13354150                    https://github.com/ccdpoa/ocida   \n",
       "167  176943542  https://github.com/Kassio-Ferreira/perfil_raci...   \n",
       "189  212679438  https://github.com/GabrielLimaSnT/ProjetoOpeDa...   \n",
       "217  209605170  https://github.com/DINALVAGOMES/INSS_dados-abe...   \n",
       "225  144884415  https://github.com/eduponto21/dados_abertos_cu...   \n",
       "245   86007528   https://github.com/MarxSteel/MDIO-InteractBrasil   \n",
       "249   59862291                 https://github.com/yelken/livecity   \n",
       "291  128829155  https://github.com/danielmbicalho/Dados_reposi...   \n",
       "326   69135911       https://github.com/klismark/vigieSeuDeputado   \n",
       "327    7251863         https://github.com/turetos/appdadosabertos   \n",
       "348   97181457  https://github.com/tiagovizoto/OperacaoUniEsquina   \n",
       "350   21104192   https://github.com/luiscape/congresso_aberto_viz   \n",
       "367  142165595            https://github.com/wharborges/analiseES   \n",
       "389   60303926     https://github.com/nathaliaSilva/PDFRelat-rios   \n",
       "548  138407079  https://github.com/joaofresende/ClassifDesclassif   \n",
       "558   29023692                     https://github.com/beluzo/ideo   \n",
       "\n",
       "                                               api_url  commits  contributors  \n",
       "155  https://api.github.com/repos/renatachagasc/Api...      NaN           NaN  \n",
       "162          https://api.github.com/repos/ccdpoa/ocida      NaN           NaN  \n",
       "167  https://api.github.com/repos/Kassio-Ferreira/p...      NaN           NaN  \n",
       "189  https://api.github.com/repos/GabrielLimaSnT/Pr...      NaN           NaN  \n",
       "217  https://api.github.com/repos/DINALVAGOMES/INSS...      NaN           NaN  \n",
       "225  https://api.github.com/repos/eduponto21/dados_...      NaN           NaN  \n",
       "245  https://api.github.com/repos/MarxSteel/MDIO-In...      NaN           NaN  \n",
       "249       https://api.github.com/repos/yelken/livecity      NaN           NaN  \n",
       "291  https://api.github.com/repos/danielmbicalho/Da...      NaN           NaN  \n",
       "326  https://api.github.com/repos/klismark/vigieSeu...      NaN           NaN  \n",
       "327  https://api.github.com/repos/turetos/appdadosa...      NaN           NaN  \n",
       "348  https://api.github.com/repos/tiagovizoto/Opera...      NaN           NaN  \n",
       "350  https://api.github.com/repos/luiscape/congress...      NaN           NaN  \n",
       "367  https://api.github.com/repos/wharborges/analiseES      NaN           NaN  \n",
       "389  https://api.github.com/repos/nathaliaSilva/PDF...      NaN           NaN  \n",
       "548  https://api.github.com/repos/joaofresende/Clas...      NaN           NaN  \n",
       "558           https://api.github.com/repos/beluzo/ideo      NaN           NaN  "
      ]
     },
     "execution_count": 42,
     "metadata": {},
     "output_type": "execute_result"
    }
   ],
   "source": [
    "repositories_df.loc[repositories_df['contributors'].isnull()][['id', 'url', 'api_url', 'commits', 'contributors']]"
   ]
  },
  {
   "cell_type": "markdown",
   "metadata": {},
   "source": [
    "Salvando repositorios com commits nulos para verificar manualmente depois."
   ]
  },
  {
   "cell_type": "code",
   "execution_count": 41,
   "metadata": {},
   "outputs": [],
   "source": [
    "null_commits = repositories_df.loc[repositories_df['contributors'].isnull()][['id', 'url', 'api_url', 'commits', 'contributors']]"
   ]
  },
  {
   "cell_type": "code",
   "execution_count": 44,
   "metadata": {},
   "outputs": [],
   "source": [
    "null_commits.to_csv('../data/repositories_with_null_commits_' + str(time.time()).split('.')[0] + '.csv', index=False)"
   ]
  },
  {
   "cell_type": "markdown",
   "metadata": {},
   "source": [
    "Salvando todos os repositórios."
   ]
  },
  {
   "cell_type": "code",
   "execution_count": 45,
   "metadata": {},
   "outputs": [],
   "source": [
    "repositories_df.to_csv('../data/repositories_' + str(time.time()).split('.')[0] + '.csv', index=False)"
   ]
  },
  {
   "cell_type": "markdown",
   "metadata": {},
   "source": [
    "## Extraindo contribuidores dos repositórios"
   ]
  },
  {
   "cell_type": "code",
   "execution_count": 46,
   "metadata": {},
   "outputs": [],
   "source": [
    "def get_contributors(data, repo_data):\n",
    "\n",
    "    list_contributors = []\n",
    "\n",
    "    for item in data:        \n",
    "        contributor = {\n",
    "            'repo_id': repo_data.get('repo_id', None),\n",
    "            'repo_name': repo_data.get('repo_name', None),\n",
    "            'repo_url': repo_data.get('repo_url', None),\n",
    "            'repo_api_url': repo_data.get('repo_api_url', None),\n",
    "            'contributor_id': item.get('id', None),\n",
    "            'contributor_login': item.get('login', None),\n",
    "            'contributor_type': item.get('type', None),\n",
    "            'contributor_url': item.get('html_url', None),\n",
    "            'contributor_api_url': item.get('url', None),\n",
    "            'timestamp_extract': str(time.time()).split('.')[0]\n",
    "        }\n",
    "\n",
    "        list_contributors.append(contributor)\n",
    "\n",
    "    return list_contributors"
   ]
  },
  {
   "cell_type": "code",
   "execution_count": 50,
   "metadata": {},
   "outputs": [],
   "source": [
    "def scroll_contributors(url, repo_data):\n",
    "\n",
    "    list_contributors = []\n",
    "    results = requests.get(url, auth=credentials)\n",
    "    \n",
    "    if results.status_code is 204:\n",
    "        return None\n",
    "    \n",
    "    data = results.json()\n",
    "    list_contributors = get_contributors(data, repo_data)\n",
    "    header = results.links\n",
    "    \n",
    "    while header.get('next', False):\n",
    "        \n",
    "        next_url = header.get('next').get('url')            \n",
    "        results = requests.get(next_url, auth=credentials)\n",
    "        data = results.json()\n",
    "        list_contributors = list_contributors + get_contributors(data, repo_data)  \n",
    "        header = results.links\n",
    "        \n",
    "    return list_contributors"
   ]
  },
  {
   "cell_type": "code",
   "execution_count": 51,
   "metadata": {},
   "outputs": [],
   "source": [
    "def search_contributors(repositories_df):\n",
    "    \n",
    "    urls = repositories_df['api_url']\n",
    "    list_contributors_all_repo = []\n",
    "    \n",
    "    for url in urls:\n",
    "        logging.info('Extraindo contribuidores de: {0}'.format(url))\n",
    "        \n",
    "        repo_data = {\n",
    "                'repo_id': repositories_df.loc[repositories_df[\"api_url\"] == url, 'id'].values[0],\n",
    "                'repo_name': repositories_df.loc[repositories_df[\"api_url\"] == url, 'full_name'].values[0],\n",
    "                'repo_url': repositories_df.loc[repositories_df[\"api_url\"] == url, 'url'].values[0],\n",
    "                'repo_api_url': url,\n",
    "            }\n",
    "        \n",
    "        url_contributors = url + '/contributors'        \n",
    "        contributors = scroll_contributors(url_contributors, repo_data)\n",
    "        \n",
    "        if contributors:\n",
    "            list_contributors_all_repo = list_contributors_all_repo + contributors\n",
    "    \n",
    "    contributors_df = pd.DataFrame(list_contributors_all_repo)     \n",
    "        \n",
    "    return contributors_df"
   ]
  },
  {
   "cell_type": "code",
   "execution_count": 52,
   "metadata": {},
   "outputs": [
    {
     "name": "stdout",
     "output_type": "stream",
     "text": [
      "CPU times: user 14.2 s, sys: 542 ms, total: 14.7 s\n",
      "Wall time: 4min 20s\n"
     ]
    }
   ],
   "source": [
    "%%time\n",
    "contributors_df = search_contributors(repositories_df)"
   ]
  },
  {
   "cell_type": "code",
   "execution_count": 54,
   "metadata": {},
   "outputs": [
    {
     "data": {
      "text/html": [
       "<div>\n",
       "<style scoped>\n",
       "    .dataframe tbody tr th:only-of-type {\n",
       "        vertical-align: middle;\n",
       "    }\n",
       "\n",
       "    .dataframe tbody tr th {\n",
       "        vertical-align: top;\n",
       "    }\n",
       "\n",
       "    .dataframe thead th {\n",
       "        text-align: right;\n",
       "    }\n",
       "</style>\n",
       "<table border=\"1\" class=\"dataframe\">\n",
       "  <thead>\n",
       "    <tr style=\"text-align: right;\">\n",
       "      <th></th>\n",
       "      <th>contributor_api_url</th>\n",
       "      <th>contributor_id</th>\n",
       "      <th>contributor_login</th>\n",
       "      <th>contributor_type</th>\n",
       "      <th>contributor_url</th>\n",
       "      <th>repo_api_url</th>\n",
       "      <th>repo_id</th>\n",
       "      <th>repo_name</th>\n",
       "      <th>repo_url</th>\n",
       "      <th>timestamp_extract</th>\n",
       "    </tr>\n",
       "  </thead>\n",
       "  <tbody>\n",
       "    <tr>\n",
       "      <th>0</th>\n",
       "      <td>https://api.github.com/users/FabricioRocha</td>\n",
       "      <td>19875696</td>\n",
       "      <td>FabricioRocha</td>\n",
       "      <td>User</td>\n",
       "      <td>https://github.com/FabricioRocha</td>\n",
       "      <td>https://api.github.com/repos/CamaraDosDeputado...</td>\n",
       "      <td>29256552</td>\n",
       "      <td>CamaraDosDeputados/dados-abertos</td>\n",
       "      <td>https://github.com/CamaraDosDeputados/dados-ab...</td>\n",
       "      <td>1580336014</td>\n",
       "    </tr>\n",
       "    <tr>\n",
       "      <th>1</th>\n",
       "      <td>https://api.github.com/users/EquipeDadosAbertosCD</td>\n",
       "      <td>16920325</td>\n",
       "      <td>EquipeDadosAbertosCD</td>\n",
       "      <td>User</td>\n",
       "      <td>https://github.com/EquipeDadosAbertosCD</td>\n",
       "      <td>https://api.github.com/repos/CamaraDosDeputado...</td>\n",
       "      <td>29256552</td>\n",
       "      <td>CamaraDosDeputados/dados-abertos</td>\n",
       "      <td>https://github.com/CamaraDosDeputados/dados-ab...</td>\n",
       "      <td>1580336014</td>\n",
       "    </tr>\n",
       "    <tr>\n",
       "      <th>2</th>\n",
       "      <td>https://api.github.com/users/JoaoCarabetta</td>\n",
       "      <td>19963732</td>\n",
       "      <td>JoaoCarabetta</td>\n",
       "      <td>User</td>\n",
       "      <td>https://github.com/JoaoCarabetta</td>\n",
       "      <td>https://api.github.com/repos/CamaraDosDeputado...</td>\n",
       "      <td>29256552</td>\n",
       "      <td>CamaraDosDeputados/dados-abertos</td>\n",
       "      <td>https://github.com/CamaraDosDeputados/dados-ab...</td>\n",
       "      <td>1580336014</td>\n",
       "    </tr>\n",
       "    <tr>\n",
       "      <th>3</th>\n",
       "      <td>https://api.github.com/users/labhacker</td>\n",
       "      <td>7976552</td>\n",
       "      <td>labhacker</td>\n",
       "      <td>User</td>\n",
       "      <td>https://github.com/labhacker</td>\n",
       "      <td>https://api.github.com/repos/CamaraDosDeputado...</td>\n",
       "      <td>29256552</td>\n",
       "      <td>CamaraDosDeputados/dados-abertos</td>\n",
       "      <td>https://github.com/CamaraDosDeputados/dados-ab...</td>\n",
       "      <td>1580336014</td>\n",
       "    </tr>\n",
       "    <tr>\n",
       "      <th>4</th>\n",
       "      <td>https://api.github.com/users/augusto-herrmann</td>\n",
       "      <td>1058414</td>\n",
       "      <td>augusto-herrmann</td>\n",
       "      <td>User</td>\n",
       "      <td>https://github.com/augusto-herrmann</td>\n",
       "      <td>https://api.github.com/repos/dadosgovbr/catalo...</td>\n",
       "      <td>39256926</td>\n",
       "      <td>dadosgovbr/catalogos-dados-brasil</td>\n",
       "      <td>https://github.com/dadosgovbr/catalogos-dados-...</td>\n",
       "      <td>1580336015</td>\n",
       "    </tr>\n",
       "  </tbody>\n",
       "</table>\n",
       "</div>"
      ],
      "text/plain": [
       "                                 contributor_api_url  contributor_id  \\\n",
       "0         https://api.github.com/users/FabricioRocha        19875696   \n",
       "1  https://api.github.com/users/EquipeDadosAbertosCD        16920325   \n",
       "2         https://api.github.com/users/JoaoCarabetta        19963732   \n",
       "3             https://api.github.com/users/labhacker         7976552   \n",
       "4      https://api.github.com/users/augusto-herrmann         1058414   \n",
       "\n",
       "      contributor_login contributor_type  \\\n",
       "0         FabricioRocha             User   \n",
       "1  EquipeDadosAbertosCD             User   \n",
       "2         JoaoCarabetta             User   \n",
       "3             labhacker             User   \n",
       "4      augusto-herrmann             User   \n",
       "\n",
       "                           contributor_url  \\\n",
       "0         https://github.com/FabricioRocha   \n",
       "1  https://github.com/EquipeDadosAbertosCD   \n",
       "2         https://github.com/JoaoCarabetta   \n",
       "3             https://github.com/labhacker   \n",
       "4      https://github.com/augusto-herrmann   \n",
       "\n",
       "                                        repo_api_url   repo_id  \\\n",
       "0  https://api.github.com/repos/CamaraDosDeputado...  29256552   \n",
       "1  https://api.github.com/repos/CamaraDosDeputado...  29256552   \n",
       "2  https://api.github.com/repos/CamaraDosDeputado...  29256552   \n",
       "3  https://api.github.com/repos/CamaraDosDeputado...  29256552   \n",
       "4  https://api.github.com/repos/dadosgovbr/catalo...  39256926   \n",
       "\n",
       "                           repo_name  \\\n",
       "0   CamaraDosDeputados/dados-abertos   \n",
       "1   CamaraDosDeputados/dados-abertos   \n",
       "2   CamaraDosDeputados/dados-abertos   \n",
       "3   CamaraDosDeputados/dados-abertos   \n",
       "4  dadosgovbr/catalogos-dados-brasil   \n",
       "\n",
       "                                            repo_url timestamp_extract  \n",
       "0  https://github.com/CamaraDosDeputados/dados-ab...        1580336014  \n",
       "1  https://github.com/CamaraDosDeputados/dados-ab...        1580336014  \n",
       "2  https://github.com/CamaraDosDeputados/dados-ab...        1580336014  \n",
       "3  https://github.com/CamaraDosDeputados/dados-ab...        1580336014  \n",
       "4  https://github.com/dadosgovbr/catalogos-dados-...        1580336015  "
      ]
     },
     "execution_count": 54,
     "metadata": {},
     "output_type": "execute_result"
    }
   ],
   "source": [
    "contributors_df.head()"
   ]
  },
  {
   "cell_type": "markdown",
   "metadata": {},
   "source": [
    "Verificando se há contribuidores repetidos para um mesmo repositório."
   ]
  },
  {
   "cell_type": "code",
   "execution_count": 55,
   "metadata": {},
   "outputs": [
    {
     "data": {
      "text/html": [
       "<div>\n",
       "<style scoped>\n",
       "    .dataframe tbody tr th:only-of-type {\n",
       "        vertical-align: middle;\n",
       "    }\n",
       "\n",
       "    .dataframe tbody tr th {\n",
       "        vertical-align: top;\n",
       "    }\n",
       "\n",
       "    .dataframe thead th {\n",
       "        text-align: right;\n",
       "    }\n",
       "</style>\n",
       "<table border=\"1\" class=\"dataframe\">\n",
       "  <thead>\n",
       "    <tr style=\"text-align: right;\">\n",
       "      <th></th>\n",
       "      <th>contributor_api_url</th>\n",
       "      <th>contributor_id</th>\n",
       "      <th>contributor_login</th>\n",
       "      <th>contributor_type</th>\n",
       "      <th>contributor_url</th>\n",
       "      <th>repo_api_url</th>\n",
       "      <th>repo_id</th>\n",
       "      <th>repo_name</th>\n",
       "      <th>repo_url</th>\n",
       "      <th>timestamp_extract</th>\n",
       "    </tr>\n",
       "  </thead>\n",
       "  <tbody>\n",
       "  </tbody>\n",
       "</table>\n",
       "</div>"
      ],
      "text/plain": [
       "Empty DataFrame\n",
       "Columns: [contributor_api_url, contributor_id, contributor_login, contributor_type, contributor_url, repo_api_url, repo_id, repo_name, repo_url, timestamp_extract]\n",
       "Index: []"
      ]
     },
     "execution_count": 55,
     "metadata": {},
     "output_type": "execute_result"
    }
   ],
   "source": [
    "contributors_df[contributors_df.duplicated(['contributor_id', 'repo_id'])]"
   ]
  },
  {
   "cell_type": "markdown",
   "metadata": {},
   "source": [
    "Salvando dataframe com mapeamento de repositórios e contribuidores."
   ]
  },
  {
   "cell_type": "code",
   "execution_count": 57,
   "metadata": {},
   "outputs": [],
   "source": [
    "contributors_df.to_csv('../data/contributors_' + str(time.time()).split('.')[0] + '.csv', index=False)"
   ]
  }
 ],
 "metadata": {
  "kernelspec": {
   "display_name": "Python 3",
   "language": "python",
   "name": "python3"
  },
  "language_info": {
   "codemirror_mode": {
    "name": "ipython",
    "version": 3
   },
   "file_extension": ".py",
   "mimetype": "text/x-python",
   "name": "python",
   "nbconvert_exporter": "python",
   "pygments_lexer": "ipython3",
   "version": "3.5.6"
  }
 },
 "nbformat": 4,
 "nbformat_minor": 2
}
