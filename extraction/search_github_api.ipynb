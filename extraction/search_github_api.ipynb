{
 "cells": [
  {
   "cell_type": "markdown",
   "metadata": {},
   "source": [
    "# Extração de dados do Github\n",
    "\n",
    "Pesquisaremos por iniciativas/projetos que utilizam Dados Abertos Governamentais através da [API do Github](https://developer.github.com/v3/)\n",
    "\n",
    "A partir das apontamentos feitos na qualificação desse projeto de pesquisa, entendemos que caracterizar toda a comunidade é um escopo muito abrangente e de difícil validação.\n",
    "A ideia é reduzir esse escopo para assim poder avaliar melhor os seus resultados, por exemplo verificar se os projetos referências nessas áreas aparecem nos repositórios extraídos no Github.\n",
    "\n",
    "Vamos testar a extração de alguns assuntos e palavras chave:\n",
    "\n",
    "Educação\n",
    "- Enem\n",
    "- Prova Brasil\n",
    "- Enade\n",
    "- MEC\n",
    "- Ies\n",
    "- Inep\n",
    "\n",
    "Saúde:\n",
    "- Sus\n",
    "- Saúde\n",
    "- Violência\n",
    "- Saúde da mulher"
   ]
  },
  {
   "cell_type": "code",
   "execution_count": 2,
   "metadata": {},
   "outputs": [],
   "source": [
    "import requests\n",
    "import pandas as pd\n",
    "import time\n",
    "import logging"
   ]
  },
  {
   "cell_type": "code",
   "execution_count": 4,
   "metadata": {},
   "outputs": [],
   "source": [
    "strings_edu = [\n",
    "    'dados enem',\n",
    "    'dados enade',\n",
    "    'dados prova brasil',\n",
    "    'dados ies',\n",
    "    'dados educacao',\n",
    "    'dados mec',\n",
    "    'dados inep',\n",
    "    'dados escola',\n",
    "    'dados escola inep',\n",
    "    'microdados inep'\n",
    "]"
   ]
  },
  {
   "cell_type": "code",
   "execution_count": 5,
   "metadata": {},
   "outputs": [],
   "source": [
    "strings_saude = [\n",
    "    'dados sus',\n",
    "    'dados saúde',\n",
    "    'dados saude da mulher',\n",
    "]"
   ]
  },
  {
   "cell_type": "markdown",
   "metadata": {},
   "source": [
    "Configuração para gerar arquivo de log"
   ]
  },
  {
   "cell_type": "code",
   "execution_count": 6,
   "metadata": {},
   "outputs": [],
   "source": [
    "logging.basicConfig(level=logging.DEBUG, \n",
    "                    filename=\"log_file.txt\", \n",
    "                    filemode=\"a+\",\n",
    "                    format=\"%(asctime)s - %(levelname)s - %(funcName)s - %(message)s\")\n",
    "\n",
    "logging.info(\"Extração de dados do Github\")"
   ]
  },
  {
   "cell_type": "code",
   "execution_count": 7,
   "metadata": {},
   "outputs": [],
   "source": [
    "search_strings = [\n",
    "            'dados abertos',\n",
    "            'dados abertos brasil',\n",
    "            'dados abertos governo',\n",
    "            'dados abertos governamentais',\n",
    "            'dados governamentais',\n",
    "            'dados publicos abertos',\n",
    "            'dados do governo',\n",
    "            'analise de dados do governo',\n",
    "            'analise de dados governamentais',\n",
    "            'portal de dados do governo',\n",
    "            'portal de dados governamentais',\n",
    "            'portal publico do governo',\n",
    "            'portal de dados abertos do governo',\n",
    "        ]"
   ]
  },
  {
   "cell_type": "markdown",
   "metadata": {},
   "source": [
    "Para a acesso a alguns recursos da API do github é preciso se autenticar, como aumentar o limite de requisições. Informações sobre autenticação podem ser encontradas [aqui](https://developer.github.com/v3/#authentication)."
   ]
  },
  {
   "cell_type": "code",
   "execution_count": 8,
   "metadata": {},
   "outputs": [],
   "source": [
    "credentials = ('<user_name>','<token>')"
   ]
  },
  {
   "cell_type": "markdown",
   "metadata": {},
   "source": [
    "Limite de requisições sem autenticação"
   ]
  },
  {
   "cell_type": "code",
   "execution_count": 9,
   "metadata": {
    "scrolled": true
   },
   "outputs": [
    {
     "data": {
      "text/plain": [
       "{'resources': {'core': {'limit': 60, 'remaining': 60, 'reset': 1584116335},\n",
       "  'search': {'limit': 10, 'remaining': 10, 'reset': 1584112795},\n",
       "  'graphql': {'limit': 0, 'remaining': 0, 'reset': 1584116335},\n",
       "  'integration_manifest': {'limit': 5000,\n",
       "   'remaining': 5000,\n",
       "   'reset': 1584116335},\n",
       "  'source_import': {'limit': 5, 'remaining': 5, 'reset': 1584112795}},\n",
       " 'rate': {'limit': 60, 'remaining': 60, 'reset': 1584116335}}"
      ]
     },
     "execution_count": 9,
     "metadata": {},
     "output_type": "execute_result"
    }
   ],
   "source": [
    "t = requests.get('https://api.github.com/rate_limit')\n",
    "t.json()"
   ]
  },
  {
   "cell_type": "markdown",
   "metadata": {},
   "source": [
    "Limite de requisições com autenticação"
   ]
  },
  {
   "cell_type": "code",
   "execution_count": 10,
   "metadata": {},
   "outputs": [
    {
     "data": {
      "text/plain": [
       "{'resources': {'core': {'limit': 5000, 'remaining': 5000, 'reset': 1584116338},\n",
       "  'search': {'limit': 30, 'remaining': 30, 'reset': 1584112798},\n",
       "  'graphql': {'limit': 5000, 'remaining': 5000, 'reset': 1584116338},\n",
       "  'integration_manifest': {'limit': 5000,\n",
       "   'remaining': 5000,\n",
       "   'reset': 1584116338},\n",
       "  'source_import': {'limit': 100, 'remaining': 100, 'reset': 1584112798}},\n",
       " 'rate': {'limit': 5000, 'remaining': 5000, 'reset': 1584116338}}"
      ]
     },
     "execution_count": 10,
     "metadata": {},
     "output_type": "execute_result"
    }
   ],
   "source": [
    "t = requests.get('https://api.github.com/rate_limit', auth=credentials)\n",
    "t.json()"
   ]
  },
  {
   "cell_type": "markdown",
   "metadata": {},
   "source": [
    "Verificando limitação de extração de dados da API"
   ]
  },
  {
   "cell_type": "code",
   "execution_count": 11,
   "metadata": {},
   "outputs": [
    {
     "data": {
      "text/plain": [
       "{'message': 'Only the first 1000 search results are available',\n",
       " 'documentation_url': 'https://developer.github.com/v3/search/'}"
      ]
     },
     "execution_count": 11,
     "metadata": {},
     "output_type": "execute_result"
    }
   ],
   "source": [
    "page_35 = 'https://api.github.com/search/repositories?q=stars%3A%3E1&sort=stars&order=desc&page=35'\n",
    "t = requests.get(page_35, auth=credentials)\n",
    "t.json()"
   ]
  },
  {
   "cell_type": "markdown",
   "metadata": {},
   "source": [
    "Informações sobre a ferramenta de pesquisa da API podem ser encontradas [aqui](https://developer.github.com/v3/search/)"
   ]
  },
  {
   "cell_type": "code",
   "execution_count": 12,
   "metadata": {},
   "outputs": [],
   "source": [
    "url_base = 'https://api.github.com/search/repositories?q='"
   ]
  },
  {
   "cell_type": "markdown",
   "metadata": {},
   "source": [
    "Podemos adicionar uma ordenação nos resultados, como quantidade de _stars_ de forma descrescente."
   ]
  },
  {
   "cell_type": "code",
   "execution_count": 13,
   "metadata": {},
   "outputs": [],
   "source": [
    "sort = '&sort=stars&order=desc'"
   ]
  },
  {
   "cell_type": "markdown",
   "metadata": {},
   "source": [
    "## Extraindo informações gerais"
   ]
  },
  {
   "cell_type": "code",
   "execution_count": 14,
   "metadata": {},
   "outputs": [],
   "source": [
    "def extract_results(data):\n",
    "    \n",
    "    items_list = []\n",
    "    \n",
    "    for item in data.get('items', None):\n",
    "        \n",
    "        \n",
    "        item_dict = {\n",
    "                'id': item.get('id'),\n",
    "                'full_name': item.get('full_name', None),\n",
    "                'description': item.get('description', None),      \n",
    "                'owner_type': item.get('owner').get('type', None),\n",
    "                'owner_api_url': item.get('owner').get('url', None),\n",
    "                'owner_url': item.get('owner').get('html_url', None),\n",
    "                'api_url': item.get('url', None),\n",
    "                'url': item.get('html_url', None),\n",
    "                'fork': item.get('fork', None),\n",
    "                'created_at': item.get('created_at', None),\n",
    "                'updated_at': item.get('updated_at', None),\n",
    "                'pushed_at': item.get('pushed_at', None),\n",
    "                'size': item.get('size', None),\n",
    "                'stargazers_count': item.get('stargazers_count', None),\n",
    "                'language': item.get('language', None),\n",
    "                'has_issues': item.get('has_issues', None),\n",
    "                'has_wiki': item.get('has_wiki', None),\n",
    "                'forks_count': item.get('forks_count', None),\n",
    "                'forks': item.get('forks', None),\n",
    "                'open_issues': item.get('open_issues', None),\n",
    "                'license': item.get('license').get('name', None) if item.get('license', None) else None,\n",
    "                'timestamp_extract': str(time.time()).split('.')[0]\n",
    "        }\n",
    "\n",
    "        items_list.append(item_dict)\n",
    "            \n",
    "    return items_list"
   ]
  },
  {
   "cell_type": "code",
   "execution_count": 15,
   "metadata": {},
   "outputs": [],
   "source": [
    "def scroll_pages(url):\n",
    "        \n",
    "    results = requests.get(url, auth=credentials)    \n",
    "    data = results.json()\n",
    "    total = data.get('total_count', None)\n",
    "        \n",
    "    logging.info(\"Foram encontrados {0} resultados. Extraindo...\".format(total))\n",
    "        \n",
    "    items_list = []\n",
    "    items_list = extract_results(data)\n",
    "        \n",
    "    iterations = total // 30 \n",
    "    \n",
    "    for iteracao in range(0, iterations):        \n",
    "        header = results.links\n",
    "        \n",
    "        if header.get('next', False):\n",
    "            next_url = header.get('next').get('url')\n",
    "                        \n",
    "            results = requests.get(next_url, auth=credentials)\n",
    "            data = results.json()\n",
    "            \n",
    "            items_list = items_list + extract_results(data)\n",
    "    \n",
    "    return items_list"
   ]
  },
  {
   "cell_type": "code",
   "execution_count": 16,
   "metadata": {
    "scrolled": false
   },
   "outputs": [
    {
     "name": "stdout",
     "output_type": "stream",
     "text": [
      "dados enem\n",
      "49\n",
      "dados enade\n",
      "17\n",
      "dados prova brasil\n",
      "2\n",
      "dados ies\n",
      "19\n",
      "dados educacao\n",
      "54\n",
      "dados mec\n",
      "10\n",
      "dados inep\n",
      "43\n",
      "dados escola\n",
      "137\n",
      "dados escola inep\n",
      "9\n",
      "microdados inep\n",
      "20\n",
      "CPU times: user 548 ms, sys: 32.1 ms, total: 580 ms\n",
      "Wall time: 24.4 s\n"
     ]
    }
   ],
   "source": [
    "%%time\n",
    "\n",
    "items_list = []\n",
    "repositories_df = None\n",
    "\n",
    "for string in strings_edu:\n",
    "    url = url_base + string + sort\n",
    "    \n",
    "    logging.info(\"Pesquisando repositórios para a string: '{0}'\".format(string))\n",
    "    \n",
    "    t = scroll_pages(url)\n",
    "    items_list = items_list + t\n",
    "    print(string)\n",
    "    print(len(t))\n",
    "        \n",
    "repositories_df = pd.DataFrame(items_list)"
   ]
  },
  {
   "cell_type": "code",
   "execution_count": 18,
   "metadata": {},
   "outputs": [
    {
     "data": {
      "text/html": [
       "<div>\n",
       "<style scoped>\n",
       "    .dataframe tbody tr th:only-of-type {\n",
       "        vertical-align: middle;\n",
       "    }\n",
       "\n",
       "    .dataframe tbody tr th {\n",
       "        vertical-align: top;\n",
       "    }\n",
       "\n",
       "    .dataframe thead th {\n",
       "        text-align: right;\n",
       "    }\n",
       "</style>\n",
       "<table border=\"1\" class=\"dataframe\">\n",
       "  <thead>\n",
       "    <tr style=\"text-align: right;\">\n",
       "      <th></th>\n",
       "      <th>id</th>\n",
       "      <th>full_name</th>\n",
       "      <th>description</th>\n",
       "      <th>owner_type</th>\n",
       "      <th>owner_api_url</th>\n",
       "      <th>owner_url</th>\n",
       "      <th>api_url</th>\n",
       "      <th>url</th>\n",
       "      <th>fork</th>\n",
       "      <th>created_at</th>\n",
       "      <th>...</th>\n",
       "      <th>size</th>\n",
       "      <th>stargazers_count</th>\n",
       "      <th>language</th>\n",
       "      <th>has_issues</th>\n",
       "      <th>has_wiki</th>\n",
       "      <th>forks_count</th>\n",
       "      <th>forks</th>\n",
       "      <th>open_issues</th>\n",
       "      <th>license</th>\n",
       "      <th>timestamp_extract</th>\n",
       "    </tr>\n",
       "  </thead>\n",
       "  <tbody>\n",
       "    <tr>\n",
       "      <th>0</th>\n",
       "      <td>224536388</td>\n",
       "      <td>jesspiires/microdadosEnem_Deficit_Atencao</td>\n",
       "      <td>Análise dos Micro Dados dos alunos que fizeram...</td>\n",
       "      <td>User</td>\n",
       "      <td>https://api.github.com/users/jesspiires</td>\n",
       "      <td>https://github.com/jesspiires</td>\n",
       "      <td>https://api.github.com/repos/jesspiires/microd...</td>\n",
       "      <td>https://github.com/jesspiires/microdadosEnem_D...</td>\n",
       "      <td>False</td>\n",
       "      <td>2019-11-27T23:53:57Z</td>\n",
       "      <td>...</td>\n",
       "      <td>107</td>\n",
       "      <td>3</td>\n",
       "      <td>Jupyter Notebook</td>\n",
       "      <td>True</td>\n",
       "      <td>True</td>\n",
       "      <td>1</td>\n",
       "      <td>1</td>\n",
       "      <td>0</td>\n",
       "      <td>None</td>\n",
       "      <td>1584112727</td>\n",
       "    </tr>\n",
       "    <tr>\n",
       "      <th>1</th>\n",
       "      <td>52244477</td>\n",
       "      <td>sombriks/microdados-brutos</td>\n",
       "      <td>script para carga de dados brutos do enem de 1...</td>\n",
       "      <td>User</td>\n",
       "      <td>https://api.github.com/users/sombriks</td>\n",
       "      <td>https://github.com/sombriks</td>\n",
       "      <td>https://api.github.com/repos/sombriks/microdad...</td>\n",
       "      <td>https://github.com/sombriks/microdados-brutos</td>\n",
       "      <td>False</td>\n",
       "      <td>2016-02-22T03:30:11Z</td>\n",
       "      <td>...</td>\n",
       "      <td>13411</td>\n",
       "      <td>3</td>\n",
       "      <td>JavaScript</td>\n",
       "      <td>True</td>\n",
       "      <td>True</td>\n",
       "      <td>0</td>\n",
       "      <td>0</td>\n",
       "      <td>0</td>\n",
       "      <td>None</td>\n",
       "      <td>1584112727</td>\n",
       "    </tr>\n",
       "    <tr>\n",
       "      <th>2</th>\n",
       "      <td>155470617</td>\n",
       "      <td>leonardojs1981/analise_enem_2</td>\n",
       "      <td>Código para análise de dados do ENEM e Censo E...</td>\n",
       "      <td>User</td>\n",
       "      <td>https://api.github.com/users/leonardojs1981</td>\n",
       "      <td>https://github.com/leonardojs1981</td>\n",
       "      <td>https://api.github.com/repos/leonardojs1981/an...</td>\n",
       "      <td>https://github.com/leonardojs1981/analise_enem_2</td>\n",
       "      <td>False</td>\n",
       "      <td>2018-10-30T23:38:24Z</td>\n",
       "      <td>...</td>\n",
       "      <td>123</td>\n",
       "      <td>2</td>\n",
       "      <td>Jupyter Notebook</td>\n",
       "      <td>True</td>\n",
       "      <td>True</td>\n",
       "      <td>4</td>\n",
       "      <td>4</td>\n",
       "      <td>0</td>\n",
       "      <td>None</td>\n",
       "      <td>1584112727</td>\n",
       "    </tr>\n",
       "  </tbody>\n",
       "</table>\n",
       "<p>3 rows × 22 columns</p>\n",
       "</div>"
      ],
      "text/plain": [
       "          id                                  full_name  \\\n",
       "0  224536388  jesspiires/microdadosEnem_Deficit_Atencao   \n",
       "1   52244477                 sombriks/microdados-brutos   \n",
       "2  155470617              leonardojs1981/analise_enem_2   \n",
       "\n",
       "                                         description owner_type  \\\n",
       "0  Análise dos Micro Dados dos alunos que fizeram...       User   \n",
       "1  script para carga de dados brutos do enem de 1...       User   \n",
       "2  Código para análise de dados do ENEM e Censo E...       User   \n",
       "\n",
       "                                 owner_api_url  \\\n",
       "0      https://api.github.com/users/jesspiires   \n",
       "1        https://api.github.com/users/sombriks   \n",
       "2  https://api.github.com/users/leonardojs1981   \n",
       "\n",
       "                           owner_url  \\\n",
       "0      https://github.com/jesspiires   \n",
       "1        https://github.com/sombriks   \n",
       "2  https://github.com/leonardojs1981   \n",
       "\n",
       "                                             api_url  \\\n",
       "0  https://api.github.com/repos/jesspiires/microd...   \n",
       "1  https://api.github.com/repos/sombriks/microdad...   \n",
       "2  https://api.github.com/repos/leonardojs1981/an...   \n",
       "\n",
       "                                                 url   fork  \\\n",
       "0  https://github.com/jesspiires/microdadosEnem_D...  False   \n",
       "1      https://github.com/sombriks/microdados-brutos  False   \n",
       "2   https://github.com/leonardojs1981/analise_enem_2  False   \n",
       "\n",
       "             created_at  ...   size stargazers_count          language  \\\n",
       "0  2019-11-27T23:53:57Z  ...    107                3  Jupyter Notebook   \n",
       "1  2016-02-22T03:30:11Z  ...  13411                3        JavaScript   \n",
       "2  2018-10-30T23:38:24Z  ...    123                2  Jupyter Notebook   \n",
       "\n",
       "   has_issues has_wiki  forks_count  forks  open_issues  license  \\\n",
       "0        True     True            1      1            0     None   \n",
       "1        True     True            0      0            0     None   \n",
       "2        True     True            4      4            0     None   \n",
       "\n",
       "   timestamp_extract  \n",
       "0         1584112727  \n",
       "1         1584112727  \n",
       "2         1584112727  \n",
       "\n",
       "[3 rows x 22 columns]"
      ]
     },
     "execution_count": 18,
     "metadata": {},
     "output_type": "execute_result"
    }
   ],
   "source": [
    "repositories_df.head(3)"
   ]
  },
  {
   "cell_type": "markdown",
   "metadata": {},
   "source": [
    "Quantidade de resultados:"
   ]
  },
  {
   "cell_type": "code",
   "execution_count": 19,
   "metadata": {},
   "outputs": [
    {
     "data": {
      "text/plain": [
       "360"
      ]
     },
     "execution_count": 19,
     "metadata": {},
     "output_type": "execute_result"
    }
   ],
   "source": [
    "len(repositories_df)"
   ]
  },
  {
   "cell_type": "markdown",
   "metadata": {},
   "source": [
    "Retirando registros duplicados visto que palavras de busca diferentes podem levar a um mesmo repositório."
   ]
  },
  {
   "cell_type": "code",
   "execution_count": 22,
   "metadata": {},
   "outputs": [],
   "source": [
    "repositories_df = repositories_df.drop_duplicates(['id', 'api_url'])"
   ]
  },
  {
   "cell_type": "code",
   "execution_count": 23,
   "metadata": {},
   "outputs": [
    {
     "data": {
      "text/plain": [
       "311"
      ]
     },
     "execution_count": 23,
     "metadata": {},
     "output_type": "execute_result"
    }
   ],
   "source": [
    "len(repositories_df)"
   ]
  },
  {
   "cell_type": "code",
   "execution_count": 24,
   "metadata": {
    "scrolled": true
   },
   "outputs": [
    {
     "data": {
      "text/html": [
       "<div>\n",
       "<style scoped>\n",
       "    .dataframe tbody tr th:only-of-type {\n",
       "        vertical-align: middle;\n",
       "    }\n",
       "\n",
       "    .dataframe tbody tr th {\n",
       "        vertical-align: top;\n",
       "    }\n",
       "\n",
       "    .dataframe thead th {\n",
       "        text-align: right;\n",
       "    }\n",
       "</style>\n",
       "<table border=\"1\" class=\"dataframe\">\n",
       "  <thead>\n",
       "    <tr style=\"text-align: right;\">\n",
       "      <th></th>\n",
       "      <th>id</th>\n",
       "      <th>size</th>\n",
       "      <th>stargazers_count</th>\n",
       "      <th>forks_count</th>\n",
       "      <th>forks</th>\n",
       "      <th>open_issues</th>\n",
       "    </tr>\n",
       "  </thead>\n",
       "  <tbody>\n",
       "    <tr>\n",
       "      <th>count</th>\n",
       "      <td>3.110000e+02</td>\n",
       "      <td>311.000000</td>\n",
       "      <td>311.000000</td>\n",
       "      <td>311.000000</td>\n",
       "      <td>311.000000</td>\n",
       "      <td>311.000000</td>\n",
       "    </tr>\n",
       "    <tr>\n",
       "      <th>mean</th>\n",
       "      <td>1.584593e+08</td>\n",
       "      <td>10354.832797</td>\n",
       "      <td>0.565916</td>\n",
       "      <td>0.405145</td>\n",
       "      <td>0.405145</td>\n",
       "      <td>0.318328</td>\n",
       "    </tr>\n",
       "    <tr>\n",
       "      <th>std</th>\n",
       "      <td>6.710318e+07</td>\n",
       "      <td>35552.879356</td>\n",
       "      <td>2.940484</td>\n",
       "      <td>1.413018</td>\n",
       "      <td>1.413018</td>\n",
       "      <td>2.390496</td>\n",
       "    </tr>\n",
       "    <tr>\n",
       "      <th>min</th>\n",
       "      <td>2.579957e+06</td>\n",
       "      <td>0.000000</td>\n",
       "      <td>0.000000</td>\n",
       "      <td>0.000000</td>\n",
       "      <td>0.000000</td>\n",
       "      <td>0.000000</td>\n",
       "    </tr>\n",
       "    <tr>\n",
       "      <th>25%</th>\n",
       "      <td>1.097918e+08</td>\n",
       "      <td>32.000000</td>\n",
       "      <td>0.000000</td>\n",
       "      <td>0.000000</td>\n",
       "      <td>0.000000</td>\n",
       "      <td>0.000000</td>\n",
       "    </tr>\n",
       "    <tr>\n",
       "      <th>50%</th>\n",
       "      <td>1.758186e+08</td>\n",
       "      <td>296.000000</td>\n",
       "      <td>0.000000</td>\n",
       "      <td>0.000000</td>\n",
       "      <td>0.000000</td>\n",
       "      <td>0.000000</td>\n",
       "    </tr>\n",
       "    <tr>\n",
       "      <th>75%</th>\n",
       "      <td>2.186834e+08</td>\n",
       "      <td>3474.500000</td>\n",
       "      <td>0.000000</td>\n",
       "      <td>0.000000</td>\n",
       "      <td>0.000000</td>\n",
       "      <td>0.000000</td>\n",
       "    </tr>\n",
       "    <tr>\n",
       "      <th>max</th>\n",
       "      <td>2.465781e+08</td>\n",
       "      <td>306083.000000</td>\n",
       "      <td>47.000000</td>\n",
       "      <td>17.000000</td>\n",
       "      <td>17.000000</td>\n",
       "      <td>35.000000</td>\n",
       "    </tr>\n",
       "  </tbody>\n",
       "</table>\n",
       "</div>"
      ],
      "text/plain": [
       "                 id           size  stargazers_count  forks_count       forks  \\\n",
       "count  3.110000e+02     311.000000        311.000000   311.000000  311.000000   \n",
       "mean   1.584593e+08   10354.832797          0.565916     0.405145    0.405145   \n",
       "std    6.710318e+07   35552.879356          2.940484     1.413018    1.413018   \n",
       "min    2.579957e+06       0.000000          0.000000     0.000000    0.000000   \n",
       "25%    1.097918e+08      32.000000          0.000000     0.000000    0.000000   \n",
       "50%    1.758186e+08     296.000000          0.000000     0.000000    0.000000   \n",
       "75%    2.186834e+08    3474.500000          0.000000     0.000000    0.000000   \n",
       "max    2.465781e+08  306083.000000         47.000000    17.000000   17.000000   \n",
       "\n",
       "       open_issues  \n",
       "count   311.000000  \n",
       "mean      0.318328  \n",
       "std       2.390496  \n",
       "min       0.000000  \n",
       "25%       0.000000  \n",
       "50%       0.000000  \n",
       "75%       0.000000  \n",
       "max      35.000000  "
      ]
     },
     "execution_count": 24,
     "metadata": {},
     "output_type": "execute_result"
    }
   ],
   "source": [
    "repositories_df.describe()"
   ]
  },
  {
   "cell_type": "markdown",
   "metadata": {},
   "source": [
    "Quantidade de colunas:"
   ]
  },
  {
   "cell_type": "code",
   "execution_count": 25,
   "metadata": {},
   "outputs": [
    {
     "data": {
      "text/plain": [
       "22"
      ]
     },
     "execution_count": 25,
     "metadata": {},
     "output_type": "execute_result"
    }
   ],
   "source": [
    "len(repositories_df.columns)"
   ]
  },
  {
   "cell_type": "code",
   "execution_count": 31,
   "metadata": {
    "scrolled": true
   },
   "outputs": [],
   "source": [
    "repositories_df = repositories_df.sort_values('stargazers_count', ascending=False)"
   ]
  },
  {
   "cell_type": "code",
   "execution_count": 35,
   "metadata": {},
   "outputs": [
    {
     "data": {
      "text/html": [
       "<div>\n",
       "<style scoped>\n",
       "    .dataframe tbody tr th:only-of-type {\n",
       "        vertical-align: middle;\n",
       "    }\n",
       "\n",
       "    .dataframe tbody tr th {\n",
       "        vertical-align: top;\n",
       "    }\n",
       "\n",
       "    .dataframe thead th {\n",
       "        text-align: right;\n",
       "    }\n",
       "</style>\n",
       "<table border=\"1\" class=\"dataframe\">\n",
       "  <thead>\n",
       "    <tr style=\"text-align: right;\">\n",
       "      <th></th>\n",
       "      <th>id</th>\n",
       "      <th>full_name</th>\n",
       "      <th>description</th>\n",
       "      <th>owner_type</th>\n",
       "      <th>owner_api_url</th>\n",
       "      <th>owner_url</th>\n",
       "      <th>api_url</th>\n",
       "      <th>url</th>\n",
       "      <th>fork</th>\n",
       "      <th>created_at</th>\n",
       "      <th>...</th>\n",
       "      <th>size</th>\n",
       "      <th>stargazers_count</th>\n",
       "      <th>language</th>\n",
       "      <th>has_issues</th>\n",
       "      <th>has_wiki</th>\n",
       "      <th>forks_count</th>\n",
       "      <th>forks</th>\n",
       "      <th>open_issues</th>\n",
       "      <th>license</th>\n",
       "      <th>timestamp_extract</th>\n",
       "    </tr>\n",
       "  </thead>\n",
       "  <tbody>\n",
       "    <tr>\n",
       "      <th>87</th>\n",
       "      <td>73385196</td>\n",
       "      <td>prefeiturasp/dados-educacao</td>\n",
       "      <td>Análises e tutoriais das bases de dados aberto...</td>\n",
       "      <td>Organization</td>\n",
       "      <td>https://api.github.com/users/prefeiturasp</td>\n",
       "      <td>https://github.com/prefeiturasp</td>\n",
       "      <td>https://api.github.com/repos/prefeiturasp/dado...</td>\n",
       "      <td>https://github.com/prefeiturasp/dados-educacao</td>\n",
       "      <td>False</td>\n",
       "      <td>2016-11-10T13:35:40Z</td>\n",
       "      <td>...</td>\n",
       "      <td>2737</td>\n",
       "      <td>47</td>\n",
       "      <td>Jupyter Notebook</td>\n",
       "      <td>True</td>\n",
       "      <td>True</td>\n",
       "      <td>17</td>\n",
       "      <td>17</td>\n",
       "      <td>1</td>\n",
       "      <td>None</td>\n",
       "      <td>1584112734</td>\n",
       "    </tr>\n",
       "  </tbody>\n",
       "</table>\n",
       "<p>1 rows × 22 columns</p>\n",
       "</div>"
      ],
      "text/plain": [
       "          id                    full_name  \\\n",
       "87  73385196  prefeiturasp/dados-educacao   \n",
       "\n",
       "                                          description    owner_type  \\\n",
       "87  Análises e tutoriais das bases de dados aberto...  Organization   \n",
       "\n",
       "                                owner_api_url  \\\n",
       "87  https://api.github.com/users/prefeiturasp   \n",
       "\n",
       "                          owner_url  \\\n",
       "87  https://github.com/prefeiturasp   \n",
       "\n",
       "                                              api_url  \\\n",
       "87  https://api.github.com/repos/prefeiturasp/dado...   \n",
       "\n",
       "                                               url   fork  \\\n",
       "87  https://github.com/prefeiturasp/dados-educacao  False   \n",
       "\n",
       "              created_at  ...  size stargazers_count          language  \\\n",
       "87  2016-11-10T13:35:40Z  ...  2737               47  Jupyter Notebook   \n",
       "\n",
       "    has_issues has_wiki  forks_count  forks  open_issues  license  \\\n",
       "87        True     True           17     17            1     None   \n",
       "\n",
       "    timestamp_extract  \n",
       "87         1584112734  \n",
       "\n",
       "[1 rows x 22 columns]"
      ]
     },
     "execution_count": 35,
     "metadata": {},
     "output_type": "execute_result"
    }
   ],
   "source": [
    "repositories_df.head(1)"
   ]
  },
  {
   "cell_type": "markdown",
   "metadata": {},
   "source": [
    "## Extraindo _Commits_, _Contributors_ e dados do _Owner_"
   ]
  },
  {
   "cell_type": "code",
   "execution_count": 36,
   "metadata": {},
   "outputs": [],
   "source": [
    "repo_copia = repositories_df"
   ]
  },
  {
   "cell_type": "code",
   "execution_count": 37,
   "metadata": {},
   "outputs": [],
   "source": [
    "def extract_commits(url_repo):\n",
    "    \n",
    "    commits_url = url_repo + '/commits'  \n",
    "    results = requests.get(commits_url, auth=credentials)\n",
    "    \n",
    "    if results.status_code == 409:\n",
    "        return None\n",
    "    \n",
    "    commits = len(results.json())\n",
    "\n",
    "    header = results.links\n",
    "    \n",
    "    while header.get('next', False):\n",
    "        next_url = header.get('next').get('url')        \n",
    "        results = requests.get(next_url, auth=credentials)\n",
    "        commits = commits + len(results.json())    \n",
    "        header = results.links\n",
    "\n",
    "\n",
    "    return commits"
   ]
  },
  {
   "cell_type": "code",
   "execution_count": 38,
   "metadata": {},
   "outputs": [],
   "source": [
    "def extract_contributors(url_repo):\n",
    "    \n",
    "    contributors_url = url_repo + '/contributors'\n",
    "    results = requests.get(contributors_url, auth=credentials)\n",
    "    \n",
    "    if results.status_code == 204:\n",
    "        return None\n",
    "    \n",
    "    contributors = len(results.json())\n",
    "\n",
    "    header = results.links\n",
    "    \n",
    "    while header.get('next', False):\n",
    "        next_url = header.get('next').get('url')\n",
    "        results = requests.get(next_url, auth=credentials)\n",
    "        contributors = contributors + len(results.json())\n",
    "        header = results.links\n",
    "    \n",
    "    return contributors"
   ]
  },
  {
   "cell_type": "code",
   "execution_count": 39,
   "metadata": {},
   "outputs": [],
   "source": [
    "def extract_owner_data(owner_api_url):\n",
    "    \n",
    "    results = requests.get(owner_api_url, auth=credentials)\n",
    "    data = results.json()\n",
    "\n",
    "    owner_data = {\n",
    "        'owner_location': data.get('location', None),\n",
    "        'owner_email': data.get('email', None),\n",
    "        'owner_blog': data.get('blog', None),\n",
    "        'owner_name': data.get('name', None)\n",
    "    }\n",
    "    \n",
    "    return owner_data"
   ]
  },
  {
   "cell_type": "code",
   "execution_count": 40,
   "metadata": {
    "scrolled": false
   },
   "outputs": [
    {
     "name": "stdout",
     "output_type": "stream",
     "text": [
      "CPU times: user 33.5 s, sys: 1.2 s, total: 34.7 s\n",
      "Wall time: 8min 51s\n"
     ]
    }
   ],
   "source": [
    "%%time\n",
    "urls = repositories_df['api_url']\n",
    "\n",
    "for url in urls:\n",
    "\n",
    "    owner_api_url = repositories_df.loc[repositories_df[\"api_url\"] == url]['owner_api_url'].item()\n",
    "    owner_data = extract_owner_data(owner_api_url)\n",
    "    commits = extract_commits(url)\n",
    "    contributors = extract_contributors(url)\n",
    "    \n",
    "    logging.info(\"Repositório: {0}\".format(url))\n",
    "    logging.info(\"Tem {0} Commits - {1} Contributors\".format(commits,contributors))\n",
    "    logging.info(\"Owner location: {0}\".format(owner_data.get('owner_location')))\n",
    "\n",
    "    repositories_df.loc[repositories_df[\"api_url\"] == url, 'commits'] = commits\n",
    "    repositories_df.loc[repositories_df[\"api_url\"] == url, 'contributors'] = contributors\n",
    "    repositories_df.loc[repositories_df[\"api_url\"] == url, 'owner_location'] = owner_data.get('owner_location')\n",
    "    repositories_df.loc[repositories_df[\"api_url\"] == url, 'owner_email'] = owner_data.get('owner_email')\n",
    "    repositories_df.loc[repositories_df[\"api_url\"] == url, 'owner_blog'] = owner_data.get('owner_blog')\n",
    "    repositories_df.loc[repositories_df[\"api_url\"] == url, 'owner_name'] = owner_data.get('owner_name')"
   ]
  },
  {
   "cell_type": "markdown",
   "metadata": {},
   "source": [
    "Agora devemos ter mais 6 colunas"
   ]
  },
  {
   "cell_type": "code",
   "execution_count": 41,
   "metadata": {},
   "outputs": [
    {
     "data": {
      "text/plain": [
       "28"
      ]
     },
     "execution_count": 41,
     "metadata": {},
     "output_type": "execute_result"
    }
   ],
   "source": [
    "len(repositories_df.columns)"
   ]
  },
  {
   "cell_type": "code",
   "execution_count": 43,
   "metadata": {},
   "outputs": [
    {
     "data": {
      "text/html": [
       "<div>\n",
       "<style scoped>\n",
       "    .dataframe tbody tr th:only-of-type {\n",
       "        vertical-align: middle;\n",
       "    }\n",
       "\n",
       "    .dataframe tbody tr th {\n",
       "        vertical-align: top;\n",
       "    }\n",
       "\n",
       "    .dataframe thead th {\n",
       "        text-align: right;\n",
       "    }\n",
       "</style>\n",
       "<table border=\"1\" class=\"dataframe\">\n",
       "  <thead>\n",
       "    <tr style=\"text-align: right;\">\n",
       "      <th></th>\n",
       "      <th>id</th>\n",
       "      <th>full_name</th>\n",
       "      <th>description</th>\n",
       "      <th>owner_type</th>\n",
       "      <th>owner_api_url</th>\n",
       "      <th>owner_url</th>\n",
       "      <th>api_url</th>\n",
       "      <th>url</th>\n",
       "      <th>fork</th>\n",
       "      <th>created_at</th>\n",
       "      <th>...</th>\n",
       "      <th>forks</th>\n",
       "      <th>open_issues</th>\n",
       "      <th>license</th>\n",
       "      <th>timestamp_extract</th>\n",
       "      <th>commits</th>\n",
       "      <th>contributors</th>\n",
       "      <th>owner_location</th>\n",
       "      <th>owner_email</th>\n",
       "      <th>owner_blog</th>\n",
       "      <th>owner_name</th>\n",
       "    </tr>\n",
       "  </thead>\n",
       "  <tbody>\n",
       "    <tr>\n",
       "      <th>87</th>\n",
       "      <td>73385196</td>\n",
       "      <td>prefeiturasp/dados-educacao</td>\n",
       "      <td>Análises e tutoriais das bases de dados aberto...</td>\n",
       "      <td>Organization</td>\n",
       "      <td>https://api.github.com/users/prefeiturasp</td>\n",
       "      <td>https://github.com/prefeiturasp</td>\n",
       "      <td>https://api.github.com/repos/prefeiturasp/dado...</td>\n",
       "      <td>https://github.com/prefeiturasp/dados-educacao</td>\n",
       "      <td>False</td>\n",
       "      <td>2016-11-10T13:35:40Z</td>\n",
       "      <td>...</td>\n",
       "      <td>17</td>\n",
       "      <td>1</td>\n",
       "      <td>None</td>\n",
       "      <td>1584112734</td>\n",
       "      <td>18.0</td>\n",
       "      <td>2.0</td>\n",
       "      <td>São Paulo, SP</td>\n",
       "      <td>tecnologia@prefeitura.sp.gov.br</td>\n",
       "      <td>http://www.capital.sp.gov.br</td>\n",
       "      <td>Prefeitura Municipal de São Paulo</td>\n",
       "    </tr>\n",
       "    <tr>\n",
       "      <th>151</th>\n",
       "      <td>19895876</td>\n",
       "      <td>inepdadosabertos/api</td>\n",
       "      <td>API de dados abertos para o INEP</td>\n",
       "      <td>Organization</td>\n",
       "      <td>https://api.github.com/users/inepdadosabertos</td>\n",
       "      <td>https://github.com/inepdadosabertos</td>\n",
       "      <td>https://api.github.com/repos/inepdadosabertos/api</td>\n",
       "      <td>https://github.com/inepdadosabertos/api</td>\n",
       "      <td>False</td>\n",
       "      <td>2014-05-17T20:45:05Z</td>\n",
       "      <td>...</td>\n",
       "      <td>4</td>\n",
       "      <td>2</td>\n",
       "      <td>GNU General Public License v2.0</td>\n",
       "      <td>1584112738</td>\n",
       "      <td>29.0</td>\n",
       "      <td>2.0</td>\n",
       "      <td>None</td>\n",
       "      <td>None</td>\n",
       "      <td></td>\n",
       "      <td>None</td>\n",
       "    </tr>\n",
       "    <tr>\n",
       "      <th>89</th>\n",
       "      <td>215114032</td>\n",
       "      <td>Explicador/MozAPI</td>\n",
       "      <td>API com diversos dados de Moz, incluindo dados...</td>\n",
       "      <td>Organization</td>\n",
       "      <td>https://api.github.com/users/Explicador</td>\n",
       "      <td>https://github.com/Explicador</td>\n",
       "      <td>https://api.github.com/repos/Explicador/MozAPI</td>\n",
       "      <td>https://github.com/Explicador/MozAPI</td>\n",
       "      <td>False</td>\n",
       "      <td>2019-10-14T18:12:48Z</td>\n",
       "      <td>...</td>\n",
       "      <td>0</td>\n",
       "      <td>2</td>\n",
       "      <td>MIT License</td>\n",
       "      <td>1584112734</td>\n",
       "      <td>5.0</td>\n",
       "      <td>1.0</td>\n",
       "      <td>Maputo, Mozambique</td>\n",
       "      <td>info@explicador.co.mz</td>\n",
       "      <td>https://explicador.co.mz</td>\n",
       "      <td>Explicador</td>\n",
       "    </tr>\n",
       "  </tbody>\n",
       "</table>\n",
       "<p>3 rows × 28 columns</p>\n",
       "</div>"
      ],
      "text/plain": [
       "            id                    full_name  \\\n",
       "87    73385196  prefeiturasp/dados-educacao   \n",
       "151   19895876         inepdadosabertos/api   \n",
       "89   215114032            Explicador/MozAPI   \n",
       "\n",
       "                                           description    owner_type  \\\n",
       "87   Análises e tutoriais das bases de dados aberto...  Organization   \n",
       "151                   API de dados abertos para o INEP  Organization   \n",
       "89   API com diversos dados de Moz, incluindo dados...  Organization   \n",
       "\n",
       "                                     owner_api_url  \\\n",
       "87       https://api.github.com/users/prefeiturasp   \n",
       "151  https://api.github.com/users/inepdadosabertos   \n",
       "89         https://api.github.com/users/Explicador   \n",
       "\n",
       "                               owner_url  \\\n",
       "87       https://github.com/prefeiturasp   \n",
       "151  https://github.com/inepdadosabertos   \n",
       "89         https://github.com/Explicador   \n",
       "\n",
       "                                               api_url  \\\n",
       "87   https://api.github.com/repos/prefeiturasp/dado...   \n",
       "151  https://api.github.com/repos/inepdadosabertos/api   \n",
       "89      https://api.github.com/repos/Explicador/MozAPI   \n",
       "\n",
       "                                                url   fork  \\\n",
       "87   https://github.com/prefeiturasp/dados-educacao  False   \n",
       "151         https://github.com/inepdadosabertos/api  False   \n",
       "89             https://github.com/Explicador/MozAPI  False   \n",
       "\n",
       "               created_at  ... forks open_issues  \\\n",
       "87   2016-11-10T13:35:40Z  ...    17           1   \n",
       "151  2014-05-17T20:45:05Z  ...     4           2   \n",
       "89   2019-10-14T18:12:48Z  ...     0           2   \n",
       "\n",
       "                             license  timestamp_extract commits  contributors  \\\n",
       "87                              None         1584112734    18.0           2.0   \n",
       "151  GNU General Public License v2.0         1584112738    29.0           2.0   \n",
       "89                       MIT License         1584112734     5.0           1.0   \n",
       "\n",
       "         owner_location                      owner_email  \\\n",
       "87        São Paulo, SP  tecnologia@prefeitura.sp.gov.br   \n",
       "151                None                             None   \n",
       "89   Maputo, Mozambique            info@explicador.co.mz   \n",
       "\n",
       "                       owner_blog                         owner_name  \n",
       "87   http://www.capital.sp.gov.br  Prefeitura Municipal de São Paulo  \n",
       "151                                                             None  \n",
       "89       https://explicador.co.mz                         Explicador  \n",
       "\n",
       "[3 rows x 28 columns]"
      ]
     },
     "execution_count": 43,
     "metadata": {},
     "output_type": "execute_result"
    }
   ],
   "source": [
    "repositories_df.head(3)"
   ]
  },
  {
   "cell_type": "markdown",
   "metadata": {},
   "source": [
    "Conferindo valores nulos"
   ]
  },
  {
   "cell_type": "code",
   "execution_count": 44,
   "metadata": {},
   "outputs": [
    {
     "data": {
      "text/plain": [
       "16"
      ]
     },
     "execution_count": 44,
     "metadata": {},
     "output_type": "execute_result"
    }
   ],
   "source": [
    "len(repositories_df.loc[repositories_df['commits'].isnull()][['api_url', 'commits', 'contributors']])"
   ]
  },
  {
   "cell_type": "markdown",
   "metadata": {},
   "source": [
    "Alguns repositórios realmente não tem nenhum commit como o [ccdpoa/ocida](https://github.com/ccdpoa/ocida)."
   ]
  },
  {
   "cell_type": "code",
   "execution_count": 55,
   "metadata": {},
   "outputs": [
    {
     "data": {
      "text/html": [
       "<div>\n",
       "<style scoped>\n",
       "    .dataframe tbody tr th:only-of-type {\n",
       "        vertical-align: middle;\n",
       "    }\n",
       "\n",
       "    .dataframe tbody tr th {\n",
       "        vertical-align: top;\n",
       "    }\n",
       "\n",
       "    .dataframe thead th {\n",
       "        text-align: right;\n",
       "    }\n",
       "</style>\n",
       "<table border=\"1\" class=\"dataframe\">\n",
       "  <thead>\n",
       "    <tr style=\"text-align: right;\">\n",
       "      <th></th>\n",
       "      <th>id</th>\n",
       "      <th>url</th>\n",
       "      <th>api_url</th>\n",
       "      <th>commits</th>\n",
       "      <th>contributors</th>\n",
       "    </tr>\n",
       "  </thead>\n",
       "  <tbody>\n",
       "    <tr>\n",
       "      <th>252</th>\n",
       "      <td>231368239</td>\n",
       "      <td>https://github.com/mario-rutman/ENTREVISTANDO-...</td>\n",
       "      <td>https://api.github.com/repos/mario-rutman/ENTR...</td>\n",
       "      <td>NaN</td>\n",
       "      <td>NaN</td>\n",
       "    </tr>\n",
       "    <tr>\n",
       "      <th>258</th>\n",
       "      <td>138407007</td>\n",
       "      <td>https://github.com/luisapanico/Gestores-Escolares</td>\n",
       "      <td>https://api.github.com/repos/luisapanico/Gesto...</td>\n",
       "      <td>NaN</td>\n",
       "      <td>NaN</td>\n",
       "    </tr>\n",
       "    <tr>\n",
       "      <th>272</th>\n",
       "      <td>115632691</td>\n",
       "      <td>https://github.com/RodrigoBarcelos/AgendaEscol...</td>\n",
       "      <td>https://api.github.com/repos/RodrigoBarcelos/A...</td>\n",
       "      <td>NaN</td>\n",
       "      <td>NaN</td>\n",
       "    </tr>\n",
       "    <tr>\n",
       "      <th>219</th>\n",
       "      <td>53981376</td>\n",
       "      <td>https://github.com/antonionei/dadosEscolas</td>\n",
       "      <td>https://api.github.com/repos/antonionei/dadosE...</td>\n",
       "      <td>NaN</td>\n",
       "      <td>NaN</td>\n",
       "    </tr>\n",
       "    <tr>\n",
       "      <th>223</th>\n",
       "      <td>212176337</td>\n",
       "      <td>https://github.com/SavioArthur/Projeto_Escola</td>\n",
       "      <td>https://api.github.com/repos/SavioArthur/Proje...</td>\n",
       "      <td>NaN</td>\n",
       "      <td>NaN</td>\n",
       "    </tr>\n",
       "    <tr>\n",
       "      <th>225</th>\n",
       "      <td>207171598</td>\n",
       "      <td>https://github.com/EdulinkBR/Escola</td>\n",
       "      <td>https://api.github.com/repos/EdulinkBR/Escola</td>\n",
       "      <td>NaN</td>\n",
       "      <td>NaN</td>\n",
       "    </tr>\n",
       "    <tr>\n",
       "      <th>231</th>\n",
       "      <td>210155655</td>\n",
       "      <td>https://github.com/juservi/escolas_brasileiras</td>\n",
       "      <td>https://api.github.com/repos/juservi/escolas_b...</td>\n",
       "      <td>NaN</td>\n",
       "      <td>NaN</td>\n",
       "    </tr>\n",
       "    <tr>\n",
       "      <th>347</th>\n",
       "      <td>123939819</td>\n",
       "      <td>https://github.com/pessoagabi/inep</td>\n",
       "      <td>https://api.github.com/repos/pessoagabi/inep</td>\n",
       "      <td>NaN</td>\n",
       "      <td>NaN</td>\n",
       "    </tr>\n",
       "    <tr>\n",
       "      <th>355</th>\n",
       "      <td>155280861</td>\n",
       "      <td>https://github.com/jhcf/exploradorinep</td>\n",
       "      <td>https://api.github.com/repos/jhcf/exploradorinep</td>\n",
       "      <td>NaN</td>\n",
       "      <td>NaN</td>\n",
       "    </tr>\n",
       "    <tr>\n",
       "      <th>281</th>\n",
       "      <td>131538999</td>\n",
       "      <td>https://github.com/gustavolaine/DS4A</td>\n",
       "      <td>https://api.github.com/repos/gustavolaine/DS4A</td>\n",
       "      <td>NaN</td>\n",
       "      <td>NaN</td>\n",
       "    </tr>\n",
       "    <tr>\n",
       "      <th>300</th>\n",
       "      <td>176492528</td>\n",
       "      <td>https://github.com/Lucaspaiva00/Projeto</td>\n",
       "      <td>https://api.github.com/repos/Lucaspaiva00/Projeto</td>\n",
       "      <td>NaN</td>\n",
       "      <td>NaN</td>\n",
       "    </tr>\n",
       "    <tr>\n",
       "      <th>110</th>\n",
       "      <td>97905591</td>\n",
       "      <td>https://github.com/mpnetto88/MapeandoEducacao</td>\n",
       "      <td>https://api.github.com/repos/mpnetto88/Mapeand...</td>\n",
       "      <td>NaN</td>\n",
       "      <td>NaN</td>\n",
       "    </tr>\n",
       "    <tr>\n",
       "      <th>72</th>\n",
       "      <td>124573083</td>\n",
       "      <td>https://github.com/jcosta0/iesf_bd2</td>\n",
       "      <td>https://api.github.com/repos/jcosta0/iesf_bd2</td>\n",
       "      <td>NaN</td>\n",
       "      <td>NaN</td>\n",
       "    </tr>\n",
       "    <tr>\n",
       "      <th>79</th>\n",
       "      <td>104570066</td>\n",
       "      <td>https://github.com/amaral08/creative_economy_sp</td>\n",
       "      <td>https://api.github.com/repos/amaral08/creative...</td>\n",
       "      <td>NaN</td>\n",
       "      <td>NaN</td>\n",
       "    </tr>\n",
       "    <tr>\n",
       "      <th>182</th>\n",
       "      <td>168725534</td>\n",
       "      <td>https://github.com/ronielsampaio/Scripts_INEP</td>\n",
       "      <td>https://api.github.com/repos/ronielsampaio/Scr...</td>\n",
       "      <td>NaN</td>\n",
       "      <td>NaN</td>\n",
       "    </tr>\n",
       "    <tr>\n",
       "      <th>134</th>\n",
       "      <td>65837427</td>\n",
       "      <td>https://github.com/APSFS/Local-Brazil</td>\n",
       "      <td>https://api.github.com/repos/APSFS/Local-Brazil</td>\n",
       "      <td>NaN</td>\n",
       "      <td>NaN</td>\n",
       "    </tr>\n",
       "  </tbody>\n",
       "</table>\n",
       "</div>"
      ],
      "text/plain": [
       "            id                                                url  \\\n",
       "252  231368239  https://github.com/mario-rutman/ENTREVISTANDO-...   \n",
       "258  138407007  https://github.com/luisapanico/Gestores-Escolares   \n",
       "272  115632691  https://github.com/RodrigoBarcelos/AgendaEscol...   \n",
       "219   53981376         https://github.com/antonionei/dadosEscolas   \n",
       "223  212176337      https://github.com/SavioArthur/Projeto_Escola   \n",
       "225  207171598                https://github.com/EdulinkBR/Escola   \n",
       "231  210155655     https://github.com/juservi/escolas_brasileiras   \n",
       "347  123939819                 https://github.com/pessoagabi/inep   \n",
       "355  155280861             https://github.com/jhcf/exploradorinep   \n",
       "281  131538999               https://github.com/gustavolaine/DS4A   \n",
       "300  176492528            https://github.com/Lucaspaiva00/Projeto   \n",
       "110   97905591      https://github.com/mpnetto88/MapeandoEducacao   \n",
       "72   124573083                https://github.com/jcosta0/iesf_bd2   \n",
       "79   104570066    https://github.com/amaral08/creative_economy_sp   \n",
       "182  168725534      https://github.com/ronielsampaio/Scripts_INEP   \n",
       "134   65837427              https://github.com/APSFS/Local-Brazil   \n",
       "\n",
       "                                               api_url  commits  contributors  \n",
       "252  https://api.github.com/repos/mario-rutman/ENTR...      NaN           NaN  \n",
       "258  https://api.github.com/repos/luisapanico/Gesto...      NaN           NaN  \n",
       "272  https://api.github.com/repos/RodrigoBarcelos/A...      NaN           NaN  \n",
       "219  https://api.github.com/repos/antonionei/dadosE...      NaN           NaN  \n",
       "223  https://api.github.com/repos/SavioArthur/Proje...      NaN           NaN  \n",
       "225      https://api.github.com/repos/EdulinkBR/Escola      NaN           NaN  \n",
       "231  https://api.github.com/repos/juservi/escolas_b...      NaN           NaN  \n",
       "347       https://api.github.com/repos/pessoagabi/inep      NaN           NaN  \n",
       "355   https://api.github.com/repos/jhcf/exploradorinep      NaN           NaN  \n",
       "281     https://api.github.com/repos/gustavolaine/DS4A      NaN           NaN  \n",
       "300  https://api.github.com/repos/Lucaspaiva00/Projeto      NaN           NaN  \n",
       "110  https://api.github.com/repos/mpnetto88/Mapeand...      NaN           NaN  \n",
       "72       https://api.github.com/repos/jcosta0/iesf_bd2      NaN           NaN  \n",
       "79   https://api.github.com/repos/amaral08/creative...      NaN           NaN  \n",
       "182  https://api.github.com/repos/ronielsampaio/Scr...      NaN           NaN  \n",
       "134    https://api.github.com/repos/APSFS/Local-Brazil      NaN           NaN  "
      ]
     },
     "execution_count": 55,
     "metadata": {},
     "output_type": "execute_result"
    }
   ],
   "source": [
    "repositories_df.loc[repositories_df['contributors'].isnull()][['id', 'url', 'api_url', 'commits', 'contributors']]"
   ]
  },
  {
   "cell_type": "code",
   "execution_count": 56,
   "metadata": {},
   "outputs": [
    {
     "data": {
      "text/plain": [
       "295"
      ]
     },
     "execution_count": 56,
     "metadata": {},
     "output_type": "execute_result"
    }
   ],
   "source": [
    "repositories_df = repositories_df.loc[repositories_df['contributors'].notnull()]\n",
    "len(repositories_df)"
   ]
  },
  {
   "cell_type": "markdown",
   "metadata": {},
   "source": [
    "Salvando os repositórios"
   ]
  },
  {
   "cell_type": "code",
   "execution_count": 57,
   "metadata": {},
   "outputs": [],
   "source": [
    "repositories_df.to_csv('../data/repositories_edu.csv', index=False)"
   ]
  },
  {
   "cell_type": "markdown",
   "metadata": {},
   "source": [
    "## Extraindo contribuidores dos repositórios"
   ]
  },
  {
   "cell_type": "code",
   "execution_count": 58,
   "metadata": {},
   "outputs": [],
   "source": [
    "def get_contributors(data, repo_data):\n",
    "\n",
    "    list_contributors = []\n",
    "\n",
    "    for item in data:        \n",
    "        contributor = {\n",
    "            'repo_id': repo_data.get('repo_id', None),\n",
    "            'repo_name': repo_data.get('repo_name', None),\n",
    "            'repo_url': repo_data.get('repo_url', None),\n",
    "            'repo_api_url': repo_data.get('repo_api_url', None),\n",
    "            'contributor_id': item.get('id', None),\n",
    "            'contributor_login': item.get('login', None),\n",
    "            'contributor_type': item.get('type', None),\n",
    "            'contributor_url': item.get('html_url', None),\n",
    "            'contributor_api_url': item.get('url', None),\n",
    "            'timestamp_extract': str(time.time()).split('.')[0]\n",
    "        }\n",
    "\n",
    "        list_contributors.append(contributor)\n",
    "\n",
    "    return list_contributors"
   ]
  },
  {
   "cell_type": "code",
   "execution_count": 59,
   "metadata": {},
   "outputs": [],
   "source": [
    "def scroll_contributors(url, repo_data):\n",
    "\n",
    "    list_contributors = []\n",
    "    results = requests.get(url, auth=credentials)\n",
    "    \n",
    "    if results.status_code is 204:\n",
    "        return None\n",
    "    \n",
    "    data = results.json()\n",
    "    list_contributors = get_contributors(data, repo_data)\n",
    "    header = results.links\n",
    "    \n",
    "    while header.get('next', False):\n",
    "        \n",
    "        next_url = header.get('next').get('url')            \n",
    "        results = requests.get(next_url, auth=credentials)\n",
    "        data = results.json()\n",
    "        list_contributors = list_contributors + get_contributors(data, repo_data)  \n",
    "        header = results.links\n",
    "        \n",
    "    return list_contributors"
   ]
  },
  {
   "cell_type": "code",
   "execution_count": 60,
   "metadata": {},
   "outputs": [],
   "source": [
    "def search_contributors(repositories_df):\n",
    "    \n",
    "    urls = repositories_df['api_url']\n",
    "    list_contributors_all_repo = []\n",
    "    \n",
    "    for url in urls:\n",
    "        logging.info('Extraindo contribuidores de: {0}'.format(url))\n",
    "        \n",
    "        repo_data = {\n",
    "                'repo_id': repositories_df.loc[repositories_df[\"api_url\"] == url, 'id'].values[0],\n",
    "                'repo_name': repositories_df.loc[repositories_df[\"api_url\"] == url, 'full_name'].values[0],\n",
    "                'repo_url': repositories_df.loc[repositories_df[\"api_url\"] == url, 'url'].values[0],\n",
    "                'repo_api_url': url,\n",
    "            }\n",
    "        \n",
    "        url_contributors = url + '/contributors'        \n",
    "        contributors = scroll_contributors(url_contributors, repo_data)\n",
    "        \n",
    "        if contributors:\n",
    "            list_contributors_all_repo = list_contributors_all_repo + contributors\n",
    "    \n",
    "    contributors_df = pd.DataFrame(list_contributors_all_repo)     \n",
    "        \n",
    "    return contributors_df"
   ]
  },
  {
   "cell_type": "code",
   "execution_count": 61,
   "metadata": {},
   "outputs": [
    {
     "name": "stdout",
     "output_type": "stream",
     "text": [
      "CPU times: user 8.83 s, sys: 335 ms, total: 9.16 s\n",
      "Wall time: 2min 3s\n"
     ]
    }
   ],
   "source": [
    "%%time\n",
    "contributors_df = search_contributors(repositories_df)"
   ]
  },
  {
   "cell_type": "code",
   "execution_count": 62,
   "metadata": {},
   "outputs": [
    {
     "data": {
      "text/html": [
       "<div>\n",
       "<style scoped>\n",
       "    .dataframe tbody tr th:only-of-type {\n",
       "        vertical-align: middle;\n",
       "    }\n",
       "\n",
       "    .dataframe tbody tr th {\n",
       "        vertical-align: top;\n",
       "    }\n",
       "\n",
       "    .dataframe thead th {\n",
       "        text-align: right;\n",
       "    }\n",
       "</style>\n",
       "<table border=\"1\" class=\"dataframe\">\n",
       "  <thead>\n",
       "    <tr style=\"text-align: right;\">\n",
       "      <th></th>\n",
       "      <th>repo_id</th>\n",
       "      <th>repo_name</th>\n",
       "      <th>repo_url</th>\n",
       "      <th>repo_api_url</th>\n",
       "      <th>contributor_id</th>\n",
       "      <th>contributor_login</th>\n",
       "      <th>contributor_type</th>\n",
       "      <th>contributor_url</th>\n",
       "      <th>contributor_api_url</th>\n",
       "      <th>timestamp_extract</th>\n",
       "    </tr>\n",
       "  </thead>\n",
       "  <tbody>\n",
       "    <tr>\n",
       "      <th>0</th>\n",
       "      <td>73385196</td>\n",
       "      <td>prefeiturasp/dados-educacao</td>\n",
       "      <td>https://github.com/prefeiturasp/dados-educacao</td>\n",
       "      <td>https://api.github.com/repos/prefeiturasp/dado...</td>\n",
       "      <td>2335525</td>\n",
       "      <td>campagnucci</td>\n",
       "      <td>User</td>\n",
       "      <td>https://github.com/campagnucci</td>\n",
       "      <td>https://api.github.com/users/campagnucci</td>\n",
       "      <td>1584116614</td>\n",
       "    </tr>\n",
       "    <tr>\n",
       "      <th>1</th>\n",
       "      <td>73385196</td>\n",
       "      <td>prefeiturasp/dados-educacao</td>\n",
       "      <td>https://github.com/prefeiturasp/dados-educacao</td>\n",
       "      <td>https://api.github.com/repos/prefeiturasp/dado...</td>\n",
       "      <td>28656406</td>\n",
       "      <td>tutss</td>\n",
       "      <td>User</td>\n",
       "      <td>https://github.com/tutss</td>\n",
       "      <td>https://api.github.com/users/tutss</td>\n",
       "      <td>1584116614</td>\n",
       "    </tr>\n",
       "    <tr>\n",
       "      <th>2</th>\n",
       "      <td>19895876</td>\n",
       "      <td>inepdadosabertos/api</td>\n",
       "      <td>https://github.com/inepdadosabertos/api</td>\n",
       "      <td>https://api.github.com/repos/inepdadosabertos/api</td>\n",
       "      <td>7613695</td>\n",
       "      <td>NandaBeirao</td>\n",
       "      <td>User</td>\n",
       "      <td>https://github.com/NandaBeirao</td>\n",
       "      <td>https://api.github.com/users/NandaBeirao</td>\n",
       "      <td>1584116615</td>\n",
       "    </tr>\n",
       "  </tbody>\n",
       "</table>\n",
       "</div>"
      ],
      "text/plain": [
       "    repo_id                    repo_name  \\\n",
       "0  73385196  prefeiturasp/dados-educacao   \n",
       "1  73385196  prefeiturasp/dados-educacao   \n",
       "2  19895876         inepdadosabertos/api   \n",
       "\n",
       "                                         repo_url  \\\n",
       "0  https://github.com/prefeiturasp/dados-educacao   \n",
       "1  https://github.com/prefeiturasp/dados-educacao   \n",
       "2         https://github.com/inepdadosabertos/api   \n",
       "\n",
       "                                        repo_api_url  contributor_id  \\\n",
       "0  https://api.github.com/repos/prefeiturasp/dado...         2335525   \n",
       "1  https://api.github.com/repos/prefeiturasp/dado...        28656406   \n",
       "2  https://api.github.com/repos/inepdadosabertos/api         7613695   \n",
       "\n",
       "  contributor_login contributor_type                 contributor_url  \\\n",
       "0       campagnucci             User  https://github.com/campagnucci   \n",
       "1             tutss             User        https://github.com/tutss   \n",
       "2       NandaBeirao             User  https://github.com/NandaBeirao   \n",
       "\n",
       "                        contributor_api_url timestamp_extract  \n",
       "0  https://api.github.com/users/campagnucci        1584116614  \n",
       "1        https://api.github.com/users/tutss        1584116614  \n",
       "2  https://api.github.com/users/NandaBeirao        1584116615  "
      ]
     },
     "execution_count": 62,
     "metadata": {},
     "output_type": "execute_result"
    }
   ],
   "source": [
    "contributors_df.head(3)"
   ]
  },
  {
   "cell_type": "markdown",
   "metadata": {},
   "source": [
    "Verificando se há contribuidores repetidos para um mesmo repositório."
   ]
  },
  {
   "cell_type": "code",
   "execution_count": 63,
   "metadata": {},
   "outputs": [
    {
     "data": {
      "text/html": [
       "<div>\n",
       "<style scoped>\n",
       "    .dataframe tbody tr th:only-of-type {\n",
       "        vertical-align: middle;\n",
       "    }\n",
       "\n",
       "    .dataframe tbody tr th {\n",
       "        vertical-align: top;\n",
       "    }\n",
       "\n",
       "    .dataframe thead th {\n",
       "        text-align: right;\n",
       "    }\n",
       "</style>\n",
       "<table border=\"1\" class=\"dataframe\">\n",
       "  <thead>\n",
       "    <tr style=\"text-align: right;\">\n",
       "      <th></th>\n",
       "      <th>repo_id</th>\n",
       "      <th>repo_name</th>\n",
       "      <th>repo_url</th>\n",
       "      <th>repo_api_url</th>\n",
       "      <th>contributor_id</th>\n",
       "      <th>contributor_login</th>\n",
       "      <th>contributor_type</th>\n",
       "      <th>contributor_url</th>\n",
       "      <th>contributor_api_url</th>\n",
       "      <th>timestamp_extract</th>\n",
       "    </tr>\n",
       "  </thead>\n",
       "  <tbody>\n",
       "  </tbody>\n",
       "</table>\n",
       "</div>"
      ],
      "text/plain": [
       "Empty DataFrame\n",
       "Columns: [repo_id, repo_name, repo_url, repo_api_url, contributor_id, contributor_login, contributor_type, contributor_url, contributor_api_url, timestamp_extract]\n",
       "Index: []"
      ]
     },
     "execution_count": 63,
     "metadata": {},
     "output_type": "execute_result"
    }
   ],
   "source": [
    "contributors_df[contributors_df.duplicated(['contributor_id', 'repo_id'])]"
   ]
  },
  {
   "cell_type": "markdown",
   "metadata": {},
   "source": [
    "Salvando dataframe com mapeamento de repositórios e contribuidores."
   ]
  },
  {
   "cell_type": "code",
   "execution_count": 64,
   "metadata": {},
   "outputs": [],
   "source": [
    "contributors_df.to_csv('../data/contributors_edu.csv', index=False)"
   ]
  }
 ],
 "metadata": {
  "kernelspec": {
   "display_name": "Python 3",
   "language": "python",
   "name": "python3"
  },
  "language_info": {
   "codemirror_mode": {
    "name": "ipython",
    "version": 3
   },
   "file_extension": ".py",
   "mimetype": "text/x-python",
   "name": "python",
   "nbconvert_exporter": "python",
   "pygments_lexer": "ipython3",
   "version": "3.6.10"
  }
 },
 "nbformat": 4,
 "nbformat_minor": 2
}
