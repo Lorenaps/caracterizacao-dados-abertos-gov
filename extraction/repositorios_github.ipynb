{
 "cells": [
  {
   "cell_type": "markdown",
   "metadata": {},
   "source": [
    "# Extração de dados do Github\n",
    "\n",
    "Pesquisando por iniciativas/projetos que utilizam Dados Abertos Governamentais através da [API do Github](https://developer.github.com/v3/)"
   ]
  },
  {
   "cell_type": "code",
   "execution_count": 3,
   "metadata": {},
   "outputs": [],
   "source": [
    "import requests\n",
    "import pandas as pd\n",
    "import time\n",
    "import logging\n",
    "import sys"
   ]
  },
  {
   "cell_type": "code",
   "execution_count": 16,
   "metadata": {},
   "outputs": [],
   "source": [
    "search_strings = [\n",
    "            'dados abertos',\n",
    "            'dados abertos brasil',\n",
    "            'dados abertos governo',\n",
    "            'dados abertos governamentais',\n",
    "            'dados governamentais',\n",
    "            'dados publicos abertos',\n",
    "            'dados do governo',\n",
    "            'analise de dados do governo',\n",
    "            'analise de dados governamentais',\n",
    "            'portal de dados do governo',\n",
    "            'portal de dados governamentais',\n",
    "            'portal publico do governo',\n",
    "            'portal de dados abertos do governo',\n",
    "        ]"
   ]
  },
  {
   "cell_type": "markdown",
   "metadata": {},
   "source": [
    "Para a acesso a alguns recursos da API do github é preciso se autenticar, como aumentar o limite de requisições. Informações sobre autenticação podem ser encontradas [aqui](https://developer.github.com/v3/#authentication)."
   ]
  },
  {
   "cell_type": "code",
   "execution_count": 7,
   "metadata": {},
   "outputs": [],
   "source": [
    "credentials = ('<user_name>','<token>')"
   ]
  },
  {
   "cell_type": "markdown",
   "metadata": {},
   "source": [
    "Limite de requisições sem autenticação"
   ]
  },
  {
   "cell_type": "code",
   "execution_count": 8,
   "metadata": {
    "scrolled": true
   },
   "outputs": [
    {
     "data": {
      "text/plain": [
       "{'resources': {'core': {'limit': 60, 'remaining': 49, 'reset': 1580241507},\n",
       "  'search': {'limit': 10, 'remaining': 10, 'reset': 1580239727},\n",
       "  'graphql': {'limit': 0, 'remaining': 0, 'reset': 1580243267},\n",
       "  'integration_manifest': {'limit': 5000,\n",
       "   'remaining': 5000,\n",
       "   'reset': 1580243267},\n",
       "  'source_import': {'limit': 5, 'remaining': 5, 'reset': 1580239727}},\n",
       " 'rate': {'limit': 60, 'remaining': 49, 'reset': 1580241507}}"
      ]
     },
     "execution_count": 8,
     "metadata": {},
     "output_type": "execute_result"
    }
   ],
   "source": [
    "t = requests.get('https://api.github.com/rate_limit')\n",
    "t.json()"
   ]
  },
  {
   "cell_type": "markdown",
   "metadata": {},
   "source": [
    "Limite de requisições com autenticação"
   ]
  },
  {
   "cell_type": "code",
   "execution_count": 9,
   "metadata": {},
   "outputs": [
    {
     "data": {
      "text/plain": [
       "{'resources': {'core': {'limit': 5000, 'remaining': 4983, 'reset': 1580240230},\n",
       "  'search': {'limit': 30, 'remaining': 30, 'reset': 1580239728},\n",
       "  'graphql': {'limit': 5000, 'remaining': 5000, 'reset': 1580243268},\n",
       "  'integration_manifest': {'limit': 5000,\n",
       "   'remaining': 5000,\n",
       "   'reset': 1580243268},\n",
       "  'source_import': {'limit': 100, 'remaining': 100, 'reset': 1580239728}},\n",
       " 'rate': {'limit': 5000, 'remaining': 4983, 'reset': 1580240230}}"
      ]
     },
     "execution_count": 9,
     "metadata": {},
     "output_type": "execute_result"
    }
   ],
   "source": [
    "t = requests.get('https://api.github.com/rate_limit', auth=credentials)\n",
    "t.json()"
   ]
  },
  {
   "cell_type": "markdown",
   "metadata": {},
   "source": [
    "Verificando limitação de extração de dados da API"
   ]
  },
  {
   "cell_type": "code",
   "execution_count": 10,
   "metadata": {},
   "outputs": [
    {
     "data": {
      "text/plain": [
       "{'message': 'Only the first 1000 search results are available',\n",
       " 'documentation_url': 'https://developer.github.com/v3/search/'}"
      ]
     },
     "execution_count": 10,
     "metadata": {},
     "output_type": "execute_result"
    }
   ],
   "source": [
    "page_35 = 'https://api.github.com/search/repositories?q=stars%3A%3E1&sort=stars&order=desc&page=35'\n",
    "t = requests.get(page_35, auth=credentials)\n",
    "t.json()"
   ]
  },
  {
   "cell_type": "markdown",
   "metadata": {},
   "source": [
    "Informações sobre a ferramenta de pesquisa da API podem ser encontradas [aqui](https://developer.github.com/v3/search/)"
   ]
  },
  {
   "cell_type": "code",
   "execution_count": 11,
   "metadata": {},
   "outputs": [],
   "source": [
    "url_base = 'https://api.github.com/search/repositories?q='"
   ]
  },
  {
   "cell_type": "markdown",
   "metadata": {},
   "source": [
    "Podemos adicionar uma ordenação nos resultados, como quantidade de _stars_ de forma descrescente."
   ]
  },
  {
   "cell_type": "code",
   "execution_count": 12,
   "metadata": {},
   "outputs": [],
   "source": [
    "sort = '&sort=stars&order=desc'"
   ]
  },
  {
   "cell_type": "markdown",
   "metadata": {},
   "source": [
    "## Extraindo informações gerais"
   ]
  },
  {
   "cell_type": "code",
   "execution_count": 18,
   "metadata": {},
   "outputs": [],
   "source": [
    "def extract_results(data):\n",
    "    \n",
    "    items_list = []\n",
    "    \n",
    "    for item in data.get('items', None):\n",
    "        \n",
    "        \n",
    "        item_dict = {\n",
    "                'id': item.get('id'),\n",
    "                'full_name': item.get('full_name', None),\n",
    "                'description': item.get('description', None),      \n",
    "                'owner_type': item.get('owner').get('type', None),\n",
    "                'owner_api_url': item.get('owner').get('url', None),\n",
    "                'owner_url': item.get('owner').get('html_url', None),\n",
    "                'api_url': item.get('url', None),\n",
    "                'url': item.get('html_url', None),\n",
    "                'fork': item.get('fork', None),\n",
    "                'created_at': item.get('created_at', None),\n",
    "                'updated_at': item.get('updated_at', None),\n",
    "                'pushed_at': item.get('pushed_at', None),\n",
    "                'size': item.get('size', None),\n",
    "                'stargazers_count': item.get('stargazers_count', None),\n",
    "                'language': item.get('language', None),\n",
    "                'has_issues': item.get('has_issues', None),\n",
    "                'has_wiki': item.get('has_wiki', None),\n",
    "                'forks_count': item.get('forks_count', None),\n",
    "                'forks': item.get('forks', None),\n",
    "                'open_issues': item.get('open_issues', None),\n",
    "                # 'subscribers_count': item.get('subscribers_count', None),\n",
    "                'license': item.get('license').get('name', None) if item.get('license', None) else None,\n",
    "                'timestamp_extract': str(time.time()).split('.')[0]\n",
    "        }\n",
    "\n",
    "        items_list.append(item_dict)\n",
    "            \n",
    "    return items_list"
   ]
  },
  {
   "cell_type": "code",
   "execution_count": 19,
   "metadata": {},
   "outputs": [],
   "source": [
    "def scroll_pages(url):\n",
    "        \n",
    "    results = requests.get(url, auth=credentials)    \n",
    "    data = results.json()\n",
    "    total = data.get('total_count', None)\n",
    "        \n",
    "    print(\">>> Foram encontrados {0} resultados. Extraindo...\".format(total))\n",
    "    \n",
    "    items_list = []\n",
    "    items_list = extract_results(data)\n",
    "        \n",
    "    iterations = total // 30 \n",
    "    \n",
    "    for iteracao in range(0, iterations):        \n",
    "        header = dict(results.links)\n",
    "        \n",
    "        if header.get('next', False):\n",
    "            next_url = header.get('next').get('url')\n",
    "                        \n",
    "            results = requests.get(next_url, auth=credentials)\n",
    "            data = results.json()\n",
    "            \n",
    "            items_list.append(extract_results(data))\n",
    "    \n",
    "    return items_list"
   ]
  },
  {
   "cell_type": "code",
   "execution_count": 20,
   "metadata": {},
   "outputs": [
    {
     "name": "stdout",
     "output_type": "stream",
     "text": [
      "\n",
      "Pesquisando repositórios para a string: 'portal de dados do governo'\n",
      ">>> Foram encontrados 10 resultados. Extraindo...\n",
      "\n",
      "Pesquisando repositórios para a string: 'portal de dados governamentais'\n",
      ">>> Foram encontrados 2 resultados. Extraindo...\n",
      "\n",
      "Pesquisando repositórios para a string: 'portal publico do governo'\n",
      ">>> Foram encontrados 1 resultados. Extraindo...\n",
      "\n",
      "Pesquisando repositórios para a string: 'portal de dados abertos do governo'\n",
      ">>> Foram encontrados 5 resultados. Extraindo...\n",
      "CPU times: user 99.8 ms, sys: 7.09 ms, total: 107 ms\n",
      "Wall time: 2.72 s\n"
     ]
    }
   ],
   "source": [
    "%%time\n",
    "\n",
    "items_list = []\n",
    "repositories_df = None\n",
    "\n",
    "for string in search_strings:\n",
    "    url = url_base + string + sort\n",
    "    print(\"\\nPesquisando repositórios para a string: '{0}'\".format(string))\n",
    "    \n",
    "    items_list = items_list + scroll_pages(url)\n",
    "        \n",
    "repositories_df = pd.DataFrame(items_list)"
   ]
  },
  {
   "cell_type": "code",
   "execution_count": 32,
   "metadata": {},
   "outputs": [],
   "source": [
    "repositories_df = repositories_df.drop_duplicates(['id', 'api_url'])"
   ]
  },
  {
   "cell_type": "code",
   "execution_count": 33,
   "metadata": {
    "scrolled": true
   },
   "outputs": [
    {
     "data": {
      "text/html": [
       "<div>\n",
       "<style scoped>\n",
       "    .dataframe tbody tr th:only-of-type {\n",
       "        vertical-align: middle;\n",
       "    }\n",
       "\n",
       "    .dataframe tbody tr th {\n",
       "        vertical-align: top;\n",
       "    }\n",
       "\n",
       "    .dataframe thead th {\n",
       "        text-align: right;\n",
       "    }\n",
       "</style>\n",
       "<table border=\"1\" class=\"dataframe\">\n",
       "  <thead>\n",
       "    <tr style=\"text-align: right;\">\n",
       "      <th></th>\n",
       "      <th>forks</th>\n",
       "      <th>forks_count</th>\n",
       "      <th>id</th>\n",
       "      <th>open_issues</th>\n",
       "      <th>size</th>\n",
       "      <th>stargazers_count</th>\n",
       "    </tr>\n",
       "  </thead>\n",
       "  <tbody>\n",
       "    <tr>\n",
       "      <th>count</th>\n",
       "      <td>13.000000</td>\n",
       "      <td>13.000000</td>\n",
       "      <td>1.300000e+01</td>\n",
       "      <td>13.000000</td>\n",
       "      <td>13.000000</td>\n",
       "      <td>13.000000</td>\n",
       "    </tr>\n",
       "    <tr>\n",
       "      <th>mean</th>\n",
       "      <td>0.615385</td>\n",
       "      <td>0.615385</td>\n",
       "      <td>1.262883e+08</td>\n",
       "      <td>0.538462</td>\n",
       "      <td>3618.615385</td>\n",
       "      <td>1.846154</td>\n",
       "    </tr>\n",
       "    <tr>\n",
       "      <th>std</th>\n",
       "      <td>1.386750</td>\n",
       "      <td>1.386750</td>\n",
       "      <td>6.752995e+07</td>\n",
       "      <td>0.877058</td>\n",
       "      <td>4677.442384</td>\n",
       "      <td>3.760456</td>\n",
       "    </tr>\n",
       "    <tr>\n",
       "      <th>min</th>\n",
       "      <td>0.000000</td>\n",
       "      <td>0.000000</td>\n",
       "      <td>2.413158e+07</td>\n",
       "      <td>0.000000</td>\n",
       "      <td>1.000000</td>\n",
       "      <td>0.000000</td>\n",
       "    </tr>\n",
       "    <tr>\n",
       "      <th>25%</th>\n",
       "      <td>0.000000</td>\n",
       "      <td>0.000000</td>\n",
       "      <td>6.590246e+07</td>\n",
       "      <td>0.000000</td>\n",
       "      <td>136.000000</td>\n",
       "      <td>0.000000</td>\n",
       "    </tr>\n",
       "    <tr>\n",
       "      <th>50%</th>\n",
       "      <td>0.000000</td>\n",
       "      <td>0.000000</td>\n",
       "      <td>1.351819e+08</td>\n",
       "      <td>0.000000</td>\n",
       "      <td>3004.000000</td>\n",
       "      <td>0.000000</td>\n",
       "    </tr>\n",
       "    <tr>\n",
       "      <th>75%</th>\n",
       "      <td>1.000000</td>\n",
       "      <td>1.000000</td>\n",
       "      <td>1.952946e+08</td>\n",
       "      <td>1.000000</td>\n",
       "      <td>4531.000000</td>\n",
       "      <td>2.000000</td>\n",
       "    </tr>\n",
       "    <tr>\n",
       "      <th>max</th>\n",
       "      <td>5.000000</td>\n",
       "      <td>5.000000</td>\n",
       "      <td>2.157997e+08</td>\n",
       "      <td>2.000000</td>\n",
       "      <td>16753.000000</td>\n",
       "      <td>13.000000</td>\n",
       "    </tr>\n",
       "  </tbody>\n",
       "</table>\n",
       "</div>"
      ],
      "text/plain": [
       "           forks  forks_count            id  open_issues          size  \\\n",
       "count  13.000000    13.000000  1.300000e+01    13.000000     13.000000   \n",
       "mean    0.615385     0.615385  1.262883e+08     0.538462   3618.615385   \n",
       "std     1.386750     1.386750  6.752995e+07     0.877058   4677.442384   \n",
       "min     0.000000     0.000000  2.413158e+07     0.000000      1.000000   \n",
       "25%     0.000000     0.000000  6.590246e+07     0.000000    136.000000   \n",
       "50%     0.000000     0.000000  1.351819e+08     0.000000   3004.000000   \n",
       "75%     1.000000     1.000000  1.952946e+08     1.000000   4531.000000   \n",
       "max     5.000000     5.000000  2.157997e+08     2.000000  16753.000000   \n",
       "\n",
       "       stargazers_count  \n",
       "count         13.000000  \n",
       "mean           1.846154  \n",
       "std            3.760456  \n",
       "min            0.000000  \n",
       "25%            0.000000  \n",
       "50%            0.000000  \n",
       "75%            2.000000  \n",
       "max           13.000000  "
      ]
     },
     "execution_count": 33,
     "metadata": {},
     "output_type": "execute_result"
    }
   ],
   "source": [
    "repositories_df.describe()"
   ]
  },
  {
   "cell_type": "markdown",
   "metadata": {},
   "source": [
    "Quantidade de colunas:"
   ]
  },
  {
   "cell_type": "code",
   "execution_count": 54,
   "metadata": {},
   "outputs": [
    {
     "data": {
      "text/plain": [
       "28"
      ]
     },
     "execution_count": 54,
     "metadata": {},
     "output_type": "execute_result"
    }
   ],
   "source": [
    "len(repositories_df.columns)"
   ]
  },
  {
   "cell_type": "code",
   "execution_count": 34,
   "metadata": {},
   "outputs": [
    {
     "data": {
      "text/plain": [
       "0     GNU Affero General Public License v3.0\n",
       "1     GNU Affero General Public License v3.0\n",
       "2            GNU General Public License v3.0\n",
       "3                                       None\n",
       "4            GNU General Public License v3.0\n",
       "5            GNU General Public License v3.0\n",
       "6                                       None\n",
       "7     GNU Affero General Public License v3.0\n",
       "8                                       None\n",
       "9                                       None\n",
       "10                                      None\n",
       "11                                      None\n",
       "12                        Apache License 2.0\n",
       "Name: license, dtype: object"
      ]
     },
     "execution_count": 34,
     "metadata": {},
     "output_type": "execute_result"
    }
   ],
   "source": [
    "repositories_df['license']"
   ]
  },
  {
   "cell_type": "markdown",
   "metadata": {},
   "source": [
    "## Extraindo _Commits_, _Contributors_ e dados do _Owner_"
   ]
  },
  {
   "cell_type": "code",
   "execution_count": 36,
   "metadata": {},
   "outputs": [],
   "source": [
    "def extract_commits(url_repo):\n",
    "    \n",
    "    commits_url = url_repo + '/commits'  \n",
    "    results = requests.get(commits_url, auth=credentials)\n",
    "    \n",
    "    # No caso do repositório estar vazio\n",
    "    if results.status_code == 409:\n",
    "        return None\n",
    "    \n",
    "    commits = len(results.json())\n",
    "\n",
    "    header = dict(results.links)\n",
    "    \n",
    "    while header.get('next', False):\n",
    "        next_url = header.get('next').get('url')        \n",
    "        results = requests.get(next_url, auth=credentials)\n",
    "        commits = commits + len(results.json())    \n",
    "        header = dict(results.links)\n",
    "\n",
    "\n",
    "    return commits"
   ]
  },
  {
   "cell_type": "code",
   "execution_count": 37,
   "metadata": {},
   "outputs": [],
   "source": [
    "def extract_contributors(url_repo):\n",
    "    \n",
    "    contributors_url = url_repo + '/contributors'\n",
    "    results = requests.get(contributors_url, auth=credentials)\n",
    "    \n",
    "    # No caso do repositório estar vazio\n",
    "    if results.status_code == 204:\n",
    "        return None\n",
    "    \n",
    "    contributors = len(results.json())\n",
    "\n",
    "    header = dict(results.links)\n",
    "    \n",
    "    while header.get('next', False):\n",
    "        next_url = header.get('next').get('url')\n",
    "        results = requests.get(next_url, auth=credentials)\n",
    "        contributors = contributors + len(results.json())\n",
    "        header = dict(results.links)\n",
    "    \n",
    "    return contributors"
   ]
  },
  {
   "cell_type": "code",
   "execution_count": 38,
   "metadata": {},
   "outputs": [],
   "source": [
    "def extract_owner_data(owner_api_url):\n",
    "    \n",
    "    results = requests.get(owner_api_url, auth=credentials)\n",
    "    data = results.json()\n",
    "\n",
    "    owner_data = {\n",
    "        'owner_location': data.get('location', None),\n",
    "        'owner_email': data.get('email', None),\n",
    "        'owner_blog': data.get('blog', None),\n",
    "        'owner_name': data.get('name', None)\n",
    "    }\n",
    "    \n",
    "    return owner_data"
   ]
  },
  {
   "cell_type": "code",
   "execution_count": 49,
   "metadata": {
    "scrolled": false
   },
   "outputs": [
    {
     "name": "stdout",
     "output_type": "stream",
     "text": [
      "CPU times: user 6.68 s, sys: 51.7 ms, total: 6.73 s\n",
      "Wall time: 35.4 s\n"
     ]
    }
   ],
   "source": [
    "%%time\n",
    "urls = repositories_df['api_url']\n",
    "\n",
    "for url in urls:\n",
    "\n",
    "    owner_api_url = repositories_df.loc[repositories_df[\"api_url\"] == url]['owner_api_url'].item()\n",
    "\n",
    "    owner_data = extract_owner_data(owner_api_url)\n",
    "    commits = extract_commits(url)\n",
    "    contributors = extract_contributors(url)\n",
    "\n",
    "    repositories_df.loc[repositories_df[\"api_url\"] == url, 'commits'] = commits\n",
    "    repositories_df.loc[repositories_df[\"api_url\"] == url, 'contributors'] = contributors\n",
    "    repositories_df.loc[repositories_df[\"api_url\"] == url, 'owner_location'] = owner_data.get('owner_location', None)\n",
    "    repositories_df.loc[repositories_df[\"api_url\"] == url, 'owner_email'] = owner_data.get('owner_email', None)\n",
    "    repositories_df.loc[repositories_df[\"api_url\"] == url, 'owner_blog'] = owner_data.get('owner_blog', None)\n",
    "    repositories_df.loc[repositories_df[\"api_url\"] == url, 'owner_name'] = owner_data.get('owner_name', None)"
   ]
  },
  {
   "cell_type": "code",
   "execution_count": 51,
   "metadata": {
    "scrolled": true
   },
   "outputs": [
    {
     "data": {
      "text/html": [
       "<div>\n",
       "<style scoped>\n",
       "    .dataframe tbody tr th:only-of-type {\n",
       "        vertical-align: middle;\n",
       "    }\n",
       "\n",
       "    .dataframe tbody tr th {\n",
       "        vertical-align: top;\n",
       "    }\n",
       "\n",
       "    .dataframe thead th {\n",
       "        text-align: right;\n",
       "    }\n",
       "</style>\n",
       "<table border=\"1\" class=\"dataframe\">\n",
       "  <thead>\n",
       "    <tr style=\"text-align: right;\">\n",
       "      <th></th>\n",
       "      <th>forks</th>\n",
       "      <th>forks_count</th>\n",
       "      <th>id</th>\n",
       "      <th>open_issues</th>\n",
       "      <th>size</th>\n",
       "      <th>stargazers_count</th>\n",
       "      <th>commits</th>\n",
       "      <th>contributors</th>\n",
       "    </tr>\n",
       "  </thead>\n",
       "  <tbody>\n",
       "    <tr>\n",
       "      <th>count</th>\n",
       "      <td>13.000000</td>\n",
       "      <td>13.000000</td>\n",
       "      <td>1.300000e+01</td>\n",
       "      <td>13.000000</td>\n",
       "      <td>13.000000</td>\n",
       "      <td>13.000000</td>\n",
       "      <td>13.000000</td>\n",
       "      <td>13.000000</td>\n",
       "    </tr>\n",
       "    <tr>\n",
       "      <th>mean</th>\n",
       "      <td>0.615385</td>\n",
       "      <td>0.615385</td>\n",
       "      <td>1.262883e+08</td>\n",
       "      <td>0.538462</td>\n",
       "      <td>3618.615385</td>\n",
       "      <td>1.846154</td>\n",
       "      <td>42.230769</td>\n",
       "      <td>1.307692</td>\n",
       "    </tr>\n",
       "    <tr>\n",
       "      <th>std</th>\n",
       "      <td>1.386750</td>\n",
       "      <td>1.386750</td>\n",
       "      <td>6.752995e+07</td>\n",
       "      <td>0.877058</td>\n",
       "      <td>4677.442384</td>\n",
       "      <td>3.760456</td>\n",
       "      <td>77.436161</td>\n",
       "      <td>0.854850</td>\n",
       "    </tr>\n",
       "    <tr>\n",
       "      <th>min</th>\n",
       "      <td>0.000000</td>\n",
       "      <td>0.000000</td>\n",
       "      <td>2.413158e+07</td>\n",
       "      <td>0.000000</td>\n",
       "      <td>1.000000</td>\n",
       "      <td>0.000000</td>\n",
       "      <td>1.000000</td>\n",
       "      <td>1.000000</td>\n",
       "    </tr>\n",
       "    <tr>\n",
       "      <th>25%</th>\n",
       "      <td>0.000000</td>\n",
       "      <td>0.000000</td>\n",
       "      <td>6.590246e+07</td>\n",
       "      <td>0.000000</td>\n",
       "      <td>136.000000</td>\n",
       "      <td>0.000000</td>\n",
       "      <td>7.000000</td>\n",
       "      <td>1.000000</td>\n",
       "    </tr>\n",
       "    <tr>\n",
       "      <th>50%</th>\n",
       "      <td>0.000000</td>\n",
       "      <td>0.000000</td>\n",
       "      <td>1.351819e+08</td>\n",
       "      <td>0.000000</td>\n",
       "      <td>3004.000000</td>\n",
       "      <td>0.000000</td>\n",
       "      <td>15.000000</td>\n",
       "      <td>1.000000</td>\n",
       "    </tr>\n",
       "    <tr>\n",
       "      <th>75%</th>\n",
       "      <td>1.000000</td>\n",
       "      <td>1.000000</td>\n",
       "      <td>1.952946e+08</td>\n",
       "      <td>1.000000</td>\n",
       "      <td>4531.000000</td>\n",
       "      <td>2.000000</td>\n",
       "      <td>22.000000</td>\n",
       "      <td>1.000000</td>\n",
       "    </tr>\n",
       "    <tr>\n",
       "      <th>max</th>\n",
       "      <td>5.000000</td>\n",
       "      <td>5.000000</td>\n",
       "      <td>2.157997e+08</td>\n",
       "      <td>2.000000</td>\n",
       "      <td>16753.000000</td>\n",
       "      <td>13.000000</td>\n",
       "      <td>260.000000</td>\n",
       "      <td>4.000000</td>\n",
       "    </tr>\n",
       "  </tbody>\n",
       "</table>\n",
       "</div>"
      ],
      "text/plain": [
       "           forks  forks_count            id  open_issues          size  \\\n",
       "count  13.000000    13.000000  1.300000e+01    13.000000     13.000000   \n",
       "mean    0.615385     0.615385  1.262883e+08     0.538462   3618.615385   \n",
       "std     1.386750     1.386750  6.752995e+07     0.877058   4677.442384   \n",
       "min     0.000000     0.000000  2.413158e+07     0.000000      1.000000   \n",
       "25%     0.000000     0.000000  6.590246e+07     0.000000    136.000000   \n",
       "50%     0.000000     0.000000  1.351819e+08     0.000000   3004.000000   \n",
       "75%     1.000000     1.000000  1.952946e+08     1.000000   4531.000000   \n",
       "max     5.000000     5.000000  2.157997e+08     2.000000  16753.000000   \n",
       "\n",
       "       stargazers_count     commits  contributors  \n",
       "count         13.000000   13.000000     13.000000  \n",
       "mean           1.846154   42.230769      1.307692  \n",
       "std            3.760456   77.436161      0.854850  \n",
       "min            0.000000    1.000000      1.000000  \n",
       "25%            0.000000    7.000000      1.000000  \n",
       "50%            0.000000   15.000000      1.000000  \n",
       "75%            2.000000   22.000000      1.000000  \n",
       "max           13.000000  260.000000      4.000000  "
      ]
     },
     "execution_count": 51,
     "metadata": {},
     "output_type": "execute_result"
    }
   ],
   "source": [
    "repositories_df.describe()"
   ]
  },
  {
   "cell_type": "markdown",
   "metadata": {},
   "source": [
    "Agora devemos ter mais 6 colunas"
   ]
  },
  {
   "cell_type": "code",
   "execution_count": 52,
   "metadata": {},
   "outputs": [
    {
     "data": {
      "text/plain": [
       "28"
      ]
     },
     "execution_count": 52,
     "metadata": {},
     "output_type": "execute_result"
    }
   ],
   "source": [
    "len(repositories_df.columns)"
   ]
  },
  {
   "cell_type": "code",
   "execution_count": 50,
   "metadata": {},
   "outputs": [
    {
     "data": {
      "text/html": [
       "<div>\n",
       "<style scoped>\n",
       "    .dataframe tbody tr th:only-of-type {\n",
       "        vertical-align: middle;\n",
       "    }\n",
       "\n",
       "    .dataframe tbody tr th {\n",
       "        vertical-align: top;\n",
       "    }\n",
       "\n",
       "    .dataframe thead th {\n",
       "        text-align: right;\n",
       "    }\n",
       "</style>\n",
       "<table border=\"1\" class=\"dataframe\">\n",
       "  <thead>\n",
       "    <tr style=\"text-align: right;\">\n",
       "      <th></th>\n",
       "      <th>api_url</th>\n",
       "      <th>created_at</th>\n",
       "      <th>description</th>\n",
       "      <th>fork</th>\n",
       "      <th>forks</th>\n",
       "      <th>forks_count</th>\n",
       "      <th>full_name</th>\n",
       "      <th>has_issues</th>\n",
       "      <th>has_wiki</th>\n",
       "      <th>id</th>\n",
       "      <th>...</th>\n",
       "      <th>stargazers_count</th>\n",
       "      <th>timestamp_extract</th>\n",
       "      <th>updated_at</th>\n",
       "      <th>url</th>\n",
       "      <th>commits</th>\n",
       "      <th>contributors</th>\n",
       "      <th>owner_location</th>\n",
       "      <th>owner_email</th>\n",
       "      <th>owner_blog</th>\n",
       "      <th>owner_name</th>\n",
       "    </tr>\n",
       "  </thead>\n",
       "  <tbody>\n",
       "    <tr>\n",
       "      <th>0</th>\n",
       "      <td>https://api.github.com/repos/dadosgovbr/ckanex...</td>\n",
       "      <td>2016-11-22T11:22:49Z</td>\n",
       "      <td>Plugin / Tema do Portal Brasileiro de Dados Ab...</td>\n",
       "      <td>False</td>\n",
       "      <td>5</td>\n",
       "      <td>5</td>\n",
       "      <td>dadosgovbr/ckanext-dadosgovbr</td>\n",
       "      <td>True</td>\n",
       "      <td>True</td>\n",
       "      <td>74465492</td>\n",
       "      <td>...</td>\n",
       "      <td>13</td>\n",
       "      <td>1580239698</td>\n",
       "      <td>2019-06-05T18:18:52Z</td>\n",
       "      <td>https://github.com/dadosgovbr/ckanext-dadosgovbr</td>\n",
       "      <td>159.0</td>\n",
       "      <td>4.0</td>\n",
       "      <td>Brazil</td>\n",
       "      <td>None</td>\n",
       "      <td>dados.gov.br</td>\n",
       "      <td>dados.gov.br</td>\n",
       "    </tr>\n",
       "    <tr>\n",
       "      <th>1</th>\n",
       "      <td>https://api.github.com/repos/thenets/ckanext-d...</td>\n",
       "      <td>2016-08-17T11:33:20Z</td>\n",
       "      <td>Plugin / Tema do Portal de Dados Abertos do Go...</td>\n",
       "      <td>False</td>\n",
       "      <td>1</td>\n",
       "      <td>1</td>\n",
       "      <td>thenets/ckanext-dadosabertos</td>\n",
       "      <td>True</td>\n",
       "      <td>False</td>\n",
       "      <td>65902460</td>\n",
       "      <td>...</td>\n",
       "      <td>2</td>\n",
       "      <td>1580239698</td>\n",
       "      <td>2017-08-28T09:53:00Z</td>\n",
       "      <td>https://github.com/thenets/ckanext-dadosabertos</td>\n",
       "      <td>22.0</td>\n",
       "      <td>2.0</td>\n",
       "      <td>Brazil</td>\n",
       "      <td>luiz@thenets.org</td>\n",
       "      <td>http://thenets.org</td>\n",
       "      <td>Luiz Felipe F M Costa</td>\n",
       "    </tr>\n",
       "    <tr>\n",
       "      <th>2</th>\n",
       "      <td>https://api.github.com/repos/mtrpires/raspafam...</td>\n",
       "      <td>2014-09-17T05:45:14Z</td>\n",
       "      <td>Raspador de dados do Portal da Transparência d...</td>\n",
       "      <td>False</td>\n",
       "      <td>0</td>\n",
       "      <td>0</td>\n",
       "      <td>mtrpires/raspafamilia</td>\n",
       "      <td>True</td>\n",
       "      <td>True</td>\n",
       "      <td>24131578</td>\n",
       "      <td>...</td>\n",
       "      <td>2</td>\n",
       "      <td>1580239698</td>\n",
       "      <td>2018-03-07T00:04:05Z</td>\n",
       "      <td>https://github.com/mtrpires/raspafamilia</td>\n",
       "      <td>7.0</td>\n",
       "      <td>1.0</td>\n",
       "      <td>Brazil/USA</td>\n",
       "      <td>mtrpires@outlook.com</td>\n",
       "      <td>http://bitcount.com.br</td>\n",
       "      <td>Marco Túlio Pires</td>\n",
       "    </tr>\n",
       "    <tr>\n",
       "      <th>3</th>\n",
       "      <td>https://api.github.com/repos/edsonlead/gastos-...</td>\n",
       "      <td>2018-05-28T15:56:42Z</td>\n",
       "      <td>Raspagem de dados, do portal da transparência,...</td>\n",
       "      <td>False</td>\n",
       "      <td>1</td>\n",
       "      <td>1</td>\n",
       "      <td>edsonlead/gastos-gov-federal</td>\n",
       "      <td>True</td>\n",
       "      <td>True</td>\n",
       "      <td>135181861</td>\n",
       "      <td>...</td>\n",
       "      <td>1</td>\n",
       "      <td>1580239698</td>\n",
       "      <td>2018-06-02T01:41:16Z</td>\n",
       "      <td>https://github.com/edsonlead/gastos-gov-federal</td>\n",
       "      <td>25.0</td>\n",
       "      <td>1.0</td>\n",
       "      <td>Brazil</td>\n",
       "      <td>edsonlead@gmail.com</td>\n",
       "      <td>http://edsonlead.com</td>\n",
       "      <td>Edsonlead</td>\n",
       "    </tr>\n",
       "    <tr>\n",
       "      <th>4</th>\n",
       "      <td>https://api.github.com/repos/Macmod/PortalTran...</td>\n",
       "      <td>2019-07-17T00:29:43Z</td>\n",
       "      <td>Extrator de dados do portal da transparência d...</td>\n",
       "      <td>False</td>\n",
       "      <td>0</td>\n",
       "      <td>0</td>\n",
       "      <td>Macmod/PortalTransparenciaBR</td>\n",
       "      <td>True</td>\n",
       "      <td>True</td>\n",
       "      <td>197286043</td>\n",
       "      <td>...</td>\n",
       "      <td>0</td>\n",
       "      <td>1580239698</td>\n",
       "      <td>2019-07-17T14:12:56Z</td>\n",
       "      <td>https://github.com/Macmod/PortalTransparenciaBR</td>\n",
       "      <td>9.0</td>\n",
       "      <td>1.0</td>\n",
       "      <td>None</td>\n",
       "      <td>zz.mcmd@gmail.com</td>\n",
       "      <td></td>\n",
       "      <td>Artur Marzano</td>\n",
       "    </tr>\n",
       "  </tbody>\n",
       "</table>\n",
       "<p>5 rows × 28 columns</p>\n",
       "</div>"
      ],
      "text/plain": [
       "                                             api_url            created_at  \\\n",
       "0  https://api.github.com/repos/dadosgovbr/ckanex...  2016-11-22T11:22:49Z   \n",
       "1  https://api.github.com/repos/thenets/ckanext-d...  2016-08-17T11:33:20Z   \n",
       "2  https://api.github.com/repos/mtrpires/raspafam...  2014-09-17T05:45:14Z   \n",
       "3  https://api.github.com/repos/edsonlead/gastos-...  2018-05-28T15:56:42Z   \n",
       "4  https://api.github.com/repos/Macmod/PortalTran...  2019-07-17T00:29:43Z   \n",
       "\n",
       "                                         description   fork  forks  \\\n",
       "0  Plugin / Tema do Portal Brasileiro de Dados Ab...  False      5   \n",
       "1  Plugin / Tema do Portal de Dados Abertos do Go...  False      1   \n",
       "2  Raspador de dados do Portal da Transparência d...  False      0   \n",
       "3  Raspagem de dados, do portal da transparência,...  False      1   \n",
       "4  Extrator de dados do portal da transparência d...  False      0   \n",
       "\n",
       "   forks_count                      full_name  has_issues  has_wiki  \\\n",
       "0            5  dadosgovbr/ckanext-dadosgovbr        True      True   \n",
       "1            1   thenets/ckanext-dadosabertos        True     False   \n",
       "2            0          mtrpires/raspafamilia        True      True   \n",
       "3            1   edsonlead/gastos-gov-federal        True      True   \n",
       "4            0   Macmod/PortalTransparenciaBR        True      True   \n",
       "\n",
       "          id  ... stargazers_count timestamp_extract            updated_at  \\\n",
       "0   74465492  ...               13        1580239698  2019-06-05T18:18:52Z   \n",
       "1   65902460  ...                2        1580239698  2017-08-28T09:53:00Z   \n",
       "2   24131578  ...                2        1580239698  2018-03-07T00:04:05Z   \n",
       "3  135181861  ...                1        1580239698  2018-06-02T01:41:16Z   \n",
       "4  197286043  ...                0        1580239698  2019-07-17T14:12:56Z   \n",
       "\n",
       "                                                url commits contributors  \\\n",
       "0  https://github.com/dadosgovbr/ckanext-dadosgovbr   159.0          4.0   \n",
       "1   https://github.com/thenets/ckanext-dadosabertos    22.0          2.0   \n",
       "2          https://github.com/mtrpires/raspafamilia     7.0          1.0   \n",
       "3   https://github.com/edsonlead/gastos-gov-federal    25.0          1.0   \n",
       "4   https://github.com/Macmod/PortalTransparenciaBR     9.0          1.0   \n",
       "\n",
       "  owner_location           owner_email              owner_blog  \\\n",
       "0         Brazil                  None            dados.gov.br   \n",
       "1         Brazil      luiz@thenets.org      http://thenets.org   \n",
       "2     Brazil/USA  mtrpires@outlook.com  http://bitcount.com.br   \n",
       "3         Brazil   edsonlead@gmail.com    http://edsonlead.com   \n",
       "4           None     zz.mcmd@gmail.com                           \n",
       "\n",
       "              owner_name  \n",
       "0           dados.gov.br  \n",
       "1  Luiz Felipe F M Costa  \n",
       "2      Marco Túlio Pires  \n",
       "3              Edsonlead  \n",
       "4          Artur Marzano  \n",
       "\n",
       "[5 rows x 28 columns]"
      ]
     },
     "execution_count": 50,
     "metadata": {},
     "output_type": "execute_result"
    }
   ],
   "source": [
    "repositories_df.head()"
   ]
  },
  {
   "cell_type": "markdown",
   "metadata": {},
   "source": [
    "Conferindo valores nulos"
   ]
  },
  {
   "cell_type": "code",
   "execution_count": 55,
   "metadata": {},
   "outputs": [
    {
     "data": {
      "text/html": [
       "<div>\n",
       "<style scoped>\n",
       "    .dataframe tbody tr th:only-of-type {\n",
       "        vertical-align: middle;\n",
       "    }\n",
       "\n",
       "    .dataframe tbody tr th {\n",
       "        vertical-align: top;\n",
       "    }\n",
       "\n",
       "    .dataframe thead th {\n",
       "        text-align: right;\n",
       "    }\n",
       "</style>\n",
       "<table border=\"1\" class=\"dataframe\">\n",
       "  <thead>\n",
       "    <tr style=\"text-align: right;\">\n",
       "      <th></th>\n",
       "      <th>api_url</th>\n",
       "      <th>commits</th>\n",
       "      <th>contributors</th>\n",
       "    </tr>\n",
       "  </thead>\n",
       "  <tbody>\n",
       "  </tbody>\n",
       "</table>\n",
       "</div>"
      ],
      "text/plain": [
       "Empty DataFrame\n",
       "Columns: [api_url, commits, contributors]\n",
       "Index: []"
      ]
     },
     "execution_count": 55,
     "metadata": {},
     "output_type": "execute_result"
    }
   ],
   "source": [
    "repositories_df.loc[repositories_df['commits'].isnull()][['api_url', 'commits', 'contributors']]"
   ]
  },
  {
   "cell_type": "code",
   "execution_count": 56,
   "metadata": {},
   "outputs": [
    {
     "data": {
      "text/html": [
       "<div>\n",
       "<style scoped>\n",
       "    .dataframe tbody tr th:only-of-type {\n",
       "        vertical-align: middle;\n",
       "    }\n",
       "\n",
       "    .dataframe tbody tr th {\n",
       "        vertical-align: top;\n",
       "    }\n",
       "\n",
       "    .dataframe thead th {\n",
       "        text-align: right;\n",
       "    }\n",
       "</style>\n",
       "<table border=\"1\" class=\"dataframe\">\n",
       "  <thead>\n",
       "    <tr style=\"text-align: right;\">\n",
       "      <th></th>\n",
       "      <th>api_url</th>\n",
       "      <th>commits</th>\n",
       "      <th>contributors</th>\n",
       "    </tr>\n",
       "  </thead>\n",
       "  <tbody>\n",
       "  </tbody>\n",
       "</table>\n",
       "</div>"
      ],
      "text/plain": [
       "Empty DataFrame\n",
       "Columns: [api_url, commits, contributors]\n",
       "Index: []"
      ]
     },
     "execution_count": 56,
     "metadata": {},
     "output_type": "execute_result"
    }
   ],
   "source": [
    "repositories_df.loc[repositories_df['contributors'].isnull()][['api_url', 'commits', 'contributors']]"
   ]
  },
  {
   "cell_type": "code",
   "execution_count": null,
   "metadata": {},
   "outputs": [],
   "source": [
    "file_path = '../data/repositories_' + str(time.time()).split('.')[0] + '.csv'\n",
    "file_path"
   ]
  },
  {
   "cell_type": "code",
   "execution_count": null,
   "metadata": {},
   "outputs": [],
   "source": [
    "repositories_df.to_csv(file_path, index=False)"
   ]
  },
  {
   "cell_type": "markdown",
   "metadata": {},
   "source": [
    "## Extraindo contribuidores dos repositórios"
   ]
  },
  {
   "cell_type": "code",
   "execution_count": 4,
   "metadata": {},
   "outputs": [],
   "source": [
    "def get_contributors(data):\n",
    "\n",
    "    list_contributors = []\n",
    "\n",
    "    for item in data:        \n",
    "        contributor = {\n",
    "            'contributor_id': item.get('id', None),\n",
    "            'contributor_login': item.get('login', None),\n",
    "            'contributor_type': item.get('type', None),\n",
    "            'contributor_url': item.get('html_url', None),\n",
    "            'contributor_api_url': item.get('url', None),\n",
    "            'timestamp_extract': str(time.time()).split('.')[0]\n",
    "        }\n",
    "\n",
    "        list_contributors.append(contributor)\n",
    "\n",
    "    return list_contributors"
   ]
  },
  {
   "cell_type": "code",
   "execution_count": null,
   "metadata": {},
   "outputs": [],
   "source": [
    "def scroll_contributors(results):\n",
    "\n",
    "    list_contributors = []\n",
    "    results = requests.get(url, auth=credentials)\n",
    "    \n",
    "    if results.status_code is 204:\n",
    "        return None\n",
    "    \n",
    "    data = results.json()\n",
    "    list_contributors = get_contributors(data)\n",
    "    header = dict(results.links)\n",
    "    \n",
    "    while header.get('next', False):\n",
    "        \n",
    "        next_url = header.get('next').get('url')            \n",
    "        results = requests.get(next_url, auth=credentials)\n",
    "        data = results.json()\n",
    "        list_contributors = list_contributors + get_contributors(data)  \n",
    "        header = dict(results.links)\n",
    "        \n",
    "    return list_contributors"
   ]
  },
  {
   "cell_type": "code",
   "execution_count": 1,
   "metadata": {},
   "outputs": [],
   "source": [
    "def search_contributors(repositories_df):\n",
    "    \n",
    "    urls = repositories_df['api_url']\n",
    "    list_contributors_all_repo = []\n",
    "    \n",
    "    for url in urls:\n",
    "        print('\\nExtraindo contribuidores de: {0}'.format(url))\n",
    "        \n",
    "        repo_data = {\n",
    "                'repo_id': repositories_df.loc[repositories_df[\"api_url\"] == url, 'id'].values[0],\n",
    "                'repo_name': repositories_df.loc[repositories_df[\"api_url\"] == url, 'full_name'].values[0],\n",
    "                'repo_url': repositories_df.loc[repositories_df[\"api_url\"] == url, 'url'].values[0],\n",
    "                'repo_api_url': url,\n",
    "            }\n",
    "        \n",
    "        url_contributors = url + '/contributors'        \n",
    "        contributors = scroll_contributors(url_contributors, repo_data)\n",
    "        \n",
    "        if contributors:\n",
    "            list_contributors_all_repo = list_contributors_all_repo + contributors\n",
    "    \n",
    "    contributors_df = pd.Dataframe(list_contributors_all_repo)     \n",
    "        \n",
    "    return contributors_df"
   ]
  },
  {
   "cell_type": "code",
   "execution_count": null,
   "metadata": {},
   "outputs": [],
   "source": [
    "%%time\n",
    "contributors_df = search_contributors(repositories_df)"
   ]
  },
  {
   "cell_type": "code",
   "execution_count": null,
   "metadata": {},
   "outputs": [],
   "source": [
    "contributors_df.describe()"
   ]
  },
  {
   "cell_type": "code",
   "execution_count": null,
   "metadata": {},
   "outputs": [],
   "source": [
    "contributors_df.head()"
   ]
  },
  {
   "cell_type": "code",
   "execution_count": null,
   "metadata": {},
   "outputs": [],
   "source": [
    "file_path = '../data/contributors_' + str(time.time()).split('.')[0] + '.csv'\n",
    "file_path"
   ]
  },
  {
   "cell_type": "code",
   "execution_count": null,
   "metadata": {},
   "outputs": [],
   "source": [
    "result_contributors.to_csv(file_path, index=False)"
   ]
  }
 ],
 "metadata": {
  "kernelspec": {
   "display_name": "Python 3",
   "language": "python",
   "name": "python3"
  },
  "language_info": {
   "codemirror_mode": {
    "name": "ipython",
    "version": 3
   },
   "file_extension": ".py",
   "mimetype": "text/x-python",
   "name": "python",
   "nbconvert_exporter": "python",
   "pygments_lexer": "ipython3",
   "version": "3.5.6"
  }
 },
 "nbformat": 4,
 "nbformat_minor": 2
}
