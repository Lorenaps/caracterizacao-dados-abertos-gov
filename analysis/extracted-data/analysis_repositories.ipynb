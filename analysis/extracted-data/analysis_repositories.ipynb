{
 "cells": [
  {
   "cell_type": "markdown",
   "metadata": {},
   "source": [
    "# Análise dos resultados parciais da extração\n",
    "\n",
    "## Pré-processamento\n",
    "\n",
    "Tratando datas e tipos de dados"
   ]
  },
  {
   "cell_type": "code",
   "execution_count": 1,
   "metadata": {},
   "outputs": [],
   "source": [
    "import pandas as pd\n",
    "import matplotlib as plt\n",
    "import plotly"
   ]
  },
  {
   "cell_type": "code",
   "execution_count": 2,
   "metadata": {},
   "outputs": [],
   "source": [
    "%matplotlib inline\n",
    "plt.rcParams['figure.figsize'] = (9, 4)"
   ]
  },
  {
   "cell_type": "code",
   "execution_count": 3,
   "metadata": {},
   "outputs": [],
   "source": [
    "repo = pd.read_csv(\"../../data/repositories_edu.csv\",  dtype={'id': object,\n",
    "                                                                'timestamp_extract': object,\n",
    "                                                                'commits': pd.Int64Dtype(),\n",
    "                                                                'contributors': pd.Int64Dtype()})"
   ]
  },
  {
   "cell_type": "code",
   "execution_count": 4,
   "metadata": {},
   "outputs": [
    {
     "data": {
      "text/html": [
       "<div>\n",
       "<style scoped>\n",
       "    .dataframe tbody tr th:only-of-type {\n",
       "        vertical-align: middle;\n",
       "    }\n",
       "\n",
       "    .dataframe tbody tr th {\n",
       "        vertical-align: top;\n",
       "    }\n",
       "\n",
       "    .dataframe thead th {\n",
       "        text-align: right;\n",
       "    }\n",
       "</style>\n",
       "<table border=\"1\" class=\"dataframe\">\n",
       "  <thead>\n",
       "    <tr style=\"text-align: right;\">\n",
       "      <th></th>\n",
       "      <th>id</th>\n",
       "      <th>url</th>\n",
       "      <th>created_at</th>\n",
       "      <th>updated_at</th>\n",
       "      <th>pushed_at</th>\n",
       "    </tr>\n",
       "  </thead>\n",
       "  <tbody>\n",
       "    <tr>\n",
       "      <th>0</th>\n",
       "      <td>73385196</td>\n",
       "      <td>https://github.com/prefeiturasp/dados-educacao</td>\n",
       "      <td>2016-11-10T13:35:40Z</td>\n",
       "      <td>2020-02-25T21:59:41Z</td>\n",
       "      <td>2019-10-02T18:43:26Z</td>\n",
       "    </tr>\n",
       "    <tr>\n",
       "      <th>1</th>\n",
       "      <td>120380053</td>\n",
       "      <td>https://github.com/turicas/cursos-prouni</td>\n",
       "      <td>2018-02-06T00:30:03Z</td>\n",
       "      <td>2019-11-01T01:04:49Z</td>\n",
       "      <td>2019-11-01T01:04:48Z</td>\n",
       "    </tr>\n",
       "    <tr>\n",
       "      <th>2</th>\n",
       "      <td>19895876</td>\n",
       "      <td>https://github.com/inepdadosabertos/api</td>\n",
       "      <td>2014-05-17T20:45:05Z</td>\n",
       "      <td>2019-05-31T17:57:22Z</td>\n",
       "      <td>2014-05-18T09:29:33Z</td>\n",
       "    </tr>\n",
       "  </tbody>\n",
       "</table>\n",
       "</div>"
      ],
      "text/plain": [
       "          id                                             url  \\\n",
       "0   73385196  https://github.com/prefeiturasp/dados-educacao   \n",
       "1  120380053        https://github.com/turicas/cursos-prouni   \n",
       "2   19895876         https://github.com/inepdadosabertos/api   \n",
       "\n",
       "             created_at            updated_at             pushed_at  \n",
       "0  2016-11-10T13:35:40Z  2020-02-25T21:59:41Z  2019-10-02T18:43:26Z  \n",
       "1  2018-02-06T00:30:03Z  2019-11-01T01:04:49Z  2019-11-01T01:04:48Z  \n",
       "2  2014-05-17T20:45:05Z  2019-05-31T17:57:22Z  2014-05-18T09:29:33Z  "
      ]
     },
     "execution_count": 4,
     "metadata": {},
     "output_type": "execute_result"
    }
   ],
   "source": [
    "repo.head(3)[['id', 'url', 'created_at', 'updated_at', 'pushed_at']]"
   ]
  },
  {
   "cell_type": "code",
   "execution_count": 5,
   "metadata": {},
   "outputs": [],
   "source": [
    "def conversao_string_datetime(df, coluna):\n",
    "    df[coluna] = pd.to_datetime(df[coluna], dayfirst=True)\n",
    "    \n",
    "    df[coluna + '_month'] = df[coluna].dt.month_name(locale='pt_BR.UTF-8')\n",
    "    df.astype({coluna + '_month': 'category'}).dtypes\n",
    "\n",
    "    df[coluna + '_number_month'] = df[coluna].dt.month\n",
    "    df.astype({coluna + '_number_month': 'category'}).dtypes\n",
    "\n",
    "    df[coluna + '_year'] = df[coluna].dt.year\n",
    "    df.astype({coluna + '_year': 'category'}).dtypes\n",
    "\n",
    "    # df[coluna + '_dia'] = df[coluna].dt.day\n",
    "\n",
    "    return df"
   ]
  },
  {
   "cell_type": "code",
   "execution_count": 6,
   "metadata": {},
   "outputs": [
    {
     "data": {
      "text/html": [
       "<div>\n",
       "<style scoped>\n",
       "    .dataframe tbody tr th:only-of-type {\n",
       "        vertical-align: middle;\n",
       "    }\n",
       "\n",
       "    .dataframe tbody tr th {\n",
       "        vertical-align: top;\n",
       "    }\n",
       "\n",
       "    .dataframe thead th {\n",
       "        text-align: right;\n",
       "    }\n",
       "</style>\n",
       "<table border=\"1\" class=\"dataframe\">\n",
       "  <thead>\n",
       "    <tr style=\"text-align: right;\">\n",
       "      <th></th>\n",
       "      <th>id</th>\n",
       "      <th>full_name</th>\n",
       "      <th>description</th>\n",
       "      <th>owner_type</th>\n",
       "      <th>owner_api_url</th>\n",
       "      <th>owner_url</th>\n",
       "      <th>api_url</th>\n",
       "      <th>url</th>\n",
       "      <th>fork</th>\n",
       "      <th>created_at</th>\n",
       "      <th>...</th>\n",
       "      <th>owner_name</th>\n",
       "      <th>created_at_month</th>\n",
       "      <th>created_at_number_month</th>\n",
       "      <th>created_at_year</th>\n",
       "      <th>updated_at_month</th>\n",
       "      <th>updated_at_number_month</th>\n",
       "      <th>updated_at_year</th>\n",
       "      <th>pushed_at_month</th>\n",
       "      <th>pushed_at_number_month</th>\n",
       "      <th>pushed_at_year</th>\n",
       "    </tr>\n",
       "  </thead>\n",
       "  <tbody>\n",
       "    <tr>\n",
       "      <th>0</th>\n",
       "      <td>73385196</td>\n",
       "      <td>prefeiturasp/dados-educacao</td>\n",
       "      <td>Análises e tutoriais das bases de dados aberto...</td>\n",
       "      <td>Organization</td>\n",
       "      <td>https://api.github.com/users/prefeiturasp</td>\n",
       "      <td>https://github.com/prefeiturasp</td>\n",
       "      <td>https://api.github.com/repos/prefeiturasp/dado...</td>\n",
       "      <td>https://github.com/prefeiturasp/dados-educacao</td>\n",
       "      <td>False</td>\n",
       "      <td>2016-11-10 13:35:40+00:00</td>\n",
       "      <td>...</td>\n",
       "      <td>Prefeitura Municipal de São Paulo</td>\n",
       "      <td>Novembro</td>\n",
       "      <td>11</td>\n",
       "      <td>2016</td>\n",
       "      <td>Fevereiro</td>\n",
       "      <td>2</td>\n",
       "      <td>2020</td>\n",
       "      <td>Outubro</td>\n",
       "      <td>10</td>\n",
       "      <td>2019</td>\n",
       "    </tr>\n",
       "  </tbody>\n",
       "</table>\n",
       "<p>1 rows × 37 columns</p>\n",
       "</div>"
      ],
      "text/plain": [
       "         id                    full_name  \\\n",
       "0  73385196  prefeiturasp/dados-educacao   \n",
       "\n",
       "                                         description    owner_type  \\\n",
       "0  Análises e tutoriais das bases de dados aberto...  Organization   \n",
       "\n",
       "                               owner_api_url                        owner_url  \\\n",
       "0  https://api.github.com/users/prefeiturasp  https://github.com/prefeiturasp   \n",
       "\n",
       "                                             api_url  \\\n",
       "0  https://api.github.com/repos/prefeiturasp/dado...   \n",
       "\n",
       "                                              url   fork  \\\n",
       "0  https://github.com/prefeiturasp/dados-educacao  False   \n",
       "\n",
       "                 created_at  ...                         owner_name  \\\n",
       "0 2016-11-10 13:35:40+00:00  ...  Prefeitura Municipal de São Paulo   \n",
       "\n",
       "  created_at_month  created_at_number_month  created_at_year updated_at_month  \\\n",
       "0         Novembro                       11             2016        Fevereiro   \n",
       "\n",
       "   updated_at_number_month  updated_at_year  pushed_at_month  \\\n",
       "0                        2             2020          Outubro   \n",
       "\n",
       "   pushed_at_number_month  pushed_at_year  \n",
       "0                      10            2019  \n",
       "\n",
       "[1 rows x 37 columns]"
      ]
     },
     "execution_count": 6,
     "metadata": {},
     "output_type": "execute_result"
    }
   ],
   "source": [
    "repo = conversao_string_datetime(repo, 'created_at')\n",
    "repo = conversao_string_datetime(repo, 'updated_at')\n",
    "repo = conversao_string_datetime(repo, 'pushed_at')\n",
    "\n",
    "repo.head(1)"
   ]
  },
  {
   "cell_type": "code",
   "execution_count": 7,
   "metadata": {},
   "outputs": [
    {
     "data": {
      "text/plain": [
       "389"
      ]
     },
     "execution_count": 7,
     "metadata": {},
     "output_type": "execute_result"
    }
   ],
   "source": [
    "len(repo)"
   ]
  },
  {
   "cell_type": "markdown",
   "metadata": {},
   "source": [
    "Verificando se existe algum repositório com número de commits igual a 0"
   ]
  },
  {
   "cell_type": "code",
   "execution_count": 8,
   "metadata": {
    "scrolled": true
   },
   "outputs": [
    {
     "data": {
      "text/plain": [
       "0"
      ]
     },
     "execution_count": 8,
     "metadata": {},
     "output_type": "execute_result"
    }
   ],
   "source": [
    "len(repo.loc[repo['commits'].isna()])"
   ]
  },
  {
   "cell_type": "markdown",
   "metadata": {},
   "source": [
    "## Agrupando dados"
   ]
  },
  {
   "cell_type": "code",
   "execution_count": 9,
   "metadata": {
    "scrolled": true
   },
   "outputs": [
    {
     "data": {
      "text/plain": [
       "Index(['id', 'full_name', 'description', 'owner_type', 'owner_api_url',\n",
       "       'owner_url', 'api_url', 'url', 'fork', 'created_at', 'updated_at',\n",
       "       'pushed_at', 'size', 'stargazers_count', 'language', 'has_issues',\n",
       "       'has_wiki', 'forks_count', 'forks', 'open_issues', 'license',\n",
       "       'timestamp_extract', 'commits', 'contributors', 'owner_location',\n",
       "       'owner_email', 'owner_blog', 'owner_name', 'created_at_month',\n",
       "       'created_at_number_month', 'created_at_year', 'updated_at_month',\n",
       "       'updated_at_number_month', 'updated_at_year', 'pushed_at_month',\n",
       "       'pushed_at_number_month', 'pushed_at_year'],\n",
       "      dtype='object')"
      ]
     },
     "execution_count": 9,
     "metadata": {},
     "output_type": "execute_result"
    }
   ],
   "source": [
    "repo.columns"
   ]
  },
  {
   "cell_type": "markdown",
   "metadata": {},
   "source": [
    "### 1 - Tipos de usuários do github"
   ]
  },
  {
   "cell_type": "code",
   "execution_count": 10,
   "metadata": {
    "scrolled": false
   },
   "outputs": [
    {
     "data": {
      "text/html": [
       "<div>\n",
       "<style scoped>\n",
       "    .dataframe tbody tr th:only-of-type {\n",
       "        vertical-align: middle;\n",
       "    }\n",
       "\n",
       "    .dataframe tbody tr th {\n",
       "        vertical-align: top;\n",
       "    }\n",
       "\n",
       "    .dataframe thead th {\n",
       "        text-align: right;\n",
       "    }\n",
       "</style>\n",
       "<table border=\"1\" class=\"dataframe\">\n",
       "  <thead>\n",
       "    <tr style=\"text-align: right;\">\n",
       "      <th></th>\n",
       "      <th>owner_type</th>\n",
       "      <th>qtd</th>\n",
       "    </tr>\n",
       "  </thead>\n",
       "  <tbody>\n",
       "    <tr>\n",
       "      <th>0</th>\n",
       "      <td>Organization</td>\n",
       "      <td>48</td>\n",
       "    </tr>\n",
       "    <tr>\n",
       "      <th>1</th>\n",
       "      <td>User</td>\n",
       "      <td>341</td>\n",
       "    </tr>\n",
       "  </tbody>\n",
       "</table>\n",
       "</div>"
      ],
      "text/plain": [
       "     owner_type  qtd\n",
       "0  Organization   48\n",
       "1          User  341"
      ]
     },
     "execution_count": 10,
     "metadata": {},
     "output_type": "execute_result"
    }
   ],
   "source": [
    "owner_type = repo.groupby('owner_type').size().reset_index(name='qtd')\n",
    "owner_type"
   ]
  },
  {
   "cell_type": "code",
   "execution_count": 11,
   "metadata": {
    "scrolled": true
   },
   "outputs": [
    {
     "data": {
      "text/html": [
       "<div>\n",
       "<style scoped>\n",
       "    .dataframe tbody tr th:only-of-type {\n",
       "        vertical-align: middle;\n",
       "    }\n",
       "\n",
       "    .dataframe tbody tr th {\n",
       "        vertical-align: top;\n",
       "    }\n",
       "\n",
       "    .dataframe thead th {\n",
       "        text-align: right;\n",
       "    }\n",
       "</style>\n",
       "<table border=\"1\" class=\"dataframe\">\n",
       "  <thead>\n",
       "    <tr style=\"text-align: right;\">\n",
       "      <th></th>\n",
       "      <th>owner_type</th>\n",
       "      <th>qtd</th>\n",
       "      <th>% of total</th>\n",
       "    </tr>\n",
       "  </thead>\n",
       "  <tbody>\n",
       "    <tr>\n",
       "      <th>0</th>\n",
       "      <td>Organization</td>\n",
       "      <td>48</td>\n",
       "      <td>12.339332</td>\n",
       "    </tr>\n",
       "    <tr>\n",
       "      <th>1</th>\n",
       "      <td>User</td>\n",
       "      <td>341</td>\n",
       "      <td>87.660668</td>\n",
       "    </tr>\n",
       "  </tbody>\n",
       "</table>\n",
       "</div>"
      ],
      "text/plain": [
       "     owner_type  qtd  % of total\n",
       "0  Organization   48   12.339332\n",
       "1          User  341   87.660668"
      ]
     },
     "execution_count": 11,
     "metadata": {},
     "output_type": "execute_result"
    }
   ],
   "source": [
    "total = owner_type['qtd'].sum()\n",
    "owner_type['% of total'] = owner_type['qtd'].apply(lambda x: 100 * x / total)\n",
    "owner_type"
   ]
  },
  {
   "cell_type": "markdown",
   "metadata": {},
   "source": [
    "### 2 - Linguagens de Programação"
   ]
  },
  {
   "cell_type": "code",
   "execution_count": 16,
   "metadata": {},
   "outputs": [
    {
     "data": {
      "text/plain": [
       "72"
      ]
     },
     "execution_count": 16,
     "metadata": {},
     "output_type": "execute_result"
    }
   ],
   "source": [
    "len(repo.loc[repo['language'].isna()])"
   ]
  },
  {
   "cell_type": "code",
   "execution_count": 17,
   "metadata": {},
   "outputs": [
    {
     "data": {
      "text/plain": [
       "18.50899742930591"
      ]
     },
     "execution_count": 17,
     "metadata": {},
     "output_type": "execute_result"
    }
   ],
   "source": [
    "len(repo.loc[repo['language'].isna()]) / len(repo) * 100"
   ]
  },
  {
   "cell_type": "markdown",
   "metadata": {},
   "source": [
    "72 de 389 (19%) repositórios não possuem a informação para Linguagem de programação."
   ]
  },
  {
   "cell_type": "code",
   "execution_count": 18,
   "metadata": {
    "scrolled": false
   },
   "outputs": [
    {
     "data": {
      "text/html": [
       "<div>\n",
       "<style scoped>\n",
       "    .dataframe tbody tr th:only-of-type {\n",
       "        vertical-align: middle;\n",
       "    }\n",
       "\n",
       "    .dataframe tbody tr th {\n",
       "        vertical-align: top;\n",
       "    }\n",
       "\n",
       "    .dataframe thead th {\n",
       "        text-align: right;\n",
       "    }\n",
       "</style>\n",
       "<table border=\"1\" class=\"dataframe\">\n",
       "  <thead>\n",
       "    <tr style=\"text-align: right;\">\n",
       "      <th></th>\n",
       "      <th>language</th>\n",
       "      <th>qtd</th>\n",
       "    </tr>\n",
       "  </thead>\n",
       "  <tbody>\n",
       "    <tr>\n",
       "      <th>9</th>\n",
       "      <td>Jupyter Notebook</td>\n",
       "      <td>139</td>\n",
       "    </tr>\n",
       "    <tr>\n",
       "      <th>14</th>\n",
       "      <td>R</td>\n",
       "      <td>34</td>\n",
       "    </tr>\n",
       "    <tr>\n",
       "      <th>13</th>\n",
       "      <td>Python</td>\n",
       "      <td>33</td>\n",
       "    </tr>\n",
       "    <tr>\n",
       "      <th>6</th>\n",
       "      <td>HTML</td>\n",
       "      <td>21</td>\n",
       "    </tr>\n",
       "    <tr>\n",
       "      <th>7</th>\n",
       "      <td>Java</td>\n",
       "      <td>21</td>\n",
       "    </tr>\n",
       "    <tr>\n",
       "      <th>10</th>\n",
       "      <td>PHP</td>\n",
       "      <td>14</td>\n",
       "    </tr>\n",
       "    <tr>\n",
       "      <th>8</th>\n",
       "      <td>JavaScript</td>\n",
       "      <td>12</td>\n",
       "    </tr>\n",
       "    <tr>\n",
       "      <th>1</th>\n",
       "      <td>C#</td>\n",
       "      <td>6</td>\n",
       "    </tr>\n",
       "    <tr>\n",
       "      <th>0</th>\n",
       "      <td>C</td>\n",
       "      <td>5</td>\n",
       "    </tr>\n",
       "    <tr>\n",
       "      <th>20</th>\n",
       "      <td>TSQL</td>\n",
       "      <td>5</td>\n",
       "    </tr>\n",
       "    <tr>\n",
       "      <th>16</th>\n",
       "      <td>Ruby</td>\n",
       "      <td>4</td>\n",
       "    </tr>\n",
       "    <tr>\n",
       "      <th>2</th>\n",
       "      <td>C++</td>\n",
       "      <td>3</td>\n",
       "    </tr>\n",
       "    <tr>\n",
       "      <th>3</th>\n",
       "      <td>CSS</td>\n",
       "      <td>3</td>\n",
       "    </tr>\n",
       "    <tr>\n",
       "      <th>22</th>\n",
       "      <td>TypeScript</td>\n",
       "      <td>3</td>\n",
       "    </tr>\n",
       "    <tr>\n",
       "      <th>19</th>\n",
       "      <td>Shell</td>\n",
       "      <td>3</td>\n",
       "    </tr>\n",
       "    <tr>\n",
       "      <th>21</th>\n",
       "      <td>TeX</td>\n",
       "      <td>2</td>\n",
       "    </tr>\n",
       "    <tr>\n",
       "      <th>23</th>\n",
       "      <td>Vue</td>\n",
       "      <td>2</td>\n",
       "    </tr>\n",
       "    <tr>\n",
       "      <th>17</th>\n",
       "      <td>SQLPL</td>\n",
       "      <td>1</td>\n",
       "    </tr>\n",
       "    <tr>\n",
       "      <th>18</th>\n",
       "      <td>Scala</td>\n",
       "      <td>1</td>\n",
       "    </tr>\n",
       "    <tr>\n",
       "      <th>15</th>\n",
       "      <td>Rich Text Format</td>\n",
       "      <td>1</td>\n",
       "    </tr>\n",
       "    <tr>\n",
       "      <th>11</th>\n",
       "      <td>PLpgSQL</td>\n",
       "      <td>1</td>\n",
       "    </tr>\n",
       "    <tr>\n",
       "      <th>5</th>\n",
       "      <td>Go</td>\n",
       "      <td>1</td>\n",
       "    </tr>\n",
       "    <tr>\n",
       "      <th>4</th>\n",
       "      <td>Clojure</td>\n",
       "      <td>1</td>\n",
       "    </tr>\n",
       "    <tr>\n",
       "      <th>12</th>\n",
       "      <td>Processing</td>\n",
       "      <td>1</td>\n",
       "    </tr>\n",
       "  </tbody>\n",
       "</table>\n",
       "</div>"
      ],
      "text/plain": [
       "            language  qtd\n",
       "9   Jupyter Notebook  139\n",
       "14                 R   34\n",
       "13            Python   33\n",
       "6               HTML   21\n",
       "7               Java   21\n",
       "10               PHP   14\n",
       "8         JavaScript   12\n",
       "1                 C#    6\n",
       "0                  C    5\n",
       "20              TSQL    5\n",
       "16              Ruby    4\n",
       "2                C++    3\n",
       "3                CSS    3\n",
       "22        TypeScript    3\n",
       "19             Shell    3\n",
       "21               TeX    2\n",
       "23               Vue    2\n",
       "17             SQLPL    1\n",
       "18             Scala    1\n",
       "15  Rich Text Format    1\n",
       "11           PLpgSQL    1\n",
       "5                 Go    1\n",
       "4            Clojure    1\n",
       "12        Processing    1"
      ]
     },
     "execution_count": 18,
     "metadata": {},
     "output_type": "execute_result"
    }
   ],
   "source": [
    "language = repo.groupby('language').size().reset_index(name='qtd').sort_values('qtd', ascending=False)\n",
    "language"
   ]
  },
  {
   "cell_type": "code",
   "execution_count": 19,
   "metadata": {},
   "outputs": [
    {
     "data": {
      "text/html": [
       "<div>\n",
       "<style scoped>\n",
       "    .dataframe tbody tr th:only-of-type {\n",
       "        vertical-align: middle;\n",
       "    }\n",
       "\n",
       "    .dataframe tbody tr th {\n",
       "        vertical-align: top;\n",
       "    }\n",
       "\n",
       "    .dataframe thead th {\n",
       "        text-align: right;\n",
       "    }\n",
       "</style>\n",
       "<table border=\"1\" class=\"dataframe\">\n",
       "  <thead>\n",
       "    <tr style=\"text-align: right;\">\n",
       "      <th></th>\n",
       "      <th>language</th>\n",
       "      <th>qtd</th>\n",
       "      <th>% of total</th>\n",
       "    </tr>\n",
       "  </thead>\n",
       "  <tbody>\n",
       "    <tr>\n",
       "      <th>9</th>\n",
       "      <td>Jupyter Notebook</td>\n",
       "      <td>139</td>\n",
       "      <td>43.848580</td>\n",
       "    </tr>\n",
       "    <tr>\n",
       "      <th>14</th>\n",
       "      <td>R</td>\n",
       "      <td>34</td>\n",
       "      <td>10.725552</td>\n",
       "    </tr>\n",
       "    <tr>\n",
       "      <th>13</th>\n",
       "      <td>Python</td>\n",
       "      <td>33</td>\n",
       "      <td>10.410095</td>\n",
       "    </tr>\n",
       "    <tr>\n",
       "      <th>6</th>\n",
       "      <td>HTML</td>\n",
       "      <td>21</td>\n",
       "      <td>6.624606</td>\n",
       "    </tr>\n",
       "    <tr>\n",
       "      <th>7</th>\n",
       "      <td>Java</td>\n",
       "      <td>21</td>\n",
       "      <td>6.624606</td>\n",
       "    </tr>\n",
       "    <tr>\n",
       "      <th>10</th>\n",
       "      <td>PHP</td>\n",
       "      <td>14</td>\n",
       "      <td>4.416404</td>\n",
       "    </tr>\n",
       "    <tr>\n",
       "      <th>8</th>\n",
       "      <td>JavaScript</td>\n",
       "      <td>12</td>\n",
       "      <td>3.785489</td>\n",
       "    </tr>\n",
       "    <tr>\n",
       "      <th>1</th>\n",
       "      <td>C#</td>\n",
       "      <td>6</td>\n",
       "      <td>1.892744</td>\n",
       "    </tr>\n",
       "    <tr>\n",
       "      <th>0</th>\n",
       "      <td>C</td>\n",
       "      <td>5</td>\n",
       "      <td>1.577287</td>\n",
       "    </tr>\n",
       "    <tr>\n",
       "      <th>20</th>\n",
       "      <td>TSQL</td>\n",
       "      <td>5</td>\n",
       "      <td>1.577287</td>\n",
       "    </tr>\n",
       "    <tr>\n",
       "      <th>16</th>\n",
       "      <td>Ruby</td>\n",
       "      <td>4</td>\n",
       "      <td>1.261830</td>\n",
       "    </tr>\n",
       "    <tr>\n",
       "      <th>2</th>\n",
       "      <td>C++</td>\n",
       "      <td>3</td>\n",
       "      <td>0.946372</td>\n",
       "    </tr>\n",
       "    <tr>\n",
       "      <th>3</th>\n",
       "      <td>CSS</td>\n",
       "      <td>3</td>\n",
       "      <td>0.946372</td>\n",
       "    </tr>\n",
       "    <tr>\n",
       "      <th>22</th>\n",
       "      <td>TypeScript</td>\n",
       "      <td>3</td>\n",
       "      <td>0.946372</td>\n",
       "    </tr>\n",
       "    <tr>\n",
       "      <th>19</th>\n",
       "      <td>Shell</td>\n",
       "      <td>3</td>\n",
       "      <td>0.946372</td>\n",
       "    </tr>\n",
       "    <tr>\n",
       "      <th>21</th>\n",
       "      <td>TeX</td>\n",
       "      <td>2</td>\n",
       "      <td>0.630915</td>\n",
       "    </tr>\n",
       "    <tr>\n",
       "      <th>23</th>\n",
       "      <td>Vue</td>\n",
       "      <td>2</td>\n",
       "      <td>0.630915</td>\n",
       "    </tr>\n",
       "    <tr>\n",
       "      <th>17</th>\n",
       "      <td>SQLPL</td>\n",
       "      <td>1</td>\n",
       "      <td>0.315457</td>\n",
       "    </tr>\n",
       "    <tr>\n",
       "      <th>18</th>\n",
       "      <td>Scala</td>\n",
       "      <td>1</td>\n",
       "      <td>0.315457</td>\n",
       "    </tr>\n",
       "    <tr>\n",
       "      <th>15</th>\n",
       "      <td>Rich Text Format</td>\n",
       "      <td>1</td>\n",
       "      <td>0.315457</td>\n",
       "    </tr>\n",
       "    <tr>\n",
       "      <th>11</th>\n",
       "      <td>PLpgSQL</td>\n",
       "      <td>1</td>\n",
       "      <td>0.315457</td>\n",
       "    </tr>\n",
       "    <tr>\n",
       "      <th>5</th>\n",
       "      <td>Go</td>\n",
       "      <td>1</td>\n",
       "      <td>0.315457</td>\n",
       "    </tr>\n",
       "    <tr>\n",
       "      <th>4</th>\n",
       "      <td>Clojure</td>\n",
       "      <td>1</td>\n",
       "      <td>0.315457</td>\n",
       "    </tr>\n",
       "    <tr>\n",
       "      <th>12</th>\n",
       "      <td>Processing</td>\n",
       "      <td>1</td>\n",
       "      <td>0.315457</td>\n",
       "    </tr>\n",
       "  </tbody>\n",
       "</table>\n",
       "</div>"
      ],
      "text/plain": [
       "            language  qtd  % of total\n",
       "9   Jupyter Notebook  139   43.848580\n",
       "14                 R   34   10.725552\n",
       "13            Python   33   10.410095\n",
       "6               HTML   21    6.624606\n",
       "7               Java   21    6.624606\n",
       "10               PHP   14    4.416404\n",
       "8         JavaScript   12    3.785489\n",
       "1                 C#    6    1.892744\n",
       "0                  C    5    1.577287\n",
       "20              TSQL    5    1.577287\n",
       "16              Ruby    4    1.261830\n",
       "2                C++    3    0.946372\n",
       "3                CSS    3    0.946372\n",
       "22        TypeScript    3    0.946372\n",
       "19             Shell    3    0.946372\n",
       "21               TeX    2    0.630915\n",
       "23               Vue    2    0.630915\n",
       "17             SQLPL    1    0.315457\n",
       "18             Scala    1    0.315457\n",
       "15  Rich Text Format    1    0.315457\n",
       "11           PLpgSQL    1    0.315457\n",
       "5                 Go    1    0.315457\n",
       "4            Clojure    1    0.315457\n",
       "12        Processing    1    0.315457"
      ]
     },
     "execution_count": 19,
     "metadata": {},
     "output_type": "execute_result"
    }
   ],
   "source": [
    "total_language = language['qtd'].sum()\n",
    "language['% of total'] = language['qtd'].apply(lambda x: 100 * x / total_language)\n",
    "language"
   ]
  },
  {
   "cell_type": "markdown",
   "metadata": {},
   "source": [
    "### 3 - Quantidade de _Stars_ \n",
    "\n",
    "Top 15"
   ]
  },
  {
   "cell_type": "code",
   "execution_count": 20,
   "metadata": {},
   "outputs": [],
   "source": [
    "stargazers_count = repo[['full_name', 'stargazers_count']]"
   ]
  },
  {
   "cell_type": "code",
   "execution_count": 22,
   "metadata": {},
   "outputs": [
    {
     "data": {
      "text/html": [
       "<div>\n",
       "<style scoped>\n",
       "    .dataframe tbody tr th:only-of-type {\n",
       "        vertical-align: middle;\n",
       "    }\n",
       "\n",
       "    .dataframe tbody tr th {\n",
       "        vertical-align: top;\n",
       "    }\n",
       "\n",
       "    .dataframe thead th {\n",
       "        text-align: right;\n",
       "    }\n",
       "</style>\n",
       "<table border=\"1\" class=\"dataframe\">\n",
       "  <thead>\n",
       "    <tr style=\"text-align: right;\">\n",
       "      <th></th>\n",
       "      <th>full_name</th>\n",
       "      <th>stargazers_count</th>\n",
       "    </tr>\n",
       "  </thead>\n",
       "  <tbody>\n",
       "    <tr>\n",
       "      <th>0</th>\n",
       "      <td>prefeiturasp/dados-educacao</td>\n",
       "      <td>47</td>\n",
       "    </tr>\n",
       "    <tr>\n",
       "      <th>1</th>\n",
       "      <td>turicas/cursos-prouni</td>\n",
       "      <td>27</td>\n",
       "    </tr>\n",
       "    <tr>\n",
       "      <th>2</th>\n",
       "      <td>inepdadosabertos/api</td>\n",
       "      <td>14</td>\n",
       "    </tr>\n",
       "    <tr>\n",
       "      <th>3</th>\n",
       "      <td>erickrf/dicionariosIBGE</td>\n",
       "      <td>12</td>\n",
       "    </tr>\n",
       "    <tr>\n",
       "      <th>4</th>\n",
       "      <td>Explicador/MozAPI</td>\n",
       "      <td>8</td>\n",
       "    </tr>\n",
       "    <tr>\n",
       "      <th>5</th>\n",
       "      <td>fga-eps-mds/2017.2-MerendaMais</td>\n",
       "      <td>8</td>\n",
       "    </tr>\n",
       "    <tr>\n",
       "      <th>6</th>\n",
       "      <td>OpenEnade/API</td>\n",
       "      <td>5</td>\n",
       "    </tr>\n",
       "    <tr>\n",
       "      <th>7</th>\n",
       "      <td>bcfurtado/educabrasil</td>\n",
       "      <td>5</td>\n",
       "    </tr>\n",
       "    <tr>\n",
       "      <th>8</th>\n",
       "      <td>sjcdigital/sjc-edu</td>\n",
       "      <td>5</td>\n",
       "    </tr>\n",
       "    <tr>\n",
       "      <th>12</th>\n",
       "      <td>nazareno/enade-vis</td>\n",
       "      <td>4</td>\n",
       "    </tr>\n",
       "    <tr>\n",
       "      <th>13</th>\n",
       "      <td>prgsouza/importasisu</td>\n",
       "      <td>4</td>\n",
       "    </tr>\n",
       "    <tr>\n",
       "      <th>11</th>\n",
       "      <td>JodanGalas/Analise_Microdados_Enade</td>\n",
       "      <td>4</td>\n",
       "    </tr>\n",
       "    <tr>\n",
       "      <th>10</th>\n",
       "      <td>pavanad/emec-api</td>\n",
       "      <td>4</td>\n",
       "    </tr>\n",
       "    <tr>\n",
       "      <th>9</th>\n",
       "      <td>josehcz/Analise-de-danos-Prouni-ADS</td>\n",
       "      <td>4</td>\n",
       "    </tr>\n",
       "    <tr>\n",
       "      <th>14</th>\n",
       "      <td>sombriks/microdados-brutos</td>\n",
       "      <td>3</td>\n",
       "    </tr>\n",
       "  </tbody>\n",
       "</table>\n",
       "</div>"
      ],
      "text/plain": [
       "                              full_name  stargazers_count\n",
       "0           prefeiturasp/dados-educacao                47\n",
       "1                 turicas/cursos-prouni                27\n",
       "2                  inepdadosabertos/api                14\n",
       "3               erickrf/dicionariosIBGE                12\n",
       "4                     Explicador/MozAPI                 8\n",
       "5        fga-eps-mds/2017.2-MerendaMais                 8\n",
       "6                         OpenEnade/API                 5\n",
       "7                 bcfurtado/educabrasil                 5\n",
       "8                    sjcdigital/sjc-edu                 5\n",
       "12                   nazareno/enade-vis                 4\n",
       "13                 prgsouza/importasisu                 4\n",
       "11  JodanGalas/Analise_Microdados_Enade                 4\n",
       "10                     pavanad/emec-api                 4\n",
       "9   josehcz/Analise-de-danos-Prouni-ADS                 4\n",
       "14           sombriks/microdados-brutos                 3"
      ]
     },
     "execution_count": 22,
     "metadata": {},
     "output_type": "execute_result"
    }
   ],
   "source": [
    "stargazers_count.sort_values('stargazers_count',  ascending=False).head(15)"
   ]
  },
  {
   "cell_type": "markdown",
   "metadata": {},
   "source": [
    "### 4 - Commits\n",
    "Top 15"
   ]
  },
  {
   "cell_type": "code",
   "execution_count": 23,
   "metadata": {},
   "outputs": [],
   "source": [
    "commits_count = repo[['full_name', 'commits']]"
   ]
  },
  {
   "cell_type": "code",
   "execution_count": 24,
   "metadata": {},
   "outputs": [
    {
     "data": {
      "text/html": [
       "<div>\n",
       "<style scoped>\n",
       "    .dataframe tbody tr th:only-of-type {\n",
       "        vertical-align: middle;\n",
       "    }\n",
       "\n",
       "    .dataframe tbody tr th {\n",
       "        vertical-align: top;\n",
       "    }\n",
       "\n",
       "    .dataframe thead th {\n",
       "        text-align: right;\n",
       "    }\n",
       "</style>\n",
       "<table border=\"1\" class=\"dataframe\">\n",
       "  <thead>\n",
       "    <tr style=\"text-align: right;\">\n",
       "      <th></th>\n",
       "      <th>full_name</th>\n",
       "      <th>commits</th>\n",
       "    </tr>\n",
       "  </thead>\n",
       "  <tbody>\n",
       "    <tr>\n",
       "      <th>5</th>\n",
       "      <td>fga-eps-mds/2017.2-MerendaMais</td>\n",
       "      <td>1002</td>\n",
       "    </tr>\n",
       "    <tr>\n",
       "      <th>87</th>\n",
       "      <td>georgegomesf/educadata</td>\n",
       "      <td>308</td>\n",
       "    </tr>\n",
       "    <tr>\n",
       "      <th>6</th>\n",
       "      <td>OpenEnade/API</td>\n",
       "      <td>305</td>\n",
       "    </tr>\n",
       "    <tr>\n",
       "      <th>26</th>\n",
       "      <td>repitta/CienciaDeDadosEducacionais</td>\n",
       "      <td>244</td>\n",
       "    </tr>\n",
       "    <tr>\n",
       "      <th>21</th>\n",
       "      <td>Krieffer/Analise-da-Insercao-do-Aluno-Negro-co...</td>\n",
       "      <td>170</td>\n",
       "    </tr>\n",
       "    <tr>\n",
       "      <th>64</th>\n",
       "      <td>ggpereira/visio-edu</td>\n",
       "      <td>142</td>\n",
       "    </tr>\n",
       "    <tr>\n",
       "      <th>259</th>\n",
       "      <td>ruanlas/TADS2015</td>\n",
       "      <td>104</td>\n",
       "    </tr>\n",
       "    <tr>\n",
       "      <th>83</th>\n",
       "      <td>voigtjessica/Educacao-no-Brasil</td>\n",
       "      <td>103</td>\n",
       "    </tr>\n",
       "    <tr>\n",
       "      <th>16</th>\n",
       "      <td>Lorenaps/caracterizacao-dados-abertos-gov</td>\n",
       "      <td>98</td>\n",
       "    </tr>\n",
       "    <tr>\n",
       "      <th>109</th>\n",
       "      <td>martins9/bd_enem_dados_2014</td>\n",
       "      <td>84</td>\n",
       "    </tr>\n",
       "    <tr>\n",
       "      <th>28</th>\n",
       "      <td>kaelvofraga/Pedal-to-Play</td>\n",
       "      <td>81</td>\n",
       "    </tr>\n",
       "    <tr>\n",
       "      <th>254</th>\n",
       "      <td>DenisMagno/hotelEstadaFeliz</td>\n",
       "      <td>79</td>\n",
       "    </tr>\n",
       "    <tr>\n",
       "      <th>105</th>\n",
       "      <td>AtilioA/analise-notas-ENEM</td>\n",
       "      <td>78</td>\n",
       "    </tr>\n",
       "    <tr>\n",
       "      <th>36</th>\n",
       "      <td>educlab/educDATA</td>\n",
       "      <td>72</td>\n",
       "    </tr>\n",
       "    <tr>\n",
       "      <th>110</th>\n",
       "      <td>martins9/bd_enem_dados_2015</td>\n",
       "      <td>71</td>\n",
       "    </tr>\n",
       "  </tbody>\n",
       "</table>\n",
       "</div>"
      ],
      "text/plain": [
       "                                             full_name  commits\n",
       "5                       fga-eps-mds/2017.2-MerendaMais     1002\n",
       "87                              georgegomesf/educadata      308\n",
       "6                                        OpenEnade/API      305\n",
       "26                  repitta/CienciaDeDadosEducacionais      244\n",
       "21   Krieffer/Analise-da-Insercao-do-Aluno-Negro-co...      170\n",
       "64                                 ggpereira/visio-edu      142\n",
       "259                                   ruanlas/TADS2015      104\n",
       "83                     voigtjessica/Educacao-no-Brasil      103\n",
       "16           Lorenaps/caracterizacao-dados-abertos-gov       98\n",
       "109                        martins9/bd_enem_dados_2014       84\n",
       "28                           kaelvofraga/Pedal-to-Play       81\n",
       "254                        DenisMagno/hotelEstadaFeliz       79\n",
       "105                         AtilioA/analise-notas-ENEM       78\n",
       "36                                    educlab/educDATA       72\n",
       "110                        martins9/bd_enem_dados_2015       71"
      ]
     },
     "execution_count": 24,
     "metadata": {},
     "output_type": "execute_result"
    }
   ],
   "source": [
    "commits_count.sort_values('commits',  ascending=False).head(15)"
   ]
  },
  {
   "cell_type": "markdown",
   "metadata": {},
   "source": [
    "### 5 - Quantidade de Forks"
   ]
  },
  {
   "cell_type": "code",
   "execution_count": 25,
   "metadata": {},
   "outputs": [],
   "source": [
    "forks_count = repo[['full_name', 'forks_count']]"
   ]
  },
  {
   "cell_type": "code",
   "execution_count": 26,
   "metadata": {},
   "outputs": [
    {
     "data": {
      "text/html": [
       "<div>\n",
       "<style scoped>\n",
       "    .dataframe tbody tr th:only-of-type {\n",
       "        vertical-align: middle;\n",
       "    }\n",
       "\n",
       "    .dataframe tbody tr th {\n",
       "        vertical-align: top;\n",
       "    }\n",
       "\n",
       "    .dataframe thead th {\n",
       "        text-align: right;\n",
       "    }\n",
       "</style>\n",
       "<table border=\"1\" class=\"dataframe\">\n",
       "  <thead>\n",
       "    <tr style=\"text-align: right;\">\n",
       "      <th></th>\n",
       "      <th>full_name</th>\n",
       "      <th>forks_count</th>\n",
       "    </tr>\n",
       "  </thead>\n",
       "  <tbody>\n",
       "    <tr>\n",
       "      <th>0</th>\n",
       "      <td>prefeiturasp/dados-educacao</td>\n",
       "      <td>17</td>\n",
       "    </tr>\n",
       "    <tr>\n",
       "      <th>3</th>\n",
       "      <td>erickrf/dicionariosIBGE</td>\n",
       "      <td>14</td>\n",
       "    </tr>\n",
       "    <tr>\n",
       "      <th>12</th>\n",
       "      <td>nazareno/enade-vis</td>\n",
       "      <td>9</td>\n",
       "    </tr>\n",
       "    <tr>\n",
       "      <th>1</th>\n",
       "      <td>turicas/cursos-prouni</td>\n",
       "      <td>9</td>\n",
       "    </tr>\n",
       "    <tr>\n",
       "      <th>5</th>\n",
       "      <td>fga-eps-mds/2017.2-MerendaMais</td>\n",
       "      <td>6</td>\n",
       "    </tr>\n",
       "    <tr>\n",
       "      <th>7</th>\n",
       "      <td>bcfurtado/educabrasil</td>\n",
       "      <td>5</td>\n",
       "    </tr>\n",
       "    <tr>\n",
       "      <th>2</th>\n",
       "      <td>inepdadosabertos/api</td>\n",
       "      <td>4</td>\n",
       "    </tr>\n",
       "    <tr>\n",
       "      <th>18</th>\n",
       "      <td>leonardojs1981/analise_enem_2</td>\n",
       "      <td>4</td>\n",
       "    </tr>\n",
       "    <tr>\n",
       "      <th>42</th>\n",
       "      <td>gsoare2/analise_desempenho_enem</td>\n",
       "      <td>3</td>\n",
       "    </tr>\n",
       "    <tr>\n",
       "      <th>116</th>\n",
       "      <td>bibiacoutinho/Analise-Dados-Inscritos-Comparec...</td>\n",
       "      <td>3</td>\n",
       "    </tr>\n",
       "    <tr>\n",
       "      <th>34</th>\n",
       "      <td>cesaraugusto98/EnemxEducacaoBasica</td>\n",
       "      <td>3</td>\n",
       "    </tr>\n",
       "    <tr>\n",
       "      <th>206</th>\n",
       "      <td>MarianaVasconcellos/Analise_CensoInep_Desempen...</td>\n",
       "      <td>3</td>\n",
       "    </tr>\n",
       "    <tr>\n",
       "      <th>94</th>\n",
       "      <td>RodrigoMarcelin/An-lise-de-dados-publicos</td>\n",
       "      <td>2</td>\n",
       "    </tr>\n",
       "    <tr>\n",
       "      <th>86</th>\n",
       "      <td>JDanrley/Microdados-INEP-Alunos-Especiais</td>\n",
       "      <td>2</td>\n",
       "    </tr>\n",
       "    <tr>\n",
       "      <th>44</th>\n",
       "      <td>paulovpcotta/An-lise-de-Dados-e-Infer-ncia-Est...</td>\n",
       "      <td>2</td>\n",
       "    </tr>\n",
       "  </tbody>\n",
       "</table>\n",
       "</div>"
      ],
      "text/plain": [
       "                                             full_name  forks_count\n",
       "0                          prefeiturasp/dados-educacao           17\n",
       "3                              erickrf/dicionariosIBGE           14\n",
       "12                                  nazareno/enade-vis            9\n",
       "1                                turicas/cursos-prouni            9\n",
       "5                       fga-eps-mds/2017.2-MerendaMais            6\n",
       "7                                bcfurtado/educabrasil            5\n",
       "2                                 inepdadosabertos/api            4\n",
       "18                       leonardojs1981/analise_enem_2            4\n",
       "42                     gsoare2/analise_desempenho_enem            3\n",
       "116  bibiacoutinho/Analise-Dados-Inscritos-Comparec...            3\n",
       "34                  cesaraugusto98/EnemxEducacaoBasica            3\n",
       "206  MarianaVasconcellos/Analise_CensoInep_Desempen...            3\n",
       "94           RodrigoMarcelin/An-lise-de-dados-publicos            2\n",
       "86           JDanrley/Microdados-INEP-Alunos-Especiais            2\n",
       "44   paulovpcotta/An-lise-de-Dados-e-Infer-ncia-Est...            2"
      ]
     },
     "execution_count": 26,
     "metadata": {},
     "output_type": "execute_result"
    }
   ],
   "source": [
    "forks_count.sort_values('forks_count',  ascending=False).head(15)"
   ]
  },
  {
   "cell_type": "markdown",
   "metadata": {},
   "source": [
    "### 6 - Local\n",
    "A partir do campo _location_ do _owner_ do repositório - Top 15"
   ]
  },
  {
   "cell_type": "code",
   "execution_count": 27,
   "metadata": {},
   "outputs": [
    {
     "data": {
      "text/plain": [
       "193"
      ]
     },
     "execution_count": 27,
     "metadata": {},
     "output_type": "execute_result"
    }
   ],
   "source": [
    "len(repo.loc[repo['owner_location'].isna()])"
   ]
  },
  {
   "cell_type": "code",
   "execution_count": 28,
   "metadata": {},
   "outputs": [
    {
     "data": {
      "text/plain": [
       "49.61439588688946"
      ]
     },
     "execution_count": 28,
     "metadata": {},
     "output_type": "execute_result"
    }
   ],
   "source": [
    "len(repo.loc[repo['owner_location'].isna()]) / len(repo) * 100"
   ]
  },
  {
   "cell_type": "markdown",
   "metadata": {},
   "source": [
    "50% dos repositórios não possuem informação sobre localidade."
   ]
  },
  {
   "cell_type": "code",
   "execution_count": 29,
   "metadata": {},
   "outputs": [],
   "source": [
    "repo['owner_location'] = repo['owner_location'].fillna(\"Não Informado\")"
   ]
  },
  {
   "cell_type": "code",
   "execution_count": 30,
   "metadata": {
    "scrolled": true
   },
   "outputs": [
    {
     "data": {
      "text/html": [
       "<div>\n",
       "<style scoped>\n",
       "    .dataframe tbody tr th:only-of-type {\n",
       "        vertical-align: middle;\n",
       "    }\n",
       "\n",
       "    .dataframe tbody tr th {\n",
       "        vertical-align: top;\n",
       "    }\n",
       "\n",
       "    .dataframe thead th {\n",
       "        text-align: right;\n",
       "    }\n",
       "</style>\n",
       "<table border=\"1\" class=\"dataframe\">\n",
       "  <thead>\n",
       "    <tr style=\"text-align: right;\">\n",
       "      <th></th>\n",
       "      <th>owner_location</th>\n",
       "      <th>Quantidade</th>\n",
       "    </tr>\n",
       "  </thead>\n",
       "  <tbody>\n",
       "    <tr>\n",
       "      <th>65</th>\n",
       "      <td>Não Informado</td>\n",
       "      <td>193</td>\n",
       "    </tr>\n",
       "    <tr>\n",
       "      <th>17</th>\n",
       "      <td>Brazil</td>\n",
       "      <td>18</td>\n",
       "    </tr>\n",
       "    <tr>\n",
       "      <th>96</th>\n",
       "      <td>São José dos Campos</td>\n",
       "      <td>11</td>\n",
       "    </tr>\n",
       "    <tr>\n",
       "      <th>97</th>\n",
       "      <td>São José dos Campos - SP</td>\n",
       "      <td>10</td>\n",
       "    </tr>\n",
       "    <tr>\n",
       "      <th>105</th>\n",
       "      <td>São Paulo</td>\n",
       "      <td>8</td>\n",
       "    </tr>\n",
       "    <tr>\n",
       "      <th>...</th>\n",
       "      <td>...</td>\n",
       "      <td>...</td>\n",
       "    </tr>\n",
       "    <tr>\n",
       "      <th>41</th>\n",
       "      <td>Goiânia, Goiás, Brasil</td>\n",
       "      <td>1</td>\n",
       "    </tr>\n",
       "    <tr>\n",
       "      <th>40</th>\n",
       "      <td>Goiânia - Goiás - Brasil</td>\n",
       "      <td>1</td>\n",
       "    </tr>\n",
       "    <tr>\n",
       "      <th>39</th>\n",
       "      <td>Fortaleza/CE</td>\n",
       "      <td>1</td>\n",
       "    </tr>\n",
       "    <tr>\n",
       "      <th>38</th>\n",
       "      <td>Fortaleza, Ceará, Brasil</td>\n",
       "      <td>1</td>\n",
       "    </tr>\n",
       "    <tr>\n",
       "      <th>120</th>\n",
       "      <td>{Campo Mourão, Maringá}/PR &amp; Dionísio Cerqueir...</td>\n",
       "      <td>1</td>\n",
       "    </tr>\n",
       "  </tbody>\n",
       "</table>\n",
       "<p>121 rows × 2 columns</p>\n",
       "</div>"
      ],
      "text/plain": [
       "                                        owner_location  Quantidade\n",
       "65                                       Não Informado         193\n",
       "17                                              Brazil          18\n",
       "96                                 São José dos Campos          11\n",
       "97                            São José dos Campos - SP          10\n",
       "105                                          São Paulo           8\n",
       "..                                                 ...         ...\n",
       "41                              Goiânia, Goiás, Brasil           1\n",
       "40                            Goiânia - Goiás - Brasil           1\n",
       "39                                        Fortaleza/CE           1\n",
       "38                            Fortaleza, Ceará, Brasil           1\n",
       "120  {Campo Mourão, Maringá}/PR & Dionísio Cerqueir...           1\n",
       "\n",
       "[121 rows x 2 columns]"
      ]
     },
     "execution_count": 30,
     "metadata": {},
     "output_type": "execute_result"
    }
   ],
   "source": [
    "repo.groupby('owner_location').size().reset_index(name='Quantidade').sort_values('Quantidade', ascending=False)"
   ]
  },
  {
   "cell_type": "markdown",
   "metadata": {},
   "source": [
    "`owner_location` é um campo preenchido pelo usuário e apresenta grande variação e abreviações."
   ]
  },
  {
   "cell_type": "markdown",
   "metadata": {},
   "source": [
    "### 7 - Criação e atualização dos repositórios"
   ]
  },
  {
   "cell_type": "code",
   "execution_count": 39,
   "metadata": {},
   "outputs": [
    {
     "data": {
      "text/html": [
       "<div>\n",
       "<style scoped>\n",
       "    .dataframe tbody tr th:only-of-type {\n",
       "        vertical-align: middle;\n",
       "    }\n",
       "\n",
       "    .dataframe tbody tr th {\n",
       "        vertical-align: top;\n",
       "    }\n",
       "\n",
       "    .dataframe thead th {\n",
       "        text-align: right;\n",
       "    }\n",
       "</style>\n",
       "<table border=\"1\" class=\"dataframe\">\n",
       "  <thead>\n",
       "    <tr style=\"text-align: right;\">\n",
       "      <th></th>\n",
       "      <th>created_at_year</th>\n",
       "      <th>quantidade</th>\n",
       "    </tr>\n",
       "  </thead>\n",
       "  <tbody>\n",
       "    <tr>\n",
       "      <th>0</th>\n",
       "      <td>2010</td>\n",
       "      <td>1</td>\n",
       "    </tr>\n",
       "    <tr>\n",
       "      <th>1</th>\n",
       "      <td>2011</td>\n",
       "      <td>1</td>\n",
       "    </tr>\n",
       "    <tr>\n",
       "      <th>2</th>\n",
       "      <td>2012</td>\n",
       "      <td>2</td>\n",
       "    </tr>\n",
       "    <tr>\n",
       "      <th>3</th>\n",
       "      <td>2013</td>\n",
       "      <td>4</td>\n",
       "    </tr>\n",
       "    <tr>\n",
       "      <th>4</th>\n",
       "      <td>2014</td>\n",
       "      <td>11</td>\n",
       "    </tr>\n",
       "    <tr>\n",
       "      <th>5</th>\n",
       "      <td>2015</td>\n",
       "      <td>17</td>\n",
       "    </tr>\n",
       "    <tr>\n",
       "      <th>6</th>\n",
       "      <td>2016</td>\n",
       "      <td>24</td>\n",
       "    </tr>\n",
       "    <tr>\n",
       "      <th>7</th>\n",
       "      <td>2017</td>\n",
       "      <td>41</td>\n",
       "    </tr>\n",
       "    <tr>\n",
       "      <th>8</th>\n",
       "      <td>2018</td>\n",
       "      <td>78</td>\n",
       "    </tr>\n",
       "    <tr>\n",
       "      <th>9</th>\n",
       "      <td>2019</td>\n",
       "      <td>154</td>\n",
       "    </tr>\n",
       "    <tr>\n",
       "      <th>10</th>\n",
       "      <td>2020</td>\n",
       "      <td>56</td>\n",
       "    </tr>\n",
       "  </tbody>\n",
       "</table>\n",
       "</div>"
      ],
      "text/plain": [
       "    created_at_year  quantidade\n",
       "0              2010           1\n",
       "1              2011           1\n",
       "2              2012           2\n",
       "3              2013           4\n",
       "4              2014          11\n",
       "5              2015          17\n",
       "6              2016          24\n",
       "7              2017          41\n",
       "8              2018          78\n",
       "9              2019         154\n",
       "10             2020          56"
      ]
     },
     "execution_count": 39,
     "metadata": {},
     "output_type": "execute_result"
    }
   ],
   "source": [
    "created_repo = repo[['full_name', 'created_at_year']]\n",
    "created_by_year = created_repo.groupby('created_at_year').size().reset_index(name='quantidade').sort_values('created_at_year')\n",
    "created_by_year"
   ]
  },
  {
   "cell_type": "code",
   "execution_count": 40,
   "metadata": {
    "scrolled": false
   },
   "outputs": [
    {
     "data": {
      "text/html": [
       "<div>\n",
       "<style scoped>\n",
       "    .dataframe tbody tr th:only-of-type {\n",
       "        vertical-align: middle;\n",
       "    }\n",
       "\n",
       "    .dataframe tbody tr th {\n",
       "        vertical-align: top;\n",
       "    }\n",
       "\n",
       "    .dataframe thead th {\n",
       "        text-align: right;\n",
       "    }\n",
       "</style>\n",
       "<table border=\"1\" class=\"dataframe\">\n",
       "  <thead>\n",
       "    <tr style=\"text-align: right;\">\n",
       "      <th></th>\n",
       "      <th>pushed_at_year</th>\n",
       "      <th>quantidade</th>\n",
       "    </tr>\n",
       "  </thead>\n",
       "  <tbody>\n",
       "    <tr>\n",
       "      <th>0</th>\n",
       "      <td>2011</td>\n",
       "      <td>1</td>\n",
       "    </tr>\n",
       "    <tr>\n",
       "      <th>1</th>\n",
       "      <td>2012</td>\n",
       "      <td>3</td>\n",
       "    </tr>\n",
       "    <tr>\n",
       "      <th>2</th>\n",
       "      <td>2013</td>\n",
       "      <td>3</td>\n",
       "    </tr>\n",
       "    <tr>\n",
       "      <th>3</th>\n",
       "      <td>2014</td>\n",
       "      <td>9</td>\n",
       "    </tr>\n",
       "    <tr>\n",
       "      <th>4</th>\n",
       "      <td>2015</td>\n",
       "      <td>16</td>\n",
       "    </tr>\n",
       "    <tr>\n",
       "      <th>5</th>\n",
       "      <td>2016</td>\n",
       "      <td>20</td>\n",
       "    </tr>\n",
       "    <tr>\n",
       "      <th>6</th>\n",
       "      <td>2017</td>\n",
       "      <td>34</td>\n",
       "    </tr>\n",
       "    <tr>\n",
       "      <th>7</th>\n",
       "      <td>2018</td>\n",
       "      <td>76</td>\n",
       "    </tr>\n",
       "    <tr>\n",
       "      <th>8</th>\n",
       "      <td>2019</td>\n",
       "      <td>149</td>\n",
       "    </tr>\n",
       "    <tr>\n",
       "      <th>9</th>\n",
       "      <td>2020</td>\n",
       "      <td>78</td>\n",
       "    </tr>\n",
       "  </tbody>\n",
       "</table>\n",
       "</div>"
      ],
      "text/plain": [
       "   pushed_at_year  quantidade\n",
       "0            2011           1\n",
       "1            2012           3\n",
       "2            2013           3\n",
       "3            2014           9\n",
       "4            2015          16\n",
       "5            2016          20\n",
       "6            2017          34\n",
       "7            2018          76\n",
       "8            2019         149\n",
       "9            2020          78"
      ]
     },
     "execution_count": 40,
     "metadata": {},
     "output_type": "execute_result"
    }
   ],
   "source": [
    "pushed_repo = repo[['full_name', 'pushed_at_year']]\n",
    "pushed_by_year = pushed_repo.groupby('pushed_at_year').size().reset_index(name='quantidade').sort_values('pushed_at_year')\n",
    "pushed_by_year"
   ]
  },
  {
   "cell_type": "markdown",
   "metadata": {},
   "source": [
    "Adicionando um registro com quantidade 0 para o ano de 2010 a fim de construir o gráfico comparando a quantidade de repositórios por ano, lado a lado."
   ]
  },
  {
   "cell_type": "code",
   "execution_count": 41,
   "metadata": {},
   "outputs": [
    {
     "data": {
      "text/html": [
       "<div>\n",
       "<style scoped>\n",
       "    .dataframe tbody tr th:only-of-type {\n",
       "        vertical-align: middle;\n",
       "    }\n",
       "\n",
       "    .dataframe tbody tr th {\n",
       "        vertical-align: top;\n",
       "    }\n",
       "\n",
       "    .dataframe thead th {\n",
       "        text-align: right;\n",
       "    }\n",
       "</style>\n",
       "<table border=\"1\" class=\"dataframe\">\n",
       "  <thead>\n",
       "    <tr style=\"text-align: right;\">\n",
       "      <th></th>\n",
       "      <th>pushed_at_year</th>\n",
       "      <th>quantidade</th>\n",
       "    </tr>\n",
       "  </thead>\n",
       "  <tbody>\n",
       "    <tr>\n",
       "      <th>10</th>\n",
       "      <td>2010</td>\n",
       "      <td>0</td>\n",
       "    </tr>\n",
       "    <tr>\n",
       "      <th>0</th>\n",
       "      <td>2011</td>\n",
       "      <td>1</td>\n",
       "    </tr>\n",
       "    <tr>\n",
       "      <th>1</th>\n",
       "      <td>2012</td>\n",
       "      <td>3</td>\n",
       "    </tr>\n",
       "    <tr>\n",
       "      <th>2</th>\n",
       "      <td>2013</td>\n",
       "      <td>3</td>\n",
       "    </tr>\n",
       "    <tr>\n",
       "      <th>3</th>\n",
       "      <td>2014</td>\n",
       "      <td>9</td>\n",
       "    </tr>\n",
       "    <tr>\n",
       "      <th>4</th>\n",
       "      <td>2015</td>\n",
       "      <td>16</td>\n",
       "    </tr>\n",
       "    <tr>\n",
       "      <th>5</th>\n",
       "      <td>2016</td>\n",
       "      <td>20</td>\n",
       "    </tr>\n",
       "    <tr>\n",
       "      <th>6</th>\n",
       "      <td>2017</td>\n",
       "      <td>34</td>\n",
       "    </tr>\n",
       "    <tr>\n",
       "      <th>7</th>\n",
       "      <td>2018</td>\n",
       "      <td>76</td>\n",
       "    </tr>\n",
       "    <tr>\n",
       "      <th>8</th>\n",
       "      <td>2019</td>\n",
       "      <td>149</td>\n",
       "    </tr>\n",
       "    <tr>\n",
       "      <th>9</th>\n",
       "      <td>2020</td>\n",
       "      <td>78</td>\n",
       "    </tr>\n",
       "  </tbody>\n",
       "</table>\n",
       "</div>"
      ],
      "text/plain": [
       "    pushed_at_year  quantidade\n",
       "10            2010           0\n",
       "0             2011           1\n",
       "1             2012           3\n",
       "2             2013           3\n",
       "3             2014           9\n",
       "4             2015          16\n",
       "5             2016          20\n",
       "6             2017          34\n",
       "7             2018          76\n",
       "8             2019         149\n",
       "9             2020          78"
      ]
     },
     "execution_count": 41,
     "metadata": {},
     "output_type": "execute_result"
    }
   ],
   "source": [
    "pushed_by_year = pushed_by_year.append(pd.DataFrame({'pushed_at_year': [2010], 'quantidade': [0]}), ignore_index=True)\n",
    "pushed_by_year = pushed_by_year.sort_values('pushed_at_year')\n",
    "pushed_by_year"
   ]
  },
  {
   "cell_type": "code",
   "execution_count": 42,
   "metadata": {},
   "outputs": [
    {
     "data": {
      "text/plain": [
       "Text(0, 0.5, 'Quantidade de repositórios')"
      ]
     },
     "execution_count": 42,
     "metadata": {},
     "output_type": "execute_result"
    },
    {
     "data": {
      "image/png": "[encoded data removed]",
      "text/plain": [
       "<Figure size 648x288 with 1 Axes>"
      ]
     },
     "metadata": {
      "needs_background": "light"
     },
     "output_type": "display_data"
    }
   ],
   "source": [
    "created_pushed = pd.DataFrame({'Criado': created_by_year['quantidade'].values, \n",
    "                   'Atualizado': pushed_by_year['quantidade'].values}, index=created_by_year['created_at_year'])\n",
    "\n",
    "ax = created_pushed.plot.bar(title = \"Quantidade de repositórios criados e atualizados\")\n",
    "ax.set_xlabel(\"Anos\")\n",
    "ax.set_ylabel(\"Quantidade de repositórios\")"
   ]
  },
  {
   "cell_type": "code",
   "execution_count": 43,
   "metadata": {},
   "outputs": [
    {
     "data": {
      "text/plain": [
       "<matplotlib.legend.Legend at 0x7f3b913326a0>"
      ]
     },
     "execution_count": 43,
     "metadata": {},
     "output_type": "execute_result"
    },
    {
     "data": {
      "image/png": "[encoded data removed]",
      "text/plain": [
       "<Figure size 648x288 with 2 Axes>"
      ]
     },
     "metadata": {
      "needs_background": "light"
     },
     "output_type": "display_data"
    }
   ],
   "source": [
    "axes = created_pushed.plot.bar(rot=0, subplots=True)\n",
    "\n",
    "axes[1].legend(loc=2) "
   ]
  },
  {
   "cell_type": "markdown",
   "metadata": {},
   "source": [
    "Percebemos como a criação e atualização desses repositórios cresce com o tempo e que em 2020 já temos mais repositórios atualizados do que criados, o que pode indicar que projetos criandos anteriormente continuam em desenvolvimento."
   ]
  },
  {
   "cell_type": "markdown",
   "metadata": {},
   "source": [
    "*Todo:* pesquisar por quantidade de usuário na ferramenta ao longo desses anos.\n",
    "[url](https://api.github.com/search/users?q=mike+in:name+created%3A%3C2011-01-01+type%3Auser&type=Users)"
   ]
  }
 ],
 "metadata": {
  "kernelspec": {
   "display_name": "Python 3",
   "language": "python",
   "name": "python3"
  },
  "language_info": {
   "codemirror_mode": {
    "name": "ipython",
    "version": 3
   },
   "file_extension": ".py",
   "mimetype": "text/x-python",
   "name": "python",
   "nbconvert_exporter": "python",
   "pygments_lexer": "ipython3",
   "version": "3.6.10"
  }
 },
 "nbformat": 4,
 "nbformat_minor": 2
}
