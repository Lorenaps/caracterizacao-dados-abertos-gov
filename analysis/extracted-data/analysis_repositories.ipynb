{
 "cells": [
  {
   "cell_type": "markdown",
   "metadata": {},
   "source": [
    "# Análise dos resultados parciais da extração\n",
    "\n",
    "## Pré-processamento\n",
    "\n",
    "Tratando datas e tipos de dados"
   ]
  },
  {
   "cell_type": "code",
   "execution_count": 1,
   "metadata": {},
   "outputs": [],
   "source": [
    "import pandas as pd\n",
    "import matplotlib as plt\n",
    "import plotly"
   ]
  },
  {
   "cell_type": "code",
   "execution_count": 2,
   "metadata": {},
   "outputs": [],
   "source": [
    "%matplotlib inline\n",
    "plt.rcParams['figure.figsize'] = (9, 4)"
   ]
  },
  {
   "cell_type": "code",
   "execution_count": 3,
   "metadata": {},
   "outputs": [],
   "source": [
    "repo = pd.read_csv(\"../data/repositories_1580334605.csv\",  dtype={'id': object,\n",
    "                                                                'timestamp_extract': object,\n",
    "                                                                'commits': pd.Int64Dtype(),\n",
    "                                                                'contributors': pd.Int64Dtype()})"
   ]
  },
  {
   "cell_type": "code",
   "execution_count": 4,
   "metadata": {
    "scrolled": true
   },
   "outputs": [
    {
     "data": {
      "text/html": [
       "<div>\n",
       "<style scoped>\n",
       "    .dataframe tbody tr th:only-of-type {\n",
       "        vertical-align: middle;\n",
       "    }\n",
       "\n",
       "    .dataframe tbody tr th {\n",
       "        vertical-align: top;\n",
       "    }\n",
       "\n",
       "    .dataframe thead th {\n",
       "        text-align: right;\n",
       "    }\n",
       "</style>\n",
       "<table border=\"1\" class=\"dataframe\">\n",
       "  <thead>\n",
       "    <tr style=\"text-align: right;\">\n",
       "      <th></th>\n",
       "      <th>forks</th>\n",
       "      <th>forks_count</th>\n",
       "      <th>open_issues</th>\n",
       "      <th>size</th>\n",
       "      <th>stargazers_count</th>\n",
       "      <th>commits</th>\n",
       "      <th>contributors</th>\n",
       "    </tr>\n",
       "  </thead>\n",
       "  <tbody>\n",
       "    <tr>\n",
       "      <th>count</th>\n",
       "      <td>445.000000</td>\n",
       "      <td>445.000000</td>\n",
       "      <td>445.000000</td>\n",
       "      <td>445.000000</td>\n",
       "      <td>445.000000</td>\n",
       "      <td>428.000000</td>\n",
       "      <td>428.000000</td>\n",
       "    </tr>\n",
       "    <tr>\n",
       "      <th>mean</th>\n",
       "      <td>0.802247</td>\n",
       "      <td>0.802247</td>\n",
       "      <td>0.961798</td>\n",
       "      <td>9735.101124</td>\n",
       "      <td>2.752809</td>\n",
       "      <td>72.238318</td>\n",
       "      <td>2.088785</td>\n",
       "    </tr>\n",
       "    <tr>\n",
       "      <th>std</th>\n",
       "      <td>3.333760</td>\n",
       "      <td>3.333760</td>\n",
       "      <td>10.072524</td>\n",
       "      <td>42848.278656</td>\n",
       "      <td>12.182435</td>\n",
       "      <td>915.639408</td>\n",
       "      <td>15.097391</td>\n",
       "    </tr>\n",
       "    <tr>\n",
       "      <th>min</th>\n",
       "      <td>0.000000</td>\n",
       "      <td>0.000000</td>\n",
       "      <td>0.000000</td>\n",
       "      <td>0.000000</td>\n",
       "      <td>0.000000</td>\n",
       "      <td>1.000000</td>\n",
       "      <td>0.000000</td>\n",
       "    </tr>\n",
       "    <tr>\n",
       "      <th>25%</th>\n",
       "      <td>0.000000</td>\n",
       "      <td>0.000000</td>\n",
       "      <td>0.000000</td>\n",
       "      <td>23.000000</td>\n",
       "      <td>0.000000</td>\n",
       "      <td>3.000000</td>\n",
       "      <td>1.000000</td>\n",
       "    </tr>\n",
       "    <tr>\n",
       "      <th>50%</th>\n",
       "      <td>0.000000</td>\n",
       "      <td>0.000000</td>\n",
       "      <td>0.000000</td>\n",
       "      <td>350.000000</td>\n",
       "      <td>0.000000</td>\n",
       "      <td>8.000000</td>\n",
       "      <td>1.000000</td>\n",
       "    </tr>\n",
       "    <tr>\n",
       "      <th>75%</th>\n",
       "      <td>0.000000</td>\n",
       "      <td>0.000000</td>\n",
       "      <td>0.000000</td>\n",
       "      <td>3295.000000</td>\n",
       "      <td>1.000000</td>\n",
       "      <td>24.000000</td>\n",
       "      <td>1.000000</td>\n",
       "    </tr>\n",
       "    <tr>\n",
       "      <th>max</th>\n",
       "      <td>44.000000</td>\n",
       "      <td>44.000000</td>\n",
       "      <td>209.000000</td>\n",
       "      <td>555527.000000</td>\n",
       "      <td>141.000000</td>\n",
       "      <td>18911.000000</td>\n",
       "      <td>313.000000</td>\n",
       "    </tr>\n",
       "  </tbody>\n",
       "</table>\n",
       "</div>"
      ],
      "text/plain": [
       "            forks  forks_count  open_issues           size  stargazers_count  \\\n",
       "count  445.000000   445.000000   445.000000     445.000000        445.000000   \n",
       "mean     0.802247     0.802247     0.961798    9735.101124          2.752809   \n",
       "std      3.333760     3.333760    10.072524   42848.278656         12.182435   \n",
       "min      0.000000     0.000000     0.000000       0.000000          0.000000   \n",
       "25%      0.000000     0.000000     0.000000      23.000000          0.000000   \n",
       "50%      0.000000     0.000000     0.000000     350.000000          0.000000   \n",
       "75%      0.000000     0.000000     0.000000    3295.000000          1.000000   \n",
       "max     44.000000    44.000000   209.000000  555527.000000        141.000000   \n",
       "\n",
       "            commits  contributors  \n",
       "count    428.000000    428.000000  \n",
       "mean      72.238318      2.088785  \n",
       "std      915.639408     15.097391  \n",
       "min        1.000000      0.000000  \n",
       "25%        3.000000      1.000000  \n",
       "50%        8.000000      1.000000  \n",
       "75%       24.000000      1.000000  \n",
       "max    18911.000000    313.000000  "
      ]
     },
     "execution_count": 4,
     "metadata": {},
     "output_type": "execute_result"
    }
   ],
   "source": [
    "repo.describe()"
   ]
  },
  {
   "cell_type": "code",
   "execution_count": 5,
   "metadata": {},
   "outputs": [
    {
     "data": {
      "text/html": [
       "<div>\n",
       "<style scoped>\n",
       "    .dataframe tbody tr th:only-of-type {\n",
       "        vertical-align: middle;\n",
       "    }\n",
       "\n",
       "    .dataframe tbody tr th {\n",
       "        vertical-align: top;\n",
       "    }\n",
       "\n",
       "    .dataframe thead th {\n",
       "        text-align: right;\n",
       "    }\n",
       "</style>\n",
       "<table border=\"1\" class=\"dataframe\">\n",
       "  <thead>\n",
       "    <tr style=\"text-align: right;\">\n",
       "      <th></th>\n",
       "      <th>id</th>\n",
       "      <th>url</th>\n",
       "      <th>created_at</th>\n",
       "      <th>updated_at</th>\n",
       "      <th>pushed_at</th>\n",
       "    </tr>\n",
       "  </thead>\n",
       "  <tbody>\n",
       "    <tr>\n",
       "      <th>0</th>\n",
       "      <td>29256552</td>\n",
       "      <td>https://github.com/CamaraDosDeputados/dados-ab...</td>\n",
       "      <td>2015-01-14T17:32:49Z</td>\n",
       "      <td>2020-01-23T14:21:59Z</td>\n",
       "      <td>2019-12-13T15:13:19Z</td>\n",
       "    </tr>\n",
       "    <tr>\n",
       "      <th>1</th>\n",
       "      <td>39256926</td>\n",
       "      <td>https://github.com/dadosgovbr/catalogos-dados-...</td>\n",
       "      <td>2015-07-17T14:02:34Z</td>\n",
       "      <td>2020-01-19T19:44:00Z</td>\n",
       "      <td>2019-12-02T18:58:47Z</td>\n",
       "    </tr>\n",
       "    <tr>\n",
       "      <th>2</th>\n",
       "      <td>73385196</td>\n",
       "      <td>https://github.com/prefeiturasp/dados-educacao</td>\n",
       "      <td>2016-11-10T13:35:40Z</td>\n",
       "      <td>2019-08-17T00:49:49Z</td>\n",
       "      <td>2019-10-02T18:43:26Z</td>\n",
       "    </tr>\n",
       "  </tbody>\n",
       "</table>\n",
       "</div>"
      ],
      "text/plain": [
       "         id                                                url  \\\n",
       "0  29256552  https://github.com/CamaraDosDeputados/dados-ab...   \n",
       "1  39256926  https://github.com/dadosgovbr/catalogos-dados-...   \n",
       "2  73385196     https://github.com/prefeiturasp/dados-educacao   \n",
       "\n",
       "             created_at            updated_at             pushed_at  \n",
       "0  2015-01-14T17:32:49Z  2020-01-23T14:21:59Z  2019-12-13T15:13:19Z  \n",
       "1  2015-07-17T14:02:34Z  2020-01-19T19:44:00Z  2019-12-02T18:58:47Z  \n",
       "2  2016-11-10T13:35:40Z  2019-08-17T00:49:49Z  2019-10-02T18:43:26Z  "
      ]
     },
     "execution_count": 5,
     "metadata": {},
     "output_type": "execute_result"
    }
   ],
   "source": [
    "repo.head(3)[['id', 'url', 'created_at', 'updated_at', 'pushed_at']]"
   ]
  },
  {
   "cell_type": "code",
   "execution_count": 6,
   "metadata": {},
   "outputs": [],
   "source": [
    "def conversao_string_datetime(df, coluna):\n",
    "    df[coluna] = pd.to_datetime(df[coluna], dayfirst=True)\n",
    "    \n",
    "    df[coluna + '_mes'] = df[coluna].dt.month_name(locale='pt_BR.UTF-8')\n",
    "    df.astype({coluna + '_mes': 'category'}).dtypes\n",
    "\n",
    "    df[coluna + '_mes_numero'] = df[coluna].dt.month\n",
    "    df.astype({coluna + '_mes_numero': 'category'}).dtypes\n",
    "\n",
    "    df[coluna + '_ano'] = df[coluna].dt.year\n",
    "    df.astype({coluna + '_ano': 'category'}).dtypes\n",
    "\n",
    "    # df[coluna + '_dia'] = df[coluna].dt.day\n",
    "\n",
    "    return df"
   ]
  },
  {
   "cell_type": "code",
   "execution_count": 7,
   "metadata": {},
   "outputs": [
    {
     "data": {
      "text/html": [
       "<div>\n",
       "<style scoped>\n",
       "    .dataframe tbody tr th:only-of-type {\n",
       "        vertical-align: middle;\n",
       "    }\n",
       "\n",
       "    .dataframe tbody tr th {\n",
       "        vertical-align: top;\n",
       "    }\n",
       "\n",
       "    .dataframe thead th {\n",
       "        text-align: right;\n",
       "    }\n",
       "</style>\n",
       "<table border=\"1\" class=\"dataframe\">\n",
       "  <thead>\n",
       "    <tr style=\"text-align: right;\">\n",
       "      <th></th>\n",
       "      <th>api_url</th>\n",
       "      <th>created_at</th>\n",
       "      <th>description</th>\n",
       "      <th>fork</th>\n",
       "      <th>forks</th>\n",
       "      <th>forks_count</th>\n",
       "      <th>full_name</th>\n",
       "      <th>has_issues</th>\n",
       "      <th>has_wiki</th>\n",
       "      <th>id</th>\n",
       "      <th>...</th>\n",
       "      <th>owner_name</th>\n",
       "      <th>created_at_mes</th>\n",
       "      <th>created_at_mes_numero</th>\n",
       "      <th>created_at_ano</th>\n",
       "      <th>updated_at_mes</th>\n",
       "      <th>updated_at_mes_numero</th>\n",
       "      <th>updated_at_ano</th>\n",
       "      <th>pushed_at_mes</th>\n",
       "      <th>pushed_at_mes_numero</th>\n",
       "      <th>pushed_at_ano</th>\n",
       "    </tr>\n",
       "  </thead>\n",
       "  <tbody>\n",
       "    <tr>\n",
       "      <th>0</th>\n",
       "      <td>https://api.github.com/repos/CamaraDosDeputado...</td>\n",
       "      <td>2015-01-14 17:32:49+00:00</td>\n",
       "      <td>Repositório do serviço de Dados Abertos da Câm...</td>\n",
       "      <td>False</td>\n",
       "      <td>7</td>\n",
       "      <td>7</td>\n",
       "      <td>CamaraDosDeputados/dados-abertos</td>\n",
       "      <td>True</td>\n",
       "      <td>True</td>\n",
       "      <td>29256552</td>\n",
       "      <td>...</td>\n",
       "      <td>Câmara dos Deputados do Brasil</td>\n",
       "      <td>Janeiro</td>\n",
       "      <td>1</td>\n",
       "      <td>2015</td>\n",
       "      <td>Janeiro</td>\n",
       "      <td>1</td>\n",
       "      <td>2020</td>\n",
       "      <td>Dezembro</td>\n",
       "      <td>12.0</td>\n",
       "      <td>2019.0</td>\n",
       "    </tr>\n",
       "  </tbody>\n",
       "</table>\n",
       "<p>1 rows × 37 columns</p>\n",
       "</div>"
      ],
      "text/plain": [
       "                                             api_url  \\\n",
       "0  https://api.github.com/repos/CamaraDosDeputado...   \n",
       "\n",
       "                 created_at  \\\n",
       "0 2015-01-14 17:32:49+00:00   \n",
       "\n",
       "                                         description   fork  forks  \\\n",
       "0  Repositório do serviço de Dados Abertos da Câm...  False      7   \n",
       "\n",
       "   forks_count                         full_name  has_issues  has_wiki  \\\n",
       "0            7  CamaraDosDeputados/dados-abertos        True      True   \n",
       "\n",
       "         id  ...                      owner_name created_at_mes  \\\n",
       "0  29256552  ...  Câmara dos Deputados do Brasil        Janeiro   \n",
       "\n",
       "   created_at_mes_numero created_at_ano updated_at_mes updated_at_mes_numero  \\\n",
       "0                      1           2015        Janeiro                     1   \n",
       "\n",
       "  updated_at_ano  pushed_at_mes  pushed_at_mes_numero pushed_at_ano  \n",
       "0           2020       Dezembro                  12.0        2019.0  \n",
       "\n",
       "[1 rows x 37 columns]"
      ]
     },
     "execution_count": 7,
     "metadata": {},
     "output_type": "execute_result"
    }
   ],
   "source": [
    "repo = conversao_string_datetime(repo, 'created_at')\n",
    "repo = conversao_string_datetime(repo, 'updated_at')\n",
    "repo = conversao_string_datetime(repo, 'pushed_at')\n",
    "\n",
    "repo.head(1)"
   ]
  },
  {
   "cell_type": "code",
   "execution_count": 8,
   "metadata": {},
   "outputs": [
    {
     "data": {
      "text/plain": [
       "445"
      ]
     },
     "execution_count": 8,
     "metadata": {},
     "output_type": "execute_result"
    }
   ],
   "source": [
    "len(repo)"
   ]
  },
  {
   "cell_type": "code",
   "execution_count": 9,
   "metadata": {
    "scrolled": true
   },
   "outputs": [
    {
     "data": {
      "text/plain": [
       "17"
      ]
     },
     "execution_count": 9,
     "metadata": {},
     "output_type": "execute_result"
    }
   ],
   "source": [
    "len(repo.loc[repo['commits'].isna()])"
   ]
  },
  {
   "cell_type": "markdown",
   "metadata": {},
   "source": [
    "Após verificação manual, podemos afirmar que aqueles repositórios que estão com commits zerados realmente estão vazios. Por isso, serão retirados no conjunto de análise."
   ]
  },
  {
   "cell_type": "code",
   "execution_count": 10,
   "metadata": {},
   "outputs": [
    {
     "data": {
      "text/plain": [
       "428"
      ]
     },
     "execution_count": 10,
     "metadata": {},
     "output_type": "execute_result"
    }
   ],
   "source": [
    "repo = repo.dropna(subset=['commits'])\n",
    "len(repo)"
   ]
  },
  {
   "cell_type": "markdown",
   "metadata": {},
   "source": [
    "## Agrupando dados"
   ]
  },
  {
   "cell_type": "code",
   "execution_count": 11,
   "metadata": {
    "scrolled": true
   },
   "outputs": [
    {
     "data": {
      "text/plain": [
       "Index(['api_url', 'created_at', 'description', 'fork', 'forks', 'forks_count',\n",
       "       'full_name', 'has_issues', 'has_wiki', 'id', 'language', 'license',\n",
       "       'open_issues', 'owner_api_url', 'owner_type', 'owner_url', 'pushed_at',\n",
       "       'size', 'stargazers_count', 'timestamp_extract', 'updated_at', 'url',\n",
       "       'commits', 'contributors', 'owner_location', 'owner_email',\n",
       "       'owner_blog', 'owner_name', 'created_at_mes', 'created_at_mes_numero',\n",
       "       'created_at_ano', 'updated_at_mes', 'updated_at_mes_numero',\n",
       "       'updated_at_ano', 'pushed_at_mes', 'pushed_at_mes_numero',\n",
       "       'pushed_at_ano'],\n",
       "      dtype='object')"
      ]
     },
     "execution_count": 11,
     "metadata": {},
     "output_type": "execute_result"
    }
   ],
   "source": [
    "repo.columns"
   ]
  },
  {
   "cell_type": "markdown",
   "metadata": {},
   "source": [
    "### Tipos de usuários do github"
   ]
  },
  {
   "cell_type": "code",
   "execution_count": 12,
   "metadata": {
    "scrolled": true
   },
   "outputs": [
    {
     "data": {
      "text/html": [
       "<div>\n",
       "<style scoped>\n",
       "    .dataframe tbody tr th:only-of-type {\n",
       "        vertical-align: middle;\n",
       "    }\n",
       "\n",
       "    .dataframe tbody tr th {\n",
       "        vertical-align: top;\n",
       "    }\n",
       "\n",
       "    .dataframe thead th {\n",
       "        text-align: right;\n",
       "    }\n",
       "</style>\n",
       "<table border=\"1\" class=\"dataframe\">\n",
       "  <thead>\n",
       "    <tr style=\"text-align: right;\">\n",
       "      <th></th>\n",
       "      <th>owner_type</th>\n",
       "      <th>Quantidade</th>\n",
       "    </tr>\n",
       "  </thead>\n",
       "  <tbody>\n",
       "    <tr>\n",
       "      <th>0</th>\n",
       "      <td>Organization</td>\n",
       "      <td>86</td>\n",
       "    </tr>\n",
       "    <tr>\n",
       "      <th>1</th>\n",
       "      <td>User</td>\n",
       "      <td>342</td>\n",
       "    </tr>\n",
       "  </tbody>\n",
       "</table>\n",
       "</div>"
      ],
      "text/plain": [
       "     owner_type  Quantidade\n",
       "0  Organization          86\n",
       "1          User         342"
      ]
     },
     "execution_count": 12,
     "metadata": {},
     "output_type": "execute_result"
    }
   ],
   "source": [
    "repo.groupby('owner_type').size().reset_index(name='Quantidade')"
   ]
  },
  {
   "cell_type": "markdown",
   "metadata": {},
   "source": [
    "### Linguagens de Programação"
   ]
  },
  {
   "cell_type": "code",
   "execution_count": 13,
   "metadata": {},
   "outputs": [
    {
     "data": {
      "text/html": [
       "<div>\n",
       "<style scoped>\n",
       "    .dataframe tbody tr th:only-of-type {\n",
       "        vertical-align: middle;\n",
       "    }\n",
       "\n",
       "    .dataframe tbody tr th {\n",
       "        vertical-align: top;\n",
       "    }\n",
       "\n",
       "    .dataframe thead th {\n",
       "        text-align: right;\n",
       "    }\n",
       "</style>\n",
       "<table border=\"1\" class=\"dataframe\">\n",
       "  <thead>\n",
       "    <tr style=\"text-align: right;\">\n",
       "      <th></th>\n",
       "      <th>language</th>\n",
       "      <th>Quantidade</th>\n",
       "    </tr>\n",
       "  </thead>\n",
       "  <tbody>\n",
       "    <tr>\n",
       "      <th>15</th>\n",
       "      <td>Python</td>\n",
       "      <td>68</td>\n",
       "    </tr>\n",
       "    <tr>\n",
       "      <th>10</th>\n",
       "      <td>Jupyter Notebook</td>\n",
       "      <td>54</td>\n",
       "    </tr>\n",
       "    <tr>\n",
       "      <th>9</th>\n",
       "      <td>JavaScript</td>\n",
       "      <td>54</td>\n",
       "    </tr>\n",
       "    <tr>\n",
       "      <th>8</th>\n",
       "      <td>Java</td>\n",
       "      <td>24</td>\n",
       "    </tr>\n",
       "    <tr>\n",
       "      <th>7</th>\n",
       "      <td>HTML</td>\n",
       "      <td>24</td>\n",
       "    </tr>\n",
       "    <tr>\n",
       "      <th>16</th>\n",
       "      <td>R</td>\n",
       "      <td>21</td>\n",
       "    </tr>\n",
       "    <tr>\n",
       "      <th>14</th>\n",
       "      <td>PHP</td>\n",
       "      <td>20</td>\n",
       "    </tr>\n",
       "    <tr>\n",
       "      <th>18</th>\n",
       "      <td>Ruby</td>\n",
       "      <td>11</td>\n",
       "    </tr>\n",
       "    <tr>\n",
       "      <th>4</th>\n",
       "      <td>CSS</td>\n",
       "      <td>11</td>\n",
       "    </tr>\n",
       "    <tr>\n",
       "      <th>22</th>\n",
       "      <td>TypeScript</td>\n",
       "      <td>9</td>\n",
       "    </tr>\n",
       "    <tr>\n",
       "      <th>21</th>\n",
       "      <td>TeX</td>\n",
       "      <td>7</td>\n",
       "    </tr>\n",
       "    <tr>\n",
       "      <th>19</th>\n",
       "      <td>Shell</td>\n",
       "      <td>4</td>\n",
       "    </tr>\n",
       "    <tr>\n",
       "      <th>3</th>\n",
       "      <td>C++</td>\n",
       "      <td>3</td>\n",
       "    </tr>\n",
       "    <tr>\n",
       "      <th>13</th>\n",
       "      <td>Objective-C</td>\n",
       "      <td>3</td>\n",
       "    </tr>\n",
       "    <tr>\n",
       "      <th>2</th>\n",
       "      <td>C#</td>\n",
       "      <td>3</td>\n",
       "    </tr>\n",
       "    <tr>\n",
       "      <th>20</th>\n",
       "      <td>TSQL</td>\n",
       "      <td>2</td>\n",
       "    </tr>\n",
       "    <tr>\n",
       "      <th>0</th>\n",
       "      <td>Batchfile</td>\n",
       "      <td>1</td>\n",
       "    </tr>\n",
       "    <tr>\n",
       "      <th>12</th>\n",
       "      <td>Makefile</td>\n",
       "      <td>1</td>\n",
       "    </tr>\n",
       "    <tr>\n",
       "      <th>17</th>\n",
       "      <td>Rich Text Format</td>\n",
       "      <td>1</td>\n",
       "    </tr>\n",
       "    <tr>\n",
       "      <th>1</th>\n",
       "      <td>C</td>\n",
       "      <td>1</td>\n",
       "    </tr>\n",
       "    <tr>\n",
       "      <th>11</th>\n",
       "      <td>Lua</td>\n",
       "      <td>1</td>\n",
       "    </tr>\n",
       "    <tr>\n",
       "      <th>6</th>\n",
       "      <td>Groovy</td>\n",
       "      <td>1</td>\n",
       "    </tr>\n",
       "    <tr>\n",
       "      <th>5</th>\n",
       "      <td>Elixir</td>\n",
       "      <td>1</td>\n",
       "    </tr>\n",
       "    <tr>\n",
       "      <th>23</th>\n",
       "      <td>Web Ontology Language</td>\n",
       "      <td>1</td>\n",
       "    </tr>\n",
       "  </tbody>\n",
       "</table>\n",
       "</div>"
      ],
      "text/plain": [
       "                 language  Quantidade\n",
       "15                 Python          68\n",
       "10       Jupyter Notebook          54\n",
       "9              JavaScript          54\n",
       "8                    Java          24\n",
       "7                    HTML          24\n",
       "16                      R          21\n",
       "14                    PHP          20\n",
       "18                   Ruby          11\n",
       "4                     CSS          11\n",
       "22             TypeScript           9\n",
       "21                    TeX           7\n",
       "19                  Shell           4\n",
       "3                     C++           3\n",
       "13            Objective-C           3\n",
       "2                      C#           3\n",
       "20                   TSQL           2\n",
       "0               Batchfile           1\n",
       "12               Makefile           1\n",
       "17       Rich Text Format           1\n",
       "1                       C           1\n",
       "11                    Lua           1\n",
       "6                  Groovy           1\n",
       "5                  Elixir           1\n",
       "23  Web Ontology Language           1"
      ]
     },
     "execution_count": 13,
     "metadata": {},
     "output_type": "execute_result"
    }
   ],
   "source": [
    "repo.groupby('language').size().reset_index(name='Quantidade').sort_values('Quantidade', ascending=False)"
   ]
  },
  {
   "cell_type": "markdown",
   "metadata": {},
   "source": [
    "### Quantidade de _Stars_ \n",
    "\n",
    "Top 15"
   ]
  },
  {
   "cell_type": "code",
   "execution_count": 14,
   "metadata": {},
   "outputs": [],
   "source": [
    "stargazers_count = repo[['full_name', 'stargazers_count']]"
   ]
  },
  {
   "cell_type": "code",
   "execution_count": 15,
   "metadata": {},
   "outputs": [
    {
     "data": {
      "text/html": [
       "<div>\n",
       "<style scoped>\n",
       "    .dataframe tbody tr th:only-of-type {\n",
       "        vertical-align: middle;\n",
       "    }\n",
       "\n",
       "    .dataframe tbody tr th {\n",
       "        vertical-align: top;\n",
       "    }\n",
       "\n",
       "    .dataframe thead th {\n",
       "        text-align: right;\n",
       "    }\n",
       "</style>\n",
       "<table border=\"1\" class=\"dataframe\">\n",
       "  <thead>\n",
       "    <tr style=\"text-align: right;\">\n",
       "      <th></th>\n",
       "      <th>full_name</th>\n",
       "      <th>stargazers_count</th>\n",
       "    </tr>\n",
       "  </thead>\n",
       "  <tbody>\n",
       "    <tr>\n",
       "      <th>0</th>\n",
       "      <td>CamaraDosDeputados/dados-abertos</td>\n",
       "      <td>141</td>\n",
       "    </tr>\n",
       "    <tr>\n",
       "      <th>1</th>\n",
       "      <td>dadosgovbr/catalogos-dados-brasil</td>\n",
       "      <td>139</td>\n",
       "    </tr>\n",
       "    <tr>\n",
       "      <th>393</th>\n",
       "      <td>chapeupreto/sinesp</td>\n",
       "      <td>121</td>\n",
       "    </tr>\n",
       "    <tr>\n",
       "      <th>2</th>\n",
       "      <td>prefeiturasp/dados-educacao</td>\n",
       "      <td>48</td>\n",
       "    </tr>\n",
       "    <tr>\n",
       "      <th>3</th>\n",
       "      <td>dadosgovbr/aplicativos-dados-brasil</td>\n",
       "      <td>48</td>\n",
       "    </tr>\n",
       "    <tr>\n",
       "      <th>4</th>\n",
       "      <td>mapaslivres/localidades</td>\n",
       "      <td>41</td>\n",
       "    </tr>\n",
       "    <tr>\n",
       "      <th>5</th>\n",
       "      <td>dadosgovbr/kit</td>\n",
       "      <td>39</td>\n",
       "    </tr>\n",
       "    <tr>\n",
       "      <th>6</th>\n",
       "      <td>brasilopen/brasilopen</td>\n",
       "      <td>29</td>\n",
       "    </tr>\n",
       "    <tr>\n",
       "      <th>394</th>\n",
       "      <td>sjcdigital/repasse-server</td>\n",
       "      <td>29</td>\n",
       "    </tr>\n",
       "    <tr>\n",
       "      <th>7</th>\n",
       "      <td>odufrn/odufrn-downloader</td>\n",
       "      <td>28</td>\n",
       "    </tr>\n",
       "  </tbody>\n",
       "</table>\n",
       "</div>"
      ],
      "text/plain": [
       "                               full_name  stargazers_count\n",
       "0       CamaraDosDeputados/dados-abertos               141\n",
       "1      dadosgovbr/catalogos-dados-brasil               139\n",
       "393                   chapeupreto/sinesp               121\n",
       "2            prefeiturasp/dados-educacao                48\n",
       "3    dadosgovbr/aplicativos-dados-brasil                48\n",
       "4                mapaslivres/localidades                41\n",
       "5                         dadosgovbr/kit                39\n",
       "6                  brasilopen/brasilopen                29\n",
       "394            sjcdigital/repasse-server                29\n",
       "7               odufrn/odufrn-downloader                28"
      ]
     },
     "execution_count": 15,
     "metadata": {},
     "output_type": "execute_result"
    }
   ],
   "source": [
    "stargazers_count.sort_values('stargazers_count',  ascending=False).head(10)"
   ]
  },
  {
   "cell_type": "markdown",
   "metadata": {},
   "source": [
    "### Commits\n",
    "Top 15"
   ]
  },
  {
   "cell_type": "code",
   "execution_count": 16,
   "metadata": {},
   "outputs": [],
   "source": [
    "commits_count = repo[['full_name', 'commits']]"
   ]
  },
  {
   "cell_type": "code",
   "execution_count": 17,
   "metadata": {},
   "outputs": [
    {
     "data": {
      "text/html": [
       "<div>\n",
       "<style scoped>\n",
       "    .dataframe tbody tr th:only-of-type {\n",
       "        vertical-align: middle;\n",
       "    }\n",
       "\n",
       "    .dataframe tbody tr th {\n",
       "        vertical-align: top;\n",
       "    }\n",
       "\n",
       "    .dataframe thead th {\n",
       "        text-align: right;\n",
       "    }\n",
       "</style>\n",
       "<table border=\"1\" class=\"dataframe\">\n",
       "  <thead>\n",
       "    <tr style=\"text-align: right;\">\n",
       "      <th></th>\n",
       "      <th>full_name</th>\n",
       "      <th>commits</th>\n",
       "    </tr>\n",
       "  </thead>\n",
       "  <tbody>\n",
       "    <tr>\n",
       "      <th>364</th>\n",
       "      <td>decosoares/diariasservidoresalagoas</td>\n",
       "      <td>18911</td>\n",
       "    </tr>\n",
       "    <tr>\n",
       "      <th>52</th>\n",
       "      <td>planejamentoGovBr/PDA-institucional-MP</td>\n",
       "      <td>915</td>\n",
       "    </tr>\n",
       "    <tr>\n",
       "      <th>388</th>\n",
       "      <td>rodrigosantosbr/catmat_compras_gov</td>\n",
       "      <td>714</td>\n",
       "    </tr>\n",
       "    <tr>\n",
       "      <th>394</th>\n",
       "      <td>sjcdigital/repasse-server</td>\n",
       "      <td>401</td>\n",
       "    </tr>\n",
       "    <tr>\n",
       "      <th>5</th>\n",
       "      <td>dadosgovbr/kit</td>\n",
       "      <td>362</td>\n",
       "    </tr>\n",
       "    <tr>\n",
       "      <th>67</th>\n",
       "      <td>febr-team/febr-package</td>\n",
       "      <td>346</td>\n",
       "    </tr>\n",
       "    <tr>\n",
       "      <th>127</th>\n",
       "      <td>Falnesio/Time-Tito</td>\n",
       "      <td>344</td>\n",
       "    </tr>\n",
       "    <tr>\n",
       "      <th>29</th>\n",
       "      <td>centraldedados/parlamento</td>\n",
       "      <td>287</td>\n",
       "    </tr>\n",
       "    <tr>\n",
       "      <th>444</th>\n",
       "      <td>NivSoft/transpy</td>\n",
       "      <td>260</td>\n",
       "    </tr>\n",
       "    <tr>\n",
       "      <th>7</th>\n",
       "      <td>odufrn/odufrn-downloader</td>\n",
       "      <td>237</td>\n",
       "    </tr>\n",
       "  </tbody>\n",
       "</table>\n",
       "</div>"
      ],
      "text/plain": [
       "                                  full_name  commits\n",
       "364     decosoares/diariasservidoresalagoas    18911\n",
       "52   planejamentoGovBr/PDA-institucional-MP      915\n",
       "388      rodrigosantosbr/catmat_compras_gov      714\n",
       "394               sjcdigital/repasse-server      401\n",
       "5                            dadosgovbr/kit      362\n",
       "67                   febr-team/febr-package      346\n",
       "127                      Falnesio/Time-Tito      344\n",
       "29                centraldedados/parlamento      287\n",
       "444                         NivSoft/transpy      260\n",
       "7                  odufrn/odufrn-downloader      237"
      ]
     },
     "execution_count": 17,
     "metadata": {},
     "output_type": "execute_result"
    }
   ],
   "source": [
    "commits_count.sort_values('commits',  ascending=False).head(10)"
   ]
  },
  {
   "cell_type": "markdown",
   "metadata": {},
   "source": [
    "### Quantidade de Forks"
   ]
  },
  {
   "cell_type": "code",
   "execution_count": 18,
   "metadata": {},
   "outputs": [],
   "source": [
    "forks_count = repo[['full_name', 'forks_count']]"
   ]
  },
  {
   "cell_type": "code",
   "execution_count": 19,
   "metadata": {},
   "outputs": [
    {
     "data": {
      "text/html": [
       "<div>\n",
       "<style scoped>\n",
       "    .dataframe tbody tr th:only-of-type {\n",
       "        vertical-align: middle;\n",
       "    }\n",
       "\n",
       "    .dataframe tbody tr th {\n",
       "        vertical-align: top;\n",
       "    }\n",
       "\n",
       "    .dataframe thead th {\n",
       "        text-align: right;\n",
       "    }\n",
       "</style>\n",
       "<table border=\"1\" class=\"dataframe\">\n",
       "  <thead>\n",
       "    <tr style=\"text-align: right;\">\n",
       "      <th></th>\n",
       "      <th>full_name</th>\n",
       "      <th>forks_count</th>\n",
       "    </tr>\n",
       "  </thead>\n",
       "  <tbody>\n",
       "    <tr>\n",
       "      <th>393</th>\n",
       "      <td>chapeupreto/sinesp</td>\n",
       "      <td>44</td>\n",
       "    </tr>\n",
       "    <tr>\n",
       "      <th>1</th>\n",
       "      <td>dadosgovbr/catalogos-dados-brasil</td>\n",
       "      <td>40</td>\n",
       "    </tr>\n",
       "    <tr>\n",
       "      <th>2</th>\n",
       "      <td>prefeiturasp/dados-educacao</td>\n",
       "      <td>18</td>\n",
       "    </tr>\n",
       "    <tr>\n",
       "      <th>5</th>\n",
       "      <td>dadosgovbr/kit</td>\n",
       "      <td>14</td>\n",
       "    </tr>\n",
       "    <tr>\n",
       "      <th>4</th>\n",
       "      <td>mapaslivres/localidades</td>\n",
       "      <td>13</td>\n",
       "    </tr>\n",
       "    <tr>\n",
       "      <th>10</th>\n",
       "      <td>dadosgovbr/processo-participacao-social-inda</td>\n",
       "      <td>12</td>\n",
       "    </tr>\n",
       "    <tr>\n",
       "      <th>3</th>\n",
       "      <td>dadosgovbr/aplicativos-dados-brasil</td>\n",
       "      <td>9</td>\n",
       "    </tr>\n",
       "    <tr>\n",
       "      <th>35</th>\n",
       "      <td>danielmbicalho/Dados_repositorios_e_ferramentas</td>\n",
       "      <td>9</td>\n",
       "    </tr>\n",
       "    <tr>\n",
       "      <th>18</th>\n",
       "      <td>paulozip/acidentes-aereos</td>\n",
       "      <td>8</td>\n",
       "    </tr>\n",
       "    <tr>\n",
       "      <th>14</th>\n",
       "      <td>thefonseca/jogo-politico</td>\n",
       "      <td>7</td>\n",
       "    </tr>\n",
       "    <tr>\n",
       "      <th>0</th>\n",
       "      <td>CamaraDosDeputados/dados-abertos</td>\n",
       "      <td>7</td>\n",
       "    </tr>\n",
       "    <tr>\n",
       "      <th>22</th>\n",
       "      <td>dadosgovbr/api-siconv</td>\n",
       "      <td>7</td>\n",
       "    </tr>\n",
       "    <tr>\n",
       "      <th>9</th>\n",
       "      <td>jonny-data/conheca-seu-vereador</td>\n",
       "      <td>7</td>\n",
       "    </tr>\n",
       "    <tr>\n",
       "      <th>395</th>\n",
       "      <td>rennan/node-scrap-govbr</td>\n",
       "      <td>6</td>\n",
       "    </tr>\n",
       "    <tr>\n",
       "      <th>12</th>\n",
       "      <td>zezente/opendata_aig_brazil</td>\n",
       "      <td>5</td>\n",
       "    </tr>\n",
       "  </tbody>\n",
       "</table>\n",
       "</div>"
      ],
      "text/plain": [
       "                                           full_name  forks_count\n",
       "393                               chapeupreto/sinesp           44\n",
       "1                  dadosgovbr/catalogos-dados-brasil           40\n",
       "2                        prefeiturasp/dados-educacao           18\n",
       "5                                     dadosgovbr/kit           14\n",
       "4                            mapaslivres/localidades           13\n",
       "10      dadosgovbr/processo-participacao-social-inda           12\n",
       "3                dadosgovbr/aplicativos-dados-brasil            9\n",
       "35   danielmbicalho/Dados_repositorios_e_ferramentas            9\n",
       "18                         paulozip/acidentes-aereos            8\n",
       "14                          thefonseca/jogo-politico            7\n",
       "0                   CamaraDosDeputados/dados-abertos            7\n",
       "22                             dadosgovbr/api-siconv            7\n",
       "9                    jonny-data/conheca-seu-vereador            7\n",
       "395                          rennan/node-scrap-govbr            6\n",
       "12                       zezente/opendata_aig_brazil            5"
      ]
     },
     "execution_count": 19,
     "metadata": {},
     "output_type": "execute_result"
    }
   ],
   "source": [
    "forks_count.sort_values('forks_count',  ascending=False).head(15)"
   ]
  },
  {
   "cell_type": "markdown",
   "metadata": {},
   "source": [
    "### Local\n",
    "A partir do campo _location_ do _owner_ do repositório - Top 15"
   ]
  },
  {
   "cell_type": "code",
   "execution_count": 20,
   "metadata": {},
   "outputs": [
    {
     "data": {
      "text/plain": [
       "162"
      ]
     },
     "execution_count": 20,
     "metadata": {},
     "output_type": "execute_result"
    }
   ],
   "source": [
    "len(repo.loc[repo['owner_location'].isna()])"
   ]
  },
  {
   "cell_type": "code",
   "execution_count": 21,
   "metadata": {},
   "outputs": [],
   "source": [
    "repo['owner_location'] = repo['owner_location'].fillna(\"Não Informado\")"
   ]
  },
  {
   "cell_type": "code",
   "execution_count": 22,
   "metadata": {
    "scrolled": true
   },
   "outputs": [
    {
     "data": {
      "text/plain": [
       "0                      Brazil\n",
       "1                      Brazil\n",
       "2               São Paulo, SP\n",
       "3                      Brazil\n",
       "4               Não Informado\n",
       "                ...          \n",
       "440    Fortaleza - CE, Brazil\n",
       "441              Fortaleza-CE\n",
       "442             Não Informado\n",
       "443             Não Informado\n",
       "444        Recife/PE - Brasil\n",
       "Name: owner_location, Length: 428, dtype: object"
      ]
     },
     "execution_count": 22,
     "metadata": {},
     "output_type": "execute_result"
    }
   ],
   "source": [
    "repo['owner_location']"
   ]
  },
  {
   "cell_type": "code",
   "execution_count": 23,
   "metadata": {},
   "outputs": [],
   "source": [
    "salvador = repo[repo['owner_location'].str.contains('salvador', case=False)]['id'].values\n",
    "repo.loc[repo['id'].isin(salvador), 'owner_location'] = 'Salvador'\n",
    "\n",
    "belo_horizonte = repo[repo['owner_location'].str.contains('belo horizonte', case=False)]['id'].values\n",
    "repo.loc[repo['id'].isin(belo_horizonte), 'owner_location'] = 'Belo Horizonte'\n",
    "\n",
    "berlin = repo[repo['owner_location'].str.contains('berlin', case=False)]['id'].values\n",
    "repo.loc[repo['id'].isin(berlin), 'owner_location'] = 'Berlin'\n",
    "\n",
    "brasilia = repo[repo['owner_location'].str.contains('brasilia', case=False)]['id'].values\n",
    "repo.loc[repo['id'].isin(brasilia), 'owner_location'] = 'Brasília'\n",
    "\n",
    "campina_grande = repo[repo['owner_location'].str.contains('campina grande', case=False)]['id'].values\n",
    "repo.loc[repo['id'].isin(campina_grande), 'owner_location'] = 'Campina Grande'\n",
    "\n",
    "campinas = repo[repo['owner_location'].str.contains('campinas', case=False)]['id'].values\n",
    "repo.loc[repo['id'].isin(campinas), 'owner_location'] = 'Campinas'\n",
    "\n",
    "curitiba = repo[repo['owner_location'].str.contains('curitiba', case=False)]['id'].values\n",
    "repo.loc[repo['id'].isin(curitiba), 'owner_location'] = 'Curitiba'\n",
    "\n",
    "duque_de_caxias = repo[repo['owner_location'].str.contains('duque de caxias', case=False)]['id'].values\n",
    "repo.loc[repo['id'].isin(duque_de_caxias), 'owner_location'] = 'Duque de Caxias'\n",
    "\n",
    "florianopolis = repo[repo['owner_location'].str.contains('florianópolis', case=False)]['id'].values\n",
    "repo.loc[repo['id'].isin(florianopolis), 'owner_location'] = 'Florianópolis'\n",
    "\n",
    "fortaleza = repo[repo['owner_location'].str.contains('fortaleza', case=False)]['id'].values\n",
    "repo.loc[repo['id'].isin(fortaleza), 'owner_location'] = 'Fortaleza'\n",
    "\n",
    "joao_pessoa = repo[repo['owner_location'].str.contains('joão pessoa', case=False)]['id'].values\n",
    "repo.loc[repo['id'].isin(joao_pessoa), 'owner_location'] = 'João Pessoa'\n",
    "\n",
    "juiz_de_fora = repo[repo['owner_location'].str.contains('juiz de fora', case=False)]['id'].values\n",
    "repo.loc[repo['id'].isin(juiz_de_fora), 'owner_location'] = 'Juiz de Fora'\n",
    "\n",
    "natal = repo[repo['owner_location'].str.contains('natal', case=False)]['id'].values\n",
    "repo.loc[repo['id'].isin(natal), 'owner_location'] = 'Natal'\n",
    "\n",
    "porto_alegre = repo[repo['owner_location'].str.contains('porto alegre', case=False)]['id'].values\n",
    "repo.loc[repo['id'].isin(porto_alegre), 'owner_location'] = 'Porto Alegre'\n",
    "\n",
    "recife = repo[repo['owner_location'].str.contains('recife', case=False)]['id'].values\n",
    "repo.loc[repo['id'].isin(recife), 'owner_location'] = 'Recife'\n",
    "\n",
    "sao_carlos = repo[repo['owner_location'].str.contains('são carlos', case=False)]['id'].values\n",
    "repo.loc[repo['id'].isin(sao_carlos), 'owner_location'] = 'São Carlos'\n",
    "\n",
    "salto = repo[repo['owner_location'].str.contains('salto', case=False)]['id'].values\n",
    "repo.loc[repo['id'].isin(juiz_de_fora), 'owner_location'] = 'Salto'\n",
    "\n",
    "sao_jose_dos_campos = repo[repo['owner_location'].str.contains('são josé dos campos', case=False)]['id'].values\n",
    "repo.loc[repo['id'].isin(salto), 'owner_location'] = 'São José dos Campos'\n",
    "\n",
    "sao_luiz = repo[repo['owner_location'].str.contains('são luís', case=False)]['id'].values\n",
    "repo.loc[repo['id'].isin(sao_luiz), 'owner_location'] = 'São Luís'\n",
    "\n",
    "vitoria = repo[repo['owner_location'].str.contains('vitória', case=False)]['id'].values\n",
    "repo.loc[repo['id'].isin(vitoria), 'owner_location'] = 'Vitória'"
   ]
  },
  {
   "cell_type": "code",
   "execution_count": 24,
   "metadata": {},
   "outputs": [
    {
     "data": {
      "text/html": [
       "<div>\n",
       "<style scoped>\n",
       "    .dataframe tbody tr th:only-of-type {\n",
       "        vertical-align: middle;\n",
       "    }\n",
       "\n",
       "    .dataframe tbody tr th {\n",
       "        vertical-align: top;\n",
       "    }\n",
       "\n",
       "    .dataframe thead th {\n",
       "        text-align: right;\n",
       "    }\n",
       "</style>\n",
       "<table border=\"1\" class=\"dataframe\">\n",
       "  <thead>\n",
       "    <tr style=\"text-align: right;\">\n",
       "      <th></th>\n",
       "      <th>owner_location</th>\n",
       "      <th>Quantidade</th>\n",
       "    </tr>\n",
       "  </thead>\n",
       "  <tbody>\n",
       "    <tr>\n",
       "      <th>60</th>\n",
       "      <td>Não Informado</td>\n",
       "      <td>162</td>\n",
       "    </tr>\n",
       "    <tr>\n",
       "      <th>21</th>\n",
       "      <td>Brazil</td>\n",
       "      <td>39</td>\n",
       "    </tr>\n",
       "    <tr>\n",
       "      <th>7</th>\n",
       "      <td>Brasil</td>\n",
       "      <td>13</td>\n",
       "    </tr>\n",
       "    <tr>\n",
       "      <th>57</th>\n",
       "      <td>Natal</td>\n",
       "      <td>12</td>\n",
       "    </tr>\n",
       "    <tr>\n",
       "      <th>3</th>\n",
       "      <td>Belo Horizonte</td>\n",
       "      <td>12</td>\n",
       "    </tr>\n",
       "    <tr>\n",
       "      <th>84</th>\n",
       "      <td>São Paulo</td>\n",
       "      <td>11</td>\n",
       "    </tr>\n",
       "    <tr>\n",
       "      <th>70</th>\n",
       "      <td>Recife</td>\n",
       "      <td>11</td>\n",
       "    </tr>\n",
       "    <tr>\n",
       "      <th>42</th>\n",
       "      <td>Fortaleza</td>\n",
       "      <td>9</td>\n",
       "    </tr>\n",
       "    <tr>\n",
       "      <th>81</th>\n",
       "      <td>São José dos Campos</td>\n",
       "      <td>7</td>\n",
       "    </tr>\n",
       "    <tr>\n",
       "      <th>27</th>\n",
       "      <td>Campina Grande</td>\n",
       "      <td>7</td>\n",
       "    </tr>\n",
       "    <tr>\n",
       "      <th>75</th>\n",
       "      <td>Salvador</td>\n",
       "      <td>7</td>\n",
       "    </tr>\n",
       "    <tr>\n",
       "      <th>64</th>\n",
       "      <td>Porto Alegre</td>\n",
       "      <td>5</td>\n",
       "    </tr>\n",
       "    <tr>\n",
       "      <th>41</th>\n",
       "      <td>Florianópolis</td>\n",
       "      <td>5</td>\n",
       "    </tr>\n",
       "    <tr>\n",
       "      <th>35</th>\n",
       "      <td>Curitiba</td>\n",
       "      <td>5</td>\n",
       "    </tr>\n",
       "    <tr>\n",
       "      <th>78</th>\n",
       "      <td>Sao Paulo, Brazil</td>\n",
       "      <td>4</td>\n",
       "    </tr>\n",
       "  </tbody>\n",
       "</table>\n",
       "</div>"
      ],
      "text/plain": [
       "         owner_location  Quantidade\n",
       "60        Não Informado         162\n",
       "21               Brazil          39\n",
       "7                Brasil          13\n",
       "57                Natal          12\n",
       "3        Belo Horizonte          12\n",
       "84            São Paulo          11\n",
       "70               Recife          11\n",
       "42            Fortaleza           9\n",
       "81  São José dos Campos           7\n",
       "27       Campina Grande           7\n",
       "75             Salvador           7\n",
       "64         Porto Alegre           5\n",
       "41        Florianópolis           5\n",
       "35             Curitiba           5\n",
       "78    Sao Paulo, Brazil           4"
      ]
     },
     "execution_count": 24,
     "metadata": {},
     "output_type": "execute_result"
    }
   ],
   "source": [
    "repo.groupby('owner_location').size().reset_index(name='Quantidade').sort_values('Quantidade', ascending=False).head(15)"
   ]
  },
  {
   "cell_type": "markdown",
   "metadata": {},
   "source": [
    "### Criação e atualização dos repositórios"
   ]
  },
  {
   "cell_type": "code",
   "execution_count": 29,
   "metadata": {},
   "outputs": [
    {
     "data": {
      "text/html": [
       "<div>\n",
       "<style scoped>\n",
       "    .dataframe tbody tr th:only-of-type {\n",
       "        vertical-align: middle;\n",
       "    }\n",
       "\n",
       "    .dataframe tbody tr th {\n",
       "        vertical-align: top;\n",
       "    }\n",
       "\n",
       "    .dataframe thead th {\n",
       "        text-align: right;\n",
       "    }\n",
       "</style>\n",
       "<table border=\"1\" class=\"dataframe\">\n",
       "  <thead>\n",
       "    <tr style=\"text-align: right;\">\n",
       "      <th></th>\n",
       "      <th>created_at_ano</th>\n",
       "      <th>quantidade</th>\n",
       "    </tr>\n",
       "  </thead>\n",
       "  <tbody>\n",
       "    <tr>\n",
       "      <th>0</th>\n",
       "      <td>2010</td>\n",
       "      <td>1</td>\n",
       "    </tr>\n",
       "    <tr>\n",
       "      <th>1</th>\n",
       "      <td>2011</td>\n",
       "      <td>1</td>\n",
       "    </tr>\n",
       "    <tr>\n",
       "      <th>2</th>\n",
       "      <td>2012</td>\n",
       "      <td>10</td>\n",
       "    </tr>\n",
       "    <tr>\n",
       "      <th>3</th>\n",
       "      <td>2013</td>\n",
       "      <td>19</td>\n",
       "    </tr>\n",
       "    <tr>\n",
       "      <th>4</th>\n",
       "      <td>2014</td>\n",
       "      <td>28</td>\n",
       "    </tr>\n",
       "    <tr>\n",
       "      <th>5</th>\n",
       "      <td>2015</td>\n",
       "      <td>32</td>\n",
       "    </tr>\n",
       "    <tr>\n",
       "      <th>6</th>\n",
       "      <td>2016</td>\n",
       "      <td>50</td>\n",
       "    </tr>\n",
       "    <tr>\n",
       "      <th>7</th>\n",
       "      <td>2017</td>\n",
       "      <td>61</td>\n",
       "    </tr>\n",
       "    <tr>\n",
       "      <th>8</th>\n",
       "      <td>2018</td>\n",
       "      <td>103</td>\n",
       "    </tr>\n",
       "    <tr>\n",
       "      <th>9</th>\n",
       "      <td>2019</td>\n",
       "      <td>115</td>\n",
       "    </tr>\n",
       "    <tr>\n",
       "      <th>10</th>\n",
       "      <td>2020</td>\n",
       "      <td>8</td>\n",
       "    </tr>\n",
       "  </tbody>\n",
       "</table>\n",
       "</div>"
      ],
      "text/plain": [
       "    created_at_ano  quantidade\n",
       "0             2010           1\n",
       "1             2011           1\n",
       "2             2012          10\n",
       "3             2013          19\n",
       "4             2014          28\n",
       "5             2015          32\n",
       "6             2016          50\n",
       "7             2017          61\n",
       "8             2018         103\n",
       "9             2019         115\n",
       "10            2020           8"
      ]
     },
     "execution_count": 29,
     "metadata": {},
     "output_type": "execute_result"
    }
   ],
   "source": [
    "created_repo = repo[['full_name', 'created_at_ano']]\n",
    "created_by_year = created_repo.groupby('created_at_ano').size().reset_index(name='quantidade').sort_values('created_at_ano')\n",
    "created_by_year"
   ]
  },
  {
   "cell_type": "code",
   "execution_count": 30,
   "metadata": {},
   "outputs": [
    {
     "data": {
      "text/html": [
       "<div>\n",
       "<style scoped>\n",
       "    .dataframe tbody tr th:only-of-type {\n",
       "        vertical-align: middle;\n",
       "    }\n",
       "\n",
       "    .dataframe tbody tr th {\n",
       "        vertical-align: top;\n",
       "    }\n",
       "\n",
       "    .dataframe thead th {\n",
       "        text-align: right;\n",
       "    }\n",
       "</style>\n",
       "<table border=\"1\" class=\"dataframe\">\n",
       "  <thead>\n",
       "    <tr style=\"text-align: right;\">\n",
       "      <th></th>\n",
       "      <th>pushed_at_ano</th>\n",
       "      <th>quantidade</th>\n",
       "    </tr>\n",
       "  </thead>\n",
       "  <tbody>\n",
       "    <tr>\n",
       "      <th>0</th>\n",
       "      <td>2010.0</td>\n",
       "      <td>1</td>\n",
       "    </tr>\n",
       "    <tr>\n",
       "      <th>1</th>\n",
       "      <td>2011.0</td>\n",
       "      <td>1</td>\n",
       "    </tr>\n",
       "    <tr>\n",
       "      <th>2</th>\n",
       "      <td>2012.0</td>\n",
       "      <td>5</td>\n",
       "    </tr>\n",
       "    <tr>\n",
       "      <th>3</th>\n",
       "      <td>2013.0</td>\n",
       "      <td>20</td>\n",
       "    </tr>\n",
       "    <tr>\n",
       "      <th>4</th>\n",
       "      <td>2014.0</td>\n",
       "      <td>20</td>\n",
       "    </tr>\n",
       "    <tr>\n",
       "      <th>5</th>\n",
       "      <td>2015.0</td>\n",
       "      <td>25</td>\n",
       "    </tr>\n",
       "    <tr>\n",
       "      <th>6</th>\n",
       "      <td>2016.0</td>\n",
       "      <td>44</td>\n",
       "    </tr>\n",
       "    <tr>\n",
       "      <th>7</th>\n",
       "      <td>2017.0</td>\n",
       "      <td>52</td>\n",
       "    </tr>\n",
       "    <tr>\n",
       "      <th>8</th>\n",
       "      <td>2018.0</td>\n",
       "      <td>94</td>\n",
       "    </tr>\n",
       "    <tr>\n",
       "      <th>9</th>\n",
       "      <td>2019.0</td>\n",
       "      <td>141</td>\n",
       "    </tr>\n",
       "    <tr>\n",
       "      <th>10</th>\n",
       "      <td>2020.0</td>\n",
       "      <td>25</td>\n",
       "    </tr>\n",
       "  </tbody>\n",
       "</table>\n",
       "</div>"
      ],
      "text/plain": [
       "    pushed_at_ano  quantidade\n",
       "0          2010.0           1\n",
       "1          2011.0           1\n",
       "2          2012.0           5\n",
       "3          2013.0          20\n",
       "4          2014.0          20\n",
       "5          2015.0          25\n",
       "6          2016.0          44\n",
       "7          2017.0          52\n",
       "8          2018.0          94\n",
       "9          2019.0         141\n",
       "10         2020.0          25"
      ]
     },
     "execution_count": 30,
     "metadata": {},
     "output_type": "execute_result"
    }
   ],
   "source": [
    "pushed_repo = repo[['full_name', 'pushed_at_ano']]\n",
    "pushed_by_year = pushed_repo.groupby('pushed_at_ano').size().reset_index(name='quantidade').sort_values('pushed_at_ano')\n",
    "pushed_by_year"
   ]
  },
  {
   "cell_type": "code",
   "execution_count": 35,
   "metadata": {},
   "outputs": [
    {
     "data": {
      "text/plain": [
       "Text(0, 0.5, 'Quantidade de repositórios')"
      ]
     },
     "execution_count": 35,
     "metadata": {},
     "output_type": "execute_result"
    },
    {
     "data": {
      "image/png": "[encoded data removed]",
      "text/plain": [
       "<Figure size 648x288 with 1 Axes>"
      ]
     },
     "metadata": {
      "needs_background": "light"
     },
     "output_type": "display_data"
    }
   ],
   "source": [
    "created_pushed = pd.DataFrame({'Criado': created_by_year['quantidade'].values, \n",
    "                   'Atualizado': pushed_by_year['quantidade'].values}, index=created_by_year['created_at_ano'])\n",
    "\n",
    "ax = created_pushed.plot.bar(title = \"Quantidade de repositórios criados e atualizados\")\n",
    "ax.set_xlabel(\"Anos\")\n",
    "ax.set_ylabel(\"Quantidade de repositórios\")"
   ]
  },
  {
   "cell_type": "code",
   "execution_count": 32,
   "metadata": {},
   "outputs": [
    {
     "data": {
      "text/plain": [
       "<matplotlib.legend.Legend at 0x7f890cc65828>"
      ]
     },
     "execution_count": 32,
     "metadata": {},
     "output_type": "execute_result"
    },
    {
     "data": {
      "image/png": "[encoded data removed]",
      "text/plain": [
       "<Figure size 648x288 with 2 Axes>"
      ]
     },
     "metadata": {
      "needs_background": "light"
     },
     "output_type": "display_data"
    }
   ],
   "source": [
    "axes = created_pushed.plot.bar(rot=0, subplots=True)\n",
    "\n",
    "axes[1].legend(loc=2) "
   ]
  }
 ],
 "metadata": {
  "kernelspec": {
   "display_name": "Python 3",
   "language": "python",
   "name": "python3"
  },
  "language_info": {
   "codemirror_mode": {
    "name": "ipython",
    "version": 3
   },
   "file_extension": ".py",
   "mimetype": "text/x-python",
   "name": "python",
   "nbconvert_exporter": "python",
   "pygments_lexer": "ipython3",
   "version": "3.5.6"
  }
 },
 "nbformat": 4,
 "nbformat_minor": 2
}
